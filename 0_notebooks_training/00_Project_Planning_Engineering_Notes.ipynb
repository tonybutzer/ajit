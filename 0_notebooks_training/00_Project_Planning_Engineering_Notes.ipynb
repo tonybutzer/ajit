{
 "cells": [
  {
   "cell_type": "markdown",
   "id": "6f0bf88a",
   "metadata": {},
   "source": [
    "# References\n",
    "\n",
    "- https://towardsdatascience.com/guide-to-real-time-visualisation-of-massive-3d-point-clouds-in-python-ea6f00241ee0\n",
    "\n",
    "- https://media.ccc.de/v/bucharest-129-continental-scale-point-cloud-data-management-and-exploitation-with-entwine#t=800\n",
    "\n",
    "- https://usgs.entwine.io/"
   ]
  },
  {
   "cell_type": "markdown",
   "id": "4911ac01",
   "metadata": {},
   "source": [
    "# Goals\n",
    "\n",
    "1. Demonstrate LIDAR and 3DEP data in the CHS Cloud\n",
    "    - discover and promote cloud features against the Lidar Data Sets\n",
    "    - mitigate the obstacles on the path\n",
    "    - present scietific facts\n",
    "    - move the state of the art higher for USGS\n",
    "2. Learn about exiting 3d datasets\n",
    "3. Explore opportunities with ML AI DL - Rylie - grow a world class workforce\n",
    "4. Champion Open Source Tools and Technologies/Techniques/ECOSystems\n",
    "5. SCALE - large scale\n",
    "6. Exploit datalakes and large free datasets - no DARK Repositories\n",
    "\n",
    "# Challenges\n",
    "\n",
    "1. Python Module Hell\n",
    "2. IT Security Items and Mindsets\n",
    "3. Small research budgets\n",
    "\n",
    "\n",
    "# Strengths \n",
    "1. Highly competent and motivated staff\n",
    "\n",
    "\n",
    "# Specific items\n",
    "\n",
    "1. ssh complexities\n",
    "2. python module hell\n",
    "3. Lidar code for viz likely runs better in:\n",
    "    - IDEs instead of jupyter notebooks\n",
    "    - JavaScript Libraries rather than python\n",
    "    \n",
    "# Now\n",
    "1. backup ajit repo\n",
    "2. create an experimental machine for tony\n",
    "3. develop a few conda env \n",
    "4. dockerize open3d or condafy - not sure"
   ]
  }
 ],
 "metadata": {
  "kernelspec": {
   "display_name": "Python 3 (ipykernel)",
   "language": "python",
   "name": "python3"
  },
  "language_info": {
   "codemirror_mode": {
    "name": "ipython",
    "version": 3
   },
   "file_extension": ".py",
   "mimetype": "text/x-python",
   "name": "python",
   "nbconvert_exporter": "python",
   "pygments_lexer": "ipython3",
   "version": "3.7.12"
  }
 },
 "nbformat": 4,
 "nbformat_minor": 5
}
