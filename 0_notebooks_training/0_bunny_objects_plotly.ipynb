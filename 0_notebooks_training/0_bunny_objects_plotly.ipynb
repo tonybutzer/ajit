{
 "cells": [
  {
   "cell_type": "code",
   "execution_count": 1,
   "id": "bd4964ac",
   "metadata": {},
   "outputs": [],
   "source": [
    "#!wget https://graphics.stanford.edu/~mdfisher/Data/Meshes/bunny.obj"
   ]
  },
  {
   "cell_type": "markdown",
   "id": "a9969e31",
   "metadata": {},
   "source": [
    "https://colab.research.google.com/drive/1CR_HDvJ2AnjJV3Bf5vwP70K0hx3RcdMb?usp=sharing#scrollTo=AAe7DdprqEO4"
   ]
  },
  {
   "cell_type": "code",
   "execution_count": 2,
   "id": "b2a985e1",
   "metadata": {},
   "outputs": [
    {
     "name": "stdout",
     "output_type": "stream",
     "text": [
      "0_bunny_objects_plotly.ipynb\t   bunny.obj\treadme.txt\r\n",
      "90_intro_to_eccoe_chs_cloud.ipynb  list-1.json\r\n"
     ]
    }
   ],
   "source": [
    "!ls"
   ]
  },
  {
   "cell_type": "code",
   "execution_count": 3,
   "id": "16bc7641",
   "metadata": {},
   "outputs": [
    {
     "name": "stdout",
     "output_type": "stream",
     "text": [
      "\r\n",
      "     active environment : lidar1\r\n",
      "    active env location : /home/ec2-user/miniconda3/envs/lidar1\r\n",
      "            shell level : 1\r\n",
      "       user config file : /home/ec2-user/.condarc\r\n",
      " populated config files : /home/ec2-user/.condarc\r\n",
      "          conda version : 4.11.0\r\n",
      "    conda-build version : not installed\r\n",
      "         python version : 3.9.7.final.0\r\n",
      "       virtual packages : __linux=4.14.262=0\r\n",
      "                          __glibc=2.26=0\r\n",
      "                          __unix=0=0\r\n",
      "                          __archspec=1=x86_64\r\n",
      "       base environment : /home/ec2-user/miniconda3  (writable)\r\n",
      "      conda av data dir : /home/ec2-user/miniconda3/etc/conda\r\n",
      "  conda av metadata url : None\r\n",
      "           channel URLs : https://conda.anaconda.org/conda-forge/linux-64\r\n",
      "                          https://conda.anaconda.org/conda-forge/noarch\r\n",
      "                          https://repo.anaconda.com/pkgs/main/linux-64\r\n",
      "                          https://repo.anaconda.com/pkgs/main/noarch\r\n",
      "                          https://repo.anaconda.com/pkgs/r/linux-64\r\n",
      "                          https://repo.anaconda.com/pkgs/r/noarch\r\n",
      "          package cache : /home/ec2-user/miniconda3/pkgs\r\n",
      "                          /home/ec2-user/.conda/pkgs\r\n",
      "       envs directories : /home/ec2-user/miniconda3/envs\r\n",
      "                          /home/ec2-user/.conda/envs\r\n",
      "               platform : linux-64\r\n",
      "             user-agent : conda/4.11.0 requests/2.27.1 CPython/3.9.7 Linux/4.14.262-200.489.amzn2.x86_64 amzn/2 glibc/2.26\r\n",
      "                UID:GID : 1000:1000\r\n",
      "             netrc file : None\r\n",
      "           offline mode : False\r\n",
      "\r\n"
     ]
    }
   ],
   "source": [
    "#! conda install -y plotly\n",
    "! conda info"
   ]
  },
  {
   "cell_type": "code",
   "execution_count": 5,
   "id": "0736dfd4",
   "metadata": {},
   "outputs": [
    {
     "name": "stdout",
     "output_type": "stream",
     "text": [
      "Collecting package metadata (current_repodata.json): done\n",
      "Solving environment: done\n",
      "\n",
      "# All requested packages already installed.\n",
      "\n"
     ]
    }
   ],
   "source": [
    "! conda install -y -c open3d-admin open3d "
   ]
  },
  {
   "cell_type": "code",
   "execution_count": 5,
   "id": "1a4e5cdd",
   "metadata": {},
   "outputs": [],
   "source": [
    "#!pip install --user plotly"
   ]
  },
  {
   "cell_type": "code",
   "execution_count": 15,
   "id": "63076b88",
   "metadata": {},
   "outputs": [],
   "source": [
    "\n",
    "\n",
    "! pip install -U pip>=20.3\n"
   ]
  },
  {
   "cell_type": "code",
   "execution_count": 16,
   "id": "71f7ab22",
   "metadata": {},
   "outputs": [
    {
     "name": "stdout",
     "output_type": "stream",
     "text": [
      "\u001b[33mWARNING: pip index is currently an experimental command. It may be removed/changed in a future release without prior warning.\u001b[0m\u001b[33m\n",
      "\u001b[0m\u001b[31mERROR: No matching distribution found for open3d\u001b[0m\u001b[31m\n",
      "\u001b[0m"
     ]
    }
   ],
   "source": [
    "!pip index versions open3d"
   ]
  },
  {
   "cell_type": "code",
   "execution_count": 3,
   "id": "ef0a2075",
   "metadata": {},
   "outputs": [
    {
     "name": "stdout",
     "output_type": "stream",
     "text": [
      "Collecting open3d-python\n",
      "  Downloading open3d_python-0.3.0.0-py2.py3-none-any.whl (17.2 MB)\n",
      "\u001b[2K     \u001b[90m━━━━━━━━━━━━━━━━━━━━━━━━━━━━━━━━━━━━━━━━\u001b[0m \u001b[32m17.2/17.2 MB\u001b[0m \u001b[31m27.1 MB/s\u001b[0m eta \u001b[36m0:00:00\u001b[0m00:01\u001b[0m00:01\u001b[0m\n",
      "\u001b[?25hRequirement already satisfied: numpy in /data/ec2-user/home/miniconda3/envs/lidar1/lib/python3.9/site-packages (from open3d-python) (1.21.5)\n",
      "Installing collected packages: open3d-python\n",
      "Successfully installed open3d-python-0.3.0.0\n"
     ]
    }
   ],
   "source": [
    "! pip install open3d-python"
   ]
  },
  {
   "cell_type": "code",
   "execution_count": 13,
   "id": "f5e99dee",
   "metadata": {},
   "outputs": [
    {
     "name": "stdout",
     "output_type": "stream",
     "text": [
      "Package                       Version\n",
      "----------------------------- ------------\n",
      "addict                        2.4.0\n",
      "affine                        2.3.0\n",
      "aiobotocore                   2.1.0\n",
      "aiohttp                       3.8.1\n",
      "aioitertools                  0.9.0\n",
      "aiosignal                     1.2.0\n",
      "anyio                         3.5.0\n",
      "argon2-cffi                   21.3.0\n",
      "argon2-cffi-bindings          21.2.0\n",
      "asttokens                     2.0.5\n",
      "async-generator               1.10\n",
      "async-timeout                 4.0.2\n",
      "attrs                         21.4.0\n",
      "Babel                         2.9.1\n",
      "backcall                      0.2.0\n",
      "backports.functools-lru-cache 1.6.4\n",
      "black                         22.1.0\n",
      "bleach                        4.1.0\n",
      "bokeh                         2.4.2\n",
      "boto3                         1.20.24\n",
      "botocore                      1.23.24\n",
      "branca                        0.4.2\n",
      "brotlipy                      0.7.0\n",
      "Cartopy                       0.20.2\n",
      "certifi                       2021.10.8\n",
      "cffi                          1.15.0\n",
      "cftime                        1.5.2\n",
      "charset-normalizer            2.0.12\n",
      "click                         8.0.4\n",
      "click-plugins                 1.1.1\n",
      "cligj                         0.7.2\n",
      "cloudpickle                   2.0.0\n",
      "colorama                      0.4.4\n",
      "colorcet                      3.0.0\n",
      "cryptography                  36.0.1\n",
      "cycler                        0.11.0\n",
      "cytoolz                       0.11.2\n",
      "dask                          2022.2.0\n",
      "dask-labextension             5.2.0\n",
      "dataclasses                   0.8\n",
      "datashader                    0.13.0\n",
      "datashape                     0.5.4\n",
      "decorator                     5.1.1\n",
      "defusedxml                    0.7.1\n",
      "deprecation                   2.1.0\n",
      "distributed                   2022.2.0\n",
      "entrypoints                   0.4\n",
      "erddapy                       1.2.0\n",
      "executing                     0.8.2\n",
      "fastparquet                   0.5.0\n",
      "flit_core                     3.6.0\n",
      "folium                        0.12.1.post1\n",
      "frozenlist                    1.3.0\n",
      "fsspec                        2022.1.0\n",
      "geopandas                     0.10.2\n",
      "geoviews                      1.9.4\n",
      "HeapDict                      1.0.1\n",
      "holoviews                     1.14.8\n",
      "hvplot                        0.7.3\n",
      "idna                          3.3\n",
      "importlib-metadata            4.11.1\n",
      "importlib-resources           5.4.0\n",
      "ipykernel                     5.5.5\n",
      "ipython                       8.0.1\n",
      "ipython-genutils              0.2.0\n",
      "ipywidgets                    7.6.5\n",
      "jedi                          0.18.1\n",
      "Jinja2                        3.0.3\n",
      "jmespath                      0.10.0\n",
      "joblib                        1.1.0\n",
      "json5                         0.9.5\n",
      "jsonschema                    4.4.0\n",
      "jupyter                       1.0.0\n",
      "jupyter-client                7.1.2\n",
      "jupyter-console               6.4.0\n",
      "jupyter-core                  4.9.2\n",
      "jupyter-packaging             0.11.1\n",
      "jupyter-server                1.13.5\n",
      "jupyter-server-proxy          3.2.1\n",
      "jupyterlab                    3.2.9\n",
      "jupyterlab-pygments           0.1.2\n",
      "jupyterlab-server             2.10.3\n",
      "jupyterlab-widgets            1.0.2\n",
      "kiwisolver                    1.3.2\n",
      "laspy                         2.1.1\n",
      "llvmlite                      0.38.0\n",
      "locket                        0.2.0\n",
      "Markdown                      3.3.6\n",
      "MarkupSafe                    2.1.0\n",
      "matplotlib                    3.4.3\n",
      "matplotlib-inline             0.1.3\n",
      "mistune                       0.8.4\n",
      "msgpack                       1.0.3\n",
      "multidict                     6.0.2\n",
      "multipledispatch              0.6.0\n",
      "munkres                       1.1.4\n",
      "mypy-extensions               0.4.3\n",
      "nbclassic                     0.3.1\n",
      "nbclient                      0.5.3\n",
      "nbconvert                     6.4.2\n",
      "nbformat                      5.1.3\n",
      "nest-asyncio                  1.5.4\n",
      "netCDF4                       1.5.8\n",
      "notebook                      6.4.0\n",
      "numba                         0.55.1\n",
      "numpy                         1.21.5\n",
      "open3d                        0.15.1\n",
      "packaging                     21.3\n",
      "pandas                        1.4.1\n",
      "pandocfilters                 1.5.0\n",
      "panel                         0.12.6\n",
      "param                         1.12.0\n",
      "parso                         0.8.3\n",
      "partd                         1.2.0\n",
      "pathspec                      0.9.0\n",
      "pexpect                       4.8.0\n",
      "pickleshare                   0.7.5\n",
      "Pillow                        9.0.1\n",
      "pip                           22.0.3\n",
      "platformdirs                  2.5.0\n",
      "plotly                        5.6.0\n",
      "plyfile                       0.7.4\n",
      "prometheus-client             0.13.1\n",
      "prompt-toolkit                3.0.27\n",
      "psutil                        5.9.0\n",
      "ptyprocess                    0.7.0\n",
      "pure-eval                     0.2.2\n",
      "pycparser                     2.21\n",
      "pyct                          0.4.6\n",
      "Pygments                      2.11.2\n",
      "pyOpenSSL                     22.0.0\n",
      "pyparsing                     3.0.7\n",
      "pyproj                        3.3.0\n",
      "PyQt5                         5.12.3\n",
      "PyQt5_sip                     4.19.18\n",
      "PyQtChart                     5.12\n",
      "PyQtWebEngine                 5.12.1\n",
      "pyquaternion                  0.9.9\n",
      "pyrsistent                    0.18.1\n",
      "pyshp                         2.2.0\n",
      "PySocks                       1.7.1\n",
      "python-dateutil               2.8.2\n",
      "python-snappy                 0.6.0\n",
      "pytz                          2021.3\n",
      "pyviz-comms                   2.1.0\n",
      "PyYAML                        6.0\n",
      "pyzmq                         22.3.0\n",
      "qtconsole                     5.2.2\n",
      "QtPy                          2.0.1\n",
      "rasterio                      1.2.10\n",
      "requests                      2.27.1\n",
      "rioxarray                     0.10.1\n",
      "s3fs                          2022.1.0\n",
      "s3transfer                    0.5.1\n",
      "scikit-learn                  1.0.2\n",
      "scipy                         1.8.0\n",
      "Send2Trash                    1.8.0\n",
      "setuptools                    59.8.0\n",
      "Shapely                       1.8.0\n",
      "simpervisor                   0.4\n",
      "six                           1.16.0\n",
      "sniffio                       1.2.0\n",
      "snuggs                        1.4.7\n",
      "sortedcontainers              2.4.0\n",
      "stack-data                    0.2.0\n",
      "tblib                         1.7.0\n",
      "tenacity                      8.0.1\n",
      "terminado                     0.13.1\n",
      "testpath                      0.5.0\n",
      "threadpoolctl                 3.1.0\n",
      "thrift                        0.16.0\n",
      "tomli                         2.0.1\n",
      "tomlkit                       0.10.0\n",
      "toolz                         0.11.2\n",
      "tornado                       6.1\n",
      "tqdm                          4.62.3\n",
      "traitlets                     5.1.1\n",
      "typed-ast                     1.5.2\n",
      "typing_extensions             4.1.1\n",
      "urllib3                       1.26.8\n",
      "wcwidth                       0.2.5\n",
      "webencodings                  0.5.1\n",
      "websocket-client              1.2.3\n",
      "wheel                         0.37.1\n",
      "widgetsnbextension            3.5.2\n",
      "wrapt                         1.13.3\n",
      "xarray                        0.21.1\n",
      "xmltodict                     0.12.0\n",
      "yarl                          1.7.2\n",
      "zict                          2.0.0\n",
      "zipp                          3.7.0\n"
     ]
    }
   ],
   "source": [
    "! pip list open3d"
   ]
  },
  {
   "cell_type": "code",
   "execution_count": 9,
   "id": "6c3f4ecb",
   "metadata": {},
   "outputs": [
    {
     "name": "stdout",
     "output_type": "stream",
     "text": [
      "ldd (GNU libc) 2.26\r\n",
      "Copyright (C) 2017 Free Software Foundation, Inc.\r\n",
      "This is free software; see the source for copying conditions.  There is NO\r\n",
      "warranty; not even for MERCHANTABILITY or FITNESS FOR A PARTICULAR PURPOSE.\r\n",
      "Written by Roland McGrath and Ulrich Drepper.\r\n"
     ]
    }
   ],
   "source": [
    "! ldd --version"
   ]
  },
  {
   "cell_type": "code",
   "execution_count": 6,
   "id": "ba7c5c35",
   "metadata": {},
   "outputs": [],
   "source": [
    "import numpy as np\n",
    "import plotly\n",
    "import plotly.graph_objects as go"
   ]
  },
  {
   "cell_type": "code",
   "execution_count": 7,
   "id": "a6c07a40",
   "metadata": {},
   "outputs": [
    {
     "ename": "ImportError",
     "evalue": "/home/ec2-user/miniconda3/envs/lidar1/lib/python3.9/site-packages/open3d/linux/open3d.so: undefined symbol: _Py_ZeroStruct",
     "output_type": "error",
     "traceback": [
      "\u001b[0;31m---------------------------------------------------------------------------\u001b[0m",
      "\u001b[0;31mImportError\u001b[0m                               Traceback (most recent call last)",
      "Input \u001b[0;32mIn [7]\u001b[0m, in \u001b[0;36m<module>\u001b[0;34m\u001b[0m\n\u001b[0;32m----> 1\u001b[0m \u001b[38;5;28;01mimport\u001b[39;00m \u001b[38;5;21;01mopen3d\u001b[39;00m \u001b[38;5;28;01mas\u001b[39;00m \u001b[38;5;21;01mo3d\u001b[39;00m\n\u001b[1;32m      2\u001b[0m mesh \u001b[38;5;241m=\u001b[39m o3d\u001b[38;5;241m.\u001b[39mio\u001b[38;5;241m.\u001b[39mread_triangle_mesh(\u001b[38;5;124m\"\u001b[39m\u001b[38;5;124mbunny.obj\u001b[39m\u001b[38;5;124m\"\u001b[39m)\n\u001b[1;32m      3\u001b[0m \u001b[38;5;28;01mif\u001b[39;00m mesh\u001b[38;5;241m.\u001b[39mis_empty(): exit()\n",
      "File \u001b[0;32m~/miniconda3/envs/lidar1/lib/python3.9/site-packages/open3d/__init__.py:9\u001b[0m, in \u001b[0;36m<module>\u001b[0;34m\u001b[0m\n\u001b[1;32m      6\u001b[0m \u001b[38;5;28;01mimport\u001b[39;00m \u001b[38;5;21;01msys\u001b[39;00m\n\u001b[1;32m      8\u001b[0m \u001b[38;5;28;01mif\u001b[39;00m sys\u001b[38;5;241m.\u001b[39mplatform \u001b[38;5;241m==\u001b[39m \u001b[38;5;124m\"\u001b[39m\u001b[38;5;124mlinux\u001b[39m\u001b[38;5;124m\"\u001b[39m \u001b[38;5;129;01mor\u001b[39;00m sys\u001b[38;5;241m.\u001b[39mplatform \u001b[38;5;241m==\u001b[39m \u001b[38;5;124m\"\u001b[39m\u001b[38;5;124mlinux2\u001b[39m\u001b[38;5;124m\"\u001b[39m:\n\u001b[0;32m----> 9\u001b[0m     \u001b[38;5;28;01mfrom\u001b[39;00m \u001b[38;5;21;01mopen3d\u001b[39;00m\u001b[38;5;21;01m.\u001b[39;00m\u001b[38;5;21;01mlinux\u001b[39;00m \u001b[38;5;28;01mimport\u001b[39;00m \u001b[38;5;241m*\u001b[39m\n\u001b[1;32m     10\u001b[0m \u001b[38;5;28;01melif\u001b[39;00m sys\u001b[38;5;241m.\u001b[39mplatform \u001b[38;5;241m==\u001b[39m \u001b[38;5;124m\"\u001b[39m\u001b[38;5;124mdarwin\u001b[39m\u001b[38;5;124m\"\u001b[39m:\n\u001b[1;32m     11\u001b[0m     \u001b[38;5;28;01mfrom\u001b[39;00m \u001b[38;5;21;01mopen3d\u001b[39;00m\u001b[38;5;21;01m.\u001b[39;00m\u001b[38;5;21;01mmacos\u001b[39;00m \u001b[38;5;28;01mimport\u001b[39;00m \u001b[38;5;241m*\u001b[39m\n",
      "File \u001b[0;32m~/miniconda3/envs/lidar1/lib/python3.9/site-packages/open3d/linux/__init__.py:7\u001b[0m, in \u001b[0;36m<module>\u001b[0;34m\u001b[0m\n\u001b[1;32m      1\u001b[0m \u001b[38;5;66;03m# Open3D: www.open3d.org\u001b[39;00m\n\u001b[1;32m      2\u001b[0m \u001b[38;5;66;03m# The MIT License (MIT)\u001b[39;00m\n\u001b[1;32m      3\u001b[0m \u001b[38;5;66;03m# See license file or visit www.open3d.org for details\u001b[39;00m\n\u001b[1;32m      5\u001b[0m \u001b[38;5;28;01mimport\u001b[39;00m \u001b[38;5;21;01mimportlib\u001b[39;00m\n\u001b[0;32m----> 7\u001b[0m \u001b[38;5;28mglobals\u001b[39m()\u001b[38;5;241m.\u001b[39mupdate(\u001b[43mimportlib\u001b[49m\u001b[38;5;241;43m.\u001b[39;49m\u001b[43mimport_module\u001b[49m\u001b[43m(\u001b[49m\u001b[38;5;124;43m'\u001b[39;49m\u001b[38;5;124;43mopen3d.linux.open3d\u001b[39;49m\u001b[38;5;124;43m'\u001b[39;49m\u001b[43m)\u001b[49m\u001b[38;5;241m.\u001b[39m\u001b[38;5;18m__dict__\u001b[39m)\n",
      "File \u001b[0;32m~/miniconda3/envs/lidar1/lib/python3.9/importlib/__init__.py:127\u001b[0m, in \u001b[0;36mimport_module\u001b[0;34m(name, package)\u001b[0m\n\u001b[1;32m    125\u001b[0m             \u001b[38;5;28;01mbreak\u001b[39;00m\n\u001b[1;32m    126\u001b[0m         level \u001b[38;5;241m+\u001b[39m\u001b[38;5;241m=\u001b[39m \u001b[38;5;241m1\u001b[39m\n\u001b[0;32m--> 127\u001b[0m \u001b[38;5;28;01mreturn\u001b[39;00m \u001b[43m_bootstrap\u001b[49m\u001b[38;5;241;43m.\u001b[39;49m\u001b[43m_gcd_import\u001b[49m\u001b[43m(\u001b[49m\u001b[43mname\u001b[49m\u001b[43m[\u001b[49m\u001b[43mlevel\u001b[49m\u001b[43m:\u001b[49m\u001b[43m]\u001b[49m\u001b[43m,\u001b[49m\u001b[43m \u001b[49m\u001b[43mpackage\u001b[49m\u001b[43m,\u001b[49m\u001b[43m \u001b[49m\u001b[43mlevel\u001b[49m\u001b[43m)\u001b[49m\n",
      "\u001b[0;31mImportError\u001b[0m: /home/ec2-user/miniconda3/envs/lidar1/lib/python3.9/site-packages/open3d/linux/open3d.so: undefined symbol: _Py_ZeroStruct"
     ]
    }
   ],
   "source": [
    "import open3d as o3d\n",
    "mesh = o3d.io.read_triangle_mesh(\"bunny.obj\")\n",
    "if mesh.is_empty(): exit()"
   ]
  },
  {
   "cell_type": "code",
   "execution_count": null,
   "id": "d7ba5d85",
   "metadata": {},
   "outputs": [],
   "source": [
    "if not mesh.has_vertex_normals(): mesh.compute_vertex_normals()\n",
    "if not mesh.has_triangle_normals(): mesh.compute_triangle_normals()"
   ]
  },
  {
   "cell_type": "code",
   "execution_count": null,
   "id": "bf72e9f1",
   "metadata": {},
   "outputs": [],
   "source": [
    "triangles = np.asarray(mesh.triangles)\n",
    "vertices = np.asarray(mesh.vertices)\n",
    "colors = None\n",
    "if mesh.has_triangle_normals():\n",
    "    colors = (0.5, 0.5, 0.5) + np.asarray(mesh.triangle_normals) * 0.5\n",
    "    colors = tuple(map(tuple, colors))\n",
    "else:\n",
    "    colors = (1.0, 0.0, 0.0)"
   ]
  },
  {
   "cell_type": "code",
   "execution_count": null,
   "id": "e5e96d01",
   "metadata": {},
   "outputs": [],
   "source": [
    "fig = go.Figure(\n",
    "    data=[\n",
    "        go.Mesh3d(\n",
    "            x=vertices[:,0],\n",
    "            y=vertices[:,1],\n",
    "            z=vertices[:,2],\n",
    "            i=triangles[:,0],\n",
    "            j=triangles[:,1],\n",
    "            k=triangles[:,2],\n",
    "            facecolor=colors,\n",
    "            opacity=0.50)\n",
    "    ],\n",
    "    layout=dict(\n",
    "        scene=dict(\n",
    "            xaxis=dict(visible=False),\n",
    "            yaxis=dict(visible=False),\n",
    "            zaxis=dict(visible=False)\n",
    "        )\n",
    "    )\n",
    ")\n",
    "fig.show()"
   ]
  },
  {
   "cell_type": "code",
   "execution_count": 8,
   "id": "444a8b8a",
   "metadata": {},
   "outputs": [
    {
     "name": "stdout",
     "output_type": "stream",
     "text": [
      "Python 3.9.10\r\n"
     ]
    }
   ],
   "source": [
    "! python3 --version"
   ]
  },
  {
   "cell_type": "markdown",
   "id": "83fcd69e",
   "metadata": {},
   "source": [
    "https://www.pointsnorthgis.ca/blog/viewing-point-clouds-qgis/"
   ]
  },
  {
   "cell_type": "markdown",
   "id": "33c5d481",
   "metadata": {},
   "source": [
    "https://colab.research.google.com/drive/1CR_HDvJ2AnjJV3Bf5vwP70K0hx3RcdMb?usp=sharing#scrollTo=N17gEj9pQfns"
   ]
  }
 ],
 "metadata": {
  "kernelspec": {
   "display_name": "Python 3 (ipykernel)",
   "language": "python",
   "name": "python3"
  },
  "language_info": {
   "codemirror_mode": {
    "name": "ipython",
    "version": 3
   },
   "file_extension": ".py",
   "mimetype": "text/x-python",
   "name": "python",
   "nbconvert_exporter": "python",
   "pygments_lexer": "ipython3",
   "version": "3.9.10"
  }
 },
 "nbformat": 4,
 "nbformat_minor": 5
}
