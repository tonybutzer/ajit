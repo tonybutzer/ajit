{
 "cells": [
  {
   "cell_type": "markdown",
   "id": "57d2ad48",
   "metadata": {},
   "source": [
    "https://github.com/centreborelli/pypotree"
   ]
  },
  {
   "cell_type": "code",
   "execution_count": 1,
   "id": "0ea92386",
   "metadata": {},
   "outputs": [
    {
     "ename": "ModuleNotFoundError",
     "evalue": "No module named 'pypotree'",
     "output_type": "error",
     "traceback": [
      "\u001b[1;31m---------------------------------------------------------------------------\u001b[0m",
      "\u001b[1;31mModuleNotFoundError\u001b[0m                       Traceback (most recent call last)",
      "Input \u001b[1;32mIn [1]\u001b[0m, in \u001b[0;36m<module>\u001b[1;34m\u001b[0m\n\u001b[1;32m----> 1\u001b[0m \u001b[38;5;28;01mimport\u001b[39;00m \u001b[38;5;21;01mpypotree\u001b[39;00m \n\u001b[0;32m      2\u001b[0m \u001b[38;5;28;01mimport\u001b[39;00m \u001b[38;5;21;01mnumpy\u001b[39;00m \u001b[38;5;28;01mas\u001b[39;00m \u001b[38;5;21;01mnp\u001b[39;00m\n\u001b[0;32m      3\u001b[0m xyz \u001b[38;5;241m=\u001b[39m np\u001b[38;5;241m.\u001b[39mrandom\u001b[38;5;241m.\u001b[39mrandom((\u001b[38;5;241m100000\u001b[39m,\u001b[38;5;241m3\u001b[39m))\n",
      "\u001b[1;31mModuleNotFoundError\u001b[0m: No module named 'pypotree'"
     ]
    }
   ],
   "source": [
    "import pypotree \n",
    "import numpy as np\n",
    "xyz = np.random.random((100000,3))\n",
    "cloudpath = pypotree.generate_cloud_for_display(xyz)\n",
    "pypotree.display_cloud_colab(cloudpath)"
   ]
  },
  {
   "cell_type": "code",
   "execution_count": null,
   "id": "81729239",
   "metadata": {},
   "outputs": [],
   "source": [
    "#! pip install portpicker"
   ]
  },
  {
   "cell_type": "code",
   "execution_count": 2,
   "id": "9d977fe2",
   "metadata": {},
   "outputs": [
    {
     "name": "stdout",
     "output_type": "stream",
     "text": [
      "Collecting pypotree"
     ]
    },
    {
     "name": "stderr",
     "output_type": "stream",
     "text": [
      "  error: subprocess-exited-with-error\n",
      "  \n",
      "  python setup.py bdist_wheel did not run successfully.\n",
      "  exit code: 1\n",
      "  \n",
      "  [48 lines of output]\n",
      "  running bdist_wheel\n",
      "  running build\n",
      "  running build_py\n",
      "  creating build\n",
      "  creating build\\lib\n",
      "  copying pypotree.py -> build\\lib\n",
      "  running egg_info\n",
      "  writing pypotree.egg-info\\PKG-INFO\n",
      "  writing dependency_links to pypotree.egg-info\\dependency_links.txt\n",
      "  writing requirements to pypotree.egg-info\\requires.txt\n",
      "  writing top-level names to pypotree.egg-info\\top_level.txt\n",
      "  reading manifest file 'pypotree.egg-info\\SOURCES.txt'\n",
      "  reading manifest template 'MANIFEST.in'\n",
      "  writing manifest file 'pypotree.egg-info\\SOURCES.txt'\n",
      "  'make' is not recognized as an internal or external command,\n",
      "  operable program or batch file.\n",
      "  Traceback (most recent call last):\n",
      "    File \"<string>\", line 2, in <module>\n",
      "    File \"<pip-setuptools-caller>\", line 34, in <module>\n",
      "    File \"C:\\Users\\butzer.GS\\AppData\\Local\\Temp\\1\\pip-install-84fbr7yu\\pypotree_c583d9878deb4968a03ba2f88d1fce62\\setup.py\", line 36, in <module>\n",
      "      setup(name=\"pypotree\",\n",
      "    File \"C:\\Users\\butzer.GS\\Anaconda3\\envs\\lidarV2\\lib\\site-packages\\setuptools\\__init__.py\", line 155, in setup\n",
      "      return distutils.core.setup(**attrs)\n"
     ]
    },
    {
     "name": "stdout",
     "output_type": "stream",
     "text": [
      "\n",
      "  Downloading pypotree-1.0.5.tar.gz (147 kB)\n",
      "     -------------------------------------- 147.7/147.7 KB 4.3 MB/s eta 0:00:00\n",
      "  Preparing metadata (setup.py): started\n",
      "  Preparing metadata (setup.py): finished with status 'done'\n",
      "Requirement already satisfied: numpy in c:\\users\\butzer.gs\\anaconda3\\envs\\lidarv2\\lib\\site-packages (from pypotree) (1.22.2)\n",
      "Building wheels for collected packages: pypotree\n",
      "  Building wheel for pypotree (setup.py): started\n",
      "  Building wheel for pypotree (setup.py): finished with status 'error'\n",
      "  Running setup.py clean for pypotree\n",
      "Failed to build pypotree\n",
      "Installing collected packages: pypotree\n",
      "  Running setup.py install for pypotree: started\n",
      "  Running setup.py install for pypotree: finished with status 'error'\n"
     ]
    },
    {
     "name": "stderr",
     "output_type": "stream",
     "text": [
      "    File \"C:\\Users\\butzer.GS\\Anaconda3\\envs\\lidarV2\\lib\\site-packages\\setuptools\\_distutils\\core.py\", line 148, in setup\n",
      "      return run_commands(dist)\n",
      "    File \"C:\\Users\\butzer.GS\\Anaconda3\\envs\\lidarV2\\lib\\site-packages\\setuptools\\_distutils\\core.py\", line 163, in run_commands\n",
      "      dist.run_commands()\n",
      "    File \"C:\\Users\\butzer.GS\\Anaconda3\\envs\\lidarV2\\lib\\site-packages\\setuptools\\_distutils\\dist.py\", line 967, in run_commands\n",
      "      self.run_command(cmd)\n",
      "    File \"C:\\Users\\butzer.GS\\Anaconda3\\envs\\lidarV2\\lib\\site-packages\\setuptools\\_distutils\\dist.py\", line 986, in run_command\n",
      "      cmd_obj.run()\n",
      "    File \"C:\\Users\\butzer.GS\\Anaconda3\\envs\\lidarV2\\lib\\site-packages\\wheel\\bdist_wheel.py\", line 290, in run\n",
      "      self.run_command('build')\n",
      "    File \"C:\\Users\\butzer.GS\\Anaconda3\\envs\\lidarV2\\lib\\site-packages\\setuptools\\_distutils\\cmd.py\", line 313, in run_command\n",
      "      self.distribution.run_command(command)\n",
      "    File \"C:\\Users\\butzer.GS\\Anaconda3\\envs\\lidarV2\\lib\\site-packages\\setuptools\\_distutils\\dist.py\", line 986, in run_command\n",
      "      cmd_obj.run()\n",
      "    File \"C:\\Users\\butzer.GS\\Anaconda3\\envs\\lidarV2\\lib\\site-packages\\setuptools\\_distutils\\command\\build.py\", line 135, in run\n",
      "      self.run_command(cmd_name)\n",
      "    File \"C:\\Users\\butzer.GS\\Anaconda3\\envs\\lidarV2\\lib\\site-packages\\setuptools\\_distutils\\cmd.py\", line 313, in run_command\n",
      "      self.distribution.run_command(command)\n",
      "    File \"C:\\Users\\butzer.GS\\Anaconda3\\envs\\lidarV2\\lib\\site-packages\\setuptools\\_distutils\\dist.py\", line 986, in run_command\n",
      "      cmd_obj.run()\n",
      "    File \"C:\\Users\\butzer.GS\\AppData\\Local\\Temp\\1\\pip-install-84fbr7yu\\pypotree_c583d9878deb4968a03ba2f88d1fce62\\setup.py\", line 28, in run\n",
      "      subprocess.check_call(\"make\", shell=True)\n",
      "    File \"C:\\Users\\butzer.GS\\Anaconda3\\envs\\lidarV2\\lib\\subprocess.py\", line 364, in check_call\n",
      "      raise CalledProcessError(retcode, cmd)\n",
      "  subprocess.CalledProcessError: Command 'make' returned non-zero exit status 1.\n",
      "  [end of output]\n",
      "  \n",
      "  note: This error originates from a subprocess, and is likely not a problem with pip.\n",
      "  ERROR: Failed building wheel for pypotree\n",
      "  error: subprocess-exited-with-error\n",
      "  \n",
      "  Running setup.py install for pypotree did not run successfully.\n",
      "  exit code: 1\n",
      "  \n",
      "  [52 lines of output]\n",
      "  running install\n",
      "  C:\\Users\\butzer.GS\\Anaconda3\\envs\\lidarV2\\lib\\site-packages\\setuptools\\command\\install.py:34: SetuptoolsDeprecationWarning: setup.py install is deprecated. Use build and pip and other standards-based tools.\n",
      "    warnings.warn(\n",
      "  running build\n",
      "  running build_py\n",
      "  creating build\n",
      "  creating build\\lib\n",
      "  copying pypotree.py -> build\\lib\n",
      "  running egg_info\n",
      "  writing pypotree.egg-info\\PKG-INFO\n",
      "  writing dependency_links to pypotree.egg-info\\dependency_links.txt\n",
      "  writing requirements to pypotree.egg-info\\requires.txt\n",
      "  writing top-level names to pypotree.egg-info\\top_level.txt\n",
      "  reading manifest file 'pypotree.egg-info\\SOURCES.txt'\n",
      "  reading manifest template 'MANIFEST.in'\n",
      "  writing manifest file 'pypotree.egg-info\\SOURCES.txt'\n",
      "  'make' is not recognized as an internal or external command,\n",
      "  operable program or batch file.\n",
      "  Traceback (most recent call last):\n",
      "    File \"<string>\", line 2, in <module>\n",
      "    File \"<pip-setuptools-caller>\", line 34, in <module>\n",
      "    File \"C:\\Users\\butzer.GS\\AppData\\Local\\Temp\\1\\pip-install-84fbr7yu\\pypotree_c583d9878deb4968a03ba2f88d1fce62\\setup.py\", line 36, in <module>\n",
      "      setup(name=\"pypotree\",\n",
      "    File \"C:\\Users\\butzer.GS\\Anaconda3\\envs\\lidarV2\\lib\\site-packages\\setuptools\\__init__.py\", line 155, in setup\n",
      "      return distutils.core.setup(**attrs)\n",
      "    File \"C:\\Users\\butzer.GS\\Anaconda3\\envs\\lidarV2\\lib\\site-packages\\setuptools\\_distutils\\core.py\", line 148, in setup\n",
      "      return run_commands(dist)\n",
      "    File \"C:\\Users\\butzer.GS\\Anaconda3\\envs\\lidarV2\\lib\\site-packages\\setuptools\\_distutils\\core.py\", line 163, in run_commands\n",
      "      dist.run_commands()\n",
      "    File \"C:\\Users\\butzer.GS\\Anaconda3\\envs\\lidarV2\\lib\\site-packages\\setuptools\\_distutils\\dist.py\", line 967, in run_commands\n",
      "      self.run_command(cmd)\n",
      "    File \"C:\\Users\\butzer.GS\\Anaconda3\\envs\\lidarV2\\lib\\site-packages\\setuptools\\_distutils\\dist.py\", line 986, in run_command\n",
      "      cmd_obj.run()\n",
      "    File \"C:\\Users\\butzer.GS\\Anaconda3\\envs\\lidarV2\\lib\\site-packages\\setuptools\\command\\install.py\", line 68, in run\n",
      "      return orig.install.run(self)\n",
      "    File \"C:\\Users\\butzer.GS\\Anaconda3\\envs\\lidarV2\\lib\\site-packages\\setuptools\\_distutils\\command\\install.py\", line 670, in run\n",
      "      self.run_command('build')\n",
      "    File \"C:\\Users\\butzer.GS\\Anaconda3\\envs\\lidarV2\\lib\\site-packages\\setuptools\\_distutils\\cmd.py\", line 313, in run_command\n",
      "      self.distribution.run_command(command)\n",
      "    File \"C:\\Users\\butzer.GS\\Anaconda3\\envs\\lidarV2\\lib\\site-packages\\setuptools\\_distutils\\dist.py\", line 986, in run_command\n",
      "      cmd_obj.run()\n",
      "    File \"C:\\Users\\butzer.GS\\Anaconda3\\envs\\lidarV2\\lib\\site-packages\\setuptools\\_distutils\\command\\build.py\", line 135, in run\n",
      "      self.run_command(cmd_name)\n",
      "    File \"C:\\Users\\butzer.GS\\Anaconda3\\envs\\lidarV2\\lib\\site-packages\\setuptools\\_distutils\\cmd.py\", line 313, in run_command\n",
      "      self.distribution.run_command(command)\n",
      "    File \"C:\\Users\\butzer.GS\\Anaconda3\\envs\\lidarV2\\lib\\site-packages\\setuptools\\_distutils\\dist.py\", line 986, in run_command\n",
      "      cmd_obj.run()\n",
      "    File \"C:\\Users\\butzer.GS\\AppData\\Local\\Temp\\1\\pip-install-84fbr7yu\\pypotree_c583d9878deb4968a03ba2f88d1fce62\\setup.py\", line 28, in run\n",
      "      subprocess.check_call(\"make\", shell=True)\n",
      "    File \"C:\\Users\\butzer.GS\\Anaconda3\\envs\\lidarV2\\lib\\subprocess.py\", line 364, in check_call\n",
      "      raise CalledProcessError(retcode, cmd)\n",
      "  subprocess.CalledProcessError: Command 'make' returned non-zero exit status 1.\n",
      "  [end of output]\n",
      "  \n",
      "  note: This error originates from a subprocess, and is likely not a problem with pip.\n",
      "error: legacy-install-failure\n",
      "\n",
      "Encountered error while trying to install package.\n",
      "\n",
      "pypotree\n",
      "\n",
      "note: This is an issue with the package mentioned above, not pip.\n",
      "hint: See above for output from the failure.\n"
     ]
    }
   ],
   "source": [
    "! pip install pypotree"
   ]
  },
  {
   "cell_type": "code",
   "execution_count": 3,
   "id": "e72c5a36",
   "metadata": {},
   "outputs": [
    {
     "name": "stderr",
     "output_type": "stream",
     "text": [
      "Python was not found; run without arguments to install from the Microsoft Store, or disable this shortcut from Settings > Manage App Execution Aliases.\n"
     ]
    }
   ],
   "source": [
    "#! python3 -m pip install --user pypotree"
   ]
  },
  {
   "cell_type": "code",
   "execution_count": 6,
   "id": "46c1dbac",
   "metadata": {},
   "outputs": [
    {
     "name": "stdout",
     "output_type": "stream",
     "text": [
      "Python 3.8.12\n"
     ]
    }
   ],
   "source": [
    "! python --version"
   ]
  },
  {
   "cell_type": "code",
   "execution_count": 7,
   "id": "7de6f659",
   "metadata": {},
   "outputs": [
    {
     "name": "stdout",
     "output_type": "stream",
     "text": [
      "Collecting pypotree\n",
      "  Using cached pypotree-1.0.5.tar.gz (147 kB)\n",
      "  Preparing metadata (setup.py): started\n",
      "  Preparing metadata (setup.py): finished with status 'done'\n",
      "Requirement already satisfied: numpy in c:\\users\\butzer.gs\\anaconda3\\envs\\lidarv2\\lib\\site-packages (from pypotree) (1.22.2)\n"
     ]
    },
    {
     "name": "stderr",
     "output_type": "stream",
     "text": [
      "  error: subprocess-exited-with-error\n",
      "  \n",
      "  python setup.py bdist_wheel did not run successfully.\n",
      "  exit code: 1\n",
      "  \n",
      "  [48 lines of output]\n",
      "  running bdist_wheel\n",
      "  running build\n",
      "  running build_py\n",
      "  creating build\n",
      "  creating build\\lib\n",
      "  copying pypotree.py -> build\\lib\n",
      "  running egg_info\n",
      "  writing pypotree.egg-info\\PKG-INFO\n",
      "  writing dependency_links to pypotree.egg-info\\dependency_links.txt\n",
      "  writing requirements to pypotree.egg-info\\requires.txt\n",
      "  writing top-level names to pypotree.egg-info\\top_level.txt\n",
      "  reading manifest file 'pypotree.egg-info\\SOURCES.txt'\n",
      "  reading manifest template 'MANIFEST.in'\n",
      "  writing manifest file 'pypotree.egg-info\\SOURCES.txt'\n",
      "  'make' is not recognized as an internal or external command,\n",
      "  operable program or batch file.\n",
      "  Traceback (most recent call last):\n",
      "    File \"<string>\", line 2, in <module>\n",
      "    File \"<pip-setuptools-caller>\", line 34, in <module>\n",
      "    File \"C:\\Users\\butzer.GS\\AppData\\Local\\Temp\\1\\pip-install-w9fn7jwj\\pypotree_d40f255c4d3f4f3aa087bd865fb7a0de\\setup.py\", line 36, in <module>\n",
      "      setup(name=\"pypotree\",\n",
      "    File \"C:\\Users\\butzer.GS\\Anaconda3\\envs\\lidarV2\\lib\\site-packages\\setuptools\\__init__.py\", line 155, in setup\n",
      "      return distutils.core.setup(**attrs)\n",
      "    File \"C:\\Users\\butzer.GS\\Anaconda3\\envs\\lidarV2\\lib\\site-packages\\setuptools\\_distutils\\core.py\", line 148, in setup\n",
      "      return run_commands(dist)\n",
      "    File \"C:\\Users\\butzer.GS\\Anaconda3\\envs\\lidarV2\\lib\\site-packages\\setuptools\\_distutils\\core.py\", line 163, in run_commands\n",
      "      dist.run_commands()\n",
      "    File \"C:\\Users\\butzer.GS\\Anaconda3\\envs\\lidarV2\\lib\\site-packages\\setuptools\\_distutils\\dist.py\", line 967, in run_commands\n",
      "      self.run_command(cmd)\n",
      "    File \"C:\\Users\\butzer.GS\\Anaconda3\\envs\\lidarV2\\lib\\site-packages\\setuptools\\_distutils\\dist.py\", line 986, in run_command\n",
      "      cmd_obj.run()\n",
      "    File \"C:\\Users\\butzer.GS\\Anaconda3\\envs\\lidarV2\\lib\\site-packages\\wheel\\bdist_wheel.py\", line 290, in run\n",
      "      self.run_command('build')\n",
      "    File \"C:\\Users\\butzer.GS\\Anaconda3\\envs\\lidarV2\\lib\\site-packages\\setuptools\\_distutils\\cmd.py\", line 313, in run_command\n",
      "      self.distribution.run_command(command)\n",
      "    File \"C:\\Users\\butzer.GS\\Anaconda3\\envs\\lidarV2\\lib\\site-packages\\setuptools\\_distutils\\dist.py\", line 986, in run_command\n",
      "      cmd_obj.run()\n",
      "    File \"C:\\Users\\butzer.GS\\Anaconda3\\envs\\lidarV2\\lib\\site-packages\\setuptools\\_distutils\\command\\build.py\", line 135, in run\n",
      "      self.run_command(cmd_name)\n",
      "    File \"C:\\Users\\butzer.GS\\Anaconda3\\envs\\lidarV2\\lib\\site-packages\\setuptools\\_distutils\\cmd.py\", line 313, in run_command\n",
      "      self.distribution.run_command(command)\n",
      "    File \"C:\\Users\\butzer.GS\\Anaconda3\\envs\\lidarV2\\lib\\site-packages\\setuptools\\_distutils\\dist.py\", line 986, in run_command\n",
      "      cmd_obj.run()\n",
      "    File \"C:\\Users\\butzer.GS\\AppData\\Local\\Temp\\1\\pip-install-w9fn7jwj\\pypotree_d40f255c4d3f4f3aa087bd865fb7a0de\\setup.py\", line 28, in run\n",
      "      subprocess.check_call(\"make\", shell=True)\n",
      "    File \"C:\\Users\\butzer.GS\\Anaconda3\\envs\\lidarV2\\lib\\subprocess.py\", line 364, in check_call\n",
      "      raise CalledProcessError(retcode, cmd)\n",
      "  subprocess.CalledProcessError: Command 'make' returned non-zero exit status 1.\n",
      "  [end of output]\n",
      "  \n",
      "  note: This error originates from a subprocess, and is likely not a problem with pip.\n",
      "  ERROR: Failed building wheel for pypotree\n",
      "  error: subprocess-exited-with-error\n",
      "  \n",
      "  Running setup.py install for pypotree did not run successfully.\n",
      "  exit code: 1\n",
      "  \n",
      "  [52 lines of output]\n",
      "  running install\n",
      "  C:\\Users\\butzer.GS\\Anaconda3\\envs\\lidarV2\\lib\\site-packages\\setuptools\\command\\install.py:34: SetuptoolsDeprecationWarning: setup.py install is deprecated. Use build and pip and other standards-based tools.\n",
      "    warnings.warn(\n",
      "  running build\n",
      "  running build_py\n",
      "  creating build\n",
      "  creating build\\lib\n",
      "  copying pypotree.py -> build\\lib\n",
      "  running egg_info\n",
      "  writing pypotree.egg-info\\PKG-INFO\n",
      "  writing dependency_links to pypotree.egg-info\\dependency_links.txt\n",
      "  writing requirements to pypotree.egg-info\\requires.txt\n",
      "  writing top-level names to pypotree.egg-info\\top_level.txt\n",
      "  reading manifest file 'pypotree.egg-info\\SOURCES.txt'\n",
      "  reading manifest template 'MANIFEST.in'\n",
      "  writing manifest file 'pypotree.egg-info\\SOURCES.txt'\n",
      "  'make' is not recognized as an internal or external command,\n",
      "  operable program or batch file.\n",
      "  Traceback (most recent call last):\n",
      "    File \"<string>\", line 2, in <module>"
     ]
    },
    {
     "name": "stdout",
     "output_type": "stream",
     "text": [
      "Building wheels for collected packages: pypotree\n",
      "  Building wheel for pypotree (setup.py): started\n",
      "  Building wheel for pypotree (setup.py): finished with status 'error'\n",
      "  Running setup.py clean for pypotree\n",
      "Failed to build pypotree\n",
      "Installing collected packages: pypotree\n",
      "  Running setup.py install for pypotree: started\n",
      "  Running setup.py install for pypotree: finished with status 'error'\n"
     ]
    },
    {
     "name": "stderr",
     "output_type": "stream",
     "text": [
      "\n",
      "    File \"<pip-setuptools-caller>\", line 34, in <module>\n",
      "    File \"C:\\Users\\butzer.GS\\AppData\\Local\\Temp\\1\\pip-install-w9fn7jwj\\pypotree_d40f255c4d3f4f3aa087bd865fb7a0de\\setup.py\", line 36, in <module>\n",
      "      setup(name=\"pypotree\",\n",
      "    File \"C:\\Users\\butzer.GS\\Anaconda3\\envs\\lidarV2\\lib\\site-packages\\setuptools\\__init__.py\", line 155, in setup\n",
      "      return distutils.core.setup(**attrs)\n",
      "    File \"C:\\Users\\butzer.GS\\Anaconda3\\envs\\lidarV2\\lib\\site-packages\\setuptools\\_distutils\\core.py\", line 148, in setup\n",
      "      return run_commands(dist)\n",
      "    File \"C:\\Users\\butzer.GS\\Anaconda3\\envs\\lidarV2\\lib\\site-packages\\setuptools\\_distutils\\core.py\", line 163, in run_commands\n",
      "      dist.run_commands()\n",
      "    File \"C:\\Users\\butzer.GS\\Anaconda3\\envs\\lidarV2\\lib\\site-packages\\setuptools\\_distutils\\dist.py\", line 967, in run_commands\n",
      "      self.run_command(cmd)\n",
      "    File \"C:\\Users\\butzer.GS\\Anaconda3\\envs\\lidarV2\\lib\\site-packages\\setuptools\\_distutils\\dist.py\", line 986, in run_command\n",
      "      cmd_obj.run()\n",
      "    File \"C:\\Users\\butzer.GS\\Anaconda3\\envs\\lidarV2\\lib\\site-packages\\setuptools\\command\\install.py\", line 68, in run\n",
      "      return orig.install.run(self)\n",
      "    File \"C:\\Users\\butzer.GS\\Anaconda3\\envs\\lidarV2\\lib\\site-packages\\setuptools\\_distutils\\command\\install.py\", line 670, in run\n",
      "      self.run_command('build')\n",
      "    File \"C:\\Users\\butzer.GS\\Anaconda3\\envs\\lidarV2\\lib\\site-packages\\setuptools\\_distutils\\cmd.py\", line 313, in run_command\n",
      "      self.distribution.run_command(command)\n",
      "    File \"C:\\Users\\butzer.GS\\Anaconda3\\envs\\lidarV2\\lib\\site-packages\\setuptools\\_distutils\\dist.py\", line 986, in run_command\n",
      "      cmd_obj.run()\n",
      "    File \"C:\\Users\\butzer.GS\\Anaconda3\\envs\\lidarV2\\lib\\site-packages\\setuptools\\_distutils\\command\\build.py\", line 135, in run\n",
      "      self.run_command(cmd_name)\n",
      "    File \"C:\\Users\\butzer.GS\\Anaconda3\\envs\\lidarV2\\lib\\site-packages\\setuptools\\_distutils\\cmd.py\", line 313, in run_command\n",
      "      self.distribution.run_command(command)\n",
      "    File \"C:\\Users\\butzer.GS\\Anaconda3\\envs\\lidarV2\\lib\\site-packages\\setuptools\\_distutils\\dist.py\", line 986, in run_command\n",
      "      cmd_obj.run()\n",
      "    File \"C:\\Users\\butzer.GS\\AppData\\Local\\Temp\\1\\pip-install-w9fn7jwj\\pypotree_d40f255c4d3f4f3aa087bd865fb7a0de\\setup.py\", line 28, in run\n",
      "      subprocess.check_call(\"make\", shell=True)\n",
      "    File \"C:\\Users\\butzer.GS\\Anaconda3\\envs\\lidarV2\\lib\\subprocess.py\", line 364, in check_call\n",
      "      raise CalledProcessError(retcode, cmd)\n",
      "  subprocess.CalledProcessError: Command 'make' returned non-zero exit status 1.\n",
      "  [end of output]\n",
      "  \n",
      "  note: This error originates from a subprocess, and is likely not a problem with pip.\n",
      "error: legacy-install-failure\n",
      "\n",
      "Encountered error while trying to install package.\n",
      "\n",
      "pypotree\n",
      "\n",
      "note: This is an issue with the package mentioned above, not pip.\n",
      "hint: See above for output from the failure.\n"
     ]
    }
   ],
   "source": [
    "! python -m pip install --user pypotree"
   ]
  },
  {
   "cell_type": "code",
   "execution_count": null,
   "id": "5d8fe463",
   "metadata": {},
   "outputs": [],
   "source": []
  }
 ],
 "metadata": {
  "kernelspec": {
   "display_name": "Python 3 (ipykernel)",
   "language": "python",
   "name": "python3"
  },
  "language_info": {
   "codemirror_mode": {
    "name": "ipython",
    "version": 3
   },
   "file_extension": ".py",
   "mimetype": "text/x-python",
   "name": "python",
   "nbconvert_exporter": "python",
   "pygments_lexer": "ipython3",
   "version": "3.8.12"
  }
 },
 "nbformat": 4,
 "nbformat_minor": 5
}
