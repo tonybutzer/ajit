{
 "cells": [
  {
   "cell_type": "markdown",
   "id": "57d2ad48",
   "metadata": {},
   "source": [
    "https://github.com/centreborelli/pypotree"
   ]
  },
  {
   "cell_type": "code",
   "execution_count": 3,
   "id": "0ea92386",
   "metadata": {},
   "outputs": [
    {
     "name": "stdout",
     "output_type": "stream",
     "text": [
      "/data/miniconda3/envs/lidarV2/lib/python3.9/site-packages/bin/PotreeConverter .tmp.txt -f xyz -o point_clouds -p cacd15 --material ELEVATION --edl-enabled --overwrite\n",
      "== params ==\n",
      "source[0]:         \t.tmp.txt\n",
      "outdir:            \tpoint_clouds\n",
      "spacing:           \t0\n",
      "diagonal-fraction: \t200\n",
      "levels:            \t-1\n",
      "format:            \txyz\n",
      "scale:             \t0\n",
      "pageName:          \tcacd15\n",
      "projection:        \t\n",
      "\n",
      "AABB: \n",
      "min: [1.63065e-05, 2.75653e-06, 1.11026e-06]\n",
      "max: [0.999979, 0.999993, 0.999997]\n",
      "size: [0.999963, 0.99999, 0.999996]\n",
      "\n",
      "cubic AABB: \n",
      "min: [1.63065e-05, 2.75653e-06, 1.11026e-06]\n",
      "max: [1.00001, 0.999998, 0.999997]\n",
      "size: [0.999996, 0.999996, 0.999996]\n",
      "\n",
      "spacing calculated from diagonal: 0.00866022\n",
      "READING:  .tmp.txt\n",
      "closing writer\n",
      "\n",
      "conversion finished\n",
      "100,000 points were processed and 100,000 points ( 100% ) were written to the output. \n",
      "duration: 0.804s\n"
     ]
    }
   ],
   "source": [
    "import pypotree \n",
    "import numpy as np\n",
    "xyz = np.random.random((100000,3))\n",
    "cloudpath = pypotree.generate_cloud_for_display(xyz)\n",
    "#pypotree.display_cloud_colab(cloudpath)"
   ]
  },
  {
   "cell_type": "code",
   "execution_count": 6,
   "id": "acb619fa",
   "metadata": {},
   "outputs": [
    {
     "name": "stdout",
     "output_type": "stream",
     "text": [
      "total 13M\r\n",
      "-rw-rw-r-- 1 ec2-user ec2-user 2.4K Feb 26 16:51 00_Project_Planning_Engineering_Notes.ipynb\r\n",
      "-rw-rw-r-- 1 ec2-user ec2-user 5.2M Feb 26 20:34 0_bunny_objects_plotly.ipynb\r\n",
      "-rw-rw-r-- 1 ec2-user ec2-user 9.4K Feb 26 20:13 10_point_cloud_visualization_experiments_tony_try1.ipynb\r\n",
      "-rw-rw-r-- 1 ec2-user ec2-user  24K Mar  3 22:46 1_pypotree_simple_test.ipynb\r\n",
      "-rw-rw-r-- 1 ec2-user ec2-user 7.1M Feb 26 16:51 90_intro_to_eccoe_chs_cloud.ipynb\r\n",
      "-rw-rw-r-- 1 ec2-user ec2-user  39K Feb 26 16:51 Building-Footprint-Lite.ipynb\r\n",
      "-rw-rw-r-- 1 ec2-user ec2-user 202K Feb 26 16:51 bunny.obj\r\n",
      "-rw-rw-r-- 1 ec2-user ec2-user 271K Feb 26 16:51 list-1.json\r\n",
      "drwxrwxr-x 4 ec2-user ec2-user  132 Mar  7 19:21 point_clouds\r\n",
      "-rw-rw-r-- 1 ec2-user ec2-user   38 Feb 26 16:51 readme.txt\r\n",
      "-rw-rw-r-- 1 ec2-user ec2-user  17K Feb 26 20:42 ruse.ipynb\r\n",
      "-rw-rw-r-- 1 ec2-user ec2-user 1.8K Feb 26 16:51 Untitled.ipynb\r\n"
     ]
    }
   ],
   "source": [
    "! ls -lh"
   ]
  },
  {
   "cell_type": "code",
   "execution_count": 9,
   "id": "ad23810e",
   "metadata": {},
   "outputs": [
    {
     "name": "stdout",
     "output_type": "stream",
     "text": [
      "total 2.8M\r\n",
      "drwxrwxr-x  4 ec2-user ec2-user   79 Feb 26 19:06 Assets\r\n",
      "-rw-rw-r--  1 ec2-user ec2-user 2.7M Mar  7 19:21 Cesium.js\r\n",
      "-rw-rw-r--  1 ec2-user ec2-user  58K Mar  7 19:21 LICENSE.md\r\n",
      "-rw-rw-r--  1 ec2-user ec2-user  18K Mar  7 19:21 README.md\r\n",
      "drwxrwxr-x  3 ec2-user ec2-user   21 Feb 26 19:06 ThirdParty\r\n",
      "drwxrwxr-x 19 ec2-user ec2-user 4.0K Feb 26 19:06 Widgets\r\n",
      "drwxrwxr-x  2 ec2-user ec2-user 4.0K Feb 26 19:06 Workers\r\n"
     ]
    }
   ],
   "source": [
    "! ls -lh point_clouds/libs/"
   ]
  },
  {
   "cell_type": "code",
   "execution_count": null,
   "id": "81729239",
   "metadata": {},
   "outputs": [],
   "source": [
    "#! pip install portpicker"
   ]
  },
  {
   "cell_type": "code",
   "execution_count": null,
   "id": "9d977fe2",
   "metadata": {},
   "outputs": [],
   "source": [
    "! pip install pypotree"
   ]
  },
  {
   "cell_type": "code",
   "execution_count": null,
   "id": "e72c5a36",
   "metadata": {},
   "outputs": [],
   "source": [
    "#! python3 -m pip install --user pypotree"
   ]
  },
  {
   "cell_type": "code",
   "execution_count": 2,
   "id": "46c1dbac",
   "metadata": {},
   "outputs": [
    {
     "name": "stdout",
     "output_type": "stream",
     "text": [
      "Python 3.9.10\r\n"
     ]
    }
   ],
   "source": [
    "! python --version"
   ]
  },
  {
   "cell_type": "code",
   "execution_count": null,
   "id": "7de6f659",
   "metadata": {},
   "outputs": [],
   "source": [
    "! python -m pip install --user pypotree"
   ]
  },
  {
   "cell_type": "code",
   "execution_count": null,
   "id": "5d8fe463",
   "metadata": {},
   "outputs": [],
   "source": []
  }
 ],
 "metadata": {
  "kernelspec": {
   "display_name": "Python 3 (ipykernel)",
   "language": "python",
   "name": "python3"
  },
  "language_info": {
   "codemirror_mode": {
    "name": "ipython",
    "version": 3
   },
   "file_extension": ".py",
   "mimetype": "text/x-python",
   "name": "python",
   "nbconvert_exporter": "python",
   "pygments_lexer": "ipython3",
   "version": "3.9.10"
  }
 },
 "nbformat": 4,
 "nbformat_minor": 5
}
