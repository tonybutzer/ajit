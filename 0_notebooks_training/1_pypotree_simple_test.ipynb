{
 "cells": [
  {
   "cell_type": "markdown",
   "id": "57d2ad48",
   "metadata": {},
   "source": [
    "https://github.com/centreborelli/pypotree"
   ]
  },
  {
   "cell_type": "code",
   "execution_count": 1,
   "id": "0ea92386",
   "metadata": {},
   "outputs": [
    {
     "name": "stdout",
     "output_type": "stream",
     "text": [
      "/data/miniconda3/envs/lidar37/lib/python3.7/site-packages/bin/PotreeConverter .tmp.txt -f xyz -o point_clouds -p cacb8b --material ELEVATION --edl-enabled --overwrite\n",
      "== params ==\n",
      "source[0]:         \t.tmp.txt\n",
      "outdir:            \tpoint_clouds\n",
      "spacing:           \t0\n",
      "diagonal-fraction: \t200\n",
      "levels:            \t-1\n",
      "format:            \txyz\n",
      "scale:             \t0\n",
      "pageName:          \tcacb8b\n",
      "projection:        \t\n",
      "\n",
      "AABB: \n",
      "min: [5.41957e-08, 4.50182e-06, 5.67873e-06]\n",
      "max: [0.999997, 0.999997, 0.999996]\n",
      "size: [0.999997, 0.999992, 0.99999]\n",
      "\n",
      "cubic AABB: \n",
      "min: [5.41957e-08, 4.50182e-06, 5.67873e-06]\n",
      "max: [0.999997, 1, 1]\n",
      "size: [0.999997, 0.999997, 0.999997]\n",
      "\n",
      "spacing calculated from diagonal: 0.00866023\n",
      "READING:  .tmp.txt\n",
      "closing writer\n",
      "\n",
      "conversion finished\n",
      "100,000 points were processed and 100,000 points ( 100% ) were written to the output. \n",
      "duration: 0.73s\n",
      "server on port 16623: thread <Thread(Thread-5, started 140352649410304)> \n",
      "https://localhost:16623/point_clouds/pointclouds/cacb8b\n"
     ]
    },
    {
     "data": {
      "text/html": [
       "<!DOCTYPE html>\n",
       "<html lang=\"en\">\n",
       "<head>\n",
       "\t<meta charset=\"utf-8\">\n",
       "\t<meta name=\"description\" content=\"\">\n",
       "\t<meta name=\"author\" content=\"\">\n",
       "\t<meta name=\"viewport\" content=\"width=device-width, initial-scale=1.0, user-scalable=no\">\n",
       "\t<title>Potree Viewer</title>\n",
       "\n",
       "\t<link rel=\"stylesheet\" type=\"text/css\" href=\"https://localhost:16623/point_clouds/libs/potree/potree.css\">\n",
       "\t<link rel=\"stylesheet\" type=\"text/css\" href=\"https://localhost:16623/point_clouds/libs/jquery-ui/jquery-ui.min.css\">\n",
       "\t<link rel=\"stylesheet\" type=\"text/css\" href=\"https://localhost:16623/point_clouds/libs/perfect-scrollbar/css/perfect-scrollbar.css\">\n",
       "\t<link rel=\"stylesheet\" type=\"text/css\" href=\"https://localhost:16623/point_clouds/libs/openlayers3/ol.css\">\n",
       "\t<link rel=\"stylesheet\" type=\"text/css\" href=\"https://localhost:16623/point_clouds/libs/spectrum/spectrum.css\">\n",
       "\t<link rel=\"stylesheet\" type=\"text/css\" href=\"https://localhost:16623/point_clouds/libs/jstree/themes/mixed/style.css\">\n",
       "</head>\n",
       "\n",
       "<body>\n",
       "\t<script src=\"https://localhost:16623/point_clouds/libs/jquery/jquery-3.1.1.min.js\"></script>\n",
       "\t<script src=\"https://localhost:16623/point_clouds/libs/spectrum/spectrum.js\"></script>\n",
       "\t<script src=\"https://localhost:16623/point_clouds/libs/perfect-scrollbar/js/perfect-scrollbar.jquery.js\"></script>\n",
       "\t<script src=\"https://localhost:16623/point_clouds/libs/jquery-ui/jquery-ui.min.js\"></script>\n",
       "\t<script src=\"https://localhost:16623/point_clouds/libs/three.js/build/three.min.js\"></script>\n",
       "\t<script src=\"https://localhost:16623/point_clouds/libs/other/BinaryHeap.js\"></script>\n",
       "\t<script src=\"https://localhost:16623/point_clouds/libs/tween/tween.min.js\"></script>\n",
       "\t<script src=\"https://localhost:16623/point_clouds/libs/d3/d3.js\"></script>\n",
       "\t<script src=\"https://localhost:16623/point_clouds/libs/proj4/proj4.js\"></script>\n",
       "\t<script src=\"https://localhost:16623/point_clouds/libs/openlayers3/ol.js\"></script>\n",
       "\t<script src=\"https://localhost:16623/point_clouds/libs/i18next/i18next.js\"></script>\n",
       "\t<script src=\"https://localhost:16623/point_clouds/libs/jstree/jstree.js\"></script>\n",
       "\t<script src=\"https://localhost:16623/point_clouds/libs/potree/potree.colab.js\"></script>\n",
       "\t<script src=\"https://localhost:16623/point_clouds/libs/plasio/js/laslaz.js\"></script>\n",
       "\t\n",
       "\t<!-- INCLUDE ADDITIONAL DEPENDENCIES HERE -->\n",
       "\t\tdocument.title = \"\";\n",
       "\t\tviewer.setEDLEnabled(true);\n",
       "\t\tviewer.setBackground(\"gradient\"); // [\"skybox\", \"gradient\", \"black\", \"white\"];\n",
       "\t\tviewer.setDescription(``);\n",
       "\t\n",
       "\t<div class=\"potree_container\" style=\"position: absolute; width: 100%; height: 500px; left: 0px; top: 0px; \">\n",
       "\t\t<div id=\"potree_render_area\"></div>\n",
       "\t\t<div id=\"potree_sidebar_container\"> </div>\n",
       "\t</div>\n",
       "\t\n",
       "\t<script>\n",
       "\t\n",
       "\t\twindow.viewer = new Potree.Viewer(document.getElementById(\"potree_render_area\"));\n",
       "\t\t\n",
       "\t\tviewer.setEDLEnabled(true);\n",
       "\t\tviewer.setFOV(60);\n",
       "\t\tviewer.setPointBudget(1*1000*1000);\n",
       "\t\tdocument.title = \"\";\n",
       "\t\tviewer.setEDLEnabled(true);\n",
       "\t\tviewer.setBackground(\"gradient\"); // [\"skybox\", \"gradient\", \"black\", \"white\"];\n",
       "\t\tviewer.setDescription(``);\n",
       "\t\tviewer.loadSettingsFromURL();\n",
       "\t\t\n",
       "\t\tviewer.loadGUI(() => {\n",
       "\t\t\tviewer.setLanguage('en');\n",
       "\t\t\t// $(\"#menu_appearance\").next().show();\n",
       "\t\t\t// $(\"#menu_tools\").next().show();\n",
       "\t\t\t// $(\"#menu_scene\").next().show();\n",
       "\t\t\t// viewer.toggleSidebar();\n",
       "\t\t});\n",
       "\t\t\n",
       "\t\tPotree.loadPointCloud(\"https://localhost:16623/point_clouds/pointclouds/cacb8b/cloud.js\", \"cacb8b\", e => {\n",
       "\t\t\tlet pointcloud = e.pointcloud;\n",
       "\t\t\tlet material = pointcloud.material;\n",
       "\t\t\tviewer.scene.addPointCloud(pointcloud);\n",
       "\t\t\tmaterial.pointColorType = Potree.PointColorType.ELEVATION; // any Potree.PointColorType.XXXX \n",
       "\t\t\tmaterial.size = 1;\n",
       "\t\t\tmaterial.pointSizeType = Potree.PointSizeType.ADAPTIVE;\n",
       "\t\t\tmaterial.shape = Potree.PointShape.SQUARE;\n",
       "\t\t\tviewer.fitToScreen();\n",
       "\t\t});\n",
       "\t\t\n",
       "\t</script>\n",
       "\t\n",
       "\t\n",
       "  </body>\n",
       "</html>\n"
      ],
      "text/plain": [
       "<IPython.core.display.HTML object>"
      ]
     },
     "execution_count": 1,
     "metadata": {},
     "output_type": "execute_result"
    }
   ],
   "source": [
    "import pypotree \n",
    "import numpy as np\n",
    "xyz = np.random.random((100000,3))\n",
    "cloudpath = pypotree.generate_cloud_for_display(xyz)\n",
    "pypotree.display_cloud_colab(cloudpath)"
   ]
  },
  {
   "cell_type": "code",
   "execution_count": 2,
   "id": "81729239",
   "metadata": {},
   "outputs": [
    {
     "name": "stderr",
     "output_type": "stream",
     "text": [
      "::ffff:127.0.0.1 - - [26/Feb/2022 19:18:12] code 400, message Bad request version ('Â\\x7fe9ek«\\x13ñÞ#ÀiU\\x15@çÛ\\x02g\\x00\"\\x13\\x01\\x13\\x03\\x13\\x02À+À/Ì©Ì¨À,À0À')\n",
      "::ffff:127.0.0.1 - - [26/Feb/2022 19:18:12] \"\u0016\u0003\u0001\u0002\u0000\u0001\u0000\u0001ü\u0003\u0003VÃúAQ\u000b",
      "Ö¬w¤½æÔ,\u0006@hÞíE©ìÀ+§ô'e °süö7i\u0015\u0016\u001e",
      "Âe9ek«\u0013ñÞ#ÀiU\u0015@çÛ\u0002g\u0000\"\u0013\u0001\u0013\u0003\u0013\u0002À+À/Ì©Ì¨À,À0À\" 400 -\n",
      "::ffff:127.0.0.1 - - [26/Feb/2022 19:18:18] code 400, message Bad request version ('Ú®¡\\x81z\\x82tL$q¯\\x1855O*\\x0eÔ\\x06\\x99\\x9bÉh\\x00\"\\x13\\x01\\x13\\x03\\x13\\x02À+À/Ì©Ì¨À,À0À')\n",
      "::ffff:127.0.0.1 - - [26/Feb/2022 19:18:18] \"\u0016\u0003\u0001\u0002\u0000\u0001\u0000\u0001ü\u0003\u0003Iþ¦ç®ÎÔóàòØØM>i\u001d",
      "\u0000\u001aÛäÆ2\u0002. £¡1×¾½Å^\f",
      "Ú®¡ztL$q¯\u001855O*\u000eÔ\u0006Éh\u0000\"\u0013\u0001\u0013\u0003\u0013\u0002À+À/Ì©Ì¨À,À0À\" 400 -\n"
     ]
    }
   ],
   "source": [
    "#! pip install portpicker"
   ]
  },
  {
   "cell_type": "code",
   "execution_count": null,
   "id": "9d977fe2",
   "metadata": {},
   "outputs": [],
   "source": []
  }
 ],
 "metadata": {
  "kernelspec": {
   "display_name": "Python 3 (ipykernel)",
   "language": "python",
   "name": "python3"
  },
  "language_info": {
   "codemirror_mode": {
    "name": "ipython",
    "version": 3
   },
   "file_extension": ".py",
   "mimetype": "text/x-python",
   "name": "python",
   "nbconvert_exporter": "python",
   "pygments_lexer": "ipython3",
   "version": "3.7.12"
  }
 },
 "nbformat": 4,
 "nbformat_minor": 5
}
