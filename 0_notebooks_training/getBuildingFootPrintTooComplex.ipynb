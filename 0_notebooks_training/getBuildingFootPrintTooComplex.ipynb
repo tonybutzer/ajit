{
 "cells": [
  {
   "cell_type": "code",
   "execution_count": 1,
   "id": "09df7e89",
   "metadata": {},
   "outputs": [
    {
     "name": "stdout",
     "output_type": "stream",
     "text": [
      "--2022-02-26 00:22:48--  https://raw.githubusercontent.com/aws-samples/aws-open-data-satellite-lidar-tutorial/master/Building-Footprint-Lite.ipynb\n",
      "Resolving raw.githubusercontent.com (raw.githubusercontent.com)... 185.199.111.133, 185.199.109.133, 185.199.108.133, ...\n",
      "Connecting to raw.githubusercontent.com (raw.githubusercontent.com)|185.199.111.133|:443... connected.\n",
      "HTTP request sent, awaiting response... 200 OK\n",
      "Length: 3009945 (2.9M) [text/plain]\n",
      "Saving to: ‘Building-Footprint-Lite.ipynb’\n",
      "\n",
      "100%[======================================>] 3,009,945   --.-K/s   in 0.1s    \n",
      "\n",
      "2022-02-26 00:22:49 (22.4 MB/s) - ‘Building-Footprint-Lite.ipynb’ saved [3009945/3009945]\n",
      "\n"
     ]
    }
   ],
   "source": [
    "! wget https://raw.githubusercontent.com/aws-samples/aws-open-data-satellite-lidar-tutorial/master/Building-Footprint-Lite.ipynb"
   ]
  },
  {
   "cell_type": "code",
   "execution_count": null,
   "id": "c169c646",
   "metadata": {},
   "outputs": [],
   "source": []
  }
 ],
 "metadata": {
  "kernelspec": {
   "display_name": "Python 3 (ipykernel)",
   "language": "python",
   "name": "python3"
  },
  "language_info": {
   "codemirror_mode": {
    "name": "ipython",
    "version": 3
   },
   "file_extension": ".py",
   "mimetype": "text/x-python",
   "name": "python",
   "nbconvert_exporter": "python",
   "pygments_lexer": "ipython3",
   "version": "3.9.10"
  }
 },
 "nbformat": 4,
 "nbformat_minor": 5
}
