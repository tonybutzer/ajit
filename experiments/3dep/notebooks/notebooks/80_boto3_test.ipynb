{
 "cells": [
  {
   "cell_type": "code",
   "execution_count": 2,
   "id": "e545da10",
   "metadata": {},
   "outputs": [],
   "source": [
    "import boto3"
   ]
  },
  {
   "cell_type": "markdown",
   "id": "bb328d20",
   "metadata": {},
   "source": [
    "# https://s3-us-west-2.amazonaws.com/usgs-lidar-public/KS_Statewide_B4_2018/ept.json"
   ]
  },
  {
   "cell_type": "code",
   "execution_count": null,
   "id": "a139eb5f",
   "metadata": {},
   "outputs": [],
   "source": []
  }
 ],
 "metadata": {
  "kernelspec": {
   "display_name": "Python 3 (ipykernel)",
   "language": "python",
   "name": "python3"
  },
  "language_info": {
   "codemirror_mode": {
    "name": "ipython",
    "version": 3
   },
   "file_extension": ".py",
   "mimetype": "text/x-python",
   "name": "python",
   "nbconvert_exporter": "python",
   "pygments_lexer": "ipython3",
   "version": "3.9.10"
  }
 },
 "nbformat": 4,
 "nbformat_minor": 5
}
