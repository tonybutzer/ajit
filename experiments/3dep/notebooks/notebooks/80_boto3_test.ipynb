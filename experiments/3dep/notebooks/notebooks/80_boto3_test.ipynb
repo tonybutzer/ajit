{
 "cells": [
  {
   "cell_type": "code",
   "execution_count": 2,
   "id": "e545da10",
   "metadata": {},
   "outputs": [],
   "source": [
    "import boto3"
   ]
  },
  {
   "cell_type": "markdown",
   "id": "bb328d20",
   "metadata": {},
   "source": [
    "# https://s3-us-west-2.amazonaws.com/usgs-lidar-public/KS_Statewide_B4_2018/ept.json"
   ]
  },
  {
   "cell_type": "code",
   "execution_count": 2,
   "id": "a139eb5f",
   "metadata": {},
   "outputs": [
    {
     "name": "stdout",
     "output_type": "stream",
     "text": [
      "--2022-03-07 18:30:48--  https://rockyweb.usgs.gov/vdelivery/Datasets/Staged/Elevation/LPC/Projects/SD_Missouri%20River%20LiDAR%20Woolpert_2016_D16/SD_MORiver_Woolpert_TL_2016/LAZ/USGS_LPC_SD_Missouri%20River%20LiDAR%20Woolpert_2016_D16_14TMP570930.laz\n",
      "Resolving rockyweb.usgs.gov (rockyweb.usgs.gov)... 137.227.231.27, 2001:49c8:8000:121d::27\n",
      "Connecting to rockyweb.usgs.gov (rockyweb.usgs.gov)|137.227.231.27|:443... connected.\n",
      "HTTP request sent, awaiting response... 404 Not Found\n",
      "2022-03-07 18:30:48 ERROR 404: Not Found.\n",
      "\n"
     ]
    }
   ],
   "source": [
    "! wget 'https://rockyweb.usgs.gov/vdelivery/Datasets/Staged/Elevation/LPC/Projects/SD_Missouri River LiDAR Woolpert_2016_D16/SD_MORiver_Woolpert_TL_2016/LAZ/USGS_LPC_SD_Missouri River LiDAR Woolpert_2016_D16_14TMP570930.laz'"
   ]
  },
  {
   "cell_type": "code",
   "execution_count": null,
   "id": "19a24b69",
   "metadata": {},
   "outputs": [],
   "source": []
  }
 ],
 "metadata": {
  "kernelspec": {
   "display_name": "Python 3 (ipykernel)",
   "language": "python",
   "name": "python3"
  },
  "language_info": {
   "codemirror_mode": {
    "name": "ipython",
    "version": 3
   },
   "file_extension": ".py",
   "mimetype": "text/x-python",
   "name": "python",
   "nbconvert_exporter": "python",
   "pygments_lexer": "ipython3",
   "version": "3.9.10"
  }
 },
 "nbformat": 4,
 "nbformat_minor": 5
}
