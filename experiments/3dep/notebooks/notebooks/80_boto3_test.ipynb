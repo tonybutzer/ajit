{
 "cells": [
  {
   "cell_type": "code",
   "execution_count": 2,
   "id": "2105d675",
   "metadata": {},
   "outputs": [],
   "source": [
    "import boto3"
   ]
  },
  {
   "cell_type": "markdown",
   "id": "4ec20d28",
   "metadata": {},
   "source": [
    "# https://s3-us-west-2.amazonaws.com/usgs-lidar-public/KS_Statewide_B4_2018/ept.json"
   ]
  },
  {
   "cell_type": "code",
   "execution_count": null,
   "id": "61c472ef",
   "metadata": {},
   "outputs": [],
   "source": []
  }
 ],
 "metadata": {
  "kernelspec": {
   "display_name": "Python 3 (ipykernel)",
   "language": "python",
   "name": "python3"
  },
  "language_info": {
   "codemirror_mode": {
    "name": "ipython",
    "version": 3
   },
   "file_extension": ".py",
   "mimetype": "text/x-python",
   "name": "python",
   "nbconvert_exporter": "python",
   "pygments_lexer": "ipython3",
   "version": "3.9.10"
  }
 },
 "nbformat": 4,
 "nbformat_minor": 5
}
