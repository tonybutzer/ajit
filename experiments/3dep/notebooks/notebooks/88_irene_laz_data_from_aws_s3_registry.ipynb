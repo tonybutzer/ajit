{
 "cells": [
  {
   "cell_type": "code",
   "execution_count": 1,
   "id": "e6b33795",
   "metadata": {},
   "outputs": [
    {
     "name": "stdout",
     "output_type": "stream",
     "text": [
      "2020_Drone_M.las\t\t\t drone_pdal.json\r\n",
      "HT404_1580305001_1264340300747572_1.las  pdal.json\r\n",
      "SD_Yankton_County_2012_001401.laz\r\n"
     ]
    }
   ],
   "source": [
    "! ls data"
   ]
  },
  {
   "cell_type": "code",
   "execution_count": 2,
   "id": "fdce3dc3",
   "metadata": {},
   "outputs": [
    {
     "name": "stdout",
     "output_type": "stream",
     "text": [
      "Requirement already satisfied: pylas in /opt/conda/lib/python3.9/site-packages (0.4.3)\n",
      "Requirement already satisfied: numpy in /opt/conda/lib/python3.9/site-packages (from pylas) (1.22.2)\n",
      "\u001b[33mWARNING: Running pip as the 'root' user can result in broken permissions and conflicting behaviour with the system package manager. It is recommended to use a virtual environment instead: https://pip.pypa.io/warnings/venv\u001b[0m\n"
     ]
    }
   ],
   "source": [
    "! python -m pip install pylas"
   ]
  },
  {
   "cell_type": "markdown",
   "id": "7a116749",
   "metadata": {},
   "source": [
    "## https://pypi.org/project/pylas/"
   ]
  },
  {
   "cell_type": "code",
   "execution_count": 3,
   "id": "c83deb93",
   "metadata": {},
   "outputs": [],
   "source": [
    "import pylas"
   ]
  },
  {
   "cell_type": "code",
   "execution_count": 4,
   "id": "9fb7ab9e",
   "metadata": {},
   "outputs": [],
   "source": [
    "#! python -m pip install lazrs"
   ]
  },
  {
   "cell_type": "code",
   "execution_count": 5,
   "id": "ee8c1b7f",
   "metadata": {},
   "outputs": [],
   "source": [
    "my_las_file = 'data/SD_Yankton_County_2012_001401.laz'"
   ]
  },
  {
   "cell_type": "code",
   "execution_count": 6,
   "id": "ae95d39e",
   "metadata": {},
   "outputs": [],
   "source": [
    "# with pylas.open(my_las_file) as f:\n",
    "#     if f.header.point_count < 10 ** 8:\n",
    "#         las = f.read()\n",
    "# #print(las.vlrs)"
   ]
  },
  {
   "cell_type": "code",
   "execution_count": 7,
   "id": "efb884c7",
   "metadata": {},
   "outputs": [],
   "source": [
    "# (f.header.creation_year)"
   ]
  },
  {
   "cell_type": "code",
   "execution_count": 8,
   "id": "e5dc70e2",
   "metadata": {},
   "outputs": [],
   "source": [
    "# (f.header.creation_day_of_year)"
   ]
  },
  {
   "cell_type": "code",
   "execution_count": 9,
   "id": "dcc4bcb9",
   "metadata": {},
   "outputs": [],
   "source": [
    "# (f.header.date, f.header.generating_software)"
   ]
  },
  {
   "cell_type": "code",
   "execution_count": 10,
   "id": "8f48e996",
   "metadata": {},
   "outputs": [],
   "source": [
    "# (f.header.mins, f.header.maxs)"
   ]
  },
  {
   "cell_type": "code",
   "execution_count": 11,
   "id": "09d8d5a5",
   "metadata": {},
   "outputs": [],
   "source": [
    "# f.header.global_encoding"
   ]
  },
  {
   "cell_type": "markdown",
   "id": "d0025aa5",
   "metadata": {},
   "source": [
    "https://github.com/stac-extensions/pointcloud"
   ]
  },
  {
   "cell_type": "code",
   "execution_count": 12,
   "id": "c867d8cc",
   "metadata": {},
   "outputs": [
    {
     "name": "stdout",
     "output_type": "stream",
     "text": [
      "(pdal info filters.stats Error) GDAL failure (1) PROJ: vgridshift: could not find required grid(s).\n",
      "(pdal info filters.stats Error) GDAL failure (1) PROJ: pipeline: Pipeline: Bad step definition: proj=vgridshift (File not found or invalid)\n",
      "(pdal info filters.stats Error) GDAL failure (1) PROJ: vgridshift: could not find required grid(s).\n",
      "(pdal info filters.stats Error) GDAL failure (1) PROJ: pipeline: Pipeline: Bad step definition: proj=vgridshift (File not found or invalid)\n",
      "(pdal info filters.stats Error) GDAL failure (1) PROJ: vgridshift: could not find required grid(s).\n",
      "(pdal info filters.stats Error) GDAL failure (1) PROJ: pipeline: Pipeline: Bad step definition: proj=vgridshift (File not found or invalid)\n",
      "{\n",
      "  \"boundary\":\n",
      "  {\n",
      "    \"area\": 1050309.483,\n",
      "    \"avg_pt_per_sq_unit\": 1.209626903,\n",
      "    \"avg_pt_spacing\": 0.6342268814,\n",
      "    \"boundary\": \"POLYGON ((649021.16670871 4770980.95184796,650010.61294525 4770980.95184796,650010.61294525 4772005.27483624,648992.73434559 4772015.12409574,648987.04787297 4771000.65036696,649021.16670871 4770980.95184796))\",\n",
      "    \"boundary_json\": { \"type\": \"Polygon\", \"coordinates\": [ [ [ 649021.166708710021339, 4770980.951847960241139 ], [ 650010.612945250002667, 4770980.951847960241139 ], [ 650010.612945250002667, 4772005.274836240336299 ], [ 648992.734345589997247, 4772015.124095739796758 ], [ 648987.047872969997115, 4771000.650366960093379 ], [ 649021.166708710021339, 4770980.951847960241139 ] ] ] },\n",
      "    \"density\": 2.486054866,\n",
      "    \"edge_length\": 0,\n",
      "    \"estimated_edge\": 19.69851901,\n",
      "    \"hex_offsets\": \"MULTIPOINT (0 0, -5.68647 9.84926, 0 19.6985, 11.3729 19.6985, 17.0594 9.84926, 11.3729 0)\",\n",
      "    \"sample_size\": 5000,\n",
      "    \"threshold\": 15\n",
      "  },\n",
      "  \"file_size\": 7831054,\n",
      "  \"filename\": \"data/SD_Yankton_County_2012_001401.laz\",\n",
      "  \"metadata\":\n",
      "  {\n",
      "    \"comp_spatialreference\": \"COMPD_CS[\\\"NAD83(HARN) / UTM zone 14N\\\",PROJCS[\\\"NAD83(HARN) / UTM zone 14N\\\",GEOGCS[\\\"NAD83(HARN)\\\",DATUM[\\\"NAD83_High_Accuracy_Reference_Network\\\",SPHEROID[\\\"GRS 1980\\\",6378137,298.257222101,AUTHORITY[\\\"EPSG\\\",\\\"7019\\\"]],AUTHORITY[\\\"EPSG\\\",\\\"6152\\\"]],PRIMEM[\\\"Greenwich\\\",0,AUTHORITY[\\\"EPSG\\\",\\\"8901\\\"]],UNIT[\\\"degree\\\",0.0174532925199433,AUTHORITY[\\\"EPSG\\\",\\\"9122\\\"]],AUTHORITY[\\\"EPSG\\\",\\\"4152\\\"]],PROJECTION[\\\"Transverse_Mercator\\\"],PARAMETER[\\\"latitude_of_origin\\\",0],PARAMETER[\\\"central_meridian\\\",-99],PARAMETER[\\\"scale_factor\\\",0.9996],PARAMETER[\\\"false_easting\\\",500000],PARAMETER[\\\"false_northing\\\",0],UNIT[\\\"metre\\\",1,AUTHORITY[\\\"EPSG\\\",\\\"9001\\\"]],AXIS[\\\"Easting\\\",EAST],AXIS[\\\"Northing\\\",NORTH],AUTHORITY[\\\"EPSG\\\",\\\"3744\\\"]],VERT_CS[\\\"NAVD88 height\\\",VERT_DATUM[\\\"North American Vertical Datum 1988\\\",2005,AUTHORITY[\\\"EPSG\\\",\\\"5103\\\"]],UNIT[\\\"metre\\\",1,AUTHORITY[\\\"EPSG\\\",\\\"9001\\\"]],AXIS[\\\"Gravity-related height\\\",UP],AUTHORITY[\\\"EPSG\\\",\\\"5703\\\"]]]\",\n",
      "    \"compressed\": true,\n",
      "    \"count\": 2611127,\n",
      "    \"creation_doy\": 267,\n",
      "    \"creation_year\": 2012,\n",
      "    \"dataformat_id\": 1,\n",
      "    \"dataoffset\": 1460,\n",
      "    \"filesource_id\": 0,\n",
      "    \"global_encoding\": 0,\n",
      "    \"global_encoding_base64\": \"AAA=\",\n",
      "    \"gtiff\": \"Geotiff_Information:\\n   Version: 1\\n   Key_Revision: 1.0\\n   Tagged_Information:\\n      End_Of_Tags.\\n   Keyed_Information:\\n      GTModelTypeGeoKey (Short,1): ModelTypeProjected\\n      GTRasterTypeGeoKey (Short,1): RasterPixelIsArea\\n      GTCitationGeoKey (Ascii,27): \\\"NAD83(HARN) / UTM zone 14N\\\"\\n      GeogCitationGeoKey (Ascii,12): \\\"NAD83(HARN)\\\"\\n      GeogAngularUnitsGeoKey (Short,1): Angular_Degree\\n      ProjectedCSTypeGeoKey (Short,1): Code-3744 (NAD83(HARN) / UTM zone 14N)\\n      ProjLinearUnitsGeoKey (Short,1): Linear_Meter\\n      VerticalCSTypeGeoKey (Short,1): Code-5703 (NAVD88 height)\\n      VerticalCitationGeoKey (Ascii,7): \\\"NAVD88\\\"\\n      VerticalUnitsGeoKey (Short,1): Linear_Meter\\n      End_Of_Keys.\\n   End_Of_Geotiff.\\n\",\n",
      "    \"header_size\": 227,\n",
      "    \"major_version\": 1,\n",
      "    \"maxx\": 650000,\n",
      "    \"maxy\": 4772000,\n",
      "    \"maxz\": 1721.75,\n",
      "    \"minor_version\": 2,\n",
      "    \"minx\": 649000,\n",
      "    \"miny\": 4771000.01,\n",
      "    \"minz\": 344.12,\n",
      "    \"offset_x\": 0,\n",
      "    \"offset_y\": 0,\n",
      "    \"offset_z\": 0,\n",
      "    \"point_length\": 28,\n",
      "    \"project_id\": \"00000000-0000-0000-0000-000000000000\",\n",
      "    \"scale_x\": 0.01,\n",
      "    \"scale_y\": 0.01,\n",
      "    \"scale_z\": 0.01,\n",
      "    \"software_id\": \"TerraScan\",\n",
      "    \"spatialreference\": \"COMPD_CS[\\\"NAD83(HARN) / UTM zone 14N\\\",PROJCS[\\\"NAD83(HARN) / UTM zone 14N\\\",GEOGCS[\\\"NAD83(HARN)\\\",DATUM[\\\"NAD83_High_Accuracy_Reference_Network\\\",SPHEROID[\\\"GRS 1980\\\",6378137,298.257222101,AUTHORITY[\\\"EPSG\\\",\\\"7019\\\"]],AUTHORITY[\\\"EPSG\\\",\\\"6152\\\"]],PRIMEM[\\\"Greenwich\\\",0,AUTHORITY[\\\"EPSG\\\",\\\"8901\\\"]],UNIT[\\\"degree\\\",0.0174532925199433,AUTHORITY[\\\"EPSG\\\",\\\"9122\\\"]],AUTHORITY[\\\"EPSG\\\",\\\"4152\\\"]],PROJECTION[\\\"Transverse_Mercator\\\"],PARAMETER[\\\"latitude_of_origin\\\",0],PARAMETER[\\\"central_meridian\\\",-99],PARAMETER[\\\"scale_factor\\\",0.9996],PARAMETER[\\\"false_easting\\\",500000],PARAMETER[\\\"false_northing\\\",0],UNIT[\\\"metre\\\",1,AUTHORITY[\\\"EPSG\\\",\\\"9001\\\"]],AXIS[\\\"Easting\\\",EAST],AXIS[\\\"Northing\\\",NORTH],AUTHORITY[\\\"EPSG\\\",\\\"3744\\\"]],VERT_CS[\\\"NAVD88 height\\\",VERT_DATUM[\\\"North American Vertical Datum 1988\\\",2005,AUTHORITY[\\\"EPSG\\\",\\\"5103\\\"]],UNIT[\\\"metre\\\",1,AUTHORITY[\\\"EPSG\\\",\\\"9001\\\"]],AXIS[\\\"Gravity-related height\\\",UP],AUTHORITY[\\\"EPSG\\\",\\\"5703\\\"]]]\",\n",
      "    \"srs\":\n",
      "    {\n",
      "      \"compoundwkt\": \"COMPD_CS[\\\"NAD83(HARN) / UTM zone 14N\\\",PROJCS[\\\"NAD83(HARN) / UTM zone 14N\\\",GEOGCS[\\\"NAD83(HARN)\\\",DATUM[\\\"NAD83_High_Accuracy_Reference_Network\\\",SPHEROID[\\\"GRS 1980\\\",6378137,298.257222101,AUTHORITY[\\\"EPSG\\\",\\\"7019\\\"]],AUTHORITY[\\\"EPSG\\\",\\\"6152\\\"]],PRIMEM[\\\"Greenwich\\\",0,AUTHORITY[\\\"EPSG\\\",\\\"8901\\\"]],UNIT[\\\"degree\\\",0.0174532925199433,AUTHORITY[\\\"EPSG\\\",\\\"9122\\\"]],AUTHORITY[\\\"EPSG\\\",\\\"4152\\\"]],PROJECTION[\\\"Transverse_Mercator\\\"],PARAMETER[\\\"latitude_of_origin\\\",0],PARAMETER[\\\"central_meridian\\\",-99],PARAMETER[\\\"scale_factor\\\",0.9996],PARAMETER[\\\"false_easting\\\",500000],PARAMETER[\\\"false_northing\\\",0],UNIT[\\\"metre\\\",1,AUTHORITY[\\\"EPSG\\\",\\\"9001\\\"]],AXIS[\\\"Easting\\\",EAST],AXIS[\\\"Northing\\\",NORTH],AUTHORITY[\\\"EPSG\\\",\\\"3744\\\"]],VERT_CS[\\\"NAVD88 height\\\",VERT_DATUM[\\\"North American Vertical Datum 1988\\\",2005,AUTHORITY[\\\"EPSG\\\",\\\"5103\\\"]],UNIT[\\\"metre\\\",1,AUTHORITY[\\\"EPSG\\\",\\\"9001\\\"]],AXIS[\\\"Gravity-related height\\\",UP],AUTHORITY[\\\"EPSG\\\",\\\"5703\\\"]]]\",\n",
      "      \"horizontal\": \"PROJCS[\\\"NAD83(HARN) / UTM zone 14N\\\",GEOGCS[\\\"NAD83(HARN)\\\",DATUM[\\\"NAD83_High_Accuracy_Reference_Network\\\",SPHEROID[\\\"GRS 1980\\\",6378137,298.257222101,AUTHORITY[\\\"EPSG\\\",\\\"7019\\\"]],AUTHORITY[\\\"EPSG\\\",\\\"6152\\\"]],PRIMEM[\\\"Greenwich\\\",0,AUTHORITY[\\\"EPSG\\\",\\\"8901\\\"]],UNIT[\\\"degree\\\",0.0174532925199433,AUTHORITY[\\\"EPSG\\\",\\\"9122\\\"]],AUTHORITY[\\\"EPSG\\\",\\\"4152\\\"]],PROJECTION[\\\"Transverse_Mercator\\\"],PARAMETER[\\\"latitude_of_origin\\\",0],PARAMETER[\\\"central_meridian\\\",-99],PARAMETER[\\\"scale_factor\\\",0.9996],PARAMETER[\\\"false_easting\\\",500000],PARAMETER[\\\"false_northing\\\",0],UNIT[\\\"metre\\\",1,AUTHORITY[\\\"EPSG\\\",\\\"9001\\\"]],AXIS[\\\"Easting\\\",EAST],AXIS[\\\"Northing\\\",NORTH],AUTHORITY[\\\"EPSG\\\",\\\"3744\\\"]]\",\n",
      "      \"isgeocentric\": false,\n",
      "      \"isgeographic\": false,\n",
      "      \"prettycompoundwkt\": \"COMPD_CS[\\\"NAD83(HARN) / UTM zone 14N\\\",\\n    PROJCS[\\\"NAD83(HARN) / UTM zone 14N\\\",\\n        GEOGCS[\\\"NAD83(HARN)\\\",\\n            DATUM[\\\"NAD83_High_Accuracy_Reference_Network\\\",\\n                SPHEROID[\\\"GRS 1980\\\",6378137,298.257222101,\\n                    AUTHORITY[\\\"EPSG\\\",\\\"7019\\\"]],\\n                AUTHORITY[\\\"EPSG\\\",\\\"6152\\\"]],\\n            PRIMEM[\\\"Greenwich\\\",0,\\n                AUTHORITY[\\\"EPSG\\\",\\\"8901\\\"]],\\n            UNIT[\\\"degree\\\",0.0174532925199433,\\n                AUTHORITY[\\\"EPSG\\\",\\\"9122\\\"]],\\n            AUTHORITY[\\\"EPSG\\\",\\\"4152\\\"]],\\n        PROJECTION[\\\"Transverse_Mercator\\\"],\\n        PARAMETER[\\\"latitude_of_origin\\\",0],\\n        PARAMETER[\\\"central_meridian\\\",-99],\\n        PARAMETER[\\\"scale_factor\\\",0.9996],\\n        PARAMETER[\\\"false_easting\\\",500000],\\n        PARAMETER[\\\"false_northing\\\",0],\\n        UNIT[\\\"metre\\\",1,\\n            AUTHORITY[\\\"EPSG\\\",\\\"9001\\\"]],\\n        AXIS[\\\"Easting\\\",EAST],\\n        AXIS[\\\"Northing\\\",NORTH],\\n        AUTHORITY[\\\"EPSG\\\",\\\"3744\\\"]],\\n    VERT_CS[\\\"NAVD88 height\\\",\\n        VERT_DATUM[\\\"North American Vertical Datum 1988\\\",2005,\\n            AUTHORITY[\\\"EPSG\\\",\\\"5103\\\"]],\\n        UNIT[\\\"metre\\\",1,\\n            AUTHORITY[\\\"EPSG\\\",\\\"9001\\\"]],\\n        AXIS[\\\"Gravity-related height\\\",UP],\\n        AUTHORITY[\\\"EPSG\\\",\\\"5703\\\"]]]\",\n",
      "      \"prettywkt\": \"PROJCS[\\\"NAD83(HARN) / UTM zone 14N\\\",\\n    GEOGCS[\\\"NAD83(HARN)\\\",\\n        DATUM[\\\"NAD83_High_Accuracy_Reference_Network\\\",\\n            SPHEROID[\\\"GRS 1980\\\",6378137,298.257222101,\\n                AUTHORITY[\\\"EPSG\\\",\\\"7019\\\"]],\\n            AUTHORITY[\\\"EPSG\\\",\\\"6152\\\"]],\\n        PRIMEM[\\\"Greenwich\\\",0,\\n            AUTHORITY[\\\"EPSG\\\",\\\"8901\\\"]],\\n        UNIT[\\\"degree\\\",0.0174532925199433,\\n            AUTHORITY[\\\"EPSG\\\",\\\"9122\\\"]],\\n        AUTHORITY[\\\"EPSG\\\",\\\"4152\\\"]],\\n    PROJECTION[\\\"Transverse_Mercator\\\"],\\n    PARAMETER[\\\"latitude_of_origin\\\",0],\\n    PARAMETER[\\\"central_meridian\\\",-99],\\n    PARAMETER[\\\"scale_factor\\\",0.9996],\\n    PARAMETER[\\\"false_easting\\\",500000],\\n    PARAMETER[\\\"false_northing\\\",0],\\n    UNIT[\\\"metre\\\",1,\\n        AUTHORITY[\\\"EPSG\\\",\\\"9001\\\"]],\\n    AXIS[\\\"Easting\\\",EAST],\\n    AXIS[\\\"Northing\\\",NORTH],\\n    AUTHORITY[\\\"EPSG\\\",\\\"3744\\\"]]\",\n",
      "      \"proj4\": \"+proj=utm +zone=14 +ellps=GRS80 +units=m +vunits=m +no_defs\",\n",
      "      \"units\":\n",
      "      {\n",
      "        \"horizontal\": \"metre\",\n",
      "        \"vertical\": \"metre\"\n",
      "      },\n",
      "      \"vertical\": \"VERT_CS[\\\"NAVD88 height\\\",VERT_DATUM[\\\"North American Vertical Datum 1988\\\",2005,AUTHORITY[\\\"EPSG\\\",\\\"5103\\\"]],UNIT[\\\"metre\\\",1,AUTHORITY[\\\"EPSG\\\",\\\"9001\\\"]],AXIS[\\\"Gravity-related height\\\",UP],AUTHORITY[\\\"EPSG\\\",\\\"5703\\\"]]\",\n",
      "      \"wkt\": \"PROJCS[\\\"NAD83(HARN) / UTM zone 14N\\\",GEOGCS[\\\"NAD83(HARN)\\\",DATUM[\\\"NAD83_High_Accuracy_Reference_Network\\\",SPHEROID[\\\"GRS 1980\\\",6378137,298.257222101,AUTHORITY[\\\"EPSG\\\",\\\"7019\\\"]],AUTHORITY[\\\"EPSG\\\",\\\"6152\\\"]],PRIMEM[\\\"Greenwich\\\",0,AUTHORITY[\\\"EPSG\\\",\\\"8901\\\"]],UNIT[\\\"degree\\\",0.0174532925199433,AUTHORITY[\\\"EPSG\\\",\\\"9122\\\"]],AUTHORITY[\\\"EPSG\\\",\\\"4152\\\"]],PROJECTION[\\\"Transverse_Mercator\\\"],PARAMETER[\\\"latitude_of_origin\\\",0],PARAMETER[\\\"central_meridian\\\",-99],PARAMETER[\\\"scale_factor\\\",0.9996],PARAMETER[\\\"false_easting\\\",500000],PARAMETER[\\\"false_northing\\\",0],UNIT[\\\"metre\\\",1,AUTHORITY[\\\"EPSG\\\",\\\"9001\\\"]],AXIS[\\\"Easting\\\",EAST],AXIS[\\\"Northing\\\",NORTH],AUTHORITY[\\\"EPSG\\\",\\\"3744\\\"]]\"\n",
      "    },\n",
      "    \"system_id\": \"\",\n",
      "    \"vlr_0\":\n",
      "    {\n",
      "      \"data\": \"AQABAAAACgAABAAAAQABAAEEAAABAAEAAgSxhxsAAAABCLGHDAAbAAYIAAABAI4jAAwAAAEAoA4EDAAAAQApIwAQAAABAEcWARCxhwcAJwADEAAAAQApIw==\",\n",
      "      \"description\": \"GeoTIFF GeoKeyDirectoryTag\",\n",
      "      \"record_id\": 34735,\n",
      "      \"user_id\": \"LASF_Projection\"\n",
      "    },\n",
      "    \"vlr_1\":\n",
      "    {\n",
      "      \"data\": \"TkFEODMoSEFSTikgLyBVVE0gem9uZSAxNE58TkFEODMoSEFSTil8TkFWRDg4fAA=\",\n",
      "      \"description\": \"GeoTIFF GeoAsciiParamsTag\",\n",
      "      \"record_id\": 34737,\n",
      "      \"user_id\": \"LASF_Projection\"\n",
      "    },\n",
      "    \"vlr_2\":\n",
      "    {\n",
      "      \"data\": \"Q09NUERfQ1NbInVua25vd24iLFBST0pDU1siTkFEODMoSEFSTikgLyBVVE0gem9uZSAxNE4iLEdFT0dDU1siTkFEODMoSEFSTikiLERBVFVNWyJOQUQ4M19IaWdoX0FjY3VyYWN5X1JlZ2lvbmFsX05ldHdvcmsiLFNQSEVST0lEWyJHUlMgMTk4MCIsNjM3ODEzNywyOTguMjU3MjIyMTAxMDAwMixBVVRIT1JJVFlbIkVQU0ciLCI3MDE5Il1dLEFVVEhPUklUWVsiRVBTRyIsIjYxNTIiXV0sUFJJTUVNWyJHcmVlbndpY2giLDBdLFVOSVRbImRlZ3JlZSIsMC4wMTc0NTMyOTI1MTk5NDMzXSxBVVRIT1JJVFlbIkVQU0ciLCI0MTUyIl1dLFBST0pFQ1RJT05bIlRyYW5zdmVyc2VfTWVyY2F0b3IiXSxQQVJBTUVURVJbImxhdGl0dWRlX29mX29yaWdpbiIsMF0sUEFSQU1FVEVSWyJjZW50cmFsX21lcmlkaWFuIiwtOTldLFBBUkFNRVRFUlsic2NhbGVfZmFjdG9yIiwwLjk5OTZdLFBBUkFNRVRFUlsiZmFsc2VfZWFzdGluZyIsNTAwMDAwXSxQQVJBTUVURVJbImZhbHNlX25vcnRoaW5nIiwwXSxVTklUWyJtZXRyZSIsMSxBVVRIT1JJVFlbIkVQU0ciLCI5MDAxIl1dLEFVVEhPUklUWVsiRVBTRyIsIjM3NDQiXV0sVkVSVF9DU1siTkFWRDg4IGhlaWdodCIsVkVSVF9EQVRVTVsiTm9ydGggQW1lcmljYW4gVmVydGljYWwgRGF0dW0gMTk4OCIsMjAwNSxBVVRIT1JJVFlbIkVQU0ciLCI1MTAzIl0sRVhURU5TSU9OWyJQUk9KNF9HUklEUyIsImcyMDAzY29udXMuZ3R4LGcyMDAzYWxhc2thLmd0eCxnMjAwM2gwMS5ndHgsZzIwMDNwMDEuZ3R4Il1dLFVOSVRbIm1ldHJlIiwxLEFVVEhPUklUWVsiRVBTRyIsIjkwMDEiXV0sQVhJU1siVXAiLFVQXSxBVVRIT1JJVFlbIkVQU0ciLCI1NzAzIl1dXQA=\",\n",
      "      \"description\": \"OGR variant of OpenGIS WKT SRS\",\n",
      "      \"record_id\": 2112,\n",
      "      \"user_id\": \"liblas\"\n",
      "    },\n",
      "    \"vlr_3\":\n",
      "    {\n",
      "      \"data\": \"AgAAAAIBAAAAAAAAUMMAAP////////////////////8CAAYAFAACAAcACAACAA==\",\n",
      "      \"description\": \"by laszip of LAStools (121030)\",\n",
      "      \"record_id\": 22204,\n",
      "      \"user_id\": \"laszip encoded\"\n",
      "    }\n",
      "  },\n",
      "  \"now\": \"2022-03-08T15:46:26+0000\",\n",
      "  \"pdal_version\": \"2.3.0 (git-version: 653f3f)\",\n",
      "  \"reader\": \"readers.las\",\n",
      "  \"schema\":\n",
      "  {\n",
      "    \"dimensions\":\n",
      "    [\n",
      "      {\n",
      "        \"name\": \"X\",\n",
      "        \"size\": 8,\n",
      "        \"type\": \"floating\"\n",
      "      },\n",
      "      {\n",
      "        \"name\": \"Y\",\n",
      "        \"size\": 8,\n",
      "        \"type\": \"floating\"\n",
      "      },\n",
      "      {\n",
      "        \"name\": \"Z\",\n",
      "        \"size\": 8,\n",
      "        \"type\": \"floating\"\n",
      "      },\n",
      "      {\n",
      "        \"name\": \"Intensity\",\n",
      "        \"size\": 2,\n",
      "        \"type\": \"unsigned\"\n",
      "      },\n",
      "      {\n",
      "        \"name\": \"ReturnNumber\",\n",
      "        \"size\": 1,\n",
      "        \"type\": \"unsigned\"\n",
      "      },\n",
      "      {\n",
      "        \"name\": \"NumberOfReturns\",\n",
      "        \"size\": 1,\n",
      "        \"type\": \"unsigned\"\n",
      "      },\n",
      "      {\n",
      "        \"name\": \"ScanDirectionFlag\",\n",
      "        \"size\": 1,\n",
      "        \"type\": \"unsigned\"\n",
      "      },\n",
      "      {\n",
      "        \"name\": \"EdgeOfFlightLine\",\n",
      "        \"size\": 1,\n",
      "        \"type\": \"unsigned\"\n",
      "      },\n",
      "      {\n",
      "        \"name\": \"Classification\",\n",
      "        \"size\": 1,\n",
      "        \"type\": \"unsigned\"\n",
      "      },\n",
      "      {\n",
      "        \"name\": \"ScanAngleRank\",\n",
      "        \"size\": 4,\n",
      "        \"type\": \"floating\"\n",
      "      },\n",
      "      {\n",
      "        \"name\": \"UserData\",\n",
      "        \"size\": 1,\n",
      "        \"type\": \"unsigned\"\n",
      "      },\n",
      "      {\n",
      "        \"name\": \"PointSourceId\",\n",
      "        \"size\": 2,\n",
      "        \"type\": \"unsigned\"\n",
      "      },\n",
      "      {\n",
      "        \"name\": \"GpsTime\",\n",
      "        \"size\": 8,\n",
      "        \"type\": \"floating\"\n",
      "      }\n",
      "    ]\n",
      "  },\n",
      "  \"stats\":\n",
      "  {\n",
      "    \"bbox\":\n",
      "    {\n",
      "      \"EPSG:4326\":\n",
      "      {\n",
      "        \"bbox\":\n",
      "        {\n",
      "          \"maxx\": -97.15715928,\n",
      "          \"maxy\": 43.08608636,\n",
      "          \"maxz\": 1721.75,\n",
      "          \"minx\": -97.16970681,\n",
      "          \"miny\": 43.07688899,\n",
      "          \"minz\": 344.12\n",
      "        },\n",
      "        \"boundary\": { \"type\": \"Polygon\", \"coordinates\": [ [ [ -97.169706808447927, 43.077086086415633, 344.12 ], [ -97.169438786074863, 43.086086355817365, 344.12 ], [ -97.157159277665869, 43.085889199109623, 1721.75 ], [ -97.157429095475649, 43.07688899136182, 1721.75 ], [ -97.169706808447927, 43.077086086415633, 344.12 ] ] ] }\n",
      "      },\n",
      "      \"native\":\n",
      "      {\n",
      "        \"bbox\":\n",
      "        {\n",
      "          \"maxx\": 650000,\n",
      "          \"maxy\": 4772000,\n",
      "          \"maxz\": 1721.75,\n",
      "          \"minx\": 649000,\n",
      "          \"miny\": 4771000.01,\n",
      "          \"minz\": 344.12\n",
      "        },\n",
      "        \"boundary\": { \"type\": \"Polygon\", \"coordinates\": [ [ [ 649000.0, 4771000.009999999776483, 344.12 ], [ 649000.0, 4772000.0, 344.12 ], [ 650000.0, 4772000.0, 1721.75 ], [ 650000.0, 4771000.009999999776483, 1721.75 ], [ 649000.0, 4771000.009999999776483, 344.12 ] ] ] }\n",
      "      }\n",
      "    },\n",
      "    \"statistic\":\n",
      "    [\n",
      "      {\n",
      "        \"average\": 649528.7825,\n",
      "        \"count\": 2611127,\n",
      "        \"maximum\": 650000,\n",
      "        \"minimum\": 649000,\n",
      "        \"name\": \"X\",\n",
      "        \"position\": 0,\n",
      "        \"stddev\": 282.1025326,\n",
      "        \"variance\": 79581.83892\n",
      "      },\n",
      "      {\n",
      "        \"average\": 4771515.867,\n",
      "        \"count\": 2611127,\n",
      "        \"maximum\": 4772000,\n",
      "        \"minimum\": 4771000.01,\n",
      "        \"name\": \"Y\",\n",
      "        \"position\": 1,\n",
      "        \"stddev\": 290.745293,\n",
      "        \"variance\": 84532.82538\n",
      "      },\n",
      "      {\n",
      "        \"average\": 423.3159169,\n",
      "        \"count\": 2611127,\n",
      "        \"maximum\": 1721.75,\n",
      "        \"minimum\": 344.12,\n",
      "        \"name\": \"Z\",\n",
      "        \"position\": 2,\n",
      "        \"stddev\": 7.59526245,\n",
      "        \"variance\": 57.68801168\n",
      "      },\n",
      "      {\n",
      "        \"average\": 86.31204916,\n",
      "        \"count\": 2611127,\n",
      "        \"maximum\": 7878,\n",
      "        \"minimum\": 0,\n",
      "        \"name\": \"Intensity\",\n",
      "        \"position\": 3,\n",
      "        \"stddev\": 42.10900689,\n",
      "        \"variance\": 1773.168462\n",
      "      },\n",
      "      {\n",
      "        \"average\": 1.102041762,\n",
      "        \"count\": 2611127,\n",
      "        \"maximum\": 4,\n",
      "        \"minimum\": 1,\n",
      "        \"name\": \"ReturnNumber\",\n",
      "        \"position\": 4,\n",
      "        \"stddev\": 0.3648070565,\n",
      "        \"variance\": 0.1330841885\n",
      "      },\n",
      "      {\n",
      "        \"average\": 1.204136758,\n",
      "        \"count\": 2611127,\n",
      "        \"maximum\": 4,\n",
      "        \"minimum\": 1,\n",
      "        \"name\": \"NumberOfReturns\",\n",
      "        \"position\": 5,\n",
      "        \"stddev\": 0.5356564046,\n",
      "        \"variance\": 0.2869277838\n",
      "      },\n",
      "      {\n",
      "        \"average\": 0.2876742495,\n",
      "        \"count\": 2611127,\n",
      "        \"maximum\": 1,\n",
      "        \"minimum\": 0,\n",
      "        \"name\": \"ScanDirectionFlag\",\n",
      "        \"position\": 6,\n",
      "        \"stddev\": 0.4526785329,\n",
      "        \"variance\": 0.2049178541\n",
      "      },\n",
      "      {\n",
      "        \"average\": 0.0006012729369,\n",
      "        \"count\": 2611127,\n",
      "        \"maximum\": 1,\n",
      "        \"minimum\": 0,\n",
      "        \"name\": \"EdgeOfFlightLine\",\n",
      "        \"position\": 7,\n",
      "        \"stddev\": 0.0245134991,\n",
      "        \"variance\": 0.0006009116379\n",
      "      },\n",
      "      {\n",
      "        \"average\": 3.603332201,\n",
      "        \"count\": 2611127,\n",
      "        \"maximum\": 11,\n",
      "        \"minimum\": 1,\n",
      "        \"name\": \"Classification\",\n",
      "        \"position\": 8,\n",
      "        \"stddev\": 3.854100847,\n",
      "        \"variance\": 14.85409334\n",
      "      },\n",
      "      {\n",
      "        \"average\": -6.04323612,\n",
      "        \"count\": 2611127,\n",
      "        \"maximum\": 23,\n",
      "        \"minimum\": -24,\n",
      "        \"name\": \"ScanAngleRank\",\n",
      "        \"position\": 9,\n",
      "        \"stddev\": 12.32221138,\n",
      "        \"variance\": 151.8368933\n",
      "      },\n",
      "      {\n",
      "        \"average\": 0,\n",
      "        \"count\": 2611127,\n",
      "        \"maximum\": 0,\n",
      "        \"minimum\": 0,\n",
      "        \"name\": \"UserData\",\n",
      "        \"position\": 10,\n",
      "        \"stddev\": 0,\n",
      "        \"variance\": 0\n",
      "      },\n",
      "      {\n",
      "        \"average\": 26283.4785,\n",
      "        \"count\": 2611127,\n",
      "        \"maximum\": 30911,\n",
      "        \"minimum\": 20039,\n",
      "        \"name\": \"PointSourceId\",\n",
      "        \"position\": 11,\n",
      "        \"stddev\": 5374.762953,\n",
      "        \"variance\": 28888076.8\n",
      "      },\n",
      "      {\n",
      "        \"average\": 522033.2412,\n",
      "        \"count\": 2611127,\n",
      "        \"maximum\": 582659.421,\n",
      "        \"minimum\": 440585.6142,\n",
      "        \"name\": \"GpsTime\",\n",
      "        \"position\": 12,\n",
      "        \"stddev\": 69032.34234,\n",
      "        \"variance\": 4765464289\n",
      "      }\n",
      "    ]\n",
      "  }\n",
      "}\n"
     ]
    }
   ],
   "source": [
    "! pdal info --all data/SD_Yankton_County_2012_001401.laz"
   ]
  },
  {
   "cell_type": "code",
   "execution_count": 13,
   "id": "5cb4d7cc",
   "metadata": {},
   "outputs": [],
   "source": [
    "#! conda install -c conda-forge  -y pdal"
   ]
  },
  {
   "cell_type": "code",
   "execution_count": 14,
   "id": "ac7c212e",
   "metadata": {},
   "outputs": [],
   "source": [
    "# FAIL FAIL - no pip joy ! python -m pip install pdal"
   ]
  },
  {
   "cell_type": "code",
   "execution_count": 15,
   "id": "a40677a6",
   "metadata": {},
   "outputs": [
    {
     "name": "stdout",
     "output_type": "stream",
     "text": [
      "(pdal info filters.stats Error) GDAL failure (1) PROJ: vgridshift: could not find required grid(s).\r\n",
      "(pdal info filters.stats Error) GDAL failure (1) PROJ: pipeline: Pipeline: Bad step definition: proj=vgridshift (File not found or invalid)\r\n",
      "(pdal info filters.stats Error) GDAL failure (1) PROJ: vgridshift: could not find required grid(s).\r\n",
      "(pdal info filters.stats Error) GDAL failure (1) PROJ: pipeline: Pipeline: Bad step definition: proj=vgridshift (File not found or invalid)\r\n",
      "(pdal info filters.stats Error) GDAL failure (1) PROJ: vgridshift: could not find required grid(s).\r\n",
      "(pdal info filters.stats Error) GDAL failure (1) PROJ: pipeline: Pipeline: Bad step definition: proj=vgridshift (File not found or invalid)\r\n"
     ]
    }
   ],
   "source": [
    "! pdal info --all data/SD_Yankton_County_2012_001401.laz > data/pdal.json"
   ]
  },
  {
   "cell_type": "code",
   "execution_count": 16,
   "id": "db8531e9",
   "metadata": {},
   "outputs": [],
   "source": [
    "import json"
   ]
  },
  {
   "cell_type": "code",
   "execution_count": 17,
   "id": "d8e290c5",
   "metadata": {},
   "outputs": [],
   "source": [
    "with open('data/pdal.json') as json_file:\n",
    "    data = json.load(json_file)\n",
    "    #print(data)"
   ]
  },
  {
   "cell_type": "code",
   "execution_count": 18,
   "id": "df835544",
   "metadata": {},
   "outputs": [
    {
     "data": {
      "text/plain": [
       "{'area': 1050309.483,\n",
       " 'avg_pt_per_sq_unit': 1.209626903,\n",
       " 'avg_pt_spacing': 0.6342268814,\n",
       " 'boundary': 'POLYGON ((649021.16670871 4770980.95184796,650010.61294525 4770980.95184796,650010.61294525 4772005.27483624,648992.73434559 4772015.12409574,648987.04787297 4771000.65036696,649021.16670871 4770980.95184796))',\n",
       " 'boundary_json': {'type': 'Polygon',\n",
       "  'coordinates': [[[649021.16670871, 4770980.95184796],\n",
       "    [650010.61294525, 4770980.95184796],\n",
       "    [650010.61294525, 4772005.27483624],\n",
       "    [648992.73434559, 4772015.12409574],\n",
       "    [648987.04787297, 4771000.65036696],\n",
       "    [649021.16670871, 4770980.95184796]]]},\n",
       " 'density': 2.486054866,\n",
       " 'edge_length': 0,\n",
       " 'estimated_edge': 19.69851901,\n",
       " 'hex_offsets': 'MULTIPOINT (0 0, -5.68647 9.84926, 0 19.6985, 11.3729 19.6985, 17.0594 9.84926, 11.3729 0)',\n",
       " 'sample_size': 5000,\n",
       " 'threshold': 15}"
      ]
     },
     "execution_count": 18,
     "metadata": {},
     "output_type": "execute_result"
    }
   ],
   "source": [
    "data['boundary']"
   ]
  },
  {
   "cell_type": "code",
   "execution_count": 19,
   "id": "0d08c39f",
   "metadata": {},
   "outputs": [
    {
     "data": {
      "text/plain": [
       "dict_keys(['boundary', 'file_size', 'filename', 'metadata', 'now', 'pdal_version', 'reader', 'schema', 'stats'])"
      ]
     },
     "execution_count": 19,
     "metadata": {},
     "output_type": "execute_result"
    }
   ],
   "source": [
    "data.keys()"
   ]
  },
  {
   "cell_type": "code",
   "execution_count": 20,
   "id": "8f4c198a",
   "metadata": {},
   "outputs": [
    {
     "data": {
      "text/plain": [
       "{'bbox': {'EPSG:4326': {'bbox': {'maxx': -97.15715928,\n",
       "    'maxy': 43.08608636,\n",
       "    'maxz': 1721.75,\n",
       "    'minx': -97.16970681,\n",
       "    'miny': 43.07688899,\n",
       "    'minz': 344.12},\n",
       "   'boundary': {'type': 'Polygon',\n",
       "    'coordinates': [[[-97.16970680844793, 43.07708608641563, 344.12],\n",
       "      [-97.16943878607486, 43.086086355817365, 344.12],\n",
       "      [-97.15715927766587, 43.08588919910962, 1721.75],\n",
       "      [-97.15742909547565, 43.07688899136182, 1721.75],\n",
       "      [-97.16970680844793, 43.07708608641563, 344.12]]]}},\n",
       "  'native': {'bbox': {'maxx': 650000,\n",
       "    'maxy': 4772000,\n",
       "    'maxz': 1721.75,\n",
       "    'minx': 649000,\n",
       "    'miny': 4771000.01,\n",
       "    'minz': 344.12},\n",
       "   'boundary': {'type': 'Polygon',\n",
       "    'coordinates': [[[649000.0, 4771000.01, 344.12],\n",
       "      [649000.0, 4772000.0, 344.12],\n",
       "      [650000.0, 4772000.0, 1721.75],\n",
       "      [650000.0, 4771000.01, 1721.75],\n",
       "      [649000.0, 4771000.01, 344.12]]]}}},\n",
       " 'statistic': [{'average': 649528.7825,\n",
       "   'count': 2611127,\n",
       "   'maximum': 650000,\n",
       "   'minimum': 649000,\n",
       "   'name': 'X',\n",
       "   'position': 0,\n",
       "   'stddev': 282.1025326,\n",
       "   'variance': 79581.83892},\n",
       "  {'average': 4771515.867,\n",
       "   'count': 2611127,\n",
       "   'maximum': 4772000,\n",
       "   'minimum': 4771000.01,\n",
       "   'name': 'Y',\n",
       "   'position': 1,\n",
       "   'stddev': 290.745293,\n",
       "   'variance': 84532.82538},\n",
       "  {'average': 423.3159169,\n",
       "   'count': 2611127,\n",
       "   'maximum': 1721.75,\n",
       "   'minimum': 344.12,\n",
       "   'name': 'Z',\n",
       "   'position': 2,\n",
       "   'stddev': 7.59526245,\n",
       "   'variance': 57.68801168},\n",
       "  {'average': 86.31204916,\n",
       "   'count': 2611127,\n",
       "   'maximum': 7878,\n",
       "   'minimum': 0,\n",
       "   'name': 'Intensity',\n",
       "   'position': 3,\n",
       "   'stddev': 42.10900689,\n",
       "   'variance': 1773.168462},\n",
       "  {'average': 1.102041762,\n",
       "   'count': 2611127,\n",
       "   'maximum': 4,\n",
       "   'minimum': 1,\n",
       "   'name': 'ReturnNumber',\n",
       "   'position': 4,\n",
       "   'stddev': 0.3648070565,\n",
       "   'variance': 0.1330841885},\n",
       "  {'average': 1.204136758,\n",
       "   'count': 2611127,\n",
       "   'maximum': 4,\n",
       "   'minimum': 1,\n",
       "   'name': 'NumberOfReturns',\n",
       "   'position': 5,\n",
       "   'stddev': 0.5356564046,\n",
       "   'variance': 0.2869277838},\n",
       "  {'average': 0.2876742495,\n",
       "   'count': 2611127,\n",
       "   'maximum': 1,\n",
       "   'minimum': 0,\n",
       "   'name': 'ScanDirectionFlag',\n",
       "   'position': 6,\n",
       "   'stddev': 0.4526785329,\n",
       "   'variance': 0.2049178541},\n",
       "  {'average': 0.0006012729369,\n",
       "   'count': 2611127,\n",
       "   'maximum': 1,\n",
       "   'minimum': 0,\n",
       "   'name': 'EdgeOfFlightLine',\n",
       "   'position': 7,\n",
       "   'stddev': 0.0245134991,\n",
       "   'variance': 0.0006009116379},\n",
       "  {'average': 3.603332201,\n",
       "   'count': 2611127,\n",
       "   'maximum': 11,\n",
       "   'minimum': 1,\n",
       "   'name': 'Classification',\n",
       "   'position': 8,\n",
       "   'stddev': 3.854100847,\n",
       "   'variance': 14.85409334},\n",
       "  {'average': -6.04323612,\n",
       "   'count': 2611127,\n",
       "   'maximum': 23,\n",
       "   'minimum': -24,\n",
       "   'name': 'ScanAngleRank',\n",
       "   'position': 9,\n",
       "   'stddev': 12.32221138,\n",
       "   'variance': 151.8368933},\n",
       "  {'average': 0,\n",
       "   'count': 2611127,\n",
       "   'maximum': 0,\n",
       "   'minimum': 0,\n",
       "   'name': 'UserData',\n",
       "   'position': 10,\n",
       "   'stddev': 0,\n",
       "   'variance': 0},\n",
       "  {'average': 26283.4785,\n",
       "   'count': 2611127,\n",
       "   'maximum': 30911,\n",
       "   'minimum': 20039,\n",
       "   'name': 'PointSourceId',\n",
       "   'position': 11,\n",
       "   'stddev': 5374.762953,\n",
       "   'variance': 28888076.8},\n",
       "  {'average': 522033.2412,\n",
       "   'count': 2611127,\n",
       "   'maximum': 582659.421,\n",
       "   'minimum': 440585.6142,\n",
       "   'name': 'GpsTime',\n",
       "   'position': 12,\n",
       "   'stddev': 69032.34234,\n",
       "   'variance': 4765464289}]}"
      ]
     },
     "execution_count": 20,
     "metadata": {},
     "output_type": "execute_result"
    }
   ],
   "source": [
    "data['stats']"
   ]
  },
  {
   "cell_type": "code",
   "execution_count": 21,
   "id": "a9c7e9ca",
   "metadata": {},
   "outputs": [
    {
     "data": {
      "text/plain": [
       "{'maxx': -97.15715928,\n",
       " 'maxy': 43.08608636,\n",
       " 'maxz': 1721.75,\n",
       " 'minx': -97.16970681,\n",
       " 'miny': 43.07688899,\n",
       " 'minz': 344.12}"
      ]
     },
     "execution_count": 21,
     "metadata": {},
     "output_type": "execute_result"
    }
   ],
   "source": [
    "data['stats']['bbox']['EPSG:4326']['bbox']"
   ]
  },
  {
   "cell_type": "code",
   "execution_count": 22,
   "id": "6c3f5fd0",
   "metadata": {},
   "outputs": [
    {
     "data": {
      "text/plain": [
       "{'type': 'Polygon',\n",
       " 'coordinates': [[[-97.16970680844793, 43.07708608641563, 344.12],\n",
       "   [-97.16943878607486, 43.086086355817365, 344.12],\n",
       "   [-97.15715927766587, 43.08588919910962, 1721.75],\n",
       "   [-97.15742909547565, 43.07688899136182, 1721.75],\n",
       "   [-97.16970680844793, 43.07708608641563, 344.12]]]}"
      ]
     },
     "execution_count": 22,
     "metadata": {},
     "output_type": "execute_result"
    }
   ],
   "source": [
    "data['stats']['bbox']['EPSG:4326']['boundary']"
   ]
  },
  {
   "cell_type": "code",
   "execution_count": 23,
   "id": "85c94af9",
   "metadata": {},
   "outputs": [],
   "source": [
    "geom_dict = data['stats']['bbox']['EPSG:4326']['boundary']"
   ]
  },
  {
   "cell_type": "code",
   "execution_count": 24,
   "id": "6f1446be",
   "metadata": {},
   "outputs": [],
   "source": [
    "import folium\n",
    "c_lat = data['stats']['bbox']['EPSG:4326']['bbox']['miny']\n",
    "c_lon = data['stats']['bbox']['EPSG:4326']['bbox']['maxx']\n",
    "m = folium.Map(location=[c_lat, c_lon], zoom_start=14, tiles='CartoDB positron')\n"
   ]
  },
  {
   "cell_type": "code",
   "execution_count": 25,
   "id": "e6892dff",
   "metadata": {},
   "outputs": [
    {
     "data": {
      "text/html": [
       "<div style=\"width:100%;\"><div style=\"position:relative;width:100%;height:0;padding-bottom:60%;\"><span style=\"color:#565656\">Make this Notebook Trusted to load map: File -> Trust Notebook</span><iframe src=\"about:blank\" style=\"position:absolute;width:100%;height:100%;left:0;top:0;border:none !important;\" data-html=%3C%21DOCTYPE%20html%3E%0A%3Chead%3E%20%20%20%20%0A%20%20%20%20%3Cmeta%20http-equiv%3D%22content-type%22%20content%3D%22text/html%3B%20charset%3DUTF-8%22%20/%3E%0A%20%20%20%20%0A%20%20%20%20%20%20%20%20%3Cscript%3E%0A%20%20%20%20%20%20%20%20%20%20%20%20L_NO_TOUCH%20%3D%20false%3B%0A%20%20%20%20%20%20%20%20%20%20%20%20L_DISABLE_3D%20%3D%20false%3B%0A%20%20%20%20%20%20%20%20%3C/script%3E%0A%20%20%20%20%0A%20%20%20%20%3Cstyle%3Ehtml%2C%20body%20%7Bwidth%3A%20100%25%3Bheight%3A%20100%25%3Bmargin%3A%200%3Bpadding%3A%200%3B%7D%3C/style%3E%0A%20%20%20%20%3Cstyle%3E%23map%20%7Bposition%3Aabsolute%3Btop%3A0%3Bbottom%3A0%3Bright%3A0%3Bleft%3A0%3B%7D%3C/style%3E%0A%20%20%20%20%3Cscript%20src%3D%22https%3A//cdn.jsdelivr.net/npm/leaflet%401.6.0/dist/leaflet.js%22%3E%3C/script%3E%0A%20%20%20%20%3Cscript%20src%3D%22https%3A//code.jquery.com/jquery-1.12.4.min.js%22%3E%3C/script%3E%0A%20%20%20%20%3Cscript%20src%3D%22https%3A//maxcdn.bootstrapcdn.com/bootstrap/3.2.0/js/bootstrap.min.js%22%3E%3C/script%3E%0A%20%20%20%20%3Cscript%20src%3D%22https%3A//cdnjs.cloudflare.com/ajax/libs/Leaflet.awesome-markers/2.0.2/leaflet.awesome-markers.js%22%3E%3C/script%3E%0A%20%20%20%20%3Clink%20rel%3D%22stylesheet%22%20href%3D%22https%3A//cdn.jsdelivr.net/npm/leaflet%401.6.0/dist/leaflet.css%22/%3E%0A%20%20%20%20%3Clink%20rel%3D%22stylesheet%22%20href%3D%22https%3A//maxcdn.bootstrapcdn.com/bootstrap/3.2.0/css/bootstrap.min.css%22/%3E%0A%20%20%20%20%3Clink%20rel%3D%22stylesheet%22%20href%3D%22https%3A//maxcdn.bootstrapcdn.com/bootstrap/3.2.0/css/bootstrap-theme.min.css%22/%3E%0A%20%20%20%20%3Clink%20rel%3D%22stylesheet%22%20href%3D%22https%3A//maxcdn.bootstrapcdn.com/font-awesome/4.6.3/css/font-awesome.min.css%22/%3E%0A%20%20%20%20%3Clink%20rel%3D%22stylesheet%22%20href%3D%22https%3A//cdnjs.cloudflare.com/ajax/libs/Leaflet.awesome-markers/2.0.2/leaflet.awesome-markers.css%22/%3E%0A%20%20%20%20%3Clink%20rel%3D%22stylesheet%22%20href%3D%22https%3A//cdn.jsdelivr.net/gh/python-visualization/folium/folium/templates/leaflet.awesome.rotate.min.css%22/%3E%0A%20%20%20%20%0A%20%20%20%20%20%20%20%20%20%20%20%20%3Cmeta%20name%3D%22viewport%22%20content%3D%22width%3Ddevice-width%2C%0A%20%20%20%20%20%20%20%20%20%20%20%20%20%20%20%20initial-scale%3D1.0%2C%20maximum-scale%3D1.0%2C%20user-scalable%3Dno%22%20/%3E%0A%20%20%20%20%20%20%20%20%20%20%20%20%3Cstyle%3E%0A%20%20%20%20%20%20%20%20%20%20%20%20%20%20%20%20%23map_f098f0bcb9534ede8405f83acaf8e3ee%20%7B%0A%20%20%20%20%20%20%20%20%20%20%20%20%20%20%20%20%20%20%20%20position%3A%20relative%3B%0A%20%20%20%20%20%20%20%20%20%20%20%20%20%20%20%20%20%20%20%20width%3A%20100.0%25%3B%0A%20%20%20%20%20%20%20%20%20%20%20%20%20%20%20%20%20%20%20%20height%3A%20100.0%25%3B%0A%20%20%20%20%20%20%20%20%20%20%20%20%20%20%20%20%20%20%20%20left%3A%200.0%25%3B%0A%20%20%20%20%20%20%20%20%20%20%20%20%20%20%20%20%20%20%20%20top%3A%200.0%25%3B%0A%20%20%20%20%20%20%20%20%20%20%20%20%20%20%20%20%7D%0A%20%20%20%20%20%20%20%20%20%20%20%20%3C/style%3E%0A%20%20%20%20%20%20%20%20%0A%3C/head%3E%0A%3Cbody%3E%20%20%20%20%0A%20%20%20%20%0A%20%20%20%20%20%20%20%20%20%20%20%20%3Cdiv%20class%3D%22folium-map%22%20id%3D%22map_f098f0bcb9534ede8405f83acaf8e3ee%22%20%3E%3C/div%3E%0A%20%20%20%20%20%20%20%20%0A%3C/body%3E%0A%3Cscript%3E%20%20%20%20%0A%20%20%20%20%0A%20%20%20%20%20%20%20%20%20%20%20%20var%20map_f098f0bcb9534ede8405f83acaf8e3ee%20%3D%20L.map%28%0A%20%20%20%20%20%20%20%20%20%20%20%20%20%20%20%20%22map_f098f0bcb9534ede8405f83acaf8e3ee%22%2C%0A%20%20%20%20%20%20%20%20%20%20%20%20%20%20%20%20%7B%0A%20%20%20%20%20%20%20%20%20%20%20%20%20%20%20%20%20%20%20%20center%3A%20%5B43.07688899%2C%20-97.15715928%5D%2C%0A%20%20%20%20%20%20%20%20%20%20%20%20%20%20%20%20%20%20%20%20crs%3A%20L.CRS.EPSG3857%2C%0A%20%20%20%20%20%20%20%20%20%20%20%20%20%20%20%20%20%20%20%20zoom%3A%2014%2C%0A%20%20%20%20%20%20%20%20%20%20%20%20%20%20%20%20%20%20%20%20zoomControl%3A%20true%2C%0A%20%20%20%20%20%20%20%20%20%20%20%20%20%20%20%20%20%20%20%20preferCanvas%3A%20false%2C%0A%20%20%20%20%20%20%20%20%20%20%20%20%20%20%20%20%7D%0A%20%20%20%20%20%20%20%20%20%20%20%20%29%3B%0A%0A%20%20%20%20%20%20%20%20%20%20%20%20%0A%0A%20%20%20%20%20%20%20%20%0A%20%20%20%20%0A%20%20%20%20%20%20%20%20%20%20%20%20var%20tile_layer_ecf9f3eb5b3441288e5303f60daf6979%20%3D%20L.tileLayer%28%0A%20%20%20%20%20%20%20%20%20%20%20%20%20%20%20%20%22https%3A//cartodb-basemaps-%7Bs%7D.global.ssl.fastly.net/light_all/%7Bz%7D/%7Bx%7D/%7By%7D.png%22%2C%0A%20%20%20%20%20%20%20%20%20%20%20%20%20%20%20%20%7B%22attribution%22%3A%20%22%5Cu0026copy%3B%20%5Cu003ca%20href%3D%5C%22http%3A//www.openstreetmap.org/copyright%5C%22%5Cu003eOpenStreetMap%5Cu003c/a%5Cu003e%20contributors%20%5Cu0026copy%3B%20%5Cu003ca%20href%3D%5C%22http%3A//cartodb.com/attributions%5C%22%5Cu003eCartoDB%5Cu003c/a%5Cu003e%2C%20CartoDB%20%5Cu003ca%20href%20%3D%5C%22http%3A//cartodb.com/attributions%5C%22%5Cu003eattributions%5Cu003c/a%5Cu003e%22%2C%20%22detectRetina%22%3A%20false%2C%20%22maxNativeZoom%22%3A%2018%2C%20%22maxZoom%22%3A%2018%2C%20%22minZoom%22%3A%200%2C%20%22noWrap%22%3A%20false%2C%20%22opacity%22%3A%201%2C%20%22subdomains%22%3A%20%22abc%22%2C%20%22tms%22%3A%20false%7D%0A%20%20%20%20%20%20%20%20%20%20%20%20%29.addTo%28map_f098f0bcb9534ede8405f83acaf8e3ee%29%3B%0A%20%20%20%20%20%20%20%20%0A%20%20%20%20%0A%20%20%20%20%20%20%20%20function%20geo_json_3a9603c4560741d1a8b0b64073f69346_styler%28feature%29%20%7B%0A%20%20%20%20%20%20%20%20%20%20%20%20switch%28feature.id%29%20%7B%0A%20%20%20%20%20%20%20%20%20%20%20%20%20%20%20%20default%3A%0A%20%20%20%20%20%20%20%20%20%20%20%20%20%20%20%20%20%20%20%20return%20%7B%22fillColor%22%3A%20%22orange%22%7D%3B%0A%20%20%20%20%20%20%20%20%20%20%20%20%7D%0A%20%20%20%20%20%20%20%20%7D%0A%0A%20%20%20%20%20%20%20%20function%20geo_json_3a9603c4560741d1a8b0b64073f69346_onEachFeature%28feature%2C%20layer%29%20%7B%0A%20%20%20%20%20%20%20%20%20%20%20%20layer.on%28%7B%0A%20%20%20%20%20%20%20%20%20%20%20%20%7D%29%3B%0A%20%20%20%20%20%20%20%20%7D%3B%0A%20%20%20%20%20%20%20%20var%20geo_json_3a9603c4560741d1a8b0b64073f69346%20%3D%20L.geoJson%28null%2C%20%7B%0A%20%20%20%20%20%20%20%20%20%20%20%20%20%20%20%20onEachFeature%3A%20geo_json_3a9603c4560741d1a8b0b64073f69346_onEachFeature%2C%0A%20%20%20%20%20%20%20%20%20%20%20%20%0A%20%20%20%20%20%20%20%20%20%20%20%20%20%20%20%20style%3A%20geo_json_3a9603c4560741d1a8b0b64073f69346_styler%2C%0A%20%20%20%20%20%20%20%20%7D%29%3B%0A%0A%20%20%20%20%20%20%20%20function%20geo_json_3a9603c4560741d1a8b0b64073f69346_add%20%28data%29%20%7B%0A%20%20%20%20%20%20%20%20%20%20%20%20geo_json_3a9603c4560741d1a8b0b64073f69346%0A%20%20%20%20%20%20%20%20%20%20%20%20%20%20%20%20.addData%28data%29%0A%20%20%20%20%20%20%20%20%20%20%20%20%20%20%20%20.addTo%28map_f098f0bcb9534ede8405f83acaf8e3ee%29%3B%0A%20%20%20%20%20%20%20%20%7D%0A%20%20%20%20%20%20%20%20%20%20%20%20geo_json_3a9603c4560741d1a8b0b64073f69346_add%28%7B%22features%22%3A%20%5B%7B%22geometry%22%3A%20%7B%22coordinates%22%3A%20%5B%5B%5B-97.16970680844793%2C%2043.07708608641563%2C%20344.12%5D%2C%20%5B-97.16943878607486%2C%2043.086086355817365%2C%20344.12%5D%2C%20%5B-97.15715927766587%2C%2043.08588919910962%2C%201721.75%5D%2C%20%5B-97.15742909547565%2C%2043.07688899136182%2C%201721.75%5D%2C%20%5B-97.16970680844793%2C%2043.07708608641563%2C%20344.12%5D%5D%5D%2C%20%22type%22%3A%20%22Polygon%22%7D%2C%20%22id%22%3A%20%220%22%2C%20%22type%22%3A%20%22Feature%22%7D%5D%2C%20%22type%22%3A%20%22FeatureCollection%22%7D%29%3B%0A%0A%20%20%20%20%20%20%20%20%0A%20%20%20%20%0A%20%20%20%20%20%20%20%20var%20popup_3f54270da3a54a4db586336fb60ed379%20%3D%20L.popup%28%7B%22maxWidth%22%3A%20%22100%25%22%7D%29%3B%0A%0A%20%20%20%20%20%20%20%20%0A%20%20%20%20%20%20%20%20%20%20%20%20var%20html_69c96e84c6974c9a8a20a16952f34238%20%3D%20%24%28%60%3Cdiv%20id%3D%22html_69c96e84c6974c9a8a20a16952f34238%22%20style%3D%22width%3A%20100.0%25%3B%20height%3A%20100.0%25%3B%22%3EAjit%20Mystery%20Lidar%3C/div%3E%60%29%5B0%5D%3B%0A%20%20%20%20%20%20%20%20%20%20%20%20popup_3f54270da3a54a4db586336fb60ed379.setContent%28html_69c96e84c6974c9a8a20a16952f34238%29%3B%0A%20%20%20%20%20%20%20%20%0A%0A%20%20%20%20%20%20%20%20geo_json_3a9603c4560741d1a8b0b64073f69346.bindPopup%28popup_3f54270da3a54a4db586336fb60ed379%29%0A%20%20%20%20%20%20%20%20%3B%0A%0A%20%20%20%20%20%20%20%20%0A%20%20%20%20%0A%3C/script%3E onload=\"this.contentDocument.open();this.contentDocument.write(    decodeURIComponent(this.getAttribute('data-html')));this.contentDocument.close();\" allowfullscreen webkitallowfullscreen mozallowfullscreen></iframe></div></div>"
      ],
      "text/plain": [
       "<folium.folium.Map at 0x7feb882eb280>"
      ]
     },
     "execution_count": 25,
     "metadata": {},
     "output_type": "execute_result"
    }
   ],
   "source": [
    "geoj = json.dumps(geom_dict)\n",
    "geo_j = folium.GeoJson(data=geoj,style_function=lambda x: {'fillColor': 'orange'})\n",
    "folium.Popup('Ajit Mystery Lidar').add_to(geo_j)\n",
    "geo_j.add_to(m)\n",
    "m"
   ]
  },
  {
   "cell_type": "code",
   "execution_count": null,
   "id": "8ff57767",
   "metadata": {},
   "outputs": [],
   "source": []
  },
  {
   "cell_type": "code",
   "execution_count": null,
   "id": "5134a3b1",
   "metadata": {},
   "outputs": [],
   "source": []
  }
 ],
 "metadata": {
  "kernelspec": {
   "display_name": "Python 3 (ipykernel)",
   "language": "python",
   "name": "python3"
  },
  "language_info": {
   "codemirror_mode": {
    "name": "ipython",
    "version": 3
   },
   "file_extension": ".py",
   "mimetype": "text/x-python",
   "name": "python",
   "nbconvert_exporter": "python",
   "pygments_lexer": "ipython3",
   "version": "3.9.10"
  }
 },
 "nbformat": 4,
 "nbformat_minor": 5
}
