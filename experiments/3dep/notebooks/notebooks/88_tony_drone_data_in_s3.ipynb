{
 "cells": [
  {
   "cell_type": "code",
   "execution_count": 1,
   "id": "212ccd67",
   "metadata": {},
   "outputs": [],
   "source": [
    "#! mkdir data"
   ]
  },
  {
   "cell_type": "code",
   "execution_count": 2,
   "id": "6edebbfa",
   "metadata": {},
   "outputs": [],
   "source": [
    "! echo data/ > .gitignore"
   ]
  },
  {
   "cell_type": "code",
   "execution_count": 5,
   "id": "c4e426b3",
   "metadata": {},
   "outputs": [
    {
     "name": "stdout",
     "output_type": "stream",
     "text": [
      "2022-03-07 18:41:26  523961717 2020_Drone_M.las\r\n"
     ]
    }
   ],
   "source": [
    "! aws s3 ls eccoe-lidar/las/"
   ]
  },
  {
   "cell_type": "code",
   "execution_count": 6,
   "id": "471251fb",
   "metadata": {},
   "outputs": [
    {
     "name": "stdout",
     "output_type": "stream",
     "text": [
      "download: s3://eccoe-lidar/las/2020_Drone_M.las to data/2020_Drone_M.las\n"
     ]
    }
   ],
   "source": [
    "! aws s3 cp s3://eccoe-lidar/las/2020_Drone_M.las data/"
   ]
  },
  {
   "cell_type": "code",
   "execution_count": 7,
   "id": "e6b33795",
   "metadata": {},
   "outputs": [
    {
     "name": "stdout",
     "output_type": "stream",
     "text": [
      "2020_Drone_M.las  HT404_1580305001_1264340300747572_1.las  pdal.json\r\n"
     ]
    }
   ],
   "source": [
    "! ls data/"
   ]
  },
  {
   "cell_type": "code",
   "execution_count": 6,
   "id": "fdce3dc3",
   "metadata": {},
   "outputs": [],
   "source": [
    "#! python -m pip install pylas"
   ]
  },
  {
   "cell_type": "markdown",
   "id": "7a116749",
   "metadata": {},
   "source": [
    "## https://pypi.org/project/pylas/"
   ]
  },
  {
   "cell_type": "code",
   "execution_count": 8,
   "id": "c83deb93",
   "metadata": {},
   "outputs": [],
   "source": [
    "import pylas"
   ]
  },
  {
   "cell_type": "code",
   "execution_count": 9,
   "id": "ee8c1b7f",
   "metadata": {},
   "outputs": [],
   "source": [
    "my_las_file = 'data/2020_Drone_M.las'"
   ]
  },
  {
   "cell_type": "code",
   "execution_count": 10,
   "id": "ae95d39e",
   "metadata": {},
   "outputs": [
    {
     "name": "stdout",
     "output_type": "stream",
     "text": [
      "[]\n"
     ]
    }
   ],
   "source": [
    "with pylas.open(my_las_file) as f:\n",
    "    if f.header.point_count < 10 ** 8:\n",
    "        las = f.read()\n",
    "print(las.vlrs)"
   ]
  },
  {
   "cell_type": "code",
   "execution_count": 11,
   "id": "016a858f",
   "metadata": {},
   "outputs": [
    {
     "data": {
      "text/plain": [
       "<LasHeader(1.2)>"
      ]
     },
     "execution_count": 11,
     "metadata": {},
     "output_type": "execute_result"
    }
   ],
   "source": [
    "f.header"
   ]
  },
  {
   "cell_type": "code",
   "execution_count": 12,
   "id": "2a2c0bf0",
   "metadata": {},
   "outputs": [
    {
     "data": {
      "text/plain": [
       "['__class__',\n",
       " '__ctypes_from_outparam__',\n",
       " '__delattr__',\n",
       " '__dict__',\n",
       " '__dir__',\n",
       " '__doc__',\n",
       " '__eq__',\n",
       " '__format__',\n",
       " '__ge__',\n",
       " '__getattribute__',\n",
       " '__gt__',\n",
       " '__hash__',\n",
       " '__init__',\n",
       " '__init_subclass__',\n",
       " '__le__',\n",
       " '__lt__',\n",
       " '__module__',\n",
       " '__ne__',\n",
       " '__new__',\n",
       " '__reduce__',\n",
       " '__reduce_ex__',\n",
       " '__repr__',\n",
       " '__setattr__',\n",
       " '__setstate__',\n",
       " '__sizeof__',\n",
       " '__str__',\n",
       " '__subclasshook__',\n",
       " '__weakref__',\n",
       " '_b_base_',\n",
       " '_b_needsfree_',\n",
       " '_fields_',\n",
       " '_objects',\n",
       " '_pack_',\n",
       " '_point_data_format_id',\n",
       " '_version_',\n",
       " 'are_points_compressed',\n",
       " 'creation_day_of_year',\n",
       " 'creation_year',\n",
       " 'date',\n",
       " 'file_signature',\n",
       " 'file_source_id',\n",
       " 'generating_software',\n",
       " 'global_encoding',\n",
       " 'legacy_number_of_points_by_return',\n",
       " 'legacy_point_count',\n",
       " 'maxs',\n",
       " 'mins',\n",
       " 'number_of_points_by_return',\n",
       " 'number_of_vlr',\n",
       " 'offset_to_point_data',\n",
       " 'offsets',\n",
       " 'point_count',\n",
       " 'point_data_record_length',\n",
       " 'point_format_id',\n",
       " 'point_size',\n",
       " 'scales',\n",
       " 'size',\n",
       " 'system_identifier',\n",
       " 'uuid',\n",
       " 'uuid_bytes',\n",
       " 'version',\n",
       " 'version_major',\n",
       " 'version_minor',\n",
       " 'write_to',\n",
       " 'x_max',\n",
       " 'x_min',\n",
       " 'x_offset',\n",
       " 'x_scale',\n",
       " 'y_max',\n",
       " 'y_min',\n",
       " 'y_offset',\n",
       " 'y_scale',\n",
       " 'z_max',\n",
       " 'z_min',\n",
       " 'z_offset',\n",
       " 'z_scale']"
      ]
     },
     "execution_count": 12,
     "metadata": {},
     "output_type": "execute_result"
    }
   ],
   "source": [
    "dir(f.header)"
   ]
  },
  {
   "cell_type": "code",
   "execution_count": 13,
   "id": "efb884c7",
   "metadata": {},
   "outputs": [
    {
     "data": {
      "text/plain": [
       "2021"
      ]
     },
     "execution_count": 13,
     "metadata": {},
     "output_type": "execute_result"
    }
   ],
   "source": [
    "(f.header.creation_year)"
   ]
  },
  {
   "cell_type": "code",
   "execution_count": 14,
   "id": "e5dc70e2",
   "metadata": {},
   "outputs": [
    {
     "data": {
      "text/plain": [
       "34"
      ]
     },
     "execution_count": 14,
     "metadata": {},
     "output_type": "execute_result"
    }
   ],
   "source": [
    "(f.header.creation_day_of_year)"
   ]
  },
  {
   "cell_type": "code",
   "execution_count": 15,
   "id": "dcc4bcb9",
   "metadata": {},
   "outputs": [
    {
     "data": {
      "text/plain": [
       "(datetime.date(2021, 2, 3), b'PDAL 2.1.0 (828987)')"
      ]
     },
     "execution_count": 15,
     "metadata": {},
     "output_type": "execute_result"
    }
   ],
   "source": [
    "(f.header.date, f.header.generating_software)"
   ]
  },
  {
   "cell_type": "code",
   "execution_count": 16,
   "id": "8f48e996",
   "metadata": {},
   "outputs": [
    {
     "data": {
      "text/plain": [
       "(array([26.47825623, 41.46183014,  1.11398911]),\n",
       " array([132.11264038, 148.58403015,  30.585989  ]))"
      ]
     },
     "execution_count": 16,
     "metadata": {},
     "output_type": "execute_result"
    }
   ],
   "source": [
    "(f.header.mins, f.header.maxs)"
   ]
  },
  {
   "cell_type": "code",
   "execution_count": 17,
   "id": "09d8d5a5",
   "metadata": {},
   "outputs": [
    {
     "data": {
      "text/plain": [
       "<pylas.headers.rawheader.GlobalEncoding at 0x7f52c04c89c0>"
      ]
     },
     "execution_count": 17,
     "metadata": {},
     "output_type": "execute_result"
    }
   ],
   "source": [
    "f.header.global_encoding"
   ]
  },
  {
   "cell_type": "markdown",
   "id": "d0025aa5",
   "metadata": {},
   "source": [
    "https://github.com/stac-extensions/pointcloud"
   ]
  },
  {
   "cell_type": "code",
   "execution_count": 19,
   "id": "c867d8cc",
   "metadata": {},
   "outputs": [
    {
     "name": "stdout",
     "output_type": "stream",
     "text": [
      "{\r\n",
      "  \"boundary\":\r\n",
      "  {\r\n",
      "    \"area\": 1369248.022,\r\n",
      "    \"avg_pt_per_sq_unit\": 0.244601211,\r\n",
      "    \"avg_pt_spacing\": 0.2606621967,\r\n",
      "    \"boundary\": \"POLYGON ((539.91598274 -675.0947781,769.48597412 517.78588905,80.776 915.4127781,-837.50396549 120.159,539.91598274 -675.0947781))\",\r\n",
      "    \"boundary_json\": { \"type\": \"Polygon\", \"coordinates\": [ [ [ 539.91598274, -675.094778099999985 ], [ 769.485974120000037, 517.785889050000037 ], [ 80.776, 915.412778099999969 ], [ -837.503965490000041, 120.159 ], [ 539.91598274, -675.094778099999985 ] ] ] },\r\n",
      "    \"density\": 14.71783393,\r\n",
      "    \"edge_length\": 0,\r\n",
      "    \"estimated_edge\": 795.2537781,\r\n",
      "    \"hex_offsets\": \"MULTIPOINT (0 0, -229.57 397.627, 0 795.254, 459.14 795.254, 688.71 397.627, 459.14 0)\",\r\n",
      "    \"sample_size\": 5000,\r\n",
      "    \"threshold\": 15\r\n",
      "  },\r\n",
      "  \"file_size\": 523961717,\r\n",
      "  \"filename\": \"data/2020_Drone_M.las\",\r\n",
      "  \"metadata\":\r\n",
      "  {\r\n",
      "    \"comp_spatialreference\": \"\",\r\n",
      "    \"compressed\": false,\r\n",
      "    \"count\": 20152365,\r\n",
      "    \"creation_doy\": 34,\r\n",
      "    \"creation_year\": 2021,\r\n",
      "    \"dataformat_id\": 2,\r\n",
      "    \"dataoffset\": 227,\r\n",
      "    \"filesource_id\": 0,\r\n",
      "    \"global_encoding\": 0,\r\n",
      "    \"global_encoding_base64\": \"AAA=\",\r\n",
      "    \"gtiff\": \"\",\r\n",
      "    \"header_size\": 227,\r\n",
      "    \"major_version\": 1,\r\n",
      "    \"maxx\": 132.1126404,\r\n",
      "    \"maxy\": 148.5840302,\r\n",
      "    \"maxz\": 30.585989,\r\n",
      "    \"minor_version\": 2,\r\n",
      "    \"minx\": 26.47825623,\r\n",
      "    \"miny\": 41.46183014,\r\n",
      "    \"minz\": 1.113989115,\r\n",
      "    \"offset_x\": 0,\r\n",
      "    \"offset_y\": 0,\r\n",
      "    \"offset_z\": 0,\r\n",
      "    \"point_length\": 26,\r\n",
      "    \"project_id\": \"00000000-0000-0000-0000-000000000000\",\r\n",
      "    \"scale_x\": 0.001,\r\n",
      "    \"scale_y\": 0.001,\r\n",
      "    \"scale_z\": 0.001,\r\n",
      "    \"software_id\": \"PDAL 2.1.0 (828987)\",\r\n",
      "    \"spatialreference\": \"\",\r\n",
      "    \"srs\":\r\n",
      "    {\r\n",
      "      \"compoundwkt\": \"\",\r\n",
      "      \"horizontal\": \"\",\r\n",
      "      \"isgeocentric\": false,\r\n",
      "      \"isgeographic\": false,\r\n",
      "      \"prettycompoundwkt\": \"\",\r\n",
      "      \"prettywkt\": \"\",\r\n",
      "      \"proj4\": \"\",\r\n",
      "      \"units\":\r\n",
      "      {\r\n",
      "        \"horizontal\": \"unknown\",\r\n",
      "        \"vertical\": \"\"\r\n",
      "      },\r\n",
      "      \"vertical\": \"\",\r\n",
      "      \"wkt\": \"\"\r\n",
      "    },\r\n",
      "    \"system_id\": \"PDAL\"\r\n",
      "  },\r\n",
      "  \"now\": \"2022-03-07T18:45:27+0000\",\r\n",
      "  \"pdal_version\": \"2.3.0 (git-version: 653f3f)\",\r\n",
      "  \"reader\": \"readers.las\",\r\n",
      "  \"schema\":\r\n",
      "  {\r\n",
      "    \"dimensions\":\r\n",
      "    [\r\n",
      "      {\r\n",
      "        \"name\": \"X\",\r\n",
      "        \"size\": 8,\r\n",
      "        \"type\": \"floating\"\r\n",
      "      },\r\n",
      "      {\r\n",
      "        \"name\": \"Y\",\r\n",
      "        \"size\": 8,\r\n",
      "        \"type\": \"floating\"\r\n",
      "      },\r\n",
      "      {\r\n",
      "        \"name\": \"Z\",\r\n",
      "        \"size\": 8,\r\n",
      "        \"type\": \"floating\"\r\n",
      "      },\r\n",
      "      {\r\n",
      "        \"name\": \"Intensity\",\r\n",
      "        \"size\": 2,\r\n",
      "        \"type\": \"unsigned\"\r\n",
      "      },\r\n",
      "      {\r\n",
      "        \"name\": \"ReturnNumber\",\r\n",
      "        \"size\": 1,\r\n",
      "        \"type\": \"unsigned\"\r\n",
      "      },\r\n",
      "      {\r\n",
      "        \"name\": \"NumberOfReturns\",\r\n",
      "        \"size\": 1,\r\n",
      "        \"type\": \"unsigned\"\r\n",
      "      },\r\n",
      "      {\r\n",
      "        \"name\": \"ScanDirectionFlag\",\r\n",
      "        \"size\": 1,\r\n",
      "        \"type\": \"unsigned\"\r\n",
      "      },\r\n",
      "      {\r\n",
      "        \"name\": \"EdgeOfFlightLine\",\r\n",
      "        \"size\": 1,\r\n",
      "        \"type\": \"unsigned\"\r\n",
      "      },\r\n",
      "      {\r\n",
      "        \"name\": \"Classification\",\r\n",
      "        \"size\": 1,\r\n",
      "        \"type\": \"unsigned\"\r\n",
      "      },\r\n",
      "      {\r\n",
      "        \"name\": \"ScanAngleRank\",\r\n",
      "        \"size\": 4,\r\n",
      "        \"type\": \"floating\"\r\n",
      "      },\r\n",
      "      {\r\n",
      "        \"name\": \"UserData\",\r\n",
      "        \"size\": 1,\r\n",
      "        \"type\": \"unsigned\"\r\n",
      "      },\r\n",
      "      {\r\n",
      "        \"name\": \"PointSourceId\",\r\n",
      "        \"size\": 2,\r\n",
      "        \"type\": \"unsigned\"\r\n",
      "      },\r\n",
      "      {\r\n",
      "        \"name\": \"Red\",\r\n",
      "        \"size\": 2,\r\n",
      "        \"type\": \"unsigned\"\r\n",
      "      },\r\n",
      "      {\r\n",
      "        \"name\": \"Green\",\r\n",
      "        \"size\": 2,\r\n",
      "        \"type\": \"unsigned\"\r\n",
      "      },\r\n",
      "      {\r\n",
      "        \"name\": \"Blue\",\r\n",
      "        \"size\": 2,\r\n",
      "        \"type\": \"unsigned\"\r\n",
      "      }\r\n",
      "    ]\r\n",
      "  },\r\n",
      "  \"stats\":\r\n",
      "  {\r\n",
      "    \"bbox\":\r\n",
      "    {\r\n",
      "      \"native\":\r\n",
      "      {\r\n",
      "        \"bbox\":\r\n",
      "        {\r\n",
      "          \"maxx\": 132.113,\r\n",
      "          \"maxy\": 148.584,\r\n",
      "          \"maxz\": 30.586,\r\n",
      "          \"minx\": 26.478,\r\n",
      "          \"miny\": 41.462,\r\n",
      "          \"minz\": 1.114\r\n",
      "        },\r\n",
      "        \"boundary\": { \"type\": \"Polygon\", \"coordinates\": [ [ [ 26.478, 41.462, 1.114 ], [ 26.478, 148.584, 1.114 ], [ 132.113, 148.584, 30.586 ], [ 132.113, 41.462, 30.586 ], [ 26.478, 41.462, 1.114 ] ] ] }\r\n",
      "      }\r\n",
      "    },\r\n",
      "    \"statistic\":\r\n",
      "    [\r\n",
      "      {\r\n",
      "        \"average\": 80.47883266,\r\n",
      "        \"count\": 20152365,\r\n",
      "        \"maximum\": 132.113,\r\n",
      "        \"minimum\": 26.478,\r\n",
      "        \"name\": \"X\",\r\n",
      "        \"position\": 0,\r\n",
      "        \"stddev\": 30.8187265,\r\n",
      "        \"variance\": 949.7939028\r\n",
      "      },\r\n",
      "      {\r\n",
      "        \"average\": 99.64455929,\r\n",
      "        \"count\": 20152365,\r\n",
      "        \"maximum\": 148.584,\r\n",
      "        \"minimum\": 41.462,\r\n",
      "        \"name\": \"Y\",\r\n",
      "        \"position\": 1,\r\n",
      "        \"stddev\": 30.4057354,\r\n",
      "        \"variance\": 924.5087452\r\n",
      "      },\r\n",
      "      {\r\n",
      "        \"average\": 7.790298212,\r\n",
      "        \"count\": 20152365,\r\n",
      "        \"maximum\": 30.586,\r\n",
      "        \"minimum\": 1.114,\r\n",
      "        \"name\": \"Z\",\r\n",
      "        \"position\": 2,\r\n",
      "        \"stddev\": 5.447094268,\r\n",
      "        \"variance\": 29.67083596\r\n",
      "      },\r\n",
      "      {\r\n",
      "        \"average\": 0,\r\n",
      "        \"count\": 20152365,\r\n",
      "        \"maximum\": 0,\r\n",
      "        \"minimum\": 0,\r\n",
      "        \"name\": \"Intensity\",\r\n",
      "        \"position\": 3,\r\n",
      "        \"stddev\": 0,\r\n",
      "        \"variance\": 0\r\n",
      "      },\r\n",
      "      {\r\n",
      "        \"average\": 1,\r\n",
      "        \"count\": 20152365,\r\n",
      "        \"maximum\": 1,\r\n",
      "        \"minimum\": 1,\r\n",
      "        \"name\": \"ReturnNumber\",\r\n",
      "        \"position\": 4,\r\n",
      "        \"stddev\": 0,\r\n",
      "        \"variance\": 0\r\n",
      "      },\r\n",
      "      {\r\n",
      "        \"average\": 1,\r\n",
      "        \"count\": 20152365,\r\n",
      "        \"maximum\": 1,\r\n",
      "        \"minimum\": 1,\r\n",
      "        \"name\": \"NumberOfReturns\",\r\n",
      "        \"position\": 5,\r\n",
      "        \"stddev\": 0,\r\n",
      "        \"variance\": 0\r\n",
      "      },\r\n",
      "      {\r\n",
      "        \"average\": 0,\r\n",
      "        \"count\": 20152365,\r\n",
      "        \"maximum\": 0,\r\n",
      "        \"minimum\": 0,\r\n",
      "        \"name\": \"ScanDirectionFlag\",\r\n",
      "        \"position\": 6,\r\n",
      "        \"stddev\": 0,\r\n",
      "        \"variance\": 0\r\n",
      "      },\r\n",
      "      {\r\n",
      "        \"average\": 0,\r\n",
      "        \"count\": 20152365,\r\n",
      "        \"maximum\": 0,\r\n",
      "        \"minimum\": 0,\r\n",
      "        \"name\": \"EdgeOfFlightLine\",\r\n",
      "        \"position\": 7,\r\n",
      "        \"stddev\": 0,\r\n",
      "        \"variance\": 0\r\n",
      "      },\r\n",
      "      {\r\n",
      "        \"average\": 0,\r\n",
      "        \"count\": 20152365,\r\n",
      "        \"maximum\": 0,\r\n",
      "        \"minimum\": 0,\r\n",
      "        \"name\": \"Classification\",\r\n",
      "        \"position\": 8,\r\n",
      "        \"stddev\": 0,\r\n",
      "        \"variance\": 0\r\n",
      "      },\r\n",
      "      {\r\n",
      "        \"average\": 0,\r\n",
      "        \"count\": 20152365,\r\n",
      "        \"maximum\": 0,\r\n",
      "        \"minimum\": 0,\r\n",
      "        \"name\": \"ScanAngleRank\",\r\n",
      "        \"position\": 9,\r\n",
      "        \"stddev\": 0,\r\n",
      "        \"variance\": 0\r\n",
      "      },\r\n",
      "      {\r\n",
      "        \"average\": 0,\r\n",
      "        \"count\": 20152365,\r\n",
      "        \"maximum\": 0,\r\n",
      "        \"minimum\": 0,\r\n",
      "        \"name\": \"UserData\",\r\n",
      "        \"position\": 10,\r\n",
      "        \"stddev\": 0,\r\n",
      "        \"variance\": 0\r\n",
      "      },\r\n",
      "      {\r\n",
      "        \"average\": 0,\r\n",
      "        \"count\": 20152365,\r\n",
      "        \"maximum\": 0,\r\n",
      "        \"minimum\": 0,\r\n",
      "        \"name\": \"PointSourceId\",\r\n",
      "        \"position\": 11,\r\n",
      "        \"stddev\": 0,\r\n",
      "        \"variance\": 0\r\n",
      "      },\r\n",
      "      {\r\n",
      "        \"average\": 21663.19784,\r\n",
      "        \"count\": 20152365,\r\n",
      "        \"maximum\": 65024,\r\n",
      "        \"minimum\": 0,\r\n",
      "        \"name\": \"Red\",\r\n",
      "        \"position\": 12,\r\n",
      "        \"stddev\": 13257.67904,\r\n",
      "        \"variance\": 175766053.5\r\n",
      "      },\r\n",
      "      {\r\n",
      "        \"average\": 25676.0602,\r\n",
      "        \"count\": 20152365,\r\n",
      "        \"maximum\": 65024,\r\n",
      "        \"minimum\": 0,\r\n",
      "        \"name\": \"Green\",\r\n",
      "        \"position\": 13,\r\n",
      "        \"stddev\": 13148.65619,\r\n",
      "        \"variance\": 172887159.7\r\n",
      "      },\r\n",
      "      {\r\n",
      "        \"average\": 21333.56977,\r\n",
      "        \"count\": 20152365,\r\n",
      "        \"maximum\": 65024,\r\n",
      "        \"minimum\": 0,\r\n",
      "        \"name\": \"Blue\",\r\n",
      "        \"position\": 14,\r\n",
      "        \"stddev\": 13673.55668,\r\n",
      "        \"variance\": 186966152.4\r\n",
      "      }\r\n",
      "    ]\r\n",
      "  }\r\n",
      "}\r\n"
     ]
    }
   ],
   "source": [
    "! pdal info --all data/2020_Drone_M.las"
   ]
  },
  {
   "cell_type": "code",
   "execution_count": 18,
   "id": "5cb4d7cc",
   "metadata": {},
   "outputs": [],
   "source": [
    "#! conda install -c conda-forge  -y pdal"
   ]
  },
  {
   "cell_type": "code",
   "execution_count": 19,
   "id": "ac7c212e",
   "metadata": {},
   "outputs": [],
   "source": [
    "# FAIL FAIL - no pip joy ! python -m pip install pdal"
   ]
  },
  {
   "cell_type": "code",
   "execution_count": 20,
   "id": "a40677a6",
   "metadata": {},
   "outputs": [],
   "source": [
    "! pdal info --all data/2020_Drone_M.las > data/drone_pdal.json"
   ]
  },
  {
   "cell_type": "code",
   "execution_count": 21,
   "id": "db8531e9",
   "metadata": {},
   "outputs": [],
   "source": [
    "import json"
   ]
  },
  {
   "cell_type": "code",
   "execution_count": 27,
   "id": "d8e290c5",
   "metadata": {},
   "outputs": [],
   "source": [
    "with open('data/drone_pdal.json') as json_file:\n",
    "    data = json.load(json_file)\n",
    "    #print(data)"
   ]
  },
  {
   "cell_type": "code",
   "execution_count": 28,
   "id": "df835544",
   "metadata": {},
   "outputs": [
    {
     "data": {
      "text/plain": [
       "{'area': 1369248.022,\n",
       " 'avg_pt_per_sq_unit': 0.244601211,\n",
       " 'avg_pt_spacing': 0.2606621967,\n",
       " 'boundary': 'POLYGON ((539.91598274 -675.0947781,769.48597412 517.78588905,80.776 915.4127781,-837.50396549 120.159,539.91598274 -675.0947781))',\n",
       " 'boundary_json': {'type': 'Polygon',\n",
       "  'coordinates': [[[539.91598274, -675.0947781],\n",
       "    [769.48597412, 517.78588905],\n",
       "    [80.776, 915.4127781],\n",
       "    [-837.50396549, 120.159],\n",
       "    [539.91598274, -675.0947781]]]},\n",
       " 'density': 14.71783393,\n",
       " 'edge_length': 0,\n",
       " 'estimated_edge': 795.2537781,\n",
       " 'hex_offsets': 'MULTIPOINT (0 0, -229.57 397.627, 0 795.254, 459.14 795.254, 688.71 397.627, 459.14 0)',\n",
       " 'sample_size': 5000,\n",
       " 'threshold': 15}"
      ]
     },
     "execution_count": 28,
     "metadata": {},
     "output_type": "execute_result"
    }
   ],
   "source": [
    "data['boundary']"
   ]
  },
  {
   "cell_type": "code",
   "execution_count": 29,
   "id": "0d08c39f",
   "metadata": {},
   "outputs": [
    {
     "data": {
      "text/plain": [
       "dict_keys(['boundary', 'file_size', 'filename', 'metadata', 'now', 'pdal_version', 'reader', 'schema', 'stats'])"
      ]
     },
     "execution_count": 29,
     "metadata": {},
     "output_type": "execute_result"
    }
   ],
   "source": [
    "data.keys()"
   ]
  },
  {
   "cell_type": "code",
   "execution_count": 30,
   "id": "8f4c198a",
   "metadata": {},
   "outputs": [
    {
     "data": {
      "text/plain": [
       "{'bbox': {'native': {'bbox': {'maxx': 132.113,\n",
       "    'maxy': 148.584,\n",
       "    'maxz': 30.586,\n",
       "    'minx': 26.478,\n",
       "    'miny': 41.462,\n",
       "    'minz': 1.114},\n",
       "   'boundary': {'type': 'Polygon',\n",
       "    'coordinates': [[[26.478, 41.462, 1.114],\n",
       "      [26.478, 148.584, 1.114],\n",
       "      [132.113, 148.584, 30.586],\n",
       "      [132.113, 41.462, 30.586],\n",
       "      [26.478, 41.462, 1.114]]]}}},\n",
       " 'statistic': [{'average': 80.47883266,\n",
       "   'count': 20152365,\n",
       "   'maximum': 132.113,\n",
       "   'minimum': 26.478,\n",
       "   'name': 'X',\n",
       "   'position': 0,\n",
       "   'stddev': 30.8187265,\n",
       "   'variance': 949.7939028},\n",
       "  {'average': 99.64455929,\n",
       "   'count': 20152365,\n",
       "   'maximum': 148.584,\n",
       "   'minimum': 41.462,\n",
       "   'name': 'Y',\n",
       "   'position': 1,\n",
       "   'stddev': 30.4057354,\n",
       "   'variance': 924.5087452},\n",
       "  {'average': 7.790298212,\n",
       "   'count': 20152365,\n",
       "   'maximum': 30.586,\n",
       "   'minimum': 1.114,\n",
       "   'name': 'Z',\n",
       "   'position': 2,\n",
       "   'stddev': 5.447094268,\n",
       "   'variance': 29.67083596},\n",
       "  {'average': 0,\n",
       "   'count': 20152365,\n",
       "   'maximum': 0,\n",
       "   'minimum': 0,\n",
       "   'name': 'Intensity',\n",
       "   'position': 3,\n",
       "   'stddev': 0,\n",
       "   'variance': 0},\n",
       "  {'average': 1,\n",
       "   'count': 20152365,\n",
       "   'maximum': 1,\n",
       "   'minimum': 1,\n",
       "   'name': 'ReturnNumber',\n",
       "   'position': 4,\n",
       "   'stddev': 0,\n",
       "   'variance': 0},\n",
       "  {'average': 1,\n",
       "   'count': 20152365,\n",
       "   'maximum': 1,\n",
       "   'minimum': 1,\n",
       "   'name': 'NumberOfReturns',\n",
       "   'position': 5,\n",
       "   'stddev': 0,\n",
       "   'variance': 0},\n",
       "  {'average': 0,\n",
       "   'count': 20152365,\n",
       "   'maximum': 0,\n",
       "   'minimum': 0,\n",
       "   'name': 'ScanDirectionFlag',\n",
       "   'position': 6,\n",
       "   'stddev': 0,\n",
       "   'variance': 0},\n",
       "  {'average': 0,\n",
       "   'count': 20152365,\n",
       "   'maximum': 0,\n",
       "   'minimum': 0,\n",
       "   'name': 'EdgeOfFlightLine',\n",
       "   'position': 7,\n",
       "   'stddev': 0,\n",
       "   'variance': 0},\n",
       "  {'average': 0,\n",
       "   'count': 20152365,\n",
       "   'maximum': 0,\n",
       "   'minimum': 0,\n",
       "   'name': 'Classification',\n",
       "   'position': 8,\n",
       "   'stddev': 0,\n",
       "   'variance': 0},\n",
       "  {'average': 0,\n",
       "   'count': 20152365,\n",
       "   'maximum': 0,\n",
       "   'minimum': 0,\n",
       "   'name': 'ScanAngleRank',\n",
       "   'position': 9,\n",
       "   'stddev': 0,\n",
       "   'variance': 0},\n",
       "  {'average': 0,\n",
       "   'count': 20152365,\n",
       "   'maximum': 0,\n",
       "   'minimum': 0,\n",
       "   'name': 'UserData',\n",
       "   'position': 10,\n",
       "   'stddev': 0,\n",
       "   'variance': 0},\n",
       "  {'average': 0,\n",
       "   'count': 20152365,\n",
       "   'maximum': 0,\n",
       "   'minimum': 0,\n",
       "   'name': 'PointSourceId',\n",
       "   'position': 11,\n",
       "   'stddev': 0,\n",
       "   'variance': 0},\n",
       "  {'average': 21663.19784,\n",
       "   'count': 20152365,\n",
       "   'maximum': 65024,\n",
       "   'minimum': 0,\n",
       "   'name': 'Red',\n",
       "   'position': 12,\n",
       "   'stddev': 13257.67904,\n",
       "   'variance': 175766053.5},\n",
       "  {'average': 25676.0602,\n",
       "   'count': 20152365,\n",
       "   'maximum': 65024,\n",
       "   'minimum': 0,\n",
       "   'name': 'Green',\n",
       "   'position': 13,\n",
       "   'stddev': 13148.65619,\n",
       "   'variance': 172887159.7},\n",
       "  {'average': 21333.56977,\n",
       "   'count': 20152365,\n",
       "   'maximum': 65024,\n",
       "   'minimum': 0,\n",
       "   'name': 'Blue',\n",
       "   'position': 14,\n",
       "   'stddev': 13673.55668,\n",
       "   'variance': 186966152.4}]}"
      ]
     },
     "execution_count": 30,
     "metadata": {},
     "output_type": "execute_result"
    }
   ],
   "source": [
    "data['stats']"
   ]
  },
  {
   "cell_type": "code",
   "execution_count": 33,
   "id": "a9c7e9ca",
   "metadata": {},
   "outputs": [
    {
     "data": {
      "text/plain": [
       "{'maxx': 132.113,\n",
       " 'maxy': 148.584,\n",
       " 'maxz': 30.586,\n",
       " 'minx': 26.478,\n",
       " 'miny': 41.462,\n",
       " 'minz': 1.114}"
      ]
     },
     "execution_count": 33,
     "metadata": {},
     "output_type": "execute_result"
    }
   ],
   "source": [
    "data['stats']['bbox']['native']['bbox']"
   ]
  },
  {
   "cell_type": "code",
   "execution_count": 34,
   "id": "6c3f5fd0",
   "metadata": {},
   "outputs": [
    {
     "data": {
      "text/plain": [
       "{'type': 'Polygon',\n",
       " 'coordinates': [[[26.478, 41.462, 1.114],\n",
       "   [26.478, 148.584, 1.114],\n",
       "   [132.113, 148.584, 30.586],\n",
       "   [132.113, 41.462, 30.586],\n",
       "   [26.478, 41.462, 1.114]]]}"
      ]
     },
     "execution_count": 34,
     "metadata": {},
     "output_type": "execute_result"
    }
   ],
   "source": [
    "data['stats']['bbox']['native']['boundary']"
   ]
  },
  {
   "cell_type": "code",
   "execution_count": 36,
   "id": "85c94af9",
   "metadata": {},
   "outputs": [],
   "source": [
    "geom_dict = data['stats']['bbox']['native']['boundary']"
   ]
  },
  {
   "cell_type": "code",
   "execution_count": 37,
   "id": "6f1446be",
   "metadata": {},
   "outputs": [],
   "source": [
    "import folium\n",
    "c_lat = data['stats']['bbox']['native']['bbox']['miny']\n",
    "c_lon = data['stats']['bbox']['native']['bbox']['maxx']\n",
    "m = folium.Map(location=[c_lat, c_lon], zoom_start=14, tiles='CartoDB positron')\n"
   ]
  },
  {
   "cell_type": "code",
   "execution_count": 39,
   "id": "e6892dff",
   "metadata": {},
   "outputs": [
    {
     "data": {
      "text/html": [
       "<div style=\"width:100%;\"><div style=\"position:relative;width:100%;height:0;padding-bottom:60%;\"><span style=\"color:#565656\">Make this Notebook Trusted to load map: File -> Trust Notebook</span><iframe src=\"about:blank\" style=\"position:absolute;width:100%;height:100%;left:0;top:0;border:none !important;\" data-html=%3C%21DOCTYPE%20html%3E%0A%3Chead%3E%20%20%20%20%0A%20%20%20%20%3Cmeta%20http-equiv%3D%22content-type%22%20content%3D%22text/html%3B%20charset%3DUTF-8%22%20/%3E%0A%20%20%20%20%0A%20%20%20%20%20%20%20%20%3Cscript%3E%0A%20%20%20%20%20%20%20%20%20%20%20%20L_NO_TOUCH%20%3D%20false%3B%0A%20%20%20%20%20%20%20%20%20%20%20%20L_DISABLE_3D%20%3D%20false%3B%0A%20%20%20%20%20%20%20%20%3C/script%3E%0A%20%20%20%20%0A%20%20%20%20%3Cstyle%3Ehtml%2C%20body%20%7Bwidth%3A%20100%25%3Bheight%3A%20100%25%3Bmargin%3A%200%3Bpadding%3A%200%3B%7D%3C/style%3E%0A%20%20%20%20%3Cstyle%3E%23map%20%7Bposition%3Aabsolute%3Btop%3A0%3Bbottom%3A0%3Bright%3A0%3Bleft%3A0%3B%7D%3C/style%3E%0A%20%20%20%20%3Cscript%20src%3D%22https%3A//cdn.jsdelivr.net/npm/leaflet%401.6.0/dist/leaflet.js%22%3E%3C/script%3E%0A%20%20%20%20%3Cscript%20src%3D%22https%3A//code.jquery.com/jquery-1.12.4.min.js%22%3E%3C/script%3E%0A%20%20%20%20%3Cscript%20src%3D%22https%3A//maxcdn.bootstrapcdn.com/bootstrap/3.2.0/js/bootstrap.min.js%22%3E%3C/script%3E%0A%20%20%20%20%3Cscript%20src%3D%22https%3A//cdnjs.cloudflare.com/ajax/libs/Leaflet.awesome-markers/2.0.2/leaflet.awesome-markers.js%22%3E%3C/script%3E%0A%20%20%20%20%3Clink%20rel%3D%22stylesheet%22%20href%3D%22https%3A//cdn.jsdelivr.net/npm/leaflet%401.6.0/dist/leaflet.css%22/%3E%0A%20%20%20%20%3Clink%20rel%3D%22stylesheet%22%20href%3D%22https%3A//maxcdn.bootstrapcdn.com/bootstrap/3.2.0/css/bootstrap.min.css%22/%3E%0A%20%20%20%20%3Clink%20rel%3D%22stylesheet%22%20href%3D%22https%3A//maxcdn.bootstrapcdn.com/bootstrap/3.2.0/css/bootstrap-theme.min.css%22/%3E%0A%20%20%20%20%3Clink%20rel%3D%22stylesheet%22%20href%3D%22https%3A//maxcdn.bootstrapcdn.com/font-awesome/4.6.3/css/font-awesome.min.css%22/%3E%0A%20%20%20%20%3Clink%20rel%3D%22stylesheet%22%20href%3D%22https%3A//cdnjs.cloudflare.com/ajax/libs/Leaflet.awesome-markers/2.0.2/leaflet.awesome-markers.css%22/%3E%0A%20%20%20%20%3Clink%20rel%3D%22stylesheet%22%20href%3D%22https%3A//cdn.jsdelivr.net/gh/python-visualization/folium/folium/templates/leaflet.awesome.rotate.min.css%22/%3E%0A%20%20%20%20%0A%20%20%20%20%20%20%20%20%20%20%20%20%3Cmeta%20name%3D%22viewport%22%20content%3D%22width%3Ddevice-width%2C%0A%20%20%20%20%20%20%20%20%20%20%20%20%20%20%20%20initial-scale%3D1.0%2C%20maximum-scale%3D1.0%2C%20user-scalable%3Dno%22%20/%3E%0A%20%20%20%20%20%20%20%20%20%20%20%20%3Cstyle%3E%0A%20%20%20%20%20%20%20%20%20%20%20%20%20%20%20%20%23map_bd082722b4904660bb4858e52cc7758f%20%7B%0A%20%20%20%20%20%20%20%20%20%20%20%20%20%20%20%20%20%20%20%20position%3A%20relative%3B%0A%20%20%20%20%20%20%20%20%20%20%20%20%20%20%20%20%20%20%20%20width%3A%20100.0%25%3B%0A%20%20%20%20%20%20%20%20%20%20%20%20%20%20%20%20%20%20%20%20height%3A%20100.0%25%3B%0A%20%20%20%20%20%20%20%20%20%20%20%20%20%20%20%20%20%20%20%20left%3A%200.0%25%3B%0A%20%20%20%20%20%20%20%20%20%20%20%20%20%20%20%20%20%20%20%20top%3A%200.0%25%3B%0A%20%20%20%20%20%20%20%20%20%20%20%20%20%20%20%20%7D%0A%20%20%20%20%20%20%20%20%20%20%20%20%3C/style%3E%0A%20%20%20%20%20%20%20%20%0A%3C/head%3E%0A%3Cbody%3E%20%20%20%20%0A%20%20%20%20%0A%20%20%20%20%20%20%20%20%20%20%20%20%3Cdiv%20class%3D%22folium-map%22%20id%3D%22map_bd082722b4904660bb4858e52cc7758f%22%20%3E%3C/div%3E%0A%20%20%20%20%20%20%20%20%0A%3C/body%3E%0A%3Cscript%3E%20%20%20%20%0A%20%20%20%20%0A%20%20%20%20%20%20%20%20%20%20%20%20var%20map_bd082722b4904660bb4858e52cc7758f%20%3D%20L.map%28%0A%20%20%20%20%20%20%20%20%20%20%20%20%20%20%20%20%22map_bd082722b4904660bb4858e52cc7758f%22%2C%0A%20%20%20%20%20%20%20%20%20%20%20%20%20%20%20%20%7B%0A%20%20%20%20%20%20%20%20%20%20%20%20%20%20%20%20%20%20%20%20center%3A%20%5B41.462%2C%20132.113%5D%2C%0A%20%20%20%20%20%20%20%20%20%20%20%20%20%20%20%20%20%20%20%20crs%3A%20L.CRS.EPSG3857%2C%0A%20%20%20%20%20%20%20%20%20%20%20%20%20%20%20%20%20%20%20%20zoom%3A%2014%2C%0A%20%20%20%20%20%20%20%20%20%20%20%20%20%20%20%20%20%20%20%20zoomControl%3A%20true%2C%0A%20%20%20%20%20%20%20%20%20%20%20%20%20%20%20%20%20%20%20%20preferCanvas%3A%20false%2C%0A%20%20%20%20%20%20%20%20%20%20%20%20%20%20%20%20%7D%0A%20%20%20%20%20%20%20%20%20%20%20%20%29%3B%0A%0A%20%20%20%20%20%20%20%20%20%20%20%20%0A%0A%20%20%20%20%20%20%20%20%0A%20%20%20%20%0A%20%20%20%20%20%20%20%20%20%20%20%20var%20tile_layer_b9c3497c88f6492cb9cdaa189c772d48%20%3D%20L.tileLayer%28%0A%20%20%20%20%20%20%20%20%20%20%20%20%20%20%20%20%22https%3A//cartodb-basemaps-%7Bs%7D.global.ssl.fastly.net/light_all/%7Bz%7D/%7Bx%7D/%7By%7D.png%22%2C%0A%20%20%20%20%20%20%20%20%20%20%20%20%20%20%20%20%7B%22attribution%22%3A%20%22%5Cu0026copy%3B%20%5Cu003ca%20href%3D%5C%22http%3A//www.openstreetmap.org/copyright%5C%22%5Cu003eOpenStreetMap%5Cu003c/a%5Cu003e%20contributors%20%5Cu0026copy%3B%20%5Cu003ca%20href%3D%5C%22http%3A//cartodb.com/attributions%5C%22%5Cu003eCartoDB%5Cu003c/a%5Cu003e%2C%20CartoDB%20%5Cu003ca%20href%20%3D%5C%22http%3A//cartodb.com/attributions%5C%22%5Cu003eattributions%5Cu003c/a%5Cu003e%22%2C%20%22detectRetina%22%3A%20false%2C%20%22maxNativeZoom%22%3A%2018%2C%20%22maxZoom%22%3A%2018%2C%20%22minZoom%22%3A%200%2C%20%22noWrap%22%3A%20false%2C%20%22opacity%22%3A%201%2C%20%22subdomains%22%3A%20%22abc%22%2C%20%22tms%22%3A%20false%7D%0A%20%20%20%20%20%20%20%20%20%20%20%20%29.addTo%28map_bd082722b4904660bb4858e52cc7758f%29%3B%0A%20%20%20%20%20%20%20%20%0A%20%20%20%20%0A%20%20%20%20%20%20%20%20function%20geo_json_eeedb9abf4d54451899b3a9676a21b8d_styler%28feature%29%20%7B%0A%20%20%20%20%20%20%20%20%20%20%20%20switch%28feature.id%29%20%7B%0A%20%20%20%20%20%20%20%20%20%20%20%20%20%20%20%20default%3A%0A%20%20%20%20%20%20%20%20%20%20%20%20%20%20%20%20%20%20%20%20return%20%7B%22fillColor%22%3A%20%22orange%22%7D%3B%0A%20%20%20%20%20%20%20%20%20%20%20%20%7D%0A%20%20%20%20%20%20%20%20%7D%0A%0A%20%20%20%20%20%20%20%20function%20geo_json_eeedb9abf4d54451899b3a9676a21b8d_onEachFeature%28feature%2C%20layer%29%20%7B%0A%20%20%20%20%20%20%20%20%20%20%20%20layer.on%28%7B%0A%20%20%20%20%20%20%20%20%20%20%20%20%7D%29%3B%0A%20%20%20%20%20%20%20%20%7D%3B%0A%20%20%20%20%20%20%20%20var%20geo_json_eeedb9abf4d54451899b3a9676a21b8d%20%3D%20L.geoJson%28null%2C%20%7B%0A%20%20%20%20%20%20%20%20%20%20%20%20%20%20%20%20onEachFeature%3A%20geo_json_eeedb9abf4d54451899b3a9676a21b8d_onEachFeature%2C%0A%20%20%20%20%20%20%20%20%20%20%20%20%0A%20%20%20%20%20%20%20%20%20%20%20%20%20%20%20%20style%3A%20geo_json_eeedb9abf4d54451899b3a9676a21b8d_styler%2C%0A%20%20%20%20%20%20%20%20%7D%29%3B%0A%0A%20%20%20%20%20%20%20%20function%20geo_json_eeedb9abf4d54451899b3a9676a21b8d_add%20%28data%29%20%7B%0A%20%20%20%20%20%20%20%20%20%20%20%20geo_json_eeedb9abf4d54451899b3a9676a21b8d%0A%20%20%20%20%20%20%20%20%20%20%20%20%20%20%20%20.addData%28data%29%0A%20%20%20%20%20%20%20%20%20%20%20%20%20%20%20%20.addTo%28map_bd082722b4904660bb4858e52cc7758f%29%3B%0A%20%20%20%20%20%20%20%20%7D%0A%20%20%20%20%20%20%20%20%20%20%20%20geo_json_eeedb9abf4d54451899b3a9676a21b8d_add%28%7B%22features%22%3A%20%5B%7B%22geometry%22%3A%20%7B%22coordinates%22%3A%20%5B%5B%5B26.478%2C%2041.462%2C%201.114%5D%2C%20%5B26.478%2C%20148.584%2C%201.114%5D%2C%20%5B132.113%2C%20148.584%2C%2030.586%5D%2C%20%5B132.113%2C%2041.462%2C%2030.586%5D%2C%20%5B26.478%2C%2041.462%2C%201.114%5D%5D%5D%2C%20%22type%22%3A%20%22Polygon%22%7D%2C%20%22id%22%3A%20%220%22%2C%20%22type%22%3A%20%22Feature%22%7D%5D%2C%20%22type%22%3A%20%22FeatureCollection%22%7D%29%3B%0A%0A%20%20%20%20%20%20%20%20%0A%20%20%20%20%0A%20%20%20%20%20%20%20%20var%20popup_199c605a77ca4736afa3c644e7eebc3e%20%3D%20L.popup%28%7B%22maxWidth%22%3A%20%22100%25%22%7D%29%3B%0A%0A%20%20%20%20%20%20%20%20%0A%20%20%20%20%20%20%20%20%20%20%20%20var%20html_e91f1b90bf6643868a79501e5dd3f1ad%20%3D%20%24%28%60%3Cdiv%20id%3D%22html_e91f1b90bf6643868a79501e5dd3f1ad%22%20style%3D%22width%3A%20100.0%25%3B%20height%3A%20100.0%25%3B%22%3EAjit%20Mystery%20Lidar%3C/div%3E%60%29%5B0%5D%3B%0A%20%20%20%20%20%20%20%20%20%20%20%20popup_199c605a77ca4736afa3c644e7eebc3e.setContent%28html_e91f1b90bf6643868a79501e5dd3f1ad%29%3B%0A%20%20%20%20%20%20%20%20%0A%0A%20%20%20%20%20%20%20%20geo_json_eeedb9abf4d54451899b3a9676a21b8d.bindPopup%28popup_199c605a77ca4736afa3c644e7eebc3e%29%0A%20%20%20%20%20%20%20%20%3B%0A%0A%20%20%20%20%20%20%20%20%0A%20%20%20%20%0A%20%20%20%20%0A%20%20%20%20%20%20%20%20function%20geo_json_a4aab2bc3fb548198e6028d518b387db_styler%28feature%29%20%7B%0A%20%20%20%20%20%20%20%20%20%20%20%20switch%28feature.id%29%20%7B%0A%20%20%20%20%20%20%20%20%20%20%20%20%20%20%20%20default%3A%0A%20%20%20%20%20%20%20%20%20%20%20%20%20%20%20%20%20%20%20%20return%20%7B%22fillColor%22%3A%20%22orange%22%7D%3B%0A%20%20%20%20%20%20%20%20%20%20%20%20%7D%0A%20%20%20%20%20%20%20%20%7D%0A%0A%20%20%20%20%20%20%20%20function%20geo_json_a4aab2bc3fb548198e6028d518b387db_onEachFeature%28feature%2C%20layer%29%20%7B%0A%20%20%20%20%20%20%20%20%20%20%20%20layer.on%28%7B%0A%20%20%20%20%20%20%20%20%20%20%20%20%7D%29%3B%0A%20%20%20%20%20%20%20%20%7D%3B%0A%20%20%20%20%20%20%20%20var%20geo_json_a4aab2bc3fb548198e6028d518b387db%20%3D%20L.geoJson%28null%2C%20%7B%0A%20%20%20%20%20%20%20%20%20%20%20%20%20%20%20%20onEachFeature%3A%20geo_json_a4aab2bc3fb548198e6028d518b387db_onEachFeature%2C%0A%20%20%20%20%20%20%20%20%20%20%20%20%0A%20%20%20%20%20%20%20%20%20%20%20%20%20%20%20%20style%3A%20geo_json_a4aab2bc3fb548198e6028d518b387db_styler%2C%0A%20%20%20%20%20%20%20%20%7D%29%3B%0A%0A%20%20%20%20%20%20%20%20function%20geo_json_a4aab2bc3fb548198e6028d518b387db_add%20%28data%29%20%7B%0A%20%20%20%20%20%20%20%20%20%20%20%20geo_json_a4aab2bc3fb548198e6028d518b387db%0A%20%20%20%20%20%20%20%20%20%20%20%20%20%20%20%20.addData%28data%29%0A%20%20%20%20%20%20%20%20%20%20%20%20%20%20%20%20.addTo%28map_bd082722b4904660bb4858e52cc7758f%29%3B%0A%20%20%20%20%20%20%20%20%7D%0A%20%20%20%20%20%20%20%20%20%20%20%20geo_json_a4aab2bc3fb548198e6028d518b387db_add%28%7B%22features%22%3A%20%5B%7B%22geometry%22%3A%20%7B%22coordinates%22%3A%20%5B%5B%5B26.478%2C%2041.462%2C%201.114%5D%2C%20%5B26.478%2C%20148.584%2C%201.114%5D%2C%20%5B132.113%2C%20148.584%2C%2030.586%5D%2C%20%5B132.113%2C%2041.462%2C%2030.586%5D%2C%20%5B26.478%2C%2041.462%2C%201.114%5D%5D%5D%2C%20%22type%22%3A%20%22Polygon%22%7D%2C%20%22id%22%3A%20%220%22%2C%20%22type%22%3A%20%22Feature%22%7D%5D%2C%20%22type%22%3A%20%22FeatureCollection%22%7D%29%3B%0A%0A%20%20%20%20%20%20%20%20%0A%20%20%20%20%0A%20%20%20%20%20%20%20%20var%20popup_ec1d1a64f2fc48a28d7e857c90b48bf8%20%3D%20L.popup%28%7B%22maxWidth%22%3A%20%22100%25%22%7D%29%3B%0A%0A%20%20%20%20%20%20%20%20%0A%20%20%20%20%20%20%20%20%20%20%20%20var%20html_e2976b8cdc97462db5522615c12708d6%20%3D%20%24%28%60%3Cdiv%20id%3D%22html_e2976b8cdc97462db5522615c12708d6%22%20style%3D%22width%3A%20100.0%25%3B%20height%3A%20100.0%25%3B%22%3EDrone%20Mystery%20Lidar%3C/div%3E%60%29%5B0%5D%3B%0A%20%20%20%20%20%20%20%20%20%20%20%20popup_ec1d1a64f2fc48a28d7e857c90b48bf8.setContent%28html_e2976b8cdc97462db5522615c12708d6%29%3B%0A%20%20%20%20%20%20%20%20%0A%0A%20%20%20%20%20%20%20%20geo_json_a4aab2bc3fb548198e6028d518b387db.bindPopup%28popup_ec1d1a64f2fc48a28d7e857c90b48bf8%29%0A%20%20%20%20%20%20%20%20%3B%0A%0A%20%20%20%20%20%20%20%20%0A%20%20%20%20%0A%3C/script%3E onload=\"this.contentDocument.open();this.contentDocument.write(    decodeURIComponent(this.getAttribute('data-html')));this.contentDocument.close();\" allowfullscreen webkitallowfullscreen mozallowfullscreen></iframe></div></div>"
      ],
      "text/plain": [
       "<folium.folium.Map at 0x7f52aafa75b0>"
      ]
     },
     "execution_count": 39,
     "metadata": {},
     "output_type": "execute_result"
    }
   ],
   "source": [
    "geoj = json.dumps(geom_dict)\n",
    "geo_j = folium.GeoJson(data=geoj,style_function=lambda x: {'fillColor': 'orange'})\n",
    "folium.Popup('Drone Mystery Lidar').add_to(geo_j)\n",
    "geo_j.add_to(m)\n",
    "m"
   ]
  },
  {
   "cell_type": "code",
   "execution_count": null,
   "id": "8ff57767",
   "metadata": {},
   "outputs": [],
   "source": []
  },
  {
   "cell_type": "code",
   "execution_count": null,
   "id": "5134a3b1",
   "metadata": {},
   "outputs": [],
   "source": []
  }
 ],
 "metadata": {
  "kernelspec": {
   "display_name": "Python 3 (ipykernel)",
   "language": "python",
   "name": "python3"
  },
  "language_info": {
   "codemirror_mode": {
    "name": "ipython",
    "version": 3
   },
   "file_extension": ".py",
   "mimetype": "text/x-python",
   "name": "python",
   "nbconvert_exporter": "python",
   "pygments_lexer": "ipython3",
   "version": "3.9.10"
  }
 },
 "nbformat": 4,
 "nbformat_minor": 5
}
