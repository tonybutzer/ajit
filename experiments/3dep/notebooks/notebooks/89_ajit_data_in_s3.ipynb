{
 "cells": [
  {
   "cell_type": "code",
   "execution_count": 1,
   "id": "212ccd67",
   "metadata": {},
   "outputs": [],
   "source": [
    "! mkdir data"
   ]
  },
  {
   "cell_type": "code",
   "execution_count": 2,
   "id": "6edebbfa",
   "metadata": {},
   "outputs": [],
   "source": [
    "! echo data/ > .gitignore"
   ]
  },
  {
   "cell_type": "code",
   "execution_count": 4,
   "id": "c4e426b3",
   "metadata": {},
   "outputs": [
    {
     "name": "stdout",
     "output_type": "stream",
     "text": [
      "2022-03-06 17:54:05  137136235 HT404_1580305001_1264340300747572_1.las\r\n"
     ]
    }
   ],
   "source": [
    "! aws s3 ls eccoe-lidar/ajit/"
   ]
  },
  {
   "cell_type": "code",
   "execution_count": 6,
   "id": "471251fb",
   "metadata": {},
   "outputs": [
    {
     "name": "stdout",
     "output_type": "stream",
     "text": [
      "download: s3://eccoe-lidar/ajit/HT404_1580305001_1264340300747572_1.las to data/HT404_1580305001_1264340300747572_1.las\n"
     ]
    }
   ],
   "source": [
    "! aws s3 cp s3://eccoe-lidar/ajit/HT404_1580305001_1264340300747572_1.las data/"
   ]
  },
  {
   "cell_type": "code",
   "execution_count": 7,
   "id": "e6b33795",
   "metadata": {},
   "outputs": [
    {
     "name": "stdout",
     "output_type": "stream",
     "text": [
      "HT404_1580305001_1264340300747572_1.las\r\n"
     ]
    }
   ],
   "source": [
    "! ls data/"
   ]
  },
  {
   "cell_type": "code",
   "execution_count": 10,
   "id": "fdce3dc3",
   "metadata": {},
   "outputs": [
    {
     "name": "stdout",
     "output_type": "stream",
     "text": [
      "Collecting pylas\n",
      "  Downloading pylas-0.4.3.tar.gz (31 kB)\n",
      "Requirement already satisfied: numpy in /opt/conda/lib/python3.9/site-packages (from pylas) (1.22.2)\n",
      "Building wheels for collected packages: pylas\n",
      "  Building wheel for pylas (setup.py) ... \u001b[?25ldone\n",
      "\u001b[?25h  Created wheel for pylas: filename=pylas-0.4.3-py3-none-any.whl size=40354 sha256=e152b82bcb02c475b325d77d4011e5baa7712db6ad1d96882611a34da63378c0\n",
      "  Stored in directory: /root/.cache/pip/wheels/55/ca/5c/3c5de362b3c855e1d7a2c3edc4e265a4c84c95cf5caaf20d7f\n",
      "Successfully built pylas\n",
      "Installing collected packages: pylas\n",
      "Successfully installed pylas-0.4.3\n",
      "\u001b[33mWARNING: Running pip as the 'root' user can result in broken permissions and conflicting behaviour with the system package manager. It is recommended to use a virtual environment instead: https://pip.pypa.io/warnings/venv\u001b[0m\n"
     ]
    }
   ],
   "source": [
    "#! python -m pip install pylas"
   ]
  },
  {
   "cell_type": "markdown",
   "id": "7a116749",
   "metadata": {},
   "source": [
    "## https://pypi.org/project/pylas/"
   ]
  },
  {
   "cell_type": "code",
   "execution_count": 11,
   "id": "c83deb93",
   "metadata": {},
   "outputs": [],
   "source": [
    "import pylas"
   ]
  },
  {
   "cell_type": "code",
   "execution_count": 13,
   "id": "ee8c1b7f",
   "metadata": {},
   "outputs": [],
   "source": [
    "my_las_file = 'data/HT404_1580305001_1264340300747572_1.las'"
   ]
  },
  {
   "cell_type": "code",
   "execution_count": 14,
   "id": "ae95d39e",
   "metadata": {},
   "outputs": [
    {
     "name": "stdout",
     "output_type": "stream",
     "text": [
      "[<GeoKeyDirectoryVlr(5 geo_keys)>]\n"
     ]
    }
   ],
   "source": [
    "with pylas.open(my_las_file) as f:\n",
    "    if f.header.point_count < 10 ** 8:\n",
    "        las = f.read()\n",
    "print(las.vlrs)"
   ]
  },
  {
   "cell_type": "code",
   "execution_count": 15,
   "id": "016a858f",
   "metadata": {},
   "outputs": [
    {
     "data": {
      "text/plain": [
       "<LasHeader(1.2)>"
      ]
     },
     "execution_count": 15,
     "metadata": {},
     "output_type": "execute_result"
    }
   ],
   "source": [
    "f.header"
   ]
  },
  {
   "cell_type": "code",
   "execution_count": 16,
   "id": "2a2c0bf0",
   "metadata": {},
   "outputs": [
    {
     "data": {
      "text/plain": [
       "['__class__',\n",
       " '__ctypes_from_outparam__',\n",
       " '__delattr__',\n",
       " '__dict__',\n",
       " '__dir__',\n",
       " '__doc__',\n",
       " '__eq__',\n",
       " '__format__',\n",
       " '__ge__',\n",
       " '__getattribute__',\n",
       " '__gt__',\n",
       " '__hash__',\n",
       " '__init__',\n",
       " '__init_subclass__',\n",
       " '__le__',\n",
       " '__lt__',\n",
       " '__module__',\n",
       " '__ne__',\n",
       " '__new__',\n",
       " '__reduce__',\n",
       " '__reduce_ex__',\n",
       " '__repr__',\n",
       " '__setattr__',\n",
       " '__setstate__',\n",
       " '__sizeof__',\n",
       " '__str__',\n",
       " '__subclasshook__',\n",
       " '__weakref__',\n",
       " '_b_base_',\n",
       " '_b_needsfree_',\n",
       " '_fields_',\n",
       " '_objects',\n",
       " '_pack_',\n",
       " '_point_data_format_id',\n",
       " '_version_',\n",
       " 'are_points_compressed',\n",
       " 'creation_day_of_year',\n",
       " 'creation_year',\n",
       " 'date',\n",
       " 'file_signature',\n",
       " 'file_source_id',\n",
       " 'generating_software',\n",
       " 'global_encoding',\n",
       " 'legacy_number_of_points_by_return',\n",
       " 'legacy_point_count',\n",
       " 'maxs',\n",
       " 'mins',\n",
       " 'number_of_points_by_return',\n",
       " 'number_of_vlr',\n",
       " 'offset_to_point_data',\n",
       " 'offsets',\n",
       " 'point_count',\n",
       " 'point_data_record_length',\n",
       " 'point_format_id',\n",
       " 'point_size',\n",
       " 'scales',\n",
       " 'size',\n",
       " 'system_identifier',\n",
       " 'uuid',\n",
       " 'uuid_bytes',\n",
       " 'version',\n",
       " 'version_major',\n",
       " 'version_minor',\n",
       " 'write_to',\n",
       " 'x_max',\n",
       " 'x_min',\n",
       " 'x_offset',\n",
       " 'x_scale',\n",
       " 'y_max',\n",
       " 'y_min',\n",
       " 'y_offset',\n",
       " 'y_scale',\n",
       " 'z_max',\n",
       " 'z_min',\n",
       " 'z_offset',\n",
       " 'z_scale']"
      ]
     },
     "execution_count": 16,
     "metadata": {},
     "output_type": "execute_result"
    }
   ],
   "source": [
    "dir(f.header)"
   ]
  },
  {
   "cell_type": "code",
   "execution_count": 17,
   "id": "efb884c7",
   "metadata": {},
   "outputs": [
    {
     "data": {
      "text/plain": [
       "2021"
      ]
     },
     "execution_count": 17,
     "metadata": {},
     "output_type": "execute_result"
    }
   ],
   "source": [
    "(f.header.creation_year)"
   ]
  },
  {
   "cell_type": "code",
   "execution_count": 18,
   "id": "e5dc70e2",
   "metadata": {},
   "outputs": [
    {
     "data": {
      "text/plain": [
       "75"
      ]
     },
     "execution_count": 18,
     "metadata": {},
     "output_type": "execute_result"
    }
   ],
   "source": [
    "(f.header.creation_day_of_year)"
   ]
  },
  {
   "cell_type": "code",
   "execution_count": 19,
   "id": "dcc4bcb9",
   "metadata": {},
   "outputs": [
    {
     "data": {
      "text/plain": [
       "(datetime.date(2021, 3, 16), b'las2las (version 200304)')"
      ]
     },
     "execution_count": 19,
     "metadata": {},
     "output_type": "execute_result"
    }
   ],
   "source": [
    "(f.header.date, f.header.generating_software)"
   ]
  },
  {
   "cell_type": "code",
   "execution_count": 21,
   "id": "8f48e996",
   "metadata": {},
   "outputs": [
    {
     "data": {
      "text/plain": [
       "(array([3.42297690e+05, 3.34079243e+06, 1.60800000e+01]),\n",
       " array([3.42539770e+05, 3.34099443e+06, 5.13200000e+01]))"
      ]
     },
     "execution_count": 21,
     "metadata": {},
     "output_type": "execute_result"
    }
   ],
   "source": [
    "(f.header.mins, f.header.maxs)"
   ]
  },
  {
   "cell_type": "code",
   "execution_count": 24,
   "id": "09d8d5a5",
   "metadata": {},
   "outputs": [
    {
     "data": {
      "text/plain": [
       "<pylas.headers.rawheader.GlobalEncoding at 0x7f3048fa0c40>"
      ]
     },
     "execution_count": 24,
     "metadata": {},
     "output_type": "execute_result"
    }
   ],
   "source": [
    "f.header.global_encoding"
   ]
  },
  {
   "cell_type": "markdown",
   "id": "d0025aa5",
   "metadata": {},
   "source": [
    "https://github.com/stac-extensions/pointcloud"
   ]
  },
  {
   "cell_type": "code",
   "execution_count": 31,
   "id": "c867d8cc",
   "metadata": {},
   "outputs": [
    {
     "name": "stdout",
     "output_type": "stream",
     "text": [
      "{\r\n",
      "  \"boundary\":\r\n",
      "  {\r\n",
      "    \"area\": 63550.41265,\r\n",
      "    \"avg_pt_per_sq_unit\": 0.04627289912,\r\n",
      "    \"avg_pt_spacing\": 0.1255229265,\r\n",
      "    \"boundary\": \"POLYGON ((342442.65114028 3340753.5444525,342539.92588802 3340777.61371041,342581.61506562 3340849.82148417,342539.92588802 3340922.02925792,342484.34031788 3341018.30628959,342289.7908224 3341018.30628959,342275.89442986 3340801.68296833,342442.65114028 3340753.5444525))\",\r\n",
      "    \"boundary_json\": { \"type\": \"Polygon\", \"coordinates\": [ [ [ 342442.651140280009713, 3340753.544452500063926 ], [ 342539.925888020021375, 3340777.613710409961641 ], [ 342581.615065619989764, 3340849.821484169922769 ], [ 342539.925888020021375, 3340922.02925792010501 ], [ 342484.340317879978102, 3341018.306289589963853 ], [ 342289.790822400012985, 3341018.306289589963853 ], [ 342275.894429859996308, 3340801.682968330103904 ], [ 342442.651140280009713, 3340753.544452500063926 ] ] ] },\r\n",
      "    \"density\": 63.46786483,\r\n",
      "    \"edge_length\": 0,\r\n",
      "    \"estimated_edge\": 48.13851583,\r\n",
      "    \"hex_offsets\": \"MULTIPOINT (0 0, -13.8964 24.0693, 0 48.1385, 27.7928 48.1385, 41.6892 24.0693, 27.7928 0)\",\r\n",
      "    \"sample_size\": 5000,\r\n",
      "    \"threshold\": 15\r\n",
      "  },\r\n",
      "  \"file_size\": 137136235,\r\n",
      "  \"filename\": \"data/HT404_1580305001_1264340300747572_1.las\",\r\n",
      "  \"metadata\":\r\n",
      "  {\r\n",
      "    \"comp_spatialreference\": \"PROJCRS[\\\"WGS 84 / UTM zone 17N\\\",BASEGEOGCRS[\\\"WGS 84\\\",ENSEMBLE[\\\"World Geodetic System 1984 ensemble\\\",MEMBER[\\\"World Geodetic System 1984 (Transit)\\\"],MEMBER[\\\"World Geodetic System 1984 (G730)\\\"],MEMBER[\\\"World Geodetic System 1984 (G873)\\\"],MEMBER[\\\"World Geodetic System 1984 (G1150)\\\"],MEMBER[\\\"World Geodetic System 1984 (G1674)\\\"],MEMBER[\\\"World Geodetic System 1984 (G1762)\\\"],MEMBER[\\\"World Geodetic System 1984 (G2139)\\\"],ELLIPSOID[\\\"WGS 84\\\",6378137,298.257223563,LENGTHUNIT[\\\"metre\\\",1]],ENSEMBLEACCURACY[2.0]],PRIMEM[\\\"Greenwich\\\",0,ANGLEUNIT[\\\"degree\\\",0.0174532925199433]],ID[\\\"EPSG\\\",4979]],CONVERSION[\\\"UTM zone 17N\\\",METHOD[\\\"Transverse Mercator\\\",ID[\\\"EPSG\\\",9807]],PARAMETER[\\\"Latitude of natural origin\\\",0,ANGLEUNIT[\\\"degree\\\",0.0174532925199433],ID[\\\"EPSG\\\",8801]],PARAMETER[\\\"Longitude of natural origin\\\",-81,ANGLEUNIT[\\\"degree\\\",0.0174532925199433],ID[\\\"EPSG\\\",8802]],PARAMETER[\\\"Scale factor at natural origin\\\",0.9996,SCALEUNIT[\\\"unity\\\",1],ID[\\\"EPSG\\\",8805]],PARAMETER[\\\"False easting\\\",500000,LENGTHUNIT[\\\"metre\\\",1],ID[\\\"EPSG\\\",8806]],PARAMETER[\\\"False northing\\\",0,LENGTHUNIT[\\\"metre\\\",1],ID[\\\"EPSG\\\",8807]],ID[\\\"EPSG\\\",16017]],CS[Cartesian,3],AXIS[\\\"(E)\\\",east,ORDER[1],LENGTHUNIT[\\\"metre\\\",1]],AXIS[\\\"(N)\\\",north,ORDER[2],LENGTHUNIT[\\\"metre\\\",1]],AXIS[\\\"ellipsoidal height (h)\\\",up,ORDER[3],LENGTHUNIT[\\\"metre\\\",1]]]\",\r\n",
      "    \"compressed\": false,\r\n",
      "    \"count\": 4033409,\r\n",
      "    \"creation_doy\": 75,\r\n",
      "    \"creation_year\": 2021,\r\n",
      "    \"dataformat_id\": 3,\r\n",
      "    \"dataoffset\": 329,\r\n",
      "    \"filesource_id\": 0,\r\n",
      "    \"global_encoding\": 0,\r\n",
      "    \"global_encoding_base64\": \"AAA=\",\r\n",
      "    \"gtiff\": \"Geotiff_Information:\\n   Version: 1\\n   Key_Revision: 1.0\\n   Tagged_Information:\\n      End_Of_Tags.\\n   Keyed_Information:\\n      GTModelTypeGeoKey (Short,1): ModelTypeProjected\\n      ProjectedCSTypeGeoKey (Short,1): PCS_WGS84_UTM_zone_17N\\n      ProjLinearUnitsGeoKey (Short,1): Linear_Meter\\n      VerticalUnitsGeoKey (Short,1): Linear_Meter\\n      VerticalCSTypeGeoKey (Short,1): Code-4979 (WGS 84)\\n      End_Of_Keys.\\n   End_Of_Geotiff.\\n\",\r\n",
      "    \"header_size\": 227,\r\n",
      "    \"major_version\": 1,\r\n",
      "    \"maxx\": 342539.77,\r\n",
      "    \"maxy\": 3340994.43,\r\n",
      "    \"maxz\": 51.32,\r\n",
      "    \"minor_version\": 2,\r\n",
      "    \"minx\": 342297.69,\r\n",
      "    \"miny\": 3340792.43,\r\n",
      "    \"minz\": 16.08,\r\n",
      "    \"offset_x\": 300000,\r\n",
      "    \"offset_y\": 3300000,\r\n",
      "    \"offset_z\": 0,\r\n",
      "    \"point_length\": 34,\r\n",
      "    \"project_id\": \"00000000-0000-0000-0000-000000000000\",\r\n",
      "    \"scale_x\": 0.01,\r\n",
      "    \"scale_y\": 0.01,\r\n",
      "    \"scale_z\": 0.01,\r\n",
      "    \"software_id\": \"las2las (version 200304)\",\r\n",
      "    \"spatialreference\": \"PROJCRS[\\\"WGS 84 / UTM zone 17N\\\",BASEGEOGCRS[\\\"WGS 84\\\",ENSEMBLE[\\\"World Geodetic System 1984 ensemble\\\",MEMBER[\\\"World Geodetic System 1984 (Transit)\\\"],MEMBER[\\\"World Geodetic System 1984 (G730)\\\"],MEMBER[\\\"World Geodetic System 1984 (G873)\\\"],MEMBER[\\\"World Geodetic System 1984 (G1150)\\\"],MEMBER[\\\"World Geodetic System 1984 (G1674)\\\"],MEMBER[\\\"World Geodetic System 1984 (G1762)\\\"],MEMBER[\\\"World Geodetic System 1984 (G2139)\\\"],ELLIPSOID[\\\"WGS 84\\\",6378137,298.257223563,LENGTHUNIT[\\\"metre\\\",1]],ENSEMBLEACCURACY[2.0]],PRIMEM[\\\"Greenwich\\\",0,ANGLEUNIT[\\\"degree\\\",0.0174532925199433]],ID[\\\"EPSG\\\",4979]],CONVERSION[\\\"UTM zone 17N\\\",METHOD[\\\"Transverse Mercator\\\",ID[\\\"EPSG\\\",9807]],PARAMETER[\\\"Latitude of natural origin\\\",0,ANGLEUNIT[\\\"degree\\\",0.0174532925199433],ID[\\\"EPSG\\\",8801]],PARAMETER[\\\"Longitude of natural origin\\\",-81,ANGLEUNIT[\\\"degree\\\",0.0174532925199433],ID[\\\"EPSG\\\",8802]],PARAMETER[\\\"Scale factor at natural origin\\\",0.9996,SCALEUNIT[\\\"unity\\\",1],ID[\\\"EPSG\\\",8805]],PARAMETER[\\\"False easting\\\",500000,LENGTHUNIT[\\\"metre\\\",1],ID[\\\"EPSG\\\",8806]],PARAMETER[\\\"False northing\\\",0,LENGTHUNIT[\\\"metre\\\",1],ID[\\\"EPSG\\\",8807]],ID[\\\"EPSG\\\",16017]],CS[Cartesian,3],AXIS[\\\"(E)\\\",east,ORDER[1],LENGTHUNIT[\\\"metre\\\",1]],AXIS[\\\"(N)\\\",north,ORDER[2],LENGTHUNIT[\\\"metre\\\",1]],AXIS[\\\"ellipsoidal height (h)\\\",up,ORDER[3],LENGTHUNIT[\\\"metre\\\",1]]]\",\r\n",
      "    \"srs\":\r\n",
      "    {\r\n",
      "      \"compoundwkt\": \"PROJCRS[\\\"WGS 84 / UTM zone 17N\\\",BASEGEOGCRS[\\\"WGS 84\\\",ENSEMBLE[\\\"World Geodetic System 1984 ensemble\\\",MEMBER[\\\"World Geodetic System 1984 (Transit)\\\"],MEMBER[\\\"World Geodetic System 1984 (G730)\\\"],MEMBER[\\\"World Geodetic System 1984 (G873)\\\"],MEMBER[\\\"World Geodetic System 1984 (G1150)\\\"],MEMBER[\\\"World Geodetic System 1984 (G1674)\\\"],MEMBER[\\\"World Geodetic System 1984 (G1762)\\\"],MEMBER[\\\"World Geodetic System 1984 (G2139)\\\"],ELLIPSOID[\\\"WGS 84\\\",6378137,298.257223563,LENGTHUNIT[\\\"metre\\\",1]],ENSEMBLEACCURACY[2.0]],PRIMEM[\\\"Greenwich\\\",0,ANGLEUNIT[\\\"degree\\\",0.0174532925199433]],ID[\\\"EPSG\\\",4979]],CONVERSION[\\\"UTM zone 17N\\\",METHOD[\\\"Transverse Mercator\\\",ID[\\\"EPSG\\\",9807]],PARAMETER[\\\"Latitude of natural origin\\\",0,ANGLEUNIT[\\\"degree\\\",0.0174532925199433],ID[\\\"EPSG\\\",8801]],PARAMETER[\\\"Longitude of natural origin\\\",-81,ANGLEUNIT[\\\"degree\\\",0.0174532925199433],ID[\\\"EPSG\\\",8802]],PARAMETER[\\\"Scale factor at natural origin\\\",0.9996,SCALEUNIT[\\\"unity\\\",1],ID[\\\"EPSG\\\",8805]],PARAMETER[\\\"False easting\\\",500000,LENGTHUNIT[\\\"metre\\\",1],ID[\\\"EPSG\\\",8806]],PARAMETER[\\\"False northing\\\",0,LENGTHUNIT[\\\"metre\\\",1],ID[\\\"EPSG\\\",8807]],ID[\\\"EPSG\\\",16017]],CS[Cartesian,3],AXIS[\\\"(E)\\\",east,ORDER[1],LENGTHUNIT[\\\"metre\\\",1]],AXIS[\\\"(N)\\\",north,ORDER[2],LENGTHUNIT[\\\"metre\\\",1]],AXIS[\\\"ellipsoidal height (h)\\\",up,ORDER[3],LENGTHUNIT[\\\"metre\\\",1]]]\",\r\n",
      "      \"horizontal\": \"PROJCRS[\\\"WGS 84 / UTM zone 17N\\\",BASEGEOGCRS[\\\"WGS 84\\\",ENSEMBLE[\\\"World Geodetic System 1984 ensemble\\\",MEMBER[\\\"World Geodetic System 1984 (Transit)\\\"],MEMBER[\\\"World Geodetic System 1984 (G730)\\\"],MEMBER[\\\"World Geodetic System 1984 (G873)\\\"],MEMBER[\\\"World Geodetic System 1984 (G1150)\\\"],MEMBER[\\\"World Geodetic System 1984 (G1674)\\\"],MEMBER[\\\"World Geodetic System 1984 (G1762)\\\"],MEMBER[\\\"World Geodetic System 1984 (G2139)\\\"],ELLIPSOID[\\\"WGS 84\\\",6378137,298.257223563,LENGTHUNIT[\\\"metre\\\",1]],ENSEMBLEACCURACY[2.0]],PRIMEM[\\\"Greenwich\\\",0,ANGLEUNIT[\\\"degree\\\",0.0174532925199433]],ID[\\\"EPSG\\\",4979]],CONVERSION[\\\"UTM zone 17N\\\",METHOD[\\\"Transverse Mercator\\\",ID[\\\"EPSG\\\",9807]],PARAMETER[\\\"Latitude of natural origin\\\",0,ANGLEUNIT[\\\"degree\\\",0.0174532925199433],ID[\\\"EPSG\\\",8801]],PARAMETER[\\\"Longitude of natural origin\\\",-81,ANGLEUNIT[\\\"degree\\\",0.0174532925199433],ID[\\\"EPSG\\\",8802]],PARAMETER[\\\"Scale factor at natural origin\\\",0.9996,SCALEUNIT[\\\"unity\\\",1],ID[\\\"EPSG\\\",8805]],PARAMETER[\\\"False easting\\\",500000,LENGTHUNIT[\\\"metre\\\",1],ID[\\\"EPSG\\\",8806]],PARAMETER[\\\"False northing\\\",0,LENGTHUNIT[\\\"metre\\\",1],ID[\\\"EPSG\\\",8807]],ID[\\\"EPSG\\\",16017]],CS[Cartesian,3],AXIS[\\\"(E)\\\",east,ORDER[1],LENGTHUNIT[\\\"metre\\\",1]],AXIS[\\\"(N)\\\",north,ORDER[2],LENGTHUNIT[\\\"metre\\\",1]],AXIS[\\\"ellipsoidal height (h)\\\",up,ORDER[3],LENGTHUNIT[\\\"metre\\\",1]]]\",\r\n",
      "      \"isgeocentric\": false,\r\n",
      "      \"isgeographic\": false,\r\n",
      "      \"prettycompoundwkt\": \"PROJCRS[\\\"WGS 84 / UTM zone 17N\\\",\\n    BASEGEOGCRS[\\\"WGS 84\\\",\\n        ENSEMBLE[\\\"World Geodetic System 1984 ensemble\\\",\\n            MEMBER[\\\"World Geodetic System 1984 (Transit)\\\"],\\n            MEMBER[\\\"World Geodetic System 1984 (G730)\\\"],\\n            MEMBER[\\\"World Geodetic System 1984 (G873)\\\"],\\n            MEMBER[\\\"World Geodetic System 1984 (G1150)\\\"],\\n            MEMBER[\\\"World Geodetic System 1984 (G1674)\\\"],\\n            MEMBER[\\\"World Geodetic System 1984 (G1762)\\\"],\\n            MEMBER[\\\"World Geodetic System 1984 (G2139)\\\"],\\n            ELLIPSOID[\\\"WGS 84\\\",6378137,298.257223563,\\n                LENGTHUNIT[\\\"metre\\\",1]],\\n            ENSEMBLEACCURACY[2.0]],\\n        PRIMEM[\\\"Greenwich\\\",0,\\n            ANGLEUNIT[\\\"degree\\\",0.0174532925199433]],\\n        ID[\\\"EPSG\\\",4979]],\\n    CONVERSION[\\\"UTM zone 17N\\\",\\n        METHOD[\\\"Transverse Mercator\\\",\\n            ID[\\\"EPSG\\\",9807]],\\n        PARAMETER[\\\"Latitude of natural origin\\\",0,\\n            ANGLEUNIT[\\\"degree\\\",0.0174532925199433],\\n            ID[\\\"EPSG\\\",8801]],\\n        PARAMETER[\\\"Longitude of natural origin\\\",-81,\\n            ANGLEUNIT[\\\"degree\\\",0.0174532925199433],\\n            ID[\\\"EPSG\\\",8802]],\\n        PARAMETER[\\\"Scale factor at natural origin\\\",0.9996,\\n            SCALEUNIT[\\\"unity\\\",1],\\n            ID[\\\"EPSG\\\",8805]],\\n        PARAMETER[\\\"False easting\\\",500000,\\n            LENGTHUNIT[\\\"metre\\\",1],\\n            ID[\\\"EPSG\\\",8806]],\\n        PARAMETER[\\\"False northing\\\",0,\\n            LENGTHUNIT[\\\"metre\\\",1],\\n            ID[\\\"EPSG\\\",8807]],\\n        ID[\\\"EPSG\\\",16017]],\\n    CS[Cartesian,3],\\n        AXIS[\\\"(E)\\\",east,\\n            ORDER[1],\\n            LENGTHUNIT[\\\"metre\\\",1]],\\n        AXIS[\\\"(N)\\\",north,\\n            ORDER[2],\\n            LENGTHUNIT[\\\"metre\\\",1]],\\n        AXIS[\\\"ellipsoidal height (h)\\\",up,\\n            ORDER[3],\\n            LENGTHUNIT[\\\"metre\\\",1]]]\",\r\n",
      "      \"prettywkt\": \"PROJCRS[\\\"WGS 84 / UTM zone 17N\\\",\\n    BASEGEOGCRS[\\\"WGS 84\\\",\\n        ENSEMBLE[\\\"World Geodetic System 1984 ensemble\\\",\\n            MEMBER[\\\"World Geodetic System 1984 (Transit)\\\"],\\n            MEMBER[\\\"World Geodetic System 1984 (G730)\\\"],\\n            MEMBER[\\\"World Geodetic System 1984 (G873)\\\"],\\n            MEMBER[\\\"World Geodetic System 1984 (G1150)\\\"],\\n            MEMBER[\\\"World Geodetic System 1984 (G1674)\\\"],\\n            MEMBER[\\\"World Geodetic System 1984 (G1762)\\\"],\\n            MEMBER[\\\"World Geodetic System 1984 (G2139)\\\"],\\n            ELLIPSOID[\\\"WGS 84\\\",6378137,298.257223563,\\n                LENGTHUNIT[\\\"metre\\\",1]],\\n            ENSEMBLEACCURACY[2.0]],\\n        PRIMEM[\\\"Greenwich\\\",0,\\n            ANGLEUNIT[\\\"degree\\\",0.0174532925199433]],\\n        ID[\\\"EPSG\\\",4979]],\\n    CONVERSION[\\\"UTM zone 17N\\\",\\n        METHOD[\\\"Transverse Mercator\\\",\\n            ID[\\\"EPSG\\\",9807]],\\n        PARAMETER[\\\"Latitude of natural origin\\\",0,\\n            ANGLEUNIT[\\\"degree\\\",0.0174532925199433],\\n            ID[\\\"EPSG\\\",8801]],\\n        PARAMETER[\\\"Longitude of natural origin\\\",-81,\\n            ANGLEUNIT[\\\"degree\\\",0.0174532925199433],\\n            ID[\\\"EPSG\\\",8802]],\\n        PARAMETER[\\\"Scale factor at natural origin\\\",0.9996,\\n            SCALEUNIT[\\\"unity\\\",1],\\n            ID[\\\"EPSG\\\",8805]],\\n        PARAMETER[\\\"False easting\\\",500000,\\n            LENGTHUNIT[\\\"metre\\\",1],\\n            ID[\\\"EPSG\\\",8806]],\\n        PARAMETER[\\\"False northing\\\",0,\\n            LENGTHUNIT[\\\"metre\\\",1],\\n            ID[\\\"EPSG\\\",8807]],\\n        ID[\\\"EPSG\\\",16017]],\\n    CS[Cartesian,3],\\n        AXIS[\\\"(E)\\\",east,\\n            ORDER[1],\\n            LENGTHUNIT[\\\"metre\\\",1]],\\n        AXIS[\\\"(N)\\\",north,\\n            ORDER[2],\\n            LENGTHUNIT[\\\"metre\\\",1]],\\n        AXIS[\\\"ellipsoidal height (h)\\\",up,\\n            ORDER[3],\\n            LENGTHUNIT[\\\"metre\\\",1]]]\",\r\n",
      "      \"proj4\": \"+proj=utm +zone=17 +datum=WGS84 +units=m +no_defs\",\r\n",
      "      \"units\":\r\n",
      "      {\r\n",
      "        \"horizontal\": \"metre\",\r\n",
      "        \"vertical\": \"\"\r\n",
      "      },\r\n",
      "      \"vertical\": \"\",\r\n",
      "      \"wkt\": \"PROJCRS[\\\"WGS 84 / UTM zone 17N\\\",BASEGEOGCRS[\\\"WGS 84\\\",ENSEMBLE[\\\"World Geodetic System 1984 ensemble\\\",MEMBER[\\\"World Geodetic System 1984 (Transit)\\\"],MEMBER[\\\"World Geodetic System 1984 (G730)\\\"],MEMBER[\\\"World Geodetic System 1984 (G873)\\\"],MEMBER[\\\"World Geodetic System 1984 (G1150)\\\"],MEMBER[\\\"World Geodetic System 1984 (G1674)\\\"],MEMBER[\\\"World Geodetic System 1984 (G1762)\\\"],MEMBER[\\\"World Geodetic System 1984 (G2139)\\\"],ELLIPSOID[\\\"WGS 84\\\",6378137,298.257223563,LENGTHUNIT[\\\"metre\\\",1]],ENSEMBLEACCURACY[2.0]],PRIMEM[\\\"Greenwich\\\",0,ANGLEUNIT[\\\"degree\\\",0.0174532925199433]],ID[\\\"EPSG\\\",4979]],CONVERSION[\\\"UTM zone 17N\\\",METHOD[\\\"Transverse Mercator\\\",ID[\\\"EPSG\\\",9807]],PARAMETER[\\\"Latitude of natural origin\\\",0,ANGLEUNIT[\\\"degree\\\",0.0174532925199433],ID[\\\"EPSG\\\",8801]],PARAMETER[\\\"Longitude of natural origin\\\",-81,ANGLEUNIT[\\\"degree\\\",0.0174532925199433],ID[\\\"EPSG\\\",8802]],PARAMETER[\\\"Scale factor at natural origin\\\",0.9996,SCALEUNIT[\\\"unity\\\",1],ID[\\\"EPSG\\\",8805]],PARAMETER[\\\"False easting\\\",500000,LENGTHUNIT[\\\"metre\\\",1],ID[\\\"EPSG\\\",8806]],PARAMETER[\\\"False northing\\\",0,LENGTHUNIT[\\\"metre\\\",1],ID[\\\"EPSG\\\",8807]],ID[\\\"EPSG\\\",16017]],CS[Cartesian,3],AXIS[\\\"(E)\\\",east,ORDER[1],LENGTHUNIT[\\\"metre\\\",1]],AXIS[\\\"(N)\\\",north,ORDER[2],LENGTHUNIT[\\\"metre\\\",1]],AXIS[\\\"ellipsoidal height (h)\\\",up,ORDER[3],LENGTHUNIT[\\\"metre\\\",1]]]\"\r\n",
      "    },\r\n",
      "    \"system_id\": \"LAStools (c) by rapidlasso GmbH\",\r\n",
      "    \"vlr_0\":\r\n",
      "    {\r\n",
      "      \"data\": \"AQABAAAABQAABAAAAQABAAAMAAABAGl/BAwAAAEAKSMDEAAAAQApIwAQAAABAHMT\",\r\n",
      "      \"description\": \"by LAStools of rapidlasso GmbH\",\r\n",
      "      \"record_id\": 34735,\r\n",
      "      \"user_id\": \"LASF_Projection\"\r\n",
      "    }\r\n",
      "  },\r\n",
      "  \"now\": \"2022-03-07T00:24:06+0000\",\r\n",
      "  \"pdal_version\": \"2.3.0 (git-version: 653f3f)\",\r\n",
      "  \"reader\": \"readers.las\",\r\n",
      "  \"schema\":\r\n",
      "  {\r\n",
      "    \"dimensions\":\r\n",
      "    [\r\n",
      "      {\r\n",
      "        \"name\": \"X\",\r\n",
      "        \"size\": 8,\r\n",
      "        \"type\": \"floating\"\r\n",
      "      },\r\n",
      "      {\r\n",
      "        \"name\": \"Y\",\r\n",
      "        \"size\": 8,\r\n",
      "        \"type\": \"floating\"\r\n",
      "      },\r\n",
      "      {\r\n",
      "        \"name\": \"Z\",\r\n",
      "        \"size\": 8,\r\n",
      "        \"type\": \"floating\"\r\n",
      "      },\r\n",
      "      {\r\n",
      "        \"name\": \"Intensity\",\r\n",
      "        \"size\": 2,\r\n",
      "        \"type\": \"unsigned\"\r\n",
      "      },\r\n",
      "      {\r\n",
      "        \"name\": \"ReturnNumber\",\r\n",
      "        \"size\": 1,\r\n",
      "        \"type\": \"unsigned\"\r\n",
      "      },\r\n",
      "      {\r\n",
      "        \"name\": \"NumberOfReturns\",\r\n",
      "        \"size\": 1,\r\n",
      "        \"type\": \"unsigned\"\r\n",
      "      },\r\n",
      "      {\r\n",
      "        \"name\": \"ScanDirectionFlag\",\r\n",
      "        \"size\": 1,\r\n",
      "        \"type\": \"unsigned\"\r\n",
      "      },\r\n",
      "      {\r\n",
      "        \"name\": \"EdgeOfFlightLine\",\r\n",
      "        \"size\": 1,\r\n",
      "        \"type\": \"unsigned\"\r\n",
      "      },\r\n",
      "      {\r\n",
      "        \"name\": \"Classification\",\r\n",
      "        \"size\": 1,\r\n",
      "        \"type\": \"unsigned\"\r\n",
      "      },\r\n",
      "      {\r\n",
      "        \"name\": \"ScanAngleRank\",\r\n",
      "        \"size\": 4,\r\n",
      "        \"type\": \"floating\"\r\n",
      "      },\r\n",
      "      {\r\n",
      "        \"name\": \"UserData\",\r\n",
      "        \"size\": 1,\r\n",
      "        \"type\": \"unsigned\"\r\n",
      "      },\r\n",
      "      {\r\n",
      "        \"name\": \"PointSourceId\",\r\n",
      "        \"size\": 2,\r\n",
      "        \"type\": \"unsigned\"\r\n",
      "      },\r\n",
      "      {\r\n",
      "        \"name\": \"GpsTime\",\r\n",
      "        \"size\": 8,\r\n",
      "        \"type\": \"floating\"\r\n",
      "      },\r\n",
      "      {\r\n",
      "        \"name\": \"Red\",\r\n",
      "        \"size\": 2,\r\n",
      "        \"type\": \"unsigned\"\r\n",
      "      },\r\n",
      "      {\r\n",
      "        \"name\": \"Green\",\r\n",
      "        \"size\": 2,\r\n",
      "        \"type\": \"unsigned\"\r\n",
      "      },\r\n",
      "      {\r\n",
      "        \"name\": \"Blue\",\r\n",
      "        \"size\": 2,\r\n",
      "        \"type\": \"unsigned\"\r\n",
      "      }\r\n",
      "    ]\r\n",
      "  },\r\n",
      "  \"stats\":\r\n",
      "  {\r\n",
      "    \"bbox\":\r\n",
      "    {\r\n",
      "      \"EPSG:4326\":\r\n",
      "      {\r\n",
      "        \"bbox\":\r\n",
      "        {\r\n",
      "          \"maxx\": -82.63558518,\r\n",
      "          \"maxy\": 30.19022412,\r\n",
      "          \"maxz\": 51.32,\r\n",
      "          \"minx\": -82.63812904,\r\n",
      "          \"miny\": 30.18837057,\r\n",
      "          \"minz\": 16.08\r\n",
      "        },\r\n",
      "        \"boundary\": { \"type\": \"Polygon\", \"coordinates\": [ [ [ -82.638098877219576, 30.18837056771563, 16.08 ], [ -82.63812904167294, 30.190192738763791, 16.08 ], [ -82.635615300398911, 30.190224119722, 51.32 ], [ -82.635585182183164, 30.188401946389458, 51.32 ], [ -82.638098877219576, 30.18837056771563, 16.08 ] ] ] }\r\n",
      "      },\r\n",
      "      \"native\":\r\n",
      "      {\r\n",
      "        \"bbox\":\r\n",
      "        {\r\n",
      "          \"maxx\": 342539.77,\r\n",
      "          \"maxy\": 3340994.43,\r\n",
      "          \"maxz\": 51.32,\r\n",
      "          \"minx\": 342297.69,\r\n",
      "          \"miny\": 3340792.43,\r\n",
      "          \"minz\": 16.08\r\n",
      "        },\r\n",
      "        \"boundary\": { \"type\": \"Polygon\", \"coordinates\": [ [ [ 342297.69, 3340792.430000000167638, 16.08 ], [ 342297.69, 3340994.430000000167638, 16.08 ], [ 342539.770000000018626, 3340994.430000000167638, 51.32 ], [ 342539.770000000018626, 3340792.430000000167638, 51.32 ], [ 342297.69, 3340792.430000000167638, 16.08 ] ] ] }\r\n",
      "      }\r\n",
      "    },\r\n",
      "    \"statistic\":\r\n",
      "    [\r\n",
      "      {\r\n",
      "        \"average\": 342381.0852,\r\n",
      "        \"count\": 4033409,\r\n",
      "        \"maximum\": 342539.77,\r\n",
      "        \"minimum\": 342297.69,\r\n",
      "        \"name\": \"X\",\r\n",
      "        \"position\": 0,\r\n",
      "        \"stddev\": 30.98423381,\r\n",
      "        \"variance\": 960.022745\r\n",
      "      },\r\n",
      "      {\r\n",
      "        \"average\": 3340895.565,\r\n",
      "        \"count\": 4033409,\r\n",
      "        \"maximum\": 3340994.43,\r\n",
      "        \"minimum\": 3340792.43,\r\n",
      "        \"name\": \"Y\",\r\n",
      "        \"position\": 1,\r\n",
      "        \"stddev\": 19.07156758,\r\n",
      "        \"variance\": 363.7246901\r\n",
      "      },\r\n",
      "      {\r\n",
      "        \"average\": 30.79607639,\r\n",
      "        \"count\": 4033409,\r\n",
      "        \"maximum\": 51.32,\r\n",
      "        \"minimum\": 16.08,\r\n",
      "        \"name\": \"Z\",\r\n",
      "        \"position\": 2,\r\n",
      "        \"stddev\": 1.893862884,\r\n",
      "        \"variance\": 3.586716625\r\n",
      "      },\r\n",
      "      {\r\n",
      "        \"average\": 19.71014345,\r\n",
      "        \"count\": 4033409,\r\n",
      "        \"maximum\": 255,\r\n",
      "        \"minimum\": 0,\r\n",
      "        \"name\": \"Intensity\",\r\n",
      "        \"position\": 3,\r\n",
      "        \"stddev\": 20.5117698,\r\n",
      "        \"variance\": 420.7327004\r\n",
      "      },\r\n",
      "      {\r\n",
      "        \"average\": 1,\r\n",
      "        \"count\": 4033409,\r\n",
      "        \"maximum\": 1,\r\n",
      "        \"minimum\": 1,\r\n",
      "        \"name\": \"ReturnNumber\",\r\n",
      "        \"position\": 4,\r\n",
      "        \"stddev\": 0,\r\n",
      "        \"variance\": 0\r\n",
      "      },\r\n",
      "      {\r\n",
      "        \"average\": 1,\r\n",
      "        \"count\": 4033409,\r\n",
      "        \"maximum\": 1,\r\n",
      "        \"minimum\": 1,\r\n",
      "        \"name\": \"NumberOfReturns\",\r\n",
      "        \"position\": 5,\r\n",
      "        \"stddev\": 0,\r\n",
      "        \"variance\": 0\r\n",
      "      },\r\n",
      "      {\r\n",
      "        \"average\": 0,\r\n",
      "        \"count\": 4033409,\r\n",
      "        \"maximum\": 0,\r\n",
      "        \"minimum\": 0,\r\n",
      "        \"name\": \"ScanDirectionFlag\",\r\n",
      "        \"position\": 6,\r\n",
      "        \"stddev\": 0,\r\n",
      "        \"variance\": 0\r\n",
      "      },\r\n",
      "      {\r\n",
      "        \"average\": 0,\r\n",
      "        \"count\": 4033409,\r\n",
      "        \"maximum\": 0,\r\n",
      "        \"minimum\": 0,\r\n",
      "        \"name\": \"EdgeOfFlightLine\",\r\n",
      "        \"position\": 7,\r\n",
      "        \"stddev\": 0,\r\n",
      "        \"variance\": 0\r\n",
      "      },\r\n",
      "      {\r\n",
      "        \"average\": 0,\r\n",
      "        \"count\": 4033409,\r\n",
      "        \"maximum\": 0,\r\n",
      "        \"minimum\": 0,\r\n",
      "        \"name\": \"Classification\",\r\n",
      "        \"position\": 8,\r\n",
      "        \"stddev\": 0,\r\n",
      "        \"variance\": 0\r\n",
      "      },\r\n",
      "      {\r\n",
      "        \"average\": 26.72242265,\r\n",
      "        \"count\": 4033409,\r\n",
      "        \"maximum\": 127,\r\n",
      "        \"minimum\": -128,\r\n",
      "        \"name\": \"ScanAngleRank\",\r\n",
      "        \"position\": 9,\r\n",
      "        \"stddev\": 66.28265798,\r\n",
      "        \"variance\": 4393.390749\r\n",
      "      },\r\n",
      "      {\r\n",
      "        \"average\": 0,\r\n",
      "        \"count\": 4033409,\r\n",
      "        \"maximum\": 0,\r\n",
      "        \"minimum\": 0,\r\n",
      "        \"name\": \"UserData\",\r\n",
      "        \"position\": 10,\r\n",
      "        \"stddev\": 0,\r\n",
      "        \"variance\": 0\r\n",
      "      },\r\n",
      "      {\r\n",
      "        \"average\": 15.52758746,\r\n",
      "        \"count\": 4033409,\r\n",
      "        \"maximum\": 31,\r\n",
      "        \"minimum\": 0,\r\n",
      "        \"name\": \"PointSourceId\",\r\n",
      "        \"position\": 11,\r\n",
      "        \"stddev\": 9.187602639,\r\n",
      "        \"variance\": 84.41204226\r\n",
      "      },\r\n",
      "      {\r\n",
      "        \"average\": 124.7246706,\r\n",
      "        \"count\": 4033409,\r\n",
      "        \"maximum\": 255,\r\n",
      "        \"minimum\": 0,\r\n",
      "        \"name\": \"Red\",\r\n",
      "        \"position\": 12,\r\n",
      "        \"stddev\": 49.07383222,\r\n",
      "        \"variance\": 2408.241009\r\n",
      "      },\r\n",
      "      {\r\n",
      "        \"average\": 117.4358646,\r\n",
      "        \"count\": 4033409,\r\n",
      "        \"maximum\": 255,\r\n",
      "        \"minimum\": 0,\r\n",
      "        \"name\": \"Green\",\r\n",
      "        \"position\": 13,\r\n",
      "        \"stddev\": 44.46121854,\r\n",
      "        \"variance\": 1976.799954\r\n",
      "      },\r\n",
      "      {\r\n",
      "        \"average\": 126.8309814,\r\n",
      "        \"count\": 4033409,\r\n",
      "        \"maximum\": 255,\r\n",
      "        \"minimum\": 0,\r\n",
      "        \"name\": \"Blue\",\r\n",
      "        \"position\": 14,\r\n",
      "        \"stddev\": 47.01156301,\r\n",
      "        \"variance\": 2210.087056\r\n",
      "      },\r\n",
      "      {\r\n",
      "        \"average\": 1.264340333e+15,\r\n",
      "        \"count\": 4033409,\r\n",
      "        \"maximum\": 1.264340362e+15,\r\n",
      "        \"minimum\": 1.264340301e+15,\r\n",
      "        \"name\": \"GpsTime\",\r\n",
      "        \"position\": 15,\r\n",
      "        \"stddev\": 26183233.7,\r\n",
      "        \"variance\": 6.85561727e+14\r\n",
      "      }\r\n",
      "    ]\r\n",
      "  }\r\n",
      "}\r\n"
     ]
    }
   ],
   "source": [
    "! pdal info --all data/HT404_1580305001_1264340300747572_1.las"
   ]
  },
  {
   "cell_type": "code",
   "execution_count": 29,
   "id": "5cb4d7cc",
   "metadata": {},
   "outputs": [],
   "source": [
    "#! conda install -c conda-forge  -y pdal"
   ]
  },
  {
   "cell_type": "code",
   "execution_count": 30,
   "id": "ac7c212e",
   "metadata": {},
   "outputs": [],
   "source": [
    "# FAIL FAIL - no pip joy ! python -m pip install pdal"
   ]
  },
  {
   "cell_type": "code",
   "execution_count": 32,
   "id": "a40677a6",
   "metadata": {},
   "outputs": [],
   "source": [
    "! pdal info --all data/HT404_1580305001_1264340300747572_1.las > data/pdal.json"
   ]
  },
  {
   "cell_type": "code",
   "execution_count": 33,
   "id": "db8531e9",
   "metadata": {},
   "outputs": [],
   "source": [
    "import json"
   ]
  },
  {
   "cell_type": "code",
   "execution_count": 34,
   "id": "d8e290c5",
   "metadata": {},
   "outputs": [
    {
     "name": "stdout",
     "output_type": "stream",
     "text": [
      "{'boundary': {'area': 63550.41265, 'avg_pt_per_sq_unit': 0.04627289912, 'avg_pt_spacing': 0.1255229265, 'boundary': 'POLYGON ((342442.65114028 3340753.5444525,342539.92588802 3340777.61371041,342581.61506562 3340849.82148417,342539.92588802 3340922.02925792,342484.34031788 3341018.30628959,342289.7908224 3341018.30628959,342275.89442986 3340801.68296833,342442.65114028 3340753.5444525))', 'boundary_json': {'type': 'Polygon', 'coordinates': [[[342442.65114028, 3340753.5444525], [342539.92588802, 3340777.61371041], [342581.61506562, 3340849.82148417], [342539.92588802, 3340922.02925792], [342484.34031788, 3341018.30628959], [342289.7908224, 3341018.30628959], [342275.89442986, 3340801.68296833], [342442.65114028, 3340753.5444525]]]}, 'density': 63.46786483, 'edge_length': 0, 'estimated_edge': 48.13851583, 'hex_offsets': 'MULTIPOINT (0 0, -13.8964 24.0693, 0 48.1385, 27.7928 48.1385, 41.6892 24.0693, 27.7928 0)', 'sample_size': 5000, 'threshold': 15}, 'file_size': 137136235, 'filename': 'data/HT404_1580305001_1264340300747572_1.las', 'metadata': {'comp_spatialreference': 'PROJCRS[\"WGS 84 / UTM zone 17N\",BASEGEOGCRS[\"WGS 84\",ENSEMBLE[\"World Geodetic System 1984 ensemble\",MEMBER[\"World Geodetic System 1984 (Transit)\"],MEMBER[\"World Geodetic System 1984 (G730)\"],MEMBER[\"World Geodetic System 1984 (G873)\"],MEMBER[\"World Geodetic System 1984 (G1150)\"],MEMBER[\"World Geodetic System 1984 (G1674)\"],MEMBER[\"World Geodetic System 1984 (G1762)\"],MEMBER[\"World Geodetic System 1984 (G2139)\"],ELLIPSOID[\"WGS 84\",6378137,298.257223563,LENGTHUNIT[\"metre\",1]],ENSEMBLEACCURACY[2.0]],PRIMEM[\"Greenwich\",0,ANGLEUNIT[\"degree\",0.0174532925199433]],ID[\"EPSG\",4979]],CONVERSION[\"UTM zone 17N\",METHOD[\"Transverse Mercator\",ID[\"EPSG\",9807]],PARAMETER[\"Latitude of natural origin\",0,ANGLEUNIT[\"degree\",0.0174532925199433],ID[\"EPSG\",8801]],PARAMETER[\"Longitude of natural origin\",-81,ANGLEUNIT[\"degree\",0.0174532925199433],ID[\"EPSG\",8802]],PARAMETER[\"Scale factor at natural origin\",0.9996,SCALEUNIT[\"unity\",1],ID[\"EPSG\",8805]],PARAMETER[\"False easting\",500000,LENGTHUNIT[\"metre\",1],ID[\"EPSG\",8806]],PARAMETER[\"False northing\",0,LENGTHUNIT[\"metre\",1],ID[\"EPSG\",8807]],ID[\"EPSG\",16017]],CS[Cartesian,3],AXIS[\"(E)\",east,ORDER[1],LENGTHUNIT[\"metre\",1]],AXIS[\"(N)\",north,ORDER[2],LENGTHUNIT[\"metre\",1]],AXIS[\"ellipsoidal height (h)\",up,ORDER[3],LENGTHUNIT[\"metre\",1]]]', 'compressed': False, 'count': 4033409, 'creation_doy': 75, 'creation_year': 2021, 'dataformat_id': 3, 'dataoffset': 329, 'filesource_id': 0, 'global_encoding': 0, 'global_encoding_base64': 'AAA=', 'gtiff': 'Geotiff_Information:\\n   Version: 1\\n   Key_Revision: 1.0\\n   Tagged_Information:\\n      End_Of_Tags.\\n   Keyed_Information:\\n      GTModelTypeGeoKey (Short,1): ModelTypeProjected\\n      ProjectedCSTypeGeoKey (Short,1): PCS_WGS84_UTM_zone_17N\\n      ProjLinearUnitsGeoKey (Short,1): Linear_Meter\\n      VerticalUnitsGeoKey (Short,1): Linear_Meter\\n      VerticalCSTypeGeoKey (Short,1): Code-4979 (WGS 84)\\n      End_Of_Keys.\\n   End_Of_Geotiff.\\n', 'header_size': 227, 'major_version': 1, 'maxx': 342539.77, 'maxy': 3340994.43, 'maxz': 51.32, 'minor_version': 2, 'minx': 342297.69, 'miny': 3340792.43, 'minz': 16.08, 'offset_x': 300000, 'offset_y': 3300000, 'offset_z': 0, 'point_length': 34, 'project_id': '00000000-0000-0000-0000-000000000000', 'scale_x': 0.01, 'scale_y': 0.01, 'scale_z': 0.01, 'software_id': 'las2las (version 200304)', 'spatialreference': 'PROJCRS[\"WGS 84 / UTM zone 17N\",BASEGEOGCRS[\"WGS 84\",ENSEMBLE[\"World Geodetic System 1984 ensemble\",MEMBER[\"World Geodetic System 1984 (Transit)\"],MEMBER[\"World Geodetic System 1984 (G730)\"],MEMBER[\"World Geodetic System 1984 (G873)\"],MEMBER[\"World Geodetic System 1984 (G1150)\"],MEMBER[\"World Geodetic System 1984 (G1674)\"],MEMBER[\"World Geodetic System 1984 (G1762)\"],MEMBER[\"World Geodetic System 1984 (G2139)\"],ELLIPSOID[\"WGS 84\",6378137,298.257223563,LENGTHUNIT[\"metre\",1]],ENSEMBLEACCURACY[2.0]],PRIMEM[\"Greenwich\",0,ANGLEUNIT[\"degree\",0.0174532925199433]],ID[\"EPSG\",4979]],CONVERSION[\"UTM zone 17N\",METHOD[\"Transverse Mercator\",ID[\"EPSG\",9807]],PARAMETER[\"Latitude of natural origin\",0,ANGLEUNIT[\"degree\",0.0174532925199433],ID[\"EPSG\",8801]],PARAMETER[\"Longitude of natural origin\",-81,ANGLEUNIT[\"degree\",0.0174532925199433],ID[\"EPSG\",8802]],PARAMETER[\"Scale factor at natural origin\",0.9996,SCALEUNIT[\"unity\",1],ID[\"EPSG\",8805]],PARAMETER[\"False easting\",500000,LENGTHUNIT[\"metre\",1],ID[\"EPSG\",8806]],PARAMETER[\"False northing\",0,LENGTHUNIT[\"metre\",1],ID[\"EPSG\",8807]],ID[\"EPSG\",16017]],CS[Cartesian,3],AXIS[\"(E)\",east,ORDER[1],LENGTHUNIT[\"metre\",1]],AXIS[\"(N)\",north,ORDER[2],LENGTHUNIT[\"metre\",1]],AXIS[\"ellipsoidal height (h)\",up,ORDER[3],LENGTHUNIT[\"metre\",1]]]', 'srs': {'compoundwkt': 'PROJCRS[\"WGS 84 / UTM zone 17N\",BASEGEOGCRS[\"WGS 84\",ENSEMBLE[\"World Geodetic System 1984 ensemble\",MEMBER[\"World Geodetic System 1984 (Transit)\"],MEMBER[\"World Geodetic System 1984 (G730)\"],MEMBER[\"World Geodetic System 1984 (G873)\"],MEMBER[\"World Geodetic System 1984 (G1150)\"],MEMBER[\"World Geodetic System 1984 (G1674)\"],MEMBER[\"World Geodetic System 1984 (G1762)\"],MEMBER[\"World Geodetic System 1984 (G2139)\"],ELLIPSOID[\"WGS 84\",6378137,298.257223563,LENGTHUNIT[\"metre\",1]],ENSEMBLEACCURACY[2.0]],PRIMEM[\"Greenwich\",0,ANGLEUNIT[\"degree\",0.0174532925199433]],ID[\"EPSG\",4979]],CONVERSION[\"UTM zone 17N\",METHOD[\"Transverse Mercator\",ID[\"EPSG\",9807]],PARAMETER[\"Latitude of natural origin\",0,ANGLEUNIT[\"degree\",0.0174532925199433],ID[\"EPSG\",8801]],PARAMETER[\"Longitude of natural origin\",-81,ANGLEUNIT[\"degree\",0.0174532925199433],ID[\"EPSG\",8802]],PARAMETER[\"Scale factor at natural origin\",0.9996,SCALEUNIT[\"unity\",1],ID[\"EPSG\",8805]],PARAMETER[\"False easting\",500000,LENGTHUNIT[\"metre\",1],ID[\"EPSG\",8806]],PARAMETER[\"False northing\",0,LENGTHUNIT[\"metre\",1],ID[\"EPSG\",8807]],ID[\"EPSG\",16017]],CS[Cartesian,3],AXIS[\"(E)\",east,ORDER[1],LENGTHUNIT[\"metre\",1]],AXIS[\"(N)\",north,ORDER[2],LENGTHUNIT[\"metre\",1]],AXIS[\"ellipsoidal height (h)\",up,ORDER[3],LENGTHUNIT[\"metre\",1]]]', 'horizontal': 'PROJCRS[\"WGS 84 / UTM zone 17N\",BASEGEOGCRS[\"WGS 84\",ENSEMBLE[\"World Geodetic System 1984 ensemble\",MEMBER[\"World Geodetic System 1984 (Transit)\"],MEMBER[\"World Geodetic System 1984 (G730)\"],MEMBER[\"World Geodetic System 1984 (G873)\"],MEMBER[\"World Geodetic System 1984 (G1150)\"],MEMBER[\"World Geodetic System 1984 (G1674)\"],MEMBER[\"World Geodetic System 1984 (G1762)\"],MEMBER[\"World Geodetic System 1984 (G2139)\"],ELLIPSOID[\"WGS 84\",6378137,298.257223563,LENGTHUNIT[\"metre\",1]],ENSEMBLEACCURACY[2.0]],PRIMEM[\"Greenwich\",0,ANGLEUNIT[\"degree\",0.0174532925199433]],ID[\"EPSG\",4979]],CONVERSION[\"UTM zone 17N\",METHOD[\"Transverse Mercator\",ID[\"EPSG\",9807]],PARAMETER[\"Latitude of natural origin\",0,ANGLEUNIT[\"degree\",0.0174532925199433],ID[\"EPSG\",8801]],PARAMETER[\"Longitude of natural origin\",-81,ANGLEUNIT[\"degree\",0.0174532925199433],ID[\"EPSG\",8802]],PARAMETER[\"Scale factor at natural origin\",0.9996,SCALEUNIT[\"unity\",1],ID[\"EPSG\",8805]],PARAMETER[\"False easting\",500000,LENGTHUNIT[\"metre\",1],ID[\"EPSG\",8806]],PARAMETER[\"False northing\",0,LENGTHUNIT[\"metre\",1],ID[\"EPSG\",8807]],ID[\"EPSG\",16017]],CS[Cartesian,3],AXIS[\"(E)\",east,ORDER[1],LENGTHUNIT[\"metre\",1]],AXIS[\"(N)\",north,ORDER[2],LENGTHUNIT[\"metre\",1]],AXIS[\"ellipsoidal height (h)\",up,ORDER[3],LENGTHUNIT[\"metre\",1]]]', 'isgeocentric': False, 'isgeographic': False, 'prettycompoundwkt': 'PROJCRS[\"WGS 84 / UTM zone 17N\",\\n    BASEGEOGCRS[\"WGS 84\",\\n        ENSEMBLE[\"World Geodetic System 1984 ensemble\",\\n            MEMBER[\"World Geodetic System 1984 (Transit)\"],\\n            MEMBER[\"World Geodetic System 1984 (G730)\"],\\n            MEMBER[\"World Geodetic System 1984 (G873)\"],\\n            MEMBER[\"World Geodetic System 1984 (G1150)\"],\\n            MEMBER[\"World Geodetic System 1984 (G1674)\"],\\n            MEMBER[\"World Geodetic System 1984 (G1762)\"],\\n            MEMBER[\"World Geodetic System 1984 (G2139)\"],\\n            ELLIPSOID[\"WGS 84\",6378137,298.257223563,\\n                LENGTHUNIT[\"metre\",1]],\\n            ENSEMBLEACCURACY[2.0]],\\n        PRIMEM[\"Greenwich\",0,\\n            ANGLEUNIT[\"degree\",0.0174532925199433]],\\n        ID[\"EPSG\",4979]],\\n    CONVERSION[\"UTM zone 17N\",\\n        METHOD[\"Transverse Mercator\",\\n            ID[\"EPSG\",9807]],\\n        PARAMETER[\"Latitude of natural origin\",0,\\n            ANGLEUNIT[\"degree\",0.0174532925199433],\\n            ID[\"EPSG\",8801]],\\n        PARAMETER[\"Longitude of natural origin\",-81,\\n            ANGLEUNIT[\"degree\",0.0174532925199433],\\n            ID[\"EPSG\",8802]],\\n        PARAMETER[\"Scale factor at natural origin\",0.9996,\\n            SCALEUNIT[\"unity\",1],\\n            ID[\"EPSG\",8805]],\\n        PARAMETER[\"False easting\",500000,\\n            LENGTHUNIT[\"metre\",1],\\n            ID[\"EPSG\",8806]],\\n        PARAMETER[\"False northing\",0,\\n            LENGTHUNIT[\"metre\",1],\\n            ID[\"EPSG\",8807]],\\n        ID[\"EPSG\",16017]],\\n    CS[Cartesian,3],\\n        AXIS[\"(E)\",east,\\n            ORDER[1],\\n            LENGTHUNIT[\"metre\",1]],\\n        AXIS[\"(N)\",north,\\n            ORDER[2],\\n            LENGTHUNIT[\"metre\",1]],\\n        AXIS[\"ellipsoidal height (h)\",up,\\n            ORDER[3],\\n            LENGTHUNIT[\"metre\",1]]]', 'prettywkt': 'PROJCRS[\"WGS 84 / UTM zone 17N\",\\n    BASEGEOGCRS[\"WGS 84\",\\n        ENSEMBLE[\"World Geodetic System 1984 ensemble\",\\n            MEMBER[\"World Geodetic System 1984 (Transit)\"],\\n            MEMBER[\"World Geodetic System 1984 (G730)\"],\\n            MEMBER[\"World Geodetic System 1984 (G873)\"],\\n            MEMBER[\"World Geodetic System 1984 (G1150)\"],\\n            MEMBER[\"World Geodetic System 1984 (G1674)\"],\\n            MEMBER[\"World Geodetic System 1984 (G1762)\"],\\n            MEMBER[\"World Geodetic System 1984 (G2139)\"],\\n            ELLIPSOID[\"WGS 84\",6378137,298.257223563,\\n                LENGTHUNIT[\"metre\",1]],\\n            ENSEMBLEACCURACY[2.0]],\\n        PRIMEM[\"Greenwich\",0,\\n            ANGLEUNIT[\"degree\",0.0174532925199433]],\\n        ID[\"EPSG\",4979]],\\n    CONVERSION[\"UTM zone 17N\",\\n        METHOD[\"Transverse Mercator\",\\n            ID[\"EPSG\",9807]],\\n        PARAMETER[\"Latitude of natural origin\",0,\\n            ANGLEUNIT[\"degree\",0.0174532925199433],\\n            ID[\"EPSG\",8801]],\\n        PARAMETER[\"Longitude of natural origin\",-81,\\n            ANGLEUNIT[\"degree\",0.0174532925199433],\\n            ID[\"EPSG\",8802]],\\n        PARAMETER[\"Scale factor at natural origin\",0.9996,\\n            SCALEUNIT[\"unity\",1],\\n            ID[\"EPSG\",8805]],\\n        PARAMETER[\"False easting\",500000,\\n            LENGTHUNIT[\"metre\",1],\\n            ID[\"EPSG\",8806]],\\n        PARAMETER[\"False northing\",0,\\n            LENGTHUNIT[\"metre\",1],\\n            ID[\"EPSG\",8807]],\\n        ID[\"EPSG\",16017]],\\n    CS[Cartesian,3],\\n        AXIS[\"(E)\",east,\\n            ORDER[1],\\n            LENGTHUNIT[\"metre\",1]],\\n        AXIS[\"(N)\",north,\\n            ORDER[2],\\n            LENGTHUNIT[\"metre\",1]],\\n        AXIS[\"ellipsoidal height (h)\",up,\\n            ORDER[3],\\n            LENGTHUNIT[\"metre\",1]]]', 'proj4': '+proj=utm +zone=17 +datum=WGS84 +units=m +no_defs', 'units': {'horizontal': 'metre', 'vertical': ''}, 'vertical': '', 'wkt': 'PROJCRS[\"WGS 84 / UTM zone 17N\",BASEGEOGCRS[\"WGS 84\",ENSEMBLE[\"World Geodetic System 1984 ensemble\",MEMBER[\"World Geodetic System 1984 (Transit)\"],MEMBER[\"World Geodetic System 1984 (G730)\"],MEMBER[\"World Geodetic System 1984 (G873)\"],MEMBER[\"World Geodetic System 1984 (G1150)\"],MEMBER[\"World Geodetic System 1984 (G1674)\"],MEMBER[\"World Geodetic System 1984 (G1762)\"],MEMBER[\"World Geodetic System 1984 (G2139)\"],ELLIPSOID[\"WGS 84\",6378137,298.257223563,LENGTHUNIT[\"metre\",1]],ENSEMBLEACCURACY[2.0]],PRIMEM[\"Greenwich\",0,ANGLEUNIT[\"degree\",0.0174532925199433]],ID[\"EPSG\",4979]],CONVERSION[\"UTM zone 17N\",METHOD[\"Transverse Mercator\",ID[\"EPSG\",9807]],PARAMETER[\"Latitude of natural origin\",0,ANGLEUNIT[\"degree\",0.0174532925199433],ID[\"EPSG\",8801]],PARAMETER[\"Longitude of natural origin\",-81,ANGLEUNIT[\"degree\",0.0174532925199433],ID[\"EPSG\",8802]],PARAMETER[\"Scale factor at natural origin\",0.9996,SCALEUNIT[\"unity\",1],ID[\"EPSG\",8805]],PARAMETER[\"False easting\",500000,LENGTHUNIT[\"metre\",1],ID[\"EPSG\",8806]],PARAMETER[\"False northing\",0,LENGTHUNIT[\"metre\",1],ID[\"EPSG\",8807]],ID[\"EPSG\",16017]],CS[Cartesian,3],AXIS[\"(E)\",east,ORDER[1],LENGTHUNIT[\"metre\",1]],AXIS[\"(N)\",north,ORDER[2],LENGTHUNIT[\"metre\",1]],AXIS[\"ellipsoidal height (h)\",up,ORDER[3],LENGTHUNIT[\"metre\",1]]]'}, 'system_id': 'LAStools (c) by rapidlasso GmbH', 'vlr_0': {'data': 'AQABAAAABQAABAAAAQABAAAMAAABAGl/BAwAAAEAKSMDEAAAAQApIwAQAAABAHMT', 'description': 'by LAStools of rapidlasso GmbH', 'record_id': 34735, 'user_id': 'LASF_Projection'}}, 'now': '2022-03-07T00:27:33+0000', 'pdal_version': '2.3.0 (git-version: 653f3f)', 'reader': 'readers.las', 'schema': {'dimensions': [{'name': 'X', 'size': 8, 'type': 'floating'}, {'name': 'Y', 'size': 8, 'type': 'floating'}, {'name': 'Z', 'size': 8, 'type': 'floating'}, {'name': 'Intensity', 'size': 2, 'type': 'unsigned'}, {'name': 'ReturnNumber', 'size': 1, 'type': 'unsigned'}, {'name': 'NumberOfReturns', 'size': 1, 'type': 'unsigned'}, {'name': 'ScanDirectionFlag', 'size': 1, 'type': 'unsigned'}, {'name': 'EdgeOfFlightLine', 'size': 1, 'type': 'unsigned'}, {'name': 'Classification', 'size': 1, 'type': 'unsigned'}, {'name': 'ScanAngleRank', 'size': 4, 'type': 'floating'}, {'name': 'UserData', 'size': 1, 'type': 'unsigned'}, {'name': 'PointSourceId', 'size': 2, 'type': 'unsigned'}, {'name': 'GpsTime', 'size': 8, 'type': 'floating'}, {'name': 'Red', 'size': 2, 'type': 'unsigned'}, {'name': 'Green', 'size': 2, 'type': 'unsigned'}, {'name': 'Blue', 'size': 2, 'type': 'unsigned'}]}, 'stats': {'bbox': {'EPSG:4326': {'bbox': {'maxx': -82.63558518, 'maxy': 30.19022412, 'maxz': 51.32, 'minx': -82.63812904, 'miny': 30.18837057, 'minz': 16.08}, 'boundary': {'type': 'Polygon', 'coordinates': [[[-82.63809887721958, 30.18837056771563, 16.08], [-82.63812904167294, 30.19019273876379, 16.08], [-82.63561530039891, 30.190224119722, 51.32], [-82.63558518218316, 30.188401946389458, 51.32], [-82.63809887721958, 30.18837056771563, 16.08]]]}}, 'native': {'bbox': {'maxx': 342539.77, 'maxy': 3340994.43, 'maxz': 51.32, 'minx': 342297.69, 'miny': 3340792.43, 'minz': 16.08}, 'boundary': {'type': 'Polygon', 'coordinates': [[[342297.69, 3340792.43, 16.08], [342297.69, 3340994.43, 16.08], [342539.77, 3340994.43, 51.32], [342539.77, 3340792.43, 51.32], [342297.69, 3340792.43, 16.08]]]}}}, 'statistic': [{'average': 342381.0852, 'count': 4033409, 'maximum': 342539.77, 'minimum': 342297.69, 'name': 'X', 'position': 0, 'stddev': 30.98423381, 'variance': 960.022745}, {'average': 3340895.565, 'count': 4033409, 'maximum': 3340994.43, 'minimum': 3340792.43, 'name': 'Y', 'position': 1, 'stddev': 19.07156758, 'variance': 363.7246901}, {'average': 30.79607639, 'count': 4033409, 'maximum': 51.32, 'minimum': 16.08, 'name': 'Z', 'position': 2, 'stddev': 1.893862884, 'variance': 3.586716625}, {'average': 19.71014345, 'count': 4033409, 'maximum': 255, 'minimum': 0, 'name': 'Intensity', 'position': 3, 'stddev': 20.5117698, 'variance': 420.7327004}, {'average': 1, 'count': 4033409, 'maximum': 1, 'minimum': 1, 'name': 'ReturnNumber', 'position': 4, 'stddev': 0, 'variance': 0}, {'average': 1, 'count': 4033409, 'maximum': 1, 'minimum': 1, 'name': 'NumberOfReturns', 'position': 5, 'stddev': 0, 'variance': 0}, {'average': 0, 'count': 4033409, 'maximum': 0, 'minimum': 0, 'name': 'ScanDirectionFlag', 'position': 6, 'stddev': 0, 'variance': 0}, {'average': 0, 'count': 4033409, 'maximum': 0, 'minimum': 0, 'name': 'EdgeOfFlightLine', 'position': 7, 'stddev': 0, 'variance': 0}, {'average': 0, 'count': 4033409, 'maximum': 0, 'minimum': 0, 'name': 'Classification', 'position': 8, 'stddev': 0, 'variance': 0}, {'average': 26.72242265, 'count': 4033409, 'maximum': 127, 'minimum': -128, 'name': 'ScanAngleRank', 'position': 9, 'stddev': 66.28265798, 'variance': 4393.390749}, {'average': 0, 'count': 4033409, 'maximum': 0, 'minimum': 0, 'name': 'UserData', 'position': 10, 'stddev': 0, 'variance': 0}, {'average': 15.52758746, 'count': 4033409, 'maximum': 31, 'minimum': 0, 'name': 'PointSourceId', 'position': 11, 'stddev': 9.187602639, 'variance': 84.41204226}, {'average': 124.7246706, 'count': 4033409, 'maximum': 255, 'minimum': 0, 'name': 'Red', 'position': 12, 'stddev': 49.07383222, 'variance': 2408.241009}, {'average': 117.4358646, 'count': 4033409, 'maximum': 255, 'minimum': 0, 'name': 'Green', 'position': 13, 'stddev': 44.46121854, 'variance': 1976.799954}, {'average': 126.8309814, 'count': 4033409, 'maximum': 255, 'minimum': 0, 'name': 'Blue', 'position': 14, 'stddev': 47.01156301, 'variance': 2210.087056}, {'average': 1264340333000000.0, 'count': 4033409, 'maximum': 1264340362000000.0, 'minimum': 1264340301000000.0, 'name': 'GpsTime', 'position': 15, 'stddev': 26183233.7, 'variance': 685561727000000.0}]}}\n"
     ]
    }
   ],
   "source": [
    "with open('data/pdal.json') as json_file:\n",
    "    data = json.load(json_file)\n",
    "    #print(data)"
   ]
  },
  {
   "cell_type": "code",
   "execution_count": 35,
   "id": "df835544",
   "metadata": {},
   "outputs": [
    {
     "data": {
      "text/plain": [
       "{'area': 63550.41265,\n",
       " 'avg_pt_per_sq_unit': 0.04627289912,\n",
       " 'avg_pt_spacing': 0.1255229265,\n",
       " 'boundary': 'POLYGON ((342442.65114028 3340753.5444525,342539.92588802 3340777.61371041,342581.61506562 3340849.82148417,342539.92588802 3340922.02925792,342484.34031788 3341018.30628959,342289.7908224 3341018.30628959,342275.89442986 3340801.68296833,342442.65114028 3340753.5444525))',\n",
       " 'boundary_json': {'type': 'Polygon',\n",
       "  'coordinates': [[[342442.65114028, 3340753.5444525],\n",
       "    [342539.92588802, 3340777.61371041],\n",
       "    [342581.61506562, 3340849.82148417],\n",
       "    [342539.92588802, 3340922.02925792],\n",
       "    [342484.34031788, 3341018.30628959],\n",
       "    [342289.7908224, 3341018.30628959],\n",
       "    [342275.89442986, 3340801.68296833],\n",
       "    [342442.65114028, 3340753.5444525]]]},\n",
       " 'density': 63.46786483,\n",
       " 'edge_length': 0,\n",
       " 'estimated_edge': 48.13851583,\n",
       " 'hex_offsets': 'MULTIPOINT (0 0, -13.8964 24.0693, 0 48.1385, 27.7928 48.1385, 41.6892 24.0693, 27.7928 0)',\n",
       " 'sample_size': 5000,\n",
       " 'threshold': 15}"
      ]
     },
     "execution_count": 35,
     "metadata": {},
     "output_type": "execute_result"
    }
   ],
   "source": [
    "data['boundary']"
   ]
  },
  {
   "cell_type": "code",
   "execution_count": 36,
   "id": "0d08c39f",
   "metadata": {},
   "outputs": [
    {
     "data": {
      "text/plain": [
       "dict_keys(['boundary', 'file_size', 'filename', 'metadata', 'now', 'pdal_version', 'reader', 'schema', 'stats'])"
      ]
     },
     "execution_count": 36,
     "metadata": {},
     "output_type": "execute_result"
    }
   ],
   "source": [
    "data.keys()"
   ]
  },
  {
   "cell_type": "code",
   "execution_count": 37,
   "id": "8f4c198a",
   "metadata": {},
   "outputs": [
    {
     "data": {
      "text/plain": [
       "{'bbox': {'EPSG:4326': {'bbox': {'maxx': -82.63558518,\n",
       "    'maxy': 30.19022412,\n",
       "    'maxz': 51.32,\n",
       "    'minx': -82.63812904,\n",
       "    'miny': 30.18837057,\n",
       "    'minz': 16.08},\n",
       "   'boundary': {'type': 'Polygon',\n",
       "    'coordinates': [[[-82.63809887721958, 30.18837056771563, 16.08],\n",
       "      [-82.63812904167294, 30.19019273876379, 16.08],\n",
       "      [-82.63561530039891, 30.190224119722, 51.32],\n",
       "      [-82.63558518218316, 30.188401946389458, 51.32],\n",
       "      [-82.63809887721958, 30.18837056771563, 16.08]]]}},\n",
       "  'native': {'bbox': {'maxx': 342539.77,\n",
       "    'maxy': 3340994.43,\n",
       "    'maxz': 51.32,\n",
       "    'minx': 342297.69,\n",
       "    'miny': 3340792.43,\n",
       "    'minz': 16.08},\n",
       "   'boundary': {'type': 'Polygon',\n",
       "    'coordinates': [[[342297.69, 3340792.43, 16.08],\n",
       "      [342297.69, 3340994.43, 16.08],\n",
       "      [342539.77, 3340994.43, 51.32],\n",
       "      [342539.77, 3340792.43, 51.32],\n",
       "      [342297.69, 3340792.43, 16.08]]]}}},\n",
       " 'statistic': [{'average': 342381.0852,\n",
       "   'count': 4033409,\n",
       "   'maximum': 342539.77,\n",
       "   'minimum': 342297.69,\n",
       "   'name': 'X',\n",
       "   'position': 0,\n",
       "   'stddev': 30.98423381,\n",
       "   'variance': 960.022745},\n",
       "  {'average': 3340895.565,\n",
       "   'count': 4033409,\n",
       "   'maximum': 3340994.43,\n",
       "   'minimum': 3340792.43,\n",
       "   'name': 'Y',\n",
       "   'position': 1,\n",
       "   'stddev': 19.07156758,\n",
       "   'variance': 363.7246901},\n",
       "  {'average': 30.79607639,\n",
       "   'count': 4033409,\n",
       "   'maximum': 51.32,\n",
       "   'minimum': 16.08,\n",
       "   'name': 'Z',\n",
       "   'position': 2,\n",
       "   'stddev': 1.893862884,\n",
       "   'variance': 3.586716625},\n",
       "  {'average': 19.71014345,\n",
       "   'count': 4033409,\n",
       "   'maximum': 255,\n",
       "   'minimum': 0,\n",
       "   'name': 'Intensity',\n",
       "   'position': 3,\n",
       "   'stddev': 20.5117698,\n",
       "   'variance': 420.7327004},\n",
       "  {'average': 1,\n",
       "   'count': 4033409,\n",
       "   'maximum': 1,\n",
       "   'minimum': 1,\n",
       "   'name': 'ReturnNumber',\n",
       "   'position': 4,\n",
       "   'stddev': 0,\n",
       "   'variance': 0},\n",
       "  {'average': 1,\n",
       "   'count': 4033409,\n",
       "   'maximum': 1,\n",
       "   'minimum': 1,\n",
       "   'name': 'NumberOfReturns',\n",
       "   'position': 5,\n",
       "   'stddev': 0,\n",
       "   'variance': 0},\n",
       "  {'average': 0,\n",
       "   'count': 4033409,\n",
       "   'maximum': 0,\n",
       "   'minimum': 0,\n",
       "   'name': 'ScanDirectionFlag',\n",
       "   'position': 6,\n",
       "   'stddev': 0,\n",
       "   'variance': 0},\n",
       "  {'average': 0,\n",
       "   'count': 4033409,\n",
       "   'maximum': 0,\n",
       "   'minimum': 0,\n",
       "   'name': 'EdgeOfFlightLine',\n",
       "   'position': 7,\n",
       "   'stddev': 0,\n",
       "   'variance': 0},\n",
       "  {'average': 0,\n",
       "   'count': 4033409,\n",
       "   'maximum': 0,\n",
       "   'minimum': 0,\n",
       "   'name': 'Classification',\n",
       "   'position': 8,\n",
       "   'stddev': 0,\n",
       "   'variance': 0},\n",
       "  {'average': 26.72242265,\n",
       "   'count': 4033409,\n",
       "   'maximum': 127,\n",
       "   'minimum': -128,\n",
       "   'name': 'ScanAngleRank',\n",
       "   'position': 9,\n",
       "   'stddev': 66.28265798,\n",
       "   'variance': 4393.390749},\n",
       "  {'average': 0,\n",
       "   'count': 4033409,\n",
       "   'maximum': 0,\n",
       "   'minimum': 0,\n",
       "   'name': 'UserData',\n",
       "   'position': 10,\n",
       "   'stddev': 0,\n",
       "   'variance': 0},\n",
       "  {'average': 15.52758746,\n",
       "   'count': 4033409,\n",
       "   'maximum': 31,\n",
       "   'minimum': 0,\n",
       "   'name': 'PointSourceId',\n",
       "   'position': 11,\n",
       "   'stddev': 9.187602639,\n",
       "   'variance': 84.41204226},\n",
       "  {'average': 124.7246706,\n",
       "   'count': 4033409,\n",
       "   'maximum': 255,\n",
       "   'minimum': 0,\n",
       "   'name': 'Red',\n",
       "   'position': 12,\n",
       "   'stddev': 49.07383222,\n",
       "   'variance': 2408.241009},\n",
       "  {'average': 117.4358646,\n",
       "   'count': 4033409,\n",
       "   'maximum': 255,\n",
       "   'minimum': 0,\n",
       "   'name': 'Green',\n",
       "   'position': 13,\n",
       "   'stddev': 44.46121854,\n",
       "   'variance': 1976.799954},\n",
       "  {'average': 126.8309814,\n",
       "   'count': 4033409,\n",
       "   'maximum': 255,\n",
       "   'minimum': 0,\n",
       "   'name': 'Blue',\n",
       "   'position': 14,\n",
       "   'stddev': 47.01156301,\n",
       "   'variance': 2210.087056},\n",
       "  {'average': 1264340333000000.0,\n",
       "   'count': 4033409,\n",
       "   'maximum': 1264340362000000.0,\n",
       "   'minimum': 1264340301000000.0,\n",
       "   'name': 'GpsTime',\n",
       "   'position': 15,\n",
       "   'stddev': 26183233.7,\n",
       "   'variance': 685561727000000.0}]}"
      ]
     },
     "execution_count": 37,
     "metadata": {},
     "output_type": "execute_result"
    }
   ],
   "source": [
    "data['stats']"
   ]
  },
  {
   "cell_type": "code",
   "execution_count": 42,
   "id": "a9c7e9ca",
   "metadata": {},
   "outputs": [
    {
     "data": {
      "text/plain": [
       "{'maxx': -82.63558518,\n",
       " 'maxy': 30.19022412,\n",
       " 'maxz': 51.32,\n",
       " 'minx': -82.63812904,\n",
       " 'miny': 30.18837057,\n",
       " 'minz': 16.08}"
      ]
     },
     "execution_count": 42,
     "metadata": {},
     "output_type": "execute_result"
    }
   ],
   "source": [
    "data['stats']['bbox']['EPSG:4326']['bbox']"
   ]
  },
  {
   "cell_type": "code",
   "execution_count": 43,
   "id": "6c3f5fd0",
   "metadata": {},
   "outputs": [
    {
     "data": {
      "text/plain": [
       "{'type': 'Polygon',\n",
       " 'coordinates': [[[-82.63809887721958, 30.18837056771563, 16.08],\n",
       "   [-82.63812904167294, 30.19019273876379, 16.08],\n",
       "   [-82.63561530039891, 30.190224119722, 51.32],\n",
       "   [-82.63558518218316, 30.188401946389458, 51.32],\n",
       "   [-82.63809887721958, 30.18837056771563, 16.08]]]}"
      ]
     },
     "execution_count": 43,
     "metadata": {},
     "output_type": "execute_result"
    }
   ],
   "source": [
    "data['stats']['bbox']['EPSG:4326']['boundary']"
   ]
  },
  {
   "cell_type": "code",
   "execution_count": 44,
   "id": "85c94af9",
   "metadata": {},
   "outputs": [],
   "source": [
    "geom_dict = data['stats']['bbox']['EPSG:4326']['boundary']"
   ]
  },
  {
   "cell_type": "code",
   "execution_count": 52,
   "id": "6f1446be",
   "metadata": {},
   "outputs": [],
   "source": [
    "import folium\n",
    "c_lat = data['stats']['bbox']['EPSG:4326']['bbox']['miny']\n",
    "c_lon = data['stats']['bbox']['EPSG:4326']['bbox']['maxx']\n",
    "m = folium.Map(location=[c_lat, c_lon], zoom_start=14, tiles='CartoDB positron')\n"
   ]
  },
  {
   "cell_type": "code",
   "execution_count": 53,
   "id": "e6892dff",
   "metadata": {},
   "outputs": [
    {
     "data": {
      "text/html": [
       "<div style=\"width:100%;\"><div style=\"position:relative;width:100%;height:0;padding-bottom:60%;\"><span style=\"color:#565656\">Make this Notebook Trusted to load map: File -> Trust Notebook</span><iframe src=\"about:blank\" style=\"position:absolute;width:100%;height:100%;left:0;top:0;border:none !important;\" data-html=%3C%21DOCTYPE%20html%3E%0A%3Chead%3E%20%20%20%20%0A%20%20%20%20%3Cmeta%20http-equiv%3D%22content-type%22%20content%3D%22text/html%3B%20charset%3DUTF-8%22%20/%3E%0A%20%20%20%20%0A%20%20%20%20%20%20%20%20%3Cscript%3E%0A%20%20%20%20%20%20%20%20%20%20%20%20L_NO_TOUCH%20%3D%20false%3B%0A%20%20%20%20%20%20%20%20%20%20%20%20L_DISABLE_3D%20%3D%20false%3B%0A%20%20%20%20%20%20%20%20%3C/script%3E%0A%20%20%20%20%0A%20%20%20%20%3Cstyle%3Ehtml%2C%20body%20%7Bwidth%3A%20100%25%3Bheight%3A%20100%25%3Bmargin%3A%200%3Bpadding%3A%200%3B%7D%3C/style%3E%0A%20%20%20%20%3Cstyle%3E%23map%20%7Bposition%3Aabsolute%3Btop%3A0%3Bbottom%3A0%3Bright%3A0%3Bleft%3A0%3B%7D%3C/style%3E%0A%20%20%20%20%3Cscript%20src%3D%22https%3A//cdn.jsdelivr.net/npm/leaflet%401.6.0/dist/leaflet.js%22%3E%3C/script%3E%0A%20%20%20%20%3Cscript%20src%3D%22https%3A//code.jquery.com/jquery-1.12.4.min.js%22%3E%3C/script%3E%0A%20%20%20%20%3Cscript%20src%3D%22https%3A//maxcdn.bootstrapcdn.com/bootstrap/3.2.0/js/bootstrap.min.js%22%3E%3C/script%3E%0A%20%20%20%20%3Cscript%20src%3D%22https%3A//cdnjs.cloudflare.com/ajax/libs/Leaflet.awesome-markers/2.0.2/leaflet.awesome-markers.js%22%3E%3C/script%3E%0A%20%20%20%20%3Clink%20rel%3D%22stylesheet%22%20href%3D%22https%3A//cdn.jsdelivr.net/npm/leaflet%401.6.0/dist/leaflet.css%22/%3E%0A%20%20%20%20%3Clink%20rel%3D%22stylesheet%22%20href%3D%22https%3A//maxcdn.bootstrapcdn.com/bootstrap/3.2.0/css/bootstrap.min.css%22/%3E%0A%20%20%20%20%3Clink%20rel%3D%22stylesheet%22%20href%3D%22https%3A//maxcdn.bootstrapcdn.com/bootstrap/3.2.0/css/bootstrap-theme.min.css%22/%3E%0A%20%20%20%20%3Clink%20rel%3D%22stylesheet%22%20href%3D%22https%3A//maxcdn.bootstrapcdn.com/font-awesome/4.6.3/css/font-awesome.min.css%22/%3E%0A%20%20%20%20%3Clink%20rel%3D%22stylesheet%22%20href%3D%22https%3A//cdnjs.cloudflare.com/ajax/libs/Leaflet.awesome-markers/2.0.2/leaflet.awesome-markers.css%22/%3E%0A%20%20%20%20%3Clink%20rel%3D%22stylesheet%22%20href%3D%22https%3A//cdn.jsdelivr.net/gh/python-visualization/folium/folium/templates/leaflet.awesome.rotate.min.css%22/%3E%0A%20%20%20%20%0A%20%20%20%20%20%20%20%20%20%20%20%20%3Cmeta%20name%3D%22viewport%22%20content%3D%22width%3Ddevice-width%2C%0A%20%20%20%20%20%20%20%20%20%20%20%20%20%20%20%20initial-scale%3D1.0%2C%20maximum-scale%3D1.0%2C%20user-scalable%3Dno%22%20/%3E%0A%20%20%20%20%20%20%20%20%20%20%20%20%3Cstyle%3E%0A%20%20%20%20%20%20%20%20%20%20%20%20%20%20%20%20%23map_4d7821487f204dda8ff0c782fef6d272%20%7B%0A%20%20%20%20%20%20%20%20%20%20%20%20%20%20%20%20%20%20%20%20position%3A%20relative%3B%0A%20%20%20%20%20%20%20%20%20%20%20%20%20%20%20%20%20%20%20%20width%3A%20100.0%25%3B%0A%20%20%20%20%20%20%20%20%20%20%20%20%20%20%20%20%20%20%20%20height%3A%20100.0%25%3B%0A%20%20%20%20%20%20%20%20%20%20%20%20%20%20%20%20%20%20%20%20left%3A%200.0%25%3B%0A%20%20%20%20%20%20%20%20%20%20%20%20%20%20%20%20%20%20%20%20top%3A%200.0%25%3B%0A%20%20%20%20%20%20%20%20%20%20%20%20%20%20%20%20%7D%0A%20%20%20%20%20%20%20%20%20%20%20%20%3C/style%3E%0A%20%20%20%20%20%20%20%20%0A%3C/head%3E%0A%3Cbody%3E%20%20%20%20%0A%20%20%20%20%0A%20%20%20%20%20%20%20%20%20%20%20%20%3Cdiv%20class%3D%22folium-map%22%20id%3D%22map_4d7821487f204dda8ff0c782fef6d272%22%20%3E%3C/div%3E%0A%20%20%20%20%20%20%20%20%0A%3C/body%3E%0A%3Cscript%3E%20%20%20%20%0A%20%20%20%20%0A%20%20%20%20%20%20%20%20%20%20%20%20var%20map_4d7821487f204dda8ff0c782fef6d272%20%3D%20L.map%28%0A%20%20%20%20%20%20%20%20%20%20%20%20%20%20%20%20%22map_4d7821487f204dda8ff0c782fef6d272%22%2C%0A%20%20%20%20%20%20%20%20%20%20%20%20%20%20%20%20%7B%0A%20%20%20%20%20%20%20%20%20%20%20%20%20%20%20%20%20%20%20%20center%3A%20%5B30.18837057%2C%20-82.63558518%5D%2C%0A%20%20%20%20%20%20%20%20%20%20%20%20%20%20%20%20%20%20%20%20crs%3A%20L.CRS.EPSG3857%2C%0A%20%20%20%20%20%20%20%20%20%20%20%20%20%20%20%20%20%20%20%20zoom%3A%2014%2C%0A%20%20%20%20%20%20%20%20%20%20%20%20%20%20%20%20%20%20%20%20zoomControl%3A%20true%2C%0A%20%20%20%20%20%20%20%20%20%20%20%20%20%20%20%20%20%20%20%20preferCanvas%3A%20false%2C%0A%20%20%20%20%20%20%20%20%20%20%20%20%20%20%20%20%7D%0A%20%20%20%20%20%20%20%20%20%20%20%20%29%3B%0A%0A%20%20%20%20%20%20%20%20%20%20%20%20%0A%0A%20%20%20%20%20%20%20%20%0A%20%20%20%20%0A%20%20%20%20%20%20%20%20%20%20%20%20var%20tile_layer_8aa70a00bd5d492c96cb2412424d66c5%20%3D%20L.tileLayer%28%0A%20%20%20%20%20%20%20%20%20%20%20%20%20%20%20%20%22https%3A//cartodb-basemaps-%7Bs%7D.global.ssl.fastly.net/light_all/%7Bz%7D/%7Bx%7D/%7By%7D.png%22%2C%0A%20%20%20%20%20%20%20%20%20%20%20%20%20%20%20%20%7B%22attribution%22%3A%20%22%5Cu0026copy%3B%20%5Cu003ca%20href%3D%5C%22http%3A//www.openstreetmap.org/copyright%5C%22%5Cu003eOpenStreetMap%5Cu003c/a%5Cu003e%20contributors%20%5Cu0026copy%3B%20%5Cu003ca%20href%3D%5C%22http%3A//cartodb.com/attributions%5C%22%5Cu003eCartoDB%5Cu003c/a%5Cu003e%2C%20CartoDB%20%5Cu003ca%20href%20%3D%5C%22http%3A//cartodb.com/attributions%5C%22%5Cu003eattributions%5Cu003c/a%5Cu003e%22%2C%20%22detectRetina%22%3A%20false%2C%20%22maxNativeZoom%22%3A%2018%2C%20%22maxZoom%22%3A%2018%2C%20%22minZoom%22%3A%200%2C%20%22noWrap%22%3A%20false%2C%20%22opacity%22%3A%201%2C%20%22subdomains%22%3A%20%22abc%22%2C%20%22tms%22%3A%20false%7D%0A%20%20%20%20%20%20%20%20%20%20%20%20%29.addTo%28map_4d7821487f204dda8ff0c782fef6d272%29%3B%0A%20%20%20%20%20%20%20%20%0A%20%20%20%20%0A%20%20%20%20%20%20%20%20function%20geo_json_ecc8093293d24fb6a6358c0173d7c7b0_styler%28feature%29%20%7B%0A%20%20%20%20%20%20%20%20%20%20%20%20switch%28feature.id%29%20%7B%0A%20%20%20%20%20%20%20%20%20%20%20%20%20%20%20%20default%3A%0A%20%20%20%20%20%20%20%20%20%20%20%20%20%20%20%20%20%20%20%20return%20%7B%22fillColor%22%3A%20%22orange%22%7D%3B%0A%20%20%20%20%20%20%20%20%20%20%20%20%7D%0A%20%20%20%20%20%20%20%20%7D%0A%0A%20%20%20%20%20%20%20%20function%20geo_json_ecc8093293d24fb6a6358c0173d7c7b0_onEachFeature%28feature%2C%20layer%29%20%7B%0A%20%20%20%20%20%20%20%20%20%20%20%20layer.on%28%7B%0A%20%20%20%20%20%20%20%20%20%20%20%20%7D%29%3B%0A%20%20%20%20%20%20%20%20%7D%3B%0A%20%20%20%20%20%20%20%20var%20geo_json_ecc8093293d24fb6a6358c0173d7c7b0%20%3D%20L.geoJson%28null%2C%20%7B%0A%20%20%20%20%20%20%20%20%20%20%20%20%20%20%20%20onEachFeature%3A%20geo_json_ecc8093293d24fb6a6358c0173d7c7b0_onEachFeature%2C%0A%20%20%20%20%20%20%20%20%20%20%20%20%0A%20%20%20%20%20%20%20%20%20%20%20%20%20%20%20%20style%3A%20geo_json_ecc8093293d24fb6a6358c0173d7c7b0_styler%2C%0A%20%20%20%20%20%20%20%20%7D%29%3B%0A%0A%20%20%20%20%20%20%20%20function%20geo_json_ecc8093293d24fb6a6358c0173d7c7b0_add%20%28data%29%20%7B%0A%20%20%20%20%20%20%20%20%20%20%20%20geo_json_ecc8093293d24fb6a6358c0173d7c7b0%0A%20%20%20%20%20%20%20%20%20%20%20%20%20%20%20%20.addData%28data%29%0A%20%20%20%20%20%20%20%20%20%20%20%20%20%20%20%20.addTo%28map_4d7821487f204dda8ff0c782fef6d272%29%3B%0A%20%20%20%20%20%20%20%20%7D%0A%20%20%20%20%20%20%20%20%20%20%20%20geo_json_ecc8093293d24fb6a6358c0173d7c7b0_add%28%7B%22features%22%3A%20%5B%7B%22geometry%22%3A%20%7B%22coordinates%22%3A%20%5B%5B%5B-82.63809887721958%2C%2030.18837056771563%2C%2016.08%5D%2C%20%5B-82.63812904167294%2C%2030.19019273876379%2C%2016.08%5D%2C%20%5B-82.63561530039891%2C%2030.190224119722%2C%2051.32%5D%2C%20%5B-82.63558518218316%2C%2030.188401946389458%2C%2051.32%5D%2C%20%5B-82.63809887721958%2C%2030.18837056771563%2C%2016.08%5D%5D%5D%2C%20%22type%22%3A%20%22Polygon%22%7D%2C%20%22id%22%3A%20%220%22%2C%20%22type%22%3A%20%22Feature%22%7D%5D%2C%20%22type%22%3A%20%22FeatureCollection%22%7D%29%3B%0A%0A%20%20%20%20%20%20%20%20%0A%20%20%20%20%0A%20%20%20%20%20%20%20%20var%20popup_ca6d218217084c98b23445ade2cc5746%20%3D%20L.popup%28%7B%22maxWidth%22%3A%20%22100%25%22%7D%29%3B%0A%0A%20%20%20%20%20%20%20%20%0A%20%20%20%20%20%20%20%20%20%20%20%20var%20html_136e720ed2d04c6ab751630eae326d38%20%3D%20%24%28%60%3Cdiv%20id%3D%22html_136e720ed2d04c6ab751630eae326d38%22%20style%3D%22width%3A%20100.0%25%3B%20height%3A%20100.0%25%3B%22%3EAjit%20Mystery%20Lidar%3C/div%3E%60%29%5B0%5D%3B%0A%20%20%20%20%20%20%20%20%20%20%20%20popup_ca6d218217084c98b23445ade2cc5746.setContent%28html_136e720ed2d04c6ab751630eae326d38%29%3B%0A%20%20%20%20%20%20%20%20%0A%0A%20%20%20%20%20%20%20%20geo_json_ecc8093293d24fb6a6358c0173d7c7b0.bindPopup%28popup_ca6d218217084c98b23445ade2cc5746%29%0A%20%20%20%20%20%20%20%20%3B%0A%0A%20%20%20%20%20%20%20%20%0A%20%20%20%20%0A%3C/script%3E onload=\"this.contentDocument.open();this.contentDocument.write(    decodeURIComponent(this.getAttribute('data-html')));this.contentDocument.close();\" allowfullscreen webkitallowfullscreen mozallowfullscreen></iframe></div></div>"
      ],
      "text/plain": [
       "<folium.folium.Map at 0x7f30467598e0>"
      ]
     },
     "execution_count": 53,
     "metadata": {},
     "output_type": "execute_result"
    }
   ],
   "source": [
    "geoj = json.dumps(geom_dict)\n",
    "geo_j = folium.GeoJson(data=geoj,style_function=lambda x: {'fillColor': 'orange'})\n",
    "folium.Popup('Ajit Mystery Lidar').add_to(geo_j)\n",
    "geo_j.add_to(m)\n",
    "m"
   ]
  },
  {
   "cell_type": "code",
   "execution_count": null,
   "id": "8ff57767",
   "metadata": {},
   "outputs": [],
   "source": []
  },
  {
   "cell_type": "code",
   "execution_count": null,
   "id": "5134a3b1",
   "metadata": {},
   "outputs": [],
   "source": []
  }
 ],
 "metadata": {
  "kernelspec": {
   "display_name": "Python 3 (ipykernel)",
   "language": "python",
   "name": "python3"
  },
  "language_info": {
   "codemirror_mode": {
    "name": "ipython",
    "version": 3
   },
   "file_extension": ".py",
   "mimetype": "text/x-python",
   "name": "python",
   "nbconvert_exporter": "python",
   "pygments_lexer": "ipython3",
   "version": "3.9.10"
  }
 },
 "nbformat": 4,
 "nbformat_minor": 5
}
