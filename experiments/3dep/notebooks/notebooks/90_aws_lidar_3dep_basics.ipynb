{
 "cells": [
  {
   "cell_type": "markdown",
   "id": "88ec2530",
   "metadata": {},
   "source": [
    "# USGS 3DEP LiDAR Point Clouds\n",
    "\n",
    "- https://registry.opendata.aws/usgs-lidar/\n",
    "\n",
    "- https://usgs-lidar-stac.s3-us-west-2.amazonaws.com/ept/catalog.json\n",
    "\n",
    "-     aws s3 ls --no-sign-request s3://usgs-lidar-public/"
   ]
  },
  {
   "cell_type": "code",
   "execution_count": 1,
   "id": "60165c1c",
   "metadata": {},
   "outputs": [
    {
     "name": "stdout",
     "output_type": "stream",
     "text": [
      "/bin/sh: 1: aws: not found\r\n"
     ]
    }
   ],
   "source": [
    "! aws s3 ls s3://usgs-lidar-public/"
   ]
  },
  {
   "cell_type": "code",
   "execution_count": null,
   "id": "03246f93",
   "metadata": {},
   "outputs": [],
   "source": [
    "! conda install -y awscli"
   ]
  },
  {
   "cell_type": "code",
   "execution_count": null,
   "id": "87d04ebc",
   "metadata": {},
   "outputs": [],
   "source": []
  }
 ],
 "metadata": {
  "kernelspec": {
   "display_name": "Python 3 (ipykernel)",
   "language": "python",
   "name": "python3"
  },
  "language_info": {
   "codemirror_mode": {
    "name": "ipython",
    "version": 3
   },
   "file_extension": ".py",
   "mimetype": "text/x-python",
   "name": "python",
   "nbconvert_exporter": "python",
   "pygments_lexer": "ipython3",
   "version": "3.9.10"
  }
 },
 "nbformat": 4,
 "nbformat_minor": 5
}
