{
 "cells": [
  {
   "cell_type": "code",
   "execution_count": 1,
   "id": "c6a83906",
   "metadata": {},
   "outputs": [
    {
     "ename": "ReferenceError",
     "evalue": "prompt is not defined",
     "output_type": "error",
     "traceback": [
      "evalmachine.<anonymous>:3",
      "  var yourName = prompt(\"What is your name?\");",
      "                 ^",
      "",
      "ReferenceError: prompt is not defined",
      "    at evalmachine.<anonymous>:3:18",
      "    at Script.runInThisContext (node:vm:129:12)",
      "    at Object.runInThisContext (node:vm:305:38)",
      "    at run ([eval]:1020:15)",
      "    at onRunRequest ([eval]:864:18)",
      "    at onMessage ([eval]:828:13)",
      "    at process.emit (node:events:527:28)",
      "    at emit (node:internal/child_process:936:14)",
      "    at processTicksAndRejections (node:internal/process/task_queues:84:21)"
     ]
    }
   ],
   "source": [
    " // You create variables that store values with var\n",
    "  // Prompt opens a popup that requests info\n",
    "  var yourName = prompt(\"What is your name?\");"
   ]
  },
  {
   "cell_type": "code",
   "execution_count": 2,
   "id": "db4e0caf",
   "metadata": {},
   "outputs": [
    {
     "ename": "ReferenceError",
     "evalue": "alert is not defined",
     "output_type": "error",
     "traceback": [
      "evalmachine.<anonymous>:10",
      "    alert(\"Please Enter Your Name Next Time\");",
      "    ^",
      "",
      "ReferenceError: alert is not defined",
      "    at evalmachine.<anonymous>:10:5",
      "    at Script.runInThisContext (node:vm:129:12)",
      "    at Object.runInThisContext (node:vm:305:38)",
      "    at run ([eval]:1020:15)",
      "    at onRunRequest ([eval]:864:18)",
      "    at onMessage ([eval]:828:13)",
      "    at process.emit (node:events:527:28)",
      "    at emit (node:internal/child_process:936:14)",
      "    at processTicksAndRejections (node:internal/process/task_queues:84:21)"
     ]
    }
   ],
   "source": [
    "  // If performs different actions depending on conditions\n",
    "  if(yourName != null){\n",
    " \n",
    "    // Set text in an HTML element with the id sayHello\n",
    "    // You concatenate (combine) strings with +\n",
    "    document.getElementById(\"sayHello\").innerHTML = \"Hello \" + yourName;\n",
    "  } else {\n",
    " \n",
    "    // Alert opens a popup that contains a message\n",
    "    alert(\"Please Enter Your Name Next Time\");\n",
    "  }"
   ]
  },
  {
   "cell_type": "code",
   "execution_count": 3,
   "id": "a1d8e3a9",
   "metadata": {},
   "outputs": [
    {
     "ename": "ReferenceError",
     "evalue": "document is not defined",
     "output_type": "error",
     "traceback": [
      "evalmachine.<anonymous>:12",
      "document.write(\"5 + 4 = \", 5 + 4, \"<br/>\");",
      "^",
      "",
      "ReferenceError: document is not defined",
      "    at evalmachine.<anonymous>:12:1",
      "    at Script.runInThisContext (node:vm:129:12)",
      "    at Object.runInThisContext (node:vm:305:38)",
      "    at run ([eval]:1020:15)",
      "    at onRunRequest ([eval]:864:18)",
      "    at onMessage ([eval]:828:13)",
      "    at process.emit (node:events:527:28)",
      "    at emit (node:internal/child_process:936:14)",
      "    at processTicksAndRejections (node:internal/process/task_queues:84:21)"
     ]
    }
   ],
   "source": [
    "// ---------- VARIABLES ----------\n",
    "// variable names can't start with a number, contain spaces, but can\n",
    "// contain letters, numbers, underscores or $ (Are case sensitive)\n",
    "var myName = \"Derek\";\n",
    "var myAge = 40;\n",
    " \n",
    "// Variables don't have a defined type, which can cause problems\n",
    "myName = 100;\n",
    " \n",
    "// ---------- MATH ----------\n",
    "// document.write outputs data to the browser\n",
    "document.write(\"5 + 4 = \", 5 + 4, \"<br/>\");\n",
    " \n",
    "// Using + instead of , will treat everything as a string unless you use ()\n",
    "document.write(\"5 + 4 = \" + (5 + 4) + \"<br/>\");\n",
    " \n",
    "document.write(\"5 - 4 = \", 5 - 4, \"<br/>\");\n",
    "document.write(\"5 * 4 = \", 5 * 4, \"<br/>\");\n",
    "document.write(\"5 / 4 = \", 5 / 4, \"<br/>\");\n",
    " \n",
    "// Modulus remainder of a division\n",
    "document.write(\"5 % 4 = \", 5 % 4, \"<br/>\");"
   ]
  },
  {
   "cell_type": "code",
   "execution_count": null,
   "id": "a9fa5892",
   "metadata": {},
   "outputs": [],
   "source": []
  }
 ],
 "metadata": {
  "kernelspec": {
   "display_name": "JavaScript (Node.js)",
   "language": "javascript",
   "name": "javascript"
  },
  "language_info": {
   "file_extension": ".js",
   "mimetype": "application/javascript",
   "name": "javascript",
   "version": "17.6.0"
  }
 },
 "nbformat": 4,
 "nbformat_minor": 5
}
