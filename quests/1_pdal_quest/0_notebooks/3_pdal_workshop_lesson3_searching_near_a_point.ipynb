{
 "cells": [
  {
   "cell_type": "code",
   "execution_count": 2,
   "id": "ac0d07da",
   "metadata": {},
   "outputs": [
    {
     "name": "stdout",
     "output_type": "stream",
     "text": [
      "\u001b[1;39m{\r\n",
      "  \u001b[0m\u001b[34;1m\"maxx\"\u001b[0m\u001b[1;39m: \u001b[0m\u001b[0;39m3122999.993\u001b[0m\u001b[1;39m,\r\n",
      "  \u001b[0m\u001b[34;1m\"maxy\"\u001b[0m\u001b[1;39m: \u001b[0m\u001b[0;39m1353000\u001b[0m\u001b[1;39m,\r\n",
      "  \u001b[0m\u001b[34;1m\"maxz\"\u001b[0m\u001b[1;39m: \u001b[0m\u001b[0;39m11693.546\u001b[0m\u001b[1;39m,\r\n",
      "  \u001b[0m\u001b[34;1m\"minx\"\u001b[0m\u001b[1;39m: \u001b[0m\u001b[0;39m3121536.214\u001b[0m\u001b[1;39m,\r\n",
      "  \u001b[0m\u001b[34;1m\"miny\"\u001b[0m\u001b[1;39m: \u001b[0m\u001b[0;39m1351717.649\u001b[0m\u001b[1;39m,\r\n",
      "  \u001b[0m\u001b[34;1m\"minz\"\u001b[0m\u001b[1;39m: \u001b[0m\u001b[0;39m11108.308\u001b[0m\u001b[1;39m\r\n",
      "\u001b[1;39m}\u001b[0m\r\n"
     ]
    }
   ],
   "source": [
    "!pdal info /home/ec2-user/USGS_LPC_CO_EasternColorado_2018_A18_LD31201350.laz --all | jq .stats.bbox.native.bbox"
   ]
  },
  {
   "cell_type": "code",
   "execution_count": 3,
   "id": "4f93664e",
   "metadata": {},
   "outputs": [],
   "source": [
    "!pdal info /home/ec2-user/USGS_LPC_CO_EasternColorado_2018_A18_LD31201350.laz --all | jq .stats.bbox.native.bbox >> ./bb.json"
   ]
  },
  {
   "cell_type": "code",
   "execution_count": 4,
   "id": "27247806",
   "metadata": {},
   "outputs": [],
   "source": [
    "import json"
   ]
  },
  {
   "cell_type": "code",
   "execution_count": 5,
   "id": "ba0477f4",
   "metadata": {},
   "outputs": [],
   "source": [
    "# Opening JSON file\n",
    "with open('bb.json') as json_file:\n",
    "    data = json.load(json_file)"
   ]
  },
  {
   "cell_type": "code",
   "execution_count": 6,
   "id": "35bc4249",
   "metadata": {},
   "outputs": [
    {
     "data": {
      "text/plain": [
       "{'maxx': 3122999.993,\n",
       " 'maxy': 1353000,\n",
       " 'maxz': 11693.546,\n",
       " 'minx': 3121536.214,\n",
       " 'miny': 1351717.649,\n",
       " 'minz': 11108.308}"
      ]
     },
     "execution_count": 6,
     "metadata": {},
     "output_type": "execute_result"
    }
   ],
   "source": [
    "data"
   ]
  },
  {
   "cell_type": "code",
   "execution_count": 8,
   "id": "b2239556",
   "metadata": {},
   "outputs": [],
   "source": [
    "xcenter = data['minx'] + (data['maxx'] - data['minx'])/2"
   ]
  },
  {
   "cell_type": "code",
   "execution_count": 9,
   "id": "94eaf8e0",
   "metadata": {},
   "outputs": [
    {
     "data": {
      "text/plain": [
       "3122268.1035"
      ]
     },
     "execution_count": 9,
     "metadata": {},
     "output_type": "execute_result"
    }
   ],
   "source": [
    "xcenter"
   ]
  },
  {
   "cell_type": "code",
   "execution_count": 10,
   "id": "7a717c54",
   "metadata": {},
   "outputs": [],
   "source": [
    "ycenter = data['miny'] + (data['maxy'] - data['miny'])/2"
   ]
  },
  {
   "cell_type": "code",
   "execution_count": 11,
   "id": "0f9540ac",
   "metadata": {},
   "outputs": [],
   "source": [
    "zcenter = data['minz'] + (data['maxz'] - data['minz'])/2"
   ]
  },
  {
   "cell_type": "code",
   "execution_count": 12,
   "id": "7ca1063a",
   "metadata": {},
   "outputs": [
    {
     "data": {
      "text/plain": [
       "(3122268.1035, 1352358.8245, 11400.927)"
      ]
     },
     "execution_count": 12,
     "metadata": {},
     "output_type": "execute_result"
    }
   ],
   "source": [
    "xcenter, ycenter, zcenter"
   ]
  },
  {
   "cell_type": "code",
   "execution_count": 16,
   "id": "4f8b3dad",
   "metadata": {},
   "outputs": [
    {
     "name": "stdout",
     "output_type": "stream",
     "text": [
      "{\r\n",
      "  \"file_size\": 11449736,\r\n",
      "  \"filename\": \"/home/ec2-user/USGS_LPC_CO_EasternColorado_2018_A18_LD31201350.laz\",\r\n",
      "  \"now\": \"2022-04-22T19:02:07+0000\",\r\n",
      "  \"pdal_version\": \"2.4.0 (git-version: 997a1c)\",\r\n",
      "  \"points\":\r\n",
      "  {\r\n",
      "    \"point\":\r\n",
      "    [\r\n",
      "      {\r\n",
      "        \"ClassFlags\": 0,\r\n",
      "        \"Classification\": 2,\r\n",
      "        \"EdgeOfFlightLine\": 0,\r\n",
      "        \"GpsTime\": 215002440.6,\r\n",
      "        \"Intensity\": 5872,\r\n",
      "        \"NumberOfReturns\": 1,\r\n",
      "        \"PointId\": 364660,\r\n",
      "        \"PointSourceId\": 1284,\r\n",
      "        \"ReturnNumber\": 1,\r\n",
      "        \"ScanAngleRank\": -5.130000114,\r\n",
      "        \"ScanChannel\": 0,\r\n",
      "        \"ScanDirectionFlag\": 0,\r\n",
      "        \"UserData\": 0,\r\n",
      "        \"X\": 3122996.365,\r\n",
      "        \"Y\": 1352192.914,\r\n",
      "        \"Z\": 11693.546\r\n",
      "      },\r\n",
      "      {\r\n",
      "        \"ClassFlags\": 0,\r\n",
      "        \"Classification\": 2,\r\n",
      "        \"EdgeOfFlightLine\": 0,\r\n",
      "        \"GpsTime\": 215002440.5,\r\n",
      "        \"Intensity\": 5552,\r\n",
      "        \"NumberOfReturns\": 1,\r\n",
      "        \"PointId\": 377693,\r\n",
      "        \"PointSourceId\": 1284,\r\n",
      "        \"ReturnNumber\": 1,\r\n",
      "        \"ScanAngleRank\": -5.105999947,\r\n",
      "        \"ScanChannel\": 0,\r\n",
      "        \"ScanDirectionFlag\": 0,\r\n",
      "        \"UserData\": 0,\r\n",
      "        \"X\": 3122999.326,\r\n",
      "        \"Y\": 1352197.594,\r\n",
      "        \"Z\": 11693.431\r\n",
      "      },\r\n",
      "      {\r\n",
      "        \"ClassFlags\": 0,\r\n",
      "        \"Classification\": 1,\r\n",
      "        \"EdgeOfFlightLine\": 0,\r\n",
      "        \"GpsTime\": 215002440.5,\r\n",
      "        \"Intensity\": 5728,\r\n",
      "        \"NumberOfReturns\": 1,\r\n",
      "        \"PointId\": 373970,\r\n",
      "        \"PointSourceId\": 1284,\r\n",
      "        \"ReturnNumber\": 1,\r\n",
      "        \"ScanAngleRank\": -5.130000114,\r\n",
      "        \"ScanChannel\": 0,\r\n",
      "        \"ScanDirectionFlag\": 1,\r\n",
      "        \"UserData\": 0,\r\n",
      "        \"X\": 3122995.68,\r\n",
      "        \"Y\": 1352200.455,\r\n",
      "        \"Z\": 11693.32\r\n",
      "      }\r\n",
      "    ]\r\n",
      "  },\r\n",
      "  \"reader\": \"readers.las\"\r\n",
      "}\r\n"
     ]
    }
   ],
   "source": [
    "# find 3 closest points\n",
    "!pdal info /home/ec2-user/USGS_LPC_CO_EasternColorado_2018_A18_LD31201350.laz --query \"3122268.1035, 1352358.8245, 11400.927/3\""
   ]
  },
  {
   "cell_type": "markdown",
   "id": "ad0630c0",
   "metadata": {},
   "source": [
    "> The --query option of info constructs a KD-tree of the entire set of points in memory. If you have really large data sets, this isn’t going to work so well, and you will need to come up with a different solution."
   ]
  },
  {
   "cell_type": "markdown",
   "id": "94d3be89",
   "metadata": {},
   "source": [
    "![](https://upload.wikimedia.org/wikipedia/commons/thumb/b/b6/3dtree.png/330px-3dtree.png)"
   ]
  },
  {
   "cell_type": "markdown",
   "id": "6d76c5ae",
   "metadata": {},
   "source": [
    "> A 3-dimensional k-d tree. The first split (the red vertical plane) cuts the root cell (white) into two subcells, each of which is then split (by the green horizontal planes) into two subcells. Finally, four cells are split (by the four blue vertical planes) into two subcells. Since there is no more splitting, the final eight are called leaf cells."
   ]
  },
  {
   "cell_type": "code",
   "execution_count": null,
   "id": "df9320df",
   "metadata": {},
   "outputs": [],
   "source": []
  }
 ],
 "metadata": {
  "kernelspec": {
   "display_name": "Python 3 (ipykernel)",
   "language": "python",
   "name": "python3"
  },
  "language_info": {
   "codemirror_mode": {
    "name": "ipython",
    "version": 3
   },
   "file_extension": ".py",
   "mimetype": "text/x-python",
   "name": "python",
   "nbconvert_exporter": "python",
   "pygments_lexer": "ipython3",
   "version": "3.10.4"
  }
 },
 "nbformat": 4,
 "nbformat_minor": 5
}
