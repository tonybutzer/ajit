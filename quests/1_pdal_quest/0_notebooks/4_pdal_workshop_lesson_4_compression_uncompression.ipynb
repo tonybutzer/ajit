{
 "cells": [
  {
   "cell_type": "code",
   "execution_count": 1,
   "id": "e3c50818",
   "metadata": {},
   "outputs": [
    {
     "name": "stdout",
     "output_type": "stream",
     "text": [
      "/home/ec2-user\r\n"
     ]
    }
   ],
   "source": [
    "#! mkdir -p ~/bigfiles\n",
    "! ls -d ~"
   ]
  },
  {
   "cell_type": "code",
   "execution_count": 2,
   "id": "6bee7354",
   "metadata": {},
   "outputs": [
    {
     "name": "stdout",
     "output_type": "stream",
     "text": [
      "/home/ec2-user/USGS_LPC_CO_EasternColorado_2018_A18_LD31201350.laz\r\n"
     ]
    }
   ],
   "source": [
    "! ls ~/*.laz"
   ]
  },
  {
   "cell_type": "code",
   "execution_count": 3,
   "id": "0e6e2b22",
   "metadata": {},
   "outputs": [],
   "source": [
    "%%bash \n",
    "pdal translate /home/ec2-user/USGS_LPC_CO_EasternColorado_2018_A18_LD31201350.laz /home/ec2-user/bigfiles/USGS_LPC_CO_EasternColorado_2018_A18_LD31201350.las"
   ]
  },
  {
   "cell_type": "code",
   "execution_count": 4,
   "id": "3cd3533a",
   "metadata": {},
   "outputs": [
    {
     "name": "stdout",
     "output_type": "stream",
     "text": [
      "-rw-rw-r-- 1 ec2-user ec2-user 11M Mar 27 16:37 /home/ec2-user/USGS_LPC_CO_EasternColorado_2018_A18_LD31201350.laz\n",
      "-rw-rw-r-- 1 ec2-user ec2-user 27M Apr 29 19:33 /home/ec2-user/bigfiles/USGS_LPC_CO_EasternColorado_2018_A18_LD31201350.las\n"
     ]
    }
   ],
   "source": [
    "! ls -alh /home/ec2-user/USGS_LPC_CO_EasternColorado_2018_A18_LD31201350.laz\n",
    "! ls -alh /home/ec2-user/bigfiles/*.las"
   ]
  },
  {
   "cell_type": "markdown",
   "id": "9d48dbfe",
   "metadata": {},
   "source": [
    "LAS is a very fluffy binary format.\n",
    "> Typical LASzip compression is 5:1 to 8:1, depending on the type of LiDAR. It is a compression format specifically for the ASPRS LAS model, however, and will not be as efficient for other types of point cloud data."
   ]
  },
  {
   "cell_type": "markdown",
   "id": "7013a3b3",
   "metadata": {},
   "source": [
    "# lesson 5 Reprojection Example\n",
    "\n",
    "- https://pdal.io/workshop/exercises/translation/reprojection.html"
   ]
  },
  {
   "cell_type": "code",
   "execution_count": 5,
   "id": "d3b2153c",
   "metadata": {},
   "outputs": [],
   "source": [
    "%%bash \n",
    "echo pdal translate \\\n",
    "/home/ec2-user/USGS_LPC_CO_EasternColorado_2018_A18_LD31201350.laz \\\n",
    "/home/ec2-user/bigfiles/a.laz \\\n",
    "reprojection \\\n",
    "--filters.reprojection.out_srs=\"EPSG:4326\" \\\n",
    "--writers.las.scale_x=0.0000001 \\\n",
    "--writers.las.scale_y=0.0000001 \\\n",
    "--writers.las.offset_x=\"auto\" \\\n",
    "--writers.las.offset_y=\"auto\" >junk.source"
   ]
  },
  {
   "cell_type": "code",
   "execution_count": 6,
   "id": "b980c3bb",
   "metadata": {},
   "outputs": [
    {
     "name": "stdout",
     "output_type": "stream",
     "text": [
      "pdal translate /home/ec2-user/USGS_LPC_CO_EasternColorado_2018_A18_LD31201350.laz /home/ec2-user/bigfiles/a.laz reprojection --filters.reprojection.out_srs=EPSG:4326 --writers.las.scale_x=0.0000001 --writers.las.scale_y=0.0000001 --writers.las.offset_x=auto --writers.las.offset_y=auto\r\n"
     ]
    }
   ],
   "source": [
    "! cat junk.source"
   ]
  },
  {
   "cell_type": "code",
   "execution_count": 7,
   "id": "c7c68fa8",
   "metadata": {},
   "outputs": [
    {
     "name": "stdout",
     "output_type": "stream",
     "text": [
      "(pdal translate writers.las Warning) Auto offset for 'X' requested in stream mode.  Using value of -105.072.\r\n",
      "(pdal translate writers.las Warning) Auto offset for 'Y' requested in stream mode.  Using value of 38.7988.\r\n"
     ]
    }
   ],
   "source": [
    "! source junk.source"
   ]
  },
  {
   "cell_type": "code",
   "execution_count": 8,
   "id": "9fcc1879",
   "metadata": {},
   "outputs": [
    {
     "name": "stdout",
     "output_type": "stream",
     "text": [
      "{\r\n",
      "  \"file_size\": 9106136,\r\n",
      "  \"filename\": \"/home/ec2-user/bigfiles/a.laz\",\r\n",
      "  \"now\": \"2022-04-29T19:36:23+0000\",\r\n",
      "  \"pdal_version\": \"2.4.0 (git-version: 997a1c)\",\r\n",
      "  \"points\":\r\n",
      "  {\r\n",
      "    \"point\":\r\n",
      "    {\r\n",
      "      \"Blue\": 0,\r\n",
      "      \"Classification\": 1,\r\n",
      "      \"EdgeOfFlightLine\": 0,\r\n",
      "      \"GpsTime\": 215001970.7,\r\n",
      "      \"Green\": 0,\r\n",
      "      \"Intensity\": 1280,\r\n",
      "      \"NumberOfReturns\": 3,\r\n",
      "      \"PointId\": 0,\r\n",
      "      \"PointSourceId\": 1283,\r\n",
      "      \"Red\": 0,\r\n",
      "      \"ReturnNumber\": 1,\r\n",
      "      \"ScanAngleRank\": -5,\r\n",
      "      \"ScanDirectionFlag\": 0,\r\n",
      "      \"UserData\": 0,\r\n",
      "      \"X\": -105.0723733,\r\n",
      "      \"Y\": 38.7987895,\r\n",
      "      \"Z\": 3468.98\r\n",
      "    }\r\n",
      "  },\r\n",
      "  \"reader\": \"readers.las\"\r\n",
      "}\r\n"
     ]
    }
   ],
   "source": [
    "! pdal info /home/ec2-user/bigfiles/a.laz -p 0"
   ]
  },
  {
   "cell_type": "markdown",
   "id": "2c49eb87",
   "metadata": {},
   "source": [
    "https://www.findlatitudeandlongitude.com/?lat=38.79&lon=-105.079035&zoom=&map_type=ROADMAP"
   ]
  },
  {
   "cell_type": "code",
   "execution_count": 9,
   "id": "946ed19e",
   "metadata": {
    "scrolled": true
   },
   "outputs": [
    {
     "name": "stdout",
     "output_type": "stream",
     "text": [
      "{\r\n",
      "  \"boundary\":\r\n",
      "  {\r\n",
      "    \"area\": 1130153.017,\r\n",
      "    \"avg_pt_per_sq_unit\": 5.217562079e-10,\r\n",
      "    \"avg_pt_spacing\": 1.181753055,\r\n",
      "    \"boundary\": \"POLYGON ((-105.06812 38.791429,-105.066 38.80247,-105.07237 38.80615,-105.08087 38.798789,-105.06812 38.791429))\",\r\n",
      "    \"boundary_json\": { \"type\": \"Polygon\", \"coordinates\": [ [ [ 38.791429309999998, -105.068123850000006 ], [ 38.802469600000002, -105.065999140000002 ], [ 38.806149699999999, -105.072373249999998 ], [ 38.798789499999998, -105.080872069999998 ], [ 38.791429309999998, -105.068123850000006 ] ] ] },\r\n",
      "    \"density\": 0.7160552492,\r\n",
      "    \"edge_length\": 0,\r\n",
      "    \"estimated_edge\": 0.007360191813,\r\n",
      "    \"hex_offsets\": \"MULTIPOINT (0 0, -0.0021247 0.0036801, 0 0.00736019, 0.00424941 0.00736019, 0.00637411 0.0036801, 0.00424941 0)\",\r\n",
      "    \"sample_size\": 5000,\r\n",
      "    \"threshold\": 15\r\n",
      "  },\r\n",
      "  \"file_size\": 9106136,\r\n",
      "  \"filename\": \"/home/ec2-user/bigfiles/a.laz\",\r\n",
      "  \"now\": \"2022-04-29T19:36:58+0000\",\r\n",
      "  \"pdal_version\": \"2.4.0 (git-version: 997a1c)\",\r\n",
      "  \"reader\": \"readers.las\"\r\n",
      "}\r\n"
     ]
    }
   ],
   "source": [
    "!pdal info --boundary ~/bigfiles/a.laz"
   ]
  },
  {
   "cell_type": "code",
   "execution_count": 10,
   "id": "23694bcd",
   "metadata": {},
   "outputs": [
    {
     "name": "stdout",
     "output_type": "stream",
     "text": [
      "\u001b[1;39m{\r\n",
      "  \u001b[0m\u001b[34;1m\"type\"\u001b[0m\u001b[1;39m: \u001b[0m\u001b[0;32m\"Polygon\"\u001b[0m\u001b[1;39m,\r\n",
      "  \u001b[0m\u001b[34;1m\"coordinates\"\u001b[0m\u001b[1;39m: \u001b[0m\u001b[1;39m[\r\n",
      "    \u001b[1;39m[\r\n",
      "      \u001b[1;39m[\r\n",
      "        \u001b[0;39m38.79142931\u001b[0m\u001b[1;39m,\r\n",
      "        \u001b[0;39m-105.06812385\u001b[0m\u001b[1;39m\r\n",
      "      \u001b[1;39m]\u001b[0m\u001b[1;39m,\r\n",
      "      \u001b[1;39m[\r\n",
      "        \u001b[0;39m38.8024696\u001b[0m\u001b[1;39m,\r\n",
      "        \u001b[0;39m-105.06599914\u001b[0m\u001b[1;39m\r\n",
      "      \u001b[1;39m]\u001b[0m\u001b[1;39m,\r\n",
      "      \u001b[1;39m[\r\n",
      "        \u001b[0;39m38.8061497\u001b[0m\u001b[1;39m,\r\n",
      "        \u001b[0;39m-105.07237325\u001b[0m\u001b[1;39m\r\n",
      "      \u001b[1;39m]\u001b[0m\u001b[1;39m,\r\n",
      "      \u001b[1;39m[\r\n",
      "        \u001b[0;39m38.7987895\u001b[0m\u001b[1;39m,\r\n",
      "        \u001b[0;39m-105.08087207\u001b[0m\u001b[1;39m\r\n",
      "      \u001b[1;39m]\u001b[0m\u001b[1;39m,\r\n",
      "      \u001b[1;39m[\r\n",
      "        \u001b[0;39m38.79142931\u001b[0m\u001b[1;39m,\r\n",
      "        \u001b[0;39m-105.06812385\u001b[0m\u001b[1;39m\r\n",
      "      \u001b[1;39m]\u001b[0m\u001b[1;39m\r\n",
      "    \u001b[1;39m]\u001b[0m\u001b[1;39m\r\n",
      "  \u001b[1;39m]\u001b[0m\u001b[1;39m\r\n",
      "\u001b[1;39m}\u001b[0m\r\n"
     ]
    }
   ],
   "source": [
    "!pdal info --boundary ~/bigfiles/a.laz | jq \".boundary.boundary_json\""
   ]
  },
  {
   "cell_type": "code",
   "execution_count": 11,
   "id": "2277c657",
   "metadata": {},
   "outputs": [],
   "source": [
    "!pdal info --boundary ~/bigfiles/a.laz | jq \".boundary.boundary_json\" > a.geojson"
   ]
  },
  {
   "cell_type": "code",
   "execution_count": 11,
   "id": "a5156821",
   "metadata": {},
   "outputs": [],
   "source": [
    "#! wget https://raw.githubusercontent.com/tonybutzer/ajit/123a6eb080213c44d20b1dc93ded2d6fa85734d4/experiments/3dep/notebooks/notebooks/fm_map.py"
   ]
  },
  {
   "cell_type": "code",
   "execution_count": 12,
   "id": "1e2f836b",
   "metadata": {},
   "outputs": [],
   "source": [
    "import geopandas as gpd\n"
   ]
  },
  {
   "cell_type": "code",
   "execution_count": 13,
   "id": "5c180369",
   "metadata": {},
   "outputs": [],
   "source": [
    "dfb = gpd.read_file('a.geojson')"
   ]
  },
  {
   "cell_type": "code",
   "execution_count": 14,
   "id": "d75288ee",
   "metadata": {},
   "outputs": [],
   "source": [
    "# dfb is df backwards x and y"
   ]
  },
  {
   "cell_type": "code",
   "execution_count": 15,
   "id": "799449fe",
   "metadata": {},
   "outputs": [
    {
     "data": {
      "text/html": [
       "<div>\n",
       "<style scoped>\n",
       "    .dataframe tbody tr th:only-of-type {\n",
       "        vertical-align: middle;\n",
       "    }\n",
       "\n",
       "    .dataframe tbody tr th {\n",
       "        vertical-align: top;\n",
       "    }\n",
       "\n",
       "    .dataframe thead th {\n",
       "        text-align: right;\n",
       "    }\n",
       "</style>\n",
       "<table border=\"1\" class=\"dataframe\">\n",
       "  <thead>\n",
       "    <tr style=\"text-align: right;\">\n",
       "      <th></th>\n",
       "      <th>geometry</th>\n",
       "    </tr>\n",
       "  </thead>\n",
       "  <tbody>\n",
       "    <tr>\n",
       "      <th>0</th>\n",
       "      <td>POLYGON ((38.79143 -105.06812, 38.80247 -105.0...</td>\n",
       "    </tr>\n",
       "  </tbody>\n",
       "</table>\n",
       "</div>"
      ],
      "text/plain": [
       "                                            geometry\n",
       "0  POLYGON ((38.79143 -105.06812, 38.80247 -105.0..."
      ]
     },
     "execution_count": 15,
     "metadata": {},
     "output_type": "execute_result"
    }
   ],
   "source": [
    "dfb"
   ]
  },
  {
   "cell_type": "code",
   "execution_count": 16,
   "id": "0b699296",
   "metadata": {},
   "outputs": [],
   "source": [
    "import shapely\n",
    "\n",
    "df = dfb.geometry.map(lambda polygon: shapely.ops.transform(lambda x, y: (y, x), polygon))"
   ]
  },
  {
   "cell_type": "code",
   "execution_count": 17,
   "id": "b1a82fcc",
   "metadata": {},
   "outputs": [
    {
     "name": "stderr",
     "output_type": "stream",
     "text": [
      "/tmp/ipykernel_15284/2866378842.py:1: UserWarning: Geometry is in a geographic CRS. Results from 'centroid' are likely incorrect. Use 'GeoSeries.to_crs()' to re-project geometries to a projected CRS before this operation.\n",
      "\n",
      "  (dfb.centroid[0].x , dfb.centroid[0].y)\n",
      "/tmp/ipykernel_15284/2866378842.py:1: UserWarning: Geometry is in a geographic CRS. Results from 'centroid' are likely incorrect. Use 'GeoSeries.to_crs()' to re-project geometries to a projected CRS before this operation.\n",
      "\n",
      "  (dfb.centroid[0].x , dfb.centroid[0].y)\n"
     ]
    },
    {
     "data": {
      "text/plain": [
       "(38.799198403259254, -105.07213717585492)"
      ]
     },
     "execution_count": 17,
     "metadata": {},
     "output_type": "execute_result"
    }
   ],
   "source": [
    "(dfb.centroid[0].x , dfb.centroid[0].y)"
   ]
  },
  {
   "cell_type": "code",
   "execution_count": null,
   "id": "b6b9d93d",
   "metadata": {},
   "outputs": [],
   "source": []
  },
  {
   "cell_type": "code",
   "execution_count": 18,
   "id": "b18964bf",
   "metadata": {},
   "outputs": [
    {
     "data": {
      "text/html": [
       "<div style=\"width:100%;\"><div style=\"position:relative;width:100%;height:0;padding-bottom:60%;\"><span style=\"color:#565656\">Make this Notebook Trusted to load map: File -> Trust Notebook</span><iframe srcdoc=\"&lt;!DOCTYPE html&gt;\n",
       "&lt;head&gt;    \n",
       "    &lt;meta http-equiv=&quot;content-type&quot; content=&quot;text/html; charset=UTF-8&quot; /&gt;\n",
       "    \n",
       "        &lt;script&gt;\n",
       "            L_NO_TOUCH = false;\n",
       "            L_DISABLE_3D = false;\n",
       "        &lt;/script&gt;\n",
       "    \n",
       "    &lt;style&gt;html, body {width: 100%;height: 100%;margin: 0;padding: 0;}&lt;/style&gt;\n",
       "    &lt;style&gt;#map {position:absolute;top:0;bottom:0;right:0;left:0;}&lt;/style&gt;\n",
       "    &lt;script src=&quot;https://cdn.jsdelivr.net/npm/leaflet@1.6.0/dist/leaflet.js&quot;&gt;&lt;/script&gt;\n",
       "    &lt;script src=&quot;https://code.jquery.com/jquery-1.12.4.min.js&quot;&gt;&lt;/script&gt;\n",
       "    &lt;script src=&quot;https://maxcdn.bootstrapcdn.com/bootstrap/3.2.0/js/bootstrap.min.js&quot;&gt;&lt;/script&gt;\n",
       "    &lt;script src=&quot;https://cdnjs.cloudflare.com/ajax/libs/Leaflet.awesome-markers/2.0.2/leaflet.awesome-markers.js&quot;&gt;&lt;/script&gt;\n",
       "    &lt;link rel=&quot;stylesheet&quot; href=&quot;https://cdn.jsdelivr.net/npm/leaflet@1.6.0/dist/leaflet.css&quot;/&gt;\n",
       "    &lt;link rel=&quot;stylesheet&quot; href=&quot;https://maxcdn.bootstrapcdn.com/bootstrap/3.2.0/css/bootstrap.min.css&quot;/&gt;\n",
       "    &lt;link rel=&quot;stylesheet&quot; href=&quot;https://maxcdn.bootstrapcdn.com/bootstrap/3.2.0/css/bootstrap-theme.min.css&quot;/&gt;\n",
       "    &lt;link rel=&quot;stylesheet&quot; href=&quot;https://maxcdn.bootstrapcdn.com/font-awesome/4.6.3/css/font-awesome.min.css&quot;/&gt;\n",
       "    &lt;link rel=&quot;stylesheet&quot; href=&quot;https://cdnjs.cloudflare.com/ajax/libs/Leaflet.awesome-markers/2.0.2/leaflet.awesome-markers.css&quot;/&gt;\n",
       "    &lt;link rel=&quot;stylesheet&quot; href=&quot;https://cdn.jsdelivr.net/gh/python-visualization/folium/folium/templates/leaflet.awesome.rotate.min.css&quot;/&gt;\n",
       "    \n",
       "            &lt;meta name=&quot;viewport&quot; content=&quot;width=device-width,\n",
       "                initial-scale=1.0, maximum-scale=1.0, user-scalable=no&quot; /&gt;\n",
       "            &lt;style&gt;\n",
       "                #map_c0942566c3720e17b231ba2853bc8d08 {\n",
       "                    position: relative;\n",
       "                    width: 100.0%;\n",
       "                    height: 100.0%;\n",
       "                    left: 0.0%;\n",
       "                    top: 0.0%;\n",
       "                }\n",
       "            &lt;/style&gt;\n",
       "        \n",
       "&lt;/head&gt;\n",
       "&lt;body&gt;    \n",
       "    \n",
       "            &lt;div class=&quot;folium-map&quot; id=&quot;map_c0942566c3720e17b231ba2853bc8d08&quot; &gt;&lt;/div&gt;\n",
       "        \n",
       "&lt;/body&gt;\n",
       "&lt;script&gt;    \n",
       "    \n",
       "            var map_c0942566c3720e17b231ba2853bc8d08 = L.map(\n",
       "                &quot;map_c0942566c3720e17b231ba2853bc8d08&quot;,\n",
       "                {\n",
       "                    center: [38.799198403259254, -105.07213717585492],\n",
       "                    crs: L.CRS.EPSG3857,\n",
       "                    zoom: 10,\n",
       "                    zoomControl: true,\n",
       "                    preferCanvas: false,\n",
       "                }\n",
       "            );\n",
       "\n",
       "            \n",
       "\n",
       "        \n",
       "    \n",
       "            var tile_layer_99be2ffd8f3d880c4518c917f4ca13fe = L.tileLayer(\n",
       "                &quot;https://cartodb-basemaps-{s}.global.ssl.fastly.net/light_all/{z}/{x}/{y}.png&quot;,\n",
       "                {&quot;attribution&quot;: &quot;\\u0026copy; \\u003ca href=\\&quot;http://www.openstreetmap.org/copyright\\&quot;\\u003eOpenStreetMap\\u003c/a\\u003e contributors \\u0026copy; \\u003ca href=\\&quot;http://cartodb.com/attributions\\&quot;\\u003eCartoDB\\u003c/a\\u003e, CartoDB \\u003ca href =\\&quot;http://cartodb.com/attributions\\&quot;\\u003eattributions\\u003c/a\\u003e&quot;, &quot;detectRetina&quot;: false, &quot;maxNativeZoom&quot;: 18, &quot;maxZoom&quot;: 18, &quot;minZoom&quot;: 0, &quot;noWrap&quot;: false, &quot;opacity&quot;: 1, &quot;subdomains&quot;: &quot;abc&quot;, &quot;tms&quot;: false}\n",
       "            ).addTo(map_c0942566c3720e17b231ba2853bc8d08);\n",
       "        \n",
       "&lt;/script&gt;\" style=\"position:absolute;width:100%;height:100%;left:0;top:0;border:none !important;\" allowfullscreen webkitallowfullscreen mozallowfullscreen></iframe></div></div>"
      ],
      "text/plain": [
       "<folium.folium.Map at 0x7fcb9f0cfbb0>"
      ]
     },
     "execution_count": 18,
     "metadata": {},
     "output_type": "execute_result"
    }
   ],
   "source": [
    "import folium\n",
    "center = [df.centroid[0].y , df.centroid[0].x]\n",
    "\n",
    "m = folium.Map(location=center, zoom_start=10, tiles='CartoDB positron')\n",
    "m\n"
   ]
  },
  {
   "cell_type": "code",
   "execution_count": 19,
   "id": "1528535d",
   "metadata": {},
   "outputs": [
    {
     "name": "stdout",
     "output_type": "stream",
     "text": [
      "{\"type\": \"FeatureCollection\", \"features\": [{\"id\": \"0\", \"type\": \"Feature\", \"properties\": {}, \"geometry\": {\"type\": \"Polygon\", \"coordinates\": [[[-105.06812385, 38.79142931], [-105.06599914, 38.8024696], [-105.07237325, 38.8061497], [-105.08087207, 38.7987895], [-105.06812385, 38.79142931]]]}, \"bbox\": [-105.08087207, 38.79142931, -105.06599914, 38.8061497]}], \"bbox\": [-105.08087207, 38.79142931, -105.06599914, 38.8061497]}\n"
     ]
    },
    {
     "data": {
      "text/html": [
       "<div style=\"width:100%;\"><div style=\"position:relative;width:100%;height:0;padding-bottom:60%;\"><span style=\"color:#565656\">Make this Notebook Trusted to load map: File -> Trust Notebook</span><iframe srcdoc=\"&lt;!DOCTYPE html&gt;\n",
       "&lt;head&gt;    \n",
       "    &lt;meta http-equiv=&quot;content-type&quot; content=&quot;text/html; charset=UTF-8&quot; /&gt;\n",
       "    \n",
       "        &lt;script&gt;\n",
       "            L_NO_TOUCH = false;\n",
       "            L_DISABLE_3D = false;\n",
       "        &lt;/script&gt;\n",
       "    \n",
       "    &lt;style&gt;html, body {width: 100%;height: 100%;margin: 0;padding: 0;}&lt;/style&gt;\n",
       "    &lt;style&gt;#map {position:absolute;top:0;bottom:0;right:0;left:0;}&lt;/style&gt;\n",
       "    &lt;script src=&quot;https://cdn.jsdelivr.net/npm/leaflet@1.6.0/dist/leaflet.js&quot;&gt;&lt;/script&gt;\n",
       "    &lt;script src=&quot;https://code.jquery.com/jquery-1.12.4.min.js&quot;&gt;&lt;/script&gt;\n",
       "    &lt;script src=&quot;https://maxcdn.bootstrapcdn.com/bootstrap/3.2.0/js/bootstrap.min.js&quot;&gt;&lt;/script&gt;\n",
       "    &lt;script src=&quot;https://cdnjs.cloudflare.com/ajax/libs/Leaflet.awesome-markers/2.0.2/leaflet.awesome-markers.js&quot;&gt;&lt;/script&gt;\n",
       "    &lt;link rel=&quot;stylesheet&quot; href=&quot;https://cdn.jsdelivr.net/npm/leaflet@1.6.0/dist/leaflet.css&quot;/&gt;\n",
       "    &lt;link rel=&quot;stylesheet&quot; href=&quot;https://maxcdn.bootstrapcdn.com/bootstrap/3.2.0/css/bootstrap.min.css&quot;/&gt;\n",
       "    &lt;link rel=&quot;stylesheet&quot; href=&quot;https://maxcdn.bootstrapcdn.com/bootstrap/3.2.0/css/bootstrap-theme.min.css&quot;/&gt;\n",
       "    &lt;link rel=&quot;stylesheet&quot; href=&quot;https://maxcdn.bootstrapcdn.com/font-awesome/4.6.3/css/font-awesome.min.css&quot;/&gt;\n",
       "    &lt;link rel=&quot;stylesheet&quot; href=&quot;https://cdnjs.cloudflare.com/ajax/libs/Leaflet.awesome-markers/2.0.2/leaflet.awesome-markers.css&quot;/&gt;\n",
       "    &lt;link rel=&quot;stylesheet&quot; href=&quot;https://cdn.jsdelivr.net/gh/python-visualization/folium/folium/templates/leaflet.awesome.rotate.min.css&quot;/&gt;\n",
       "    \n",
       "            &lt;meta name=&quot;viewport&quot; content=&quot;width=device-width,\n",
       "                initial-scale=1.0, maximum-scale=1.0, user-scalable=no&quot; /&gt;\n",
       "            &lt;style&gt;\n",
       "                #map_c0942566c3720e17b231ba2853bc8d08 {\n",
       "                    position: relative;\n",
       "                    width: 100.0%;\n",
       "                    height: 100.0%;\n",
       "                    left: 0.0%;\n",
       "                    top: 0.0%;\n",
       "                }\n",
       "            &lt;/style&gt;\n",
       "        \n",
       "&lt;/head&gt;\n",
       "&lt;body&gt;    \n",
       "    \n",
       "            &lt;div class=&quot;folium-map&quot; id=&quot;map_c0942566c3720e17b231ba2853bc8d08&quot; &gt;&lt;/div&gt;\n",
       "        \n",
       "&lt;/body&gt;\n",
       "&lt;script&gt;    \n",
       "    \n",
       "            var map_c0942566c3720e17b231ba2853bc8d08 = L.map(\n",
       "                &quot;map_c0942566c3720e17b231ba2853bc8d08&quot;,\n",
       "                {\n",
       "                    center: [38.799198403259254, -105.07213717585492],\n",
       "                    crs: L.CRS.EPSG3857,\n",
       "                    zoom: 10,\n",
       "                    zoomControl: true,\n",
       "                    preferCanvas: false,\n",
       "                }\n",
       "            );\n",
       "\n",
       "            \n",
       "\n",
       "        \n",
       "    \n",
       "            var tile_layer_99be2ffd8f3d880c4518c917f4ca13fe = L.tileLayer(\n",
       "                &quot;https://cartodb-basemaps-{s}.global.ssl.fastly.net/light_all/{z}/{x}/{y}.png&quot;,\n",
       "                {&quot;attribution&quot;: &quot;\\u0026copy; \\u003ca href=\\&quot;http://www.openstreetmap.org/copyright\\&quot;\\u003eOpenStreetMap\\u003c/a\\u003e contributors \\u0026copy; \\u003ca href=\\&quot;http://cartodb.com/attributions\\&quot;\\u003eCartoDB\\u003c/a\\u003e, CartoDB \\u003ca href =\\&quot;http://cartodb.com/attributions\\&quot;\\u003eattributions\\u003c/a\\u003e&quot;, &quot;detectRetina&quot;: false, &quot;maxNativeZoom&quot;: 18, &quot;maxZoom&quot;: 18, &quot;minZoom&quot;: 0, &quot;noWrap&quot;: false, &quot;opacity&quot;: 1, &quot;subdomains&quot;: &quot;abc&quot;, &quot;tms&quot;: false}\n",
       "            ).addTo(map_c0942566c3720e17b231ba2853bc8d08);\n",
       "        \n",
       "    \n",
       "        function geo_json_c81524d0ef9ebb01c9b4ed34c0ca55a4_styler(feature) {\n",
       "            switch(feature.id) {\n",
       "                default:\n",
       "                    return {&quot;fillColor&quot;: &quot;orange&quot;};\n",
       "            }\n",
       "        }\n",
       "\n",
       "        function geo_json_c81524d0ef9ebb01c9b4ed34c0ca55a4_onEachFeature(feature, layer) {\n",
       "            layer.on({\n",
       "            });\n",
       "        };\n",
       "        var geo_json_c81524d0ef9ebb01c9b4ed34c0ca55a4 = L.geoJson(null, {\n",
       "                onEachFeature: geo_json_c81524d0ef9ebb01c9b4ed34c0ca55a4_onEachFeature,\n",
       "            \n",
       "                style: geo_json_c81524d0ef9ebb01c9b4ed34c0ca55a4_styler,\n",
       "        });\n",
       "\n",
       "        function geo_json_c81524d0ef9ebb01c9b4ed34c0ca55a4_add (data) {\n",
       "            geo_json_c81524d0ef9ebb01c9b4ed34c0ca55a4\n",
       "                .addData(data)\n",
       "                .addTo(map_c0942566c3720e17b231ba2853bc8d08);\n",
       "        }\n",
       "            geo_json_c81524d0ef9ebb01c9b4ed34c0ca55a4_add({&quot;bbox&quot;: [-105.08087207, 38.79142931, -105.06599914, 38.8061497], &quot;features&quot;: [{&quot;bbox&quot;: [-105.08087207, 38.79142931, -105.06599914, 38.8061497], &quot;geometry&quot;: {&quot;coordinates&quot;: [[[-105.06812385, 38.79142931], [-105.06599914, 38.8024696], [-105.07237325, 38.8061497], [-105.08087207, 38.7987895], [-105.06812385, 38.79142931]]], &quot;type&quot;: &quot;Polygon&quot;}, &quot;id&quot;: &quot;0&quot;, &quot;properties&quot;: {}, &quot;type&quot;: &quot;Feature&quot;}], &quot;type&quot;: &quot;FeatureCollection&quot;});\n",
       "\n",
       "        \n",
       "    \n",
       "        var popup_a5c6cf6005e5c32245355e3e5cbc35d6 = L.popup({&quot;maxWidth&quot;: &quot;100%&quot;});\n",
       "\n",
       "        \n",
       "            var html_16e8facbd10980ea5cbbdc3ac40a1484 = $(`&lt;div id=&quot;html_16e8facbd10980ea5cbbdc3ac40a1484&quot; style=&quot;width: 100.0%; height: 100.0%;&quot;&gt;you are here&lt;/div&gt;`)[0];\n",
       "            popup_a5c6cf6005e5c32245355e3e5cbc35d6.setContent(html_16e8facbd10980ea5cbbdc3ac40a1484);\n",
       "        \n",
       "\n",
       "        geo_json_c81524d0ef9ebb01c9b4ed34c0ca55a4.bindPopup(popup_a5c6cf6005e5c32245355e3e5cbc35d6)\n",
       "        ;\n",
       "\n",
       "        \n",
       "    \n",
       "&lt;/script&gt;\" style=\"position:absolute;width:100%;height:100%;left:0;top:0;border:none !important;\" allowfullscreen webkitallowfullscreen mozallowfullscreen></iframe></div></div>"
      ],
      "text/plain": [
       "<folium.folium.Map at 0x7fcb9f0cfbb0>"
      ]
     },
     "execution_count": 19,
     "metadata": {},
     "output_type": "execute_result"
    }
   ],
   "source": [
    "\n",
    "sim_geo = gpd.GeoSeries(df).simplify(tolerance=0.001)\n",
    "geo_ja = sim_geo.to_json()\n",
    "print(geo_ja)\n",
    "geo_j = folium.GeoJson(data=geo_ja,\n",
    "                       style_function=lambda x: {'fillColor': 'orange'})\n",
    "folium.Popup('you are here').add_to(geo_j)\n",
    "geo_j.add_to(m)\n",
    "m"
   ]
  },
  {
   "cell_type": "code",
   "execution_count": 20,
   "id": "b2e1f42d",
   "metadata": {},
   "outputs": [],
   "source": [
    "# import sys\n",
    "# sys.path.append(\".\")\n",
    "# from fm_map import Fmap"
   ]
  },
  {
   "cell_type": "code",
   "execution_count": 21,
   "id": "92057666",
   "metadata": {},
   "outputs": [],
   "source": [
    "#fm = Fmap()"
   ]
  },
  {
   "cell_type": "code",
   "execution_count": 22,
   "id": "1511cd3b",
   "metadata": {},
   "outputs": [],
   "source": [
    "#! conda install -y fiona"
   ]
  },
  {
   "cell_type": "code",
   "execution_count": 23,
   "id": "63378cd5",
   "metadata": {},
   "outputs": [],
   "source": [
    "#fm.map_geojson('a.geojson')"
   ]
  },
  {
   "cell_type": "code",
   "execution_count": null,
   "id": "804522e1",
   "metadata": {},
   "outputs": [],
   "source": []
  },
  {
   "cell_type": "code",
   "execution_count": null,
   "id": "9e757ec5",
   "metadata": {},
   "outputs": [],
   "source": []
  }
 ],
 "metadata": {
  "kernelspec": {
   "display_name": "Python 3 (ipykernel)",
   "language": "python",
   "name": "python3"
  },
  "language_info": {
   "codemirror_mode": {
    "name": "ipython",
    "version": 3
   },
   "file_extension": ".py",
   "mimetype": "text/x-python",
   "name": "python",
   "nbconvert_exporter": "python",
   "pygments_lexer": "ipython3",
   "version": "3.10.4"
  }
 },
 "nbformat": 4,
 "nbformat_minor": 5
}
