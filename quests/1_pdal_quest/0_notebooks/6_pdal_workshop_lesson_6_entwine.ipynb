{
 "cells": [
  {
   "cell_type": "markdown",
   "id": "7d1d2996",
   "metadata": {},
   "source": [
    "# EPT indexes can be used for visualization as well as analysis and data manipulation at any scale."
   ]
  },
  {
   "cell_type": "code",
   "execution_count": 1,
   "id": "f2ec727f",
   "metadata": {},
   "outputs": [
    {
     "name": "stdout",
     "output_type": "stream",
     "text": [
      "{\r\n",
      "    \"pipeline\": [\r\n",
      "        {\r\n",
      "            \"type\": \"readers.ept\",\r\n",
      "            \"filename\":\"ept://https://na-c.entwine.io/dublin/ept.json\",\r\n",
      "            \"resolution\": 5\r\n",
      "        },\r\n",
      "        {\r\n",
      "            \"type\": \"writers.las\",\r\n",
      "            \"compression\": \"true\",\r\n",
      "            \"minor_version\": \"2\",\r\n",
      "            \"dataformat_id\": \"0\",\r\n",
      "            \"filename\":\"dublin.laz\"\r\n",
      "        }\r\n",
      "    ]\r\n",
      "}\r\n"
     ]
    }
   ],
   "source": [
    "! cat download_entwine.json"
   ]
  },
  {
   "cell_type": "code",
   "execution_count": 2,
   "id": "41dfcde8",
   "metadata": {},
   "outputs": [
    {
     "name": "stdout",
     "output_type": "stream",
     "text": [
      "(PDAL Debug) Debugging...\n",
      "(pdal pipeline readers.ept Debug) Root resolution: 21.3828\n",
      "Query resolution:  5\n",
      "Actual resolution: 2.67285\n",
      "Depth end: 4\n",
      "Query bounds: ()\n",
      "Threads: 15\n",
      "(pdal pipeline Debug) Executing pipeline in stream mode.\n",
      "(pdal pipeline writers.las Debug) Wrote 8034506 points to the LAS file\n"
     ]
    }
   ],
   "source": [
    "!pdal pipeline ./download_entwine.json -v 7"
   ]
  },
  {
   "cell_type": "code",
   "execution_count": 3,
   "id": "ff9471f7",
   "metadata": {},
   "outputs": [
    {
     "name": "stdout",
     "output_type": "stream",
     "text": [
      "1_pdal_workshop_lesson1_print_first_point.ipynb\t\t  download_entwine.json\r\n",
      "3_pdal_workshop_lesson3_searching_near_a_point.ipynb\t  dublin.laz\r\n",
      "4_pdal_workshop_lesson_4_compression_uncompression.ipynb  fm_map.py\r\n",
      "6_pdal_workshop_lesson_6_entwine.ipynb\t\t\t  junk.source\r\n",
      "a.geojson\t\t\t\t\t\t  __pycache__\r\n",
      "bb.json\r\n"
     ]
    }
   ],
   "source": [
    "!ls"
   ]
  },
  {
   "cell_type": "code",
   "execution_count": 4,
   "id": "eafb4b97",
   "metadata": {},
   "outputs": [
    {
     "name": "stdout",
     "output_type": "stream",
     "text": [
      "\u001b[1;39m{\r\n",
      "  \u001b[0m\u001b[34;1m\"maxx\"\u001b[0m\u001b[1;39m: \u001b[0m\u001b[0;39m-694128.96\u001b[0m\u001b[1;39m,\r\n",
      "  \u001b[0m\u001b[34;1m\"maxy\"\u001b[0m\u001b[1;39m: \u001b[0m\u001b[0;39m7049938.84\u001b[0m\u001b[1;39m,\r\n",
      "  \u001b[0m\u001b[34;1m\"maxz\"\u001b[0m\u001b[1;39m: \u001b[0m\u001b[0;39m385.37\u001b[0m\u001b[1;39m,\r\n",
      "  \u001b[0m\u001b[34;1m\"minx\"\u001b[0m\u001b[1;39m: \u001b[0m\u001b[0;39m-699477.88\u001b[0m\u001b[1;39m,\r\n",
      "  \u001b[0m\u001b[34;1m\"miny\"\u001b[0m\u001b[1;39m: \u001b[0m\u001b[0;39m7044490.98\u001b[0m\u001b[1;39m,\r\n",
      "  \u001b[0m\u001b[34;1m\"minz\"\u001b[0m\u001b[1;39m: \u001b[0m\u001b[0;39m-144.24\u001b[0m\u001b[1;39m\r\n",
      "\u001b[1;39m}\u001b[0m\r\n"
     ]
    }
   ],
   "source": [
    "! pdal info dublin.laz | jq .stats.bbox.native.bbox"
   ]
  },
  {
   "cell_type": "code",
   "execution_count": 5,
   "id": "3d90151f",
   "metadata": {},
   "outputs": [
    {
     "name": "stdout",
     "output_type": "stream",
     "text": [
      "{\r\n",
      "  \"file_size\": 56452460,\r\n",
      "  \"filename\": \"dublin.laz\",\r\n",
      "  \"now\": \"2022-04-23T15:21:45+0000\",\r\n",
      "  \"pdal_version\": \"2.4.0 (git-version: 997a1c)\",\r\n",
      "  \"points\":\r\n",
      "  {\r\n",
      "    \"point\":\r\n",
      "    {\r\n",
      "      \"Classification\": 4,\r\n",
      "      \"EdgeOfFlightLine\": 0,\r\n",
      "      \"Intensity\": 12,\r\n",
      "      \"NumberOfReturns\": 1,\r\n",
      "      \"PointId\": 0,\r\n",
      "      \"PointSourceId\": 33,\r\n",
      "      \"ReturnNumber\": 1,\r\n",
      "      \"ScanAngleRank\": 20,\r\n",
      "      \"ScanDirectionFlag\": 1,\r\n",
      "      \"UserData\": 0,\r\n",
      "      \"X\": -695320.58,\r\n",
      "      \"Y\": 7047713.34,\r\n",
      "      \"Z\": 143.28\r\n",
      "    }\r\n",
      "  },\r\n",
      "  \"reader\": \"readers.las\"\r\n",
      "}\r\n"
     ]
    }
   ],
   "source": [
    "! pdal info dublin.laz -p 0"
   ]
  },
  {
   "cell_type": "code",
   "execution_count": 6,
   "id": "3a1ee9a2",
   "metadata": {},
   "outputs": [
    {
     "name": "stdout",
     "output_type": "stream",
     "text": [
      "{\r\n",
      "  \"boundary\":\r\n",
      "  {\r\n",
      "    \"area\": 20156955.6,\r\n",
      "    \"avg_pt_per_sq_unit\": 7.580471126,\r\n",
      "    \"avg_pt_spacing\": 1.583918677,\r\n",
      "    \"boundary\": \"POLYGON ((-696453.99 7044240.1,-696105.25 7044542.1,-695407.77 7044240.1,-694884.65 7044542.1,-694797.47 7044995.2,-694012.8 7045448.2,-694012.8 7047562.3,-694535.91 7047864.3,-694884.65 7048770.4,-695582.14 7049072.4,-695582.14 7049676.5,-695930.88 7049978.5,-696628.36 7049676.5,-696715.55 7049223.4,-697238.66 7048921.4,-697936.15 7048921.4,-698284.89 7048015.4,-698982.37 7047713.3,-699069.56 7047260.3,-699592.67 7046958.3,-699505.49 7046505.3,-698982.37 7046203.2,-699069.56 7045750.2,-698720.82 7045146.2,-698284.89 7044995.2,-697761.78 7045297.2,-697238.66 7044995.2,-697151.48 7044542.1,-696715.55 7044693.1,-696453.99 7044240.1))\",\r\n",
      "    \"boundary_json\": { \"type\": \"Polygon\", \"coordinates\": [ [ [ -696453.992277799989097, 7044240.114154949784279 ], [ -696105.250038470025174, 7044542.133793650195003 ], [ -695407.765559830004349, 7044240.114154949784279 ], [ -694884.652200849959627, 7044542.133793650195003 ], [ -694797.466641020029783, 7044995.163251699879766 ], [ -694012.796602539950982, 7045448.192709749564528 ], [ -694012.796602539950982, 7047562.330180649645627 ], [ -694535.909961530007422, 7047864.34981935005635 ], [ -694884.652200849959627, 7048770.408735450357199 ], [ -695582.136679489980452, 7049072.4283741498366 ], [ -695582.136679489980452, 7049676.467651549726725 ], [ -695930.878918810049072, 7049978.487290250137448 ], [ -696628.363397459965199, 7049676.467651549726725 ], [ -696715.548957290011458, 7049223.438193500041962 ], [ -697238.662316270056181, 7048921.418554799631238 ], [ -697936.14679490996059, 7048921.418554799631238 ], [ -698284.88903423002921, 7048015.359638700261712 ], [ -698982.373512879945338, 7047713.339999999850988 ], [ -699069.559072709991597, 7047260.310541950166225 ], [ -699592.672431690036319, 7046958.290903249755502 ], [ -699505.48687185999006, 7046505.261445200070739 ], [ -698982.373512879945338, 7046203.241806499660015 ], [ -699069.559072709991597, 7045750.212348449975252 ], [ -698720.816833390039392, 7045146.173071050085127 ], [ -698284.88903423002921, 7044995.163251699879766 ], [ -697761.775675249984488, 7045297.182890400290489 ], [ -697238.662316270056181, 7044995.163251699879766 ], [ -697151.476756440009922, 7044542.133793650195003 ], [ -696715.548957290011458, 7044693.143613000400364 ], [ -696453.992277799989097, 7044240.114154949784279 ] ] ] },\r\n",
      "    \"density\": 0.3985971968,\r\n",
      "    \"edge_length\": 0,\r\n",
      "    \"estimated_edge\": 302.0196387,\r\n",
      "    \"hex_offsets\": \"MULTIPOINT (0 0, -87.1856 151.01, 0 302.02, 174.371 302.02, 261.557 151.01, 174.371 0)\",\r\n",
      "    \"sample_size\": 5000,\r\n",
      "    \"threshold\": 15\r\n",
      "  },\r\n",
      "  \"file_size\": 56452460,\r\n",
      "  \"filename\": \"dublin.laz\",\r\n",
      "  \"now\": \"2022-04-23T15:34:55+0000\",\r\n",
      "  \"pdal_version\": \"2.4.0 (git-version: 997a1c)\",\r\n",
      "  \"reader\": \"readers.las\"\r\n",
      "}\r\n"
     ]
    }
   ],
   "source": [
    "! pdal info --boundary dublin.laz"
   ]
  },
  {
   "cell_type": "code",
   "execution_count": 10,
   "id": "c71a1fac",
   "metadata": {},
   "outputs": [
    {
     "name": "stdout",
     "output_type": "stream",
     "text": [
      "\u001b[1;39m{\r\n",
      "  \u001b[0m\u001b[34;1m\"EPSG:4326\"\u001b[0m\u001b[1;39m: \u001b[0m\u001b[1;39m{\r\n",
      "    \u001b[0m\u001b[34;1m\"bbox\"\u001b[0m\u001b[1;39m: \u001b[0m\u001b[1;39m{\r\n",
      "      \u001b[0m\u001b[34;1m\"maxx\"\u001b[0m\u001b[1;39m: \u001b[0m\u001b[0;39m-6.235466539\u001b[0m\u001b[1;39m,\r\n",
      "      \u001b[0m\u001b[34;1m\"maxy\"\u001b[0m\u001b[1;39m: \u001b[0m\u001b[0;39m53.3603809\u001b[0m\u001b[1;39m,\r\n",
      "      \u001b[0m\u001b[34;1m\"maxz\"\u001b[0m\u001b[1;39m: \u001b[0m\u001b[0;39m385.37\u001b[0m\u001b[1;39m,\r\n",
      "      \u001b[0m\u001b[34;1m\"minx\"\u001b[0m\u001b[1;39m: \u001b[0m\u001b[0;39m-6.283516705\u001b[0m\u001b[1;39m,\r\n",
      "      \u001b[0m\u001b[34;1m\"miny\"\u001b[0m\u001b[1;39m: \u001b[0m\u001b[0;39m53.33116511\u001b[0m\u001b[1;39m,\r\n",
      "      \u001b[0m\u001b[34;1m\"minz\"\u001b[0m\u001b[1;39m: \u001b[0m\u001b[0;39m-144.24\u001b[0m\u001b[1;39m\r\n",
      "    \u001b[1;39m}\u001b[0m\u001b[1;39m,\r\n",
      "    \u001b[0m\u001b[34;1m\"boundary\"\u001b[0m\u001b[1;39m: \u001b[0m\u001b[1;39m{\r\n",
      "      \u001b[0m\u001b[34;1m\"type\"\u001b[0m\u001b[1;39m: \u001b[0m\u001b[0;32m\"Polygon\"\u001b[0m\u001b[1;39m,\r\n",
      "      \u001b[0m\u001b[34;1m\"coordinates\"\u001b[0m\u001b[1;39m: \u001b[0m\u001b[1;39m[\r\n",
      "        \u001b[1;39m[\r\n",
      "          \u001b[1;39m[\r\n",
      "            \u001b[0;39m-6.283516705075205\u001b[0m\u001b[1;39m,\r\n",
      "            \u001b[0;39m53.33116510601367\u001b[0m\u001b[1;39m,\r\n",
      "            \u001b[0;39m-144.24\u001b[0m\u001b[1;39m\r\n",
      "          \u001b[1;39m]\u001b[0m\u001b[1;39m,\r\n",
      "          \u001b[1;39m[\r\n",
      "            \u001b[0;39m-6.283516705075205\u001b[0m\u001b[1;39m,\r\n",
      "            \u001b[0;39m53.3603809009286\u001b[0m\u001b[1;39m,\r\n",
      "            \u001b[0;39m-144.24\u001b[0m\u001b[1;39m\r\n",
      "          \u001b[1;39m]\u001b[0m\u001b[1;39m,\r\n",
      "          \u001b[1;39m[\r\n",
      "            \u001b[0;39m-6.235466539179878\u001b[0m\u001b[1;39m,\r\n",
      "            \u001b[0;39m53.3603809009286\u001b[0m\u001b[1;39m,\r\n",
      "            \u001b[0;39m385.37\u001b[0m\u001b[1;39m\r\n",
      "          \u001b[1;39m]\u001b[0m\u001b[1;39m,\r\n",
      "          \u001b[1;39m[\r\n",
      "            \u001b[0;39m-6.235466539179878\u001b[0m\u001b[1;39m,\r\n",
      "            \u001b[0;39m53.33116510601367\u001b[0m\u001b[1;39m,\r\n",
      "            \u001b[0;39m385.37\u001b[0m\u001b[1;39m\r\n",
      "          \u001b[1;39m]\u001b[0m\u001b[1;39m,\r\n",
      "          \u001b[1;39m[\r\n",
      "            \u001b[0;39m-6.283516705075205\u001b[0m\u001b[1;39m,\r\n",
      "            \u001b[0;39m53.33116510601367\u001b[0m\u001b[1;39m,\r\n",
      "            \u001b[0;39m-144.24\u001b[0m\u001b[1;39m\r\n",
      "          \u001b[1;39m]\u001b[0m\u001b[1;39m\r\n",
      "        \u001b[1;39m]\u001b[0m\u001b[1;39m\r\n",
      "      \u001b[1;39m]\u001b[0m\u001b[1;39m\r\n",
      "    \u001b[1;39m}\u001b[0m\u001b[1;39m\r\n",
      "  \u001b[1;39m}\u001b[0m\u001b[1;39m,\r\n",
      "  \u001b[0m\u001b[34;1m\"native\"\u001b[0m\u001b[1;39m: \u001b[0m\u001b[1;39m{\r\n",
      "    \u001b[0m\u001b[34;1m\"bbox\"\u001b[0m\u001b[1;39m: \u001b[0m\u001b[1;39m{\r\n",
      "      \u001b[0m\u001b[34;1m\"maxx\"\u001b[0m\u001b[1;39m: \u001b[0m\u001b[0;39m-694128.96\u001b[0m\u001b[1;39m,\r\n",
      "      \u001b[0m\u001b[34;1m\"maxy\"\u001b[0m\u001b[1;39m: \u001b[0m\u001b[0;39m7049938.84\u001b[0m\u001b[1;39m,\r\n",
      "      \u001b[0m\u001b[34;1m\"maxz\"\u001b[0m\u001b[1;39m: \u001b[0m\u001b[0;39m385.37\u001b[0m\u001b[1;39m,\r\n",
      "      \u001b[0m\u001b[34;1m\"minx\"\u001b[0m\u001b[1;39m: \u001b[0m\u001b[0;39m-699477.88\u001b[0m\u001b[1;39m,\r\n",
      "      \u001b[0m\u001b[34;1m\"miny\"\u001b[0m\u001b[1;39m: \u001b[0m\u001b[0;39m7044490.98\u001b[0m\u001b[1;39m,\r\n",
      "      \u001b[0m\u001b[34;1m\"minz\"\u001b[0m\u001b[1;39m: \u001b[0m\u001b[0;39m-144.24\u001b[0m\u001b[1;39m\r\n",
      "    \u001b[1;39m}\u001b[0m\u001b[1;39m,\r\n",
      "    \u001b[0m\u001b[34;1m\"boundary\"\u001b[0m\u001b[1;39m: \u001b[0m\u001b[1;39m{\r\n",
      "      \u001b[0m\u001b[34;1m\"type\"\u001b[0m\u001b[1;39m: \u001b[0m\u001b[0;32m\"Polygon\"\u001b[0m\u001b[1;39m,\r\n",
      "      \u001b[0m\u001b[34;1m\"coordinates\"\u001b[0m\u001b[1;39m: \u001b[0m\u001b[1;39m[\r\n",
      "        \u001b[1;39m[\r\n",
      "          \u001b[1;39m[\r\n",
      "            \u001b[0;39m-699477.88\u001b[0m\u001b[1;39m,\r\n",
      "            \u001b[0;39m7044490.98\u001b[0m\u001b[1;39m,\r\n",
      "            \u001b[0;39m-144.24\u001b[0m\u001b[1;39m\r\n",
      "          \u001b[1;39m]\u001b[0m\u001b[1;39m,\r\n",
      "          \u001b[1;39m[\r\n",
      "            \u001b[0;39m-699477.88\u001b[0m\u001b[1;39m,\r\n",
      "            \u001b[0;39m7049938.84\u001b[0m\u001b[1;39m,\r\n",
      "            \u001b[0;39m-144.24\u001b[0m\u001b[1;39m\r\n",
      "          \u001b[1;39m]\u001b[0m\u001b[1;39m,\r\n",
      "          \u001b[1;39m[\r\n",
      "            \u001b[0;39m-694128.96\u001b[0m\u001b[1;39m,\r\n",
      "            \u001b[0;39m7049938.84\u001b[0m\u001b[1;39m,\r\n",
      "            \u001b[0;39m385.37\u001b[0m\u001b[1;39m\r\n",
      "          \u001b[1;39m]\u001b[0m\u001b[1;39m,\r\n",
      "          \u001b[1;39m[\r\n",
      "            \u001b[0;39m-694128.96\u001b[0m\u001b[1;39m,\r\n",
      "            \u001b[0;39m7044490.98\u001b[0m\u001b[1;39m,\r\n",
      "            \u001b[0;39m385.37\u001b[0m\u001b[1;39m\r\n",
      "          \u001b[1;39m]\u001b[0m\u001b[1;39m,\r\n",
      "          \u001b[1;39m[\r\n",
      "            \u001b[0;39m-699477.88\u001b[0m\u001b[1;39m,\r\n",
      "            \u001b[0;39m7044490.98\u001b[0m\u001b[1;39m,\r\n",
      "            \u001b[0;39m-144.24\u001b[0m\u001b[1;39m\r\n",
      "          \u001b[1;39m]\u001b[0m\u001b[1;39m\r\n",
      "        \u001b[1;39m]\u001b[0m\u001b[1;39m\r\n",
      "      \u001b[1;39m]\u001b[0m\u001b[1;39m\r\n",
      "    \u001b[1;39m}\u001b[0m\u001b[1;39m\r\n",
      "  \u001b[1;39m}\u001b[0m\u001b[1;39m\r\n",
      "\u001b[1;39m}\u001b[0m\r\n"
     ]
    }
   ],
   "source": [
    "! pdal info --stats dublin.laz | jq '.stats.bbox'"
   ]
  },
  {
   "cell_type": "markdown",
   "id": "acc6a53e",
   "metadata": {},
   "source": [
    "# echo down load the dublin laz file\n",
    "\n",
    "- https://plas.io/"
   ]
  },
  {
   "cell_type": "code",
   "execution_count": null,
   "id": "8690024d",
   "metadata": {},
   "outputs": [],
   "source": []
  }
 ],
 "metadata": {
  "kernelspec": {
   "display_name": "Python 3 (ipykernel)",
   "language": "python",
   "name": "python3"
  },
  "language_info": {
   "codemirror_mode": {
    "name": "ipython",
    "version": 3
   },
   "file_extension": ".py",
   "mimetype": "text/x-python",
   "name": "python",
   "nbconvert_exporter": "python",
   "pygments_lexer": "ipython3",
   "version": "3.10.4"
  }
 },
 "nbformat": 4,
 "nbformat_minor": 5
}
