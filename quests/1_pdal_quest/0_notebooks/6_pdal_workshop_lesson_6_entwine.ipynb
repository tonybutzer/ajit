{
 "cells": [
  {
   "cell_type": "markdown",
   "id": "0bf8890f",
   "metadata": {},
   "source": [
    "# EPT indexes can be used for visualization as well as analysis and data manipulation at any scale."
   ]
  },
  {
   "cell_type": "code",
   "execution_count": 1,
   "id": "74eb08aa",
   "metadata": {},
   "outputs": [
    {
     "name": "stdout",
     "output_type": "stream",
     "text": [
      "{\r\n",
      "    \"pipeline\": [\r\n",
      "        {\r\n",
      "            \"type\": \"readers.ept\",\r\n",
      "            \"filename\":\"ept://https://na-c.entwine.io/dublin/ept.json\",\r\n",
      "            \"resolution\": 5\r\n",
      "        },\r\n",
      "        {\r\n",
      "            \"type\": \"writers.las\",\r\n",
      "            \"compression\": \"true\",\r\n",
      "            \"minor_version\": \"2\",\r\n",
      "            \"dataformat_id\": \"0\",\r\n",
      "            \"filename\":\"dublin.laz\"\r\n",
      "        }\r\n",
      "    ]\r\n",
      "}\r\n"
     ]
    }
   ],
   "source": [
    "! cat download_entwine.json"
   ]
  },
  {
   "cell_type": "code",
   "execution_count": 2,
   "id": "360ba4d3",
   "metadata": {},
   "outputs": [
    {
     "name": "stdout",
     "output_type": "stream",
     "text": [
      "(PDAL Debug) Debugging...\n",
      "(pdal pipeline readers.ept Debug) Root resolution: 21.3828\n",
      "Query resolution:  5\n",
      "Actual resolution: 2.67285\n",
      "Depth end: 4\n",
      "Query bounds: ()\n",
      "Threads: 15\n",
      "(pdal pipeline Debug) Executing pipeline in stream mode.\n",
      "(pdal pipeline writers.las Debug) Wrote 8034506 points to the LAS file\n"
     ]
    }
   ],
   "source": [
    "!pdal pipeline ./download_entwine.json -v 7"
   ]
  },
  {
   "cell_type": "code",
   "execution_count": 3,
   "id": "5977a98f",
   "metadata": {},
   "outputs": [
    {
     "name": "stdout",
     "output_type": "stream",
     "text": [
      "1_pdal_workshop_lesson1_print_first_point.ipynb\t\t  download_entwine.json\r\n",
      "3_pdal_workshop_lesson3_searching_near_a_point.ipynb\t  dublin.laz\r\n",
      "4_pdal_workshop_lesson_4_compression_uncompression.ipynb  fm_map.py\r\n",
      "6_pdal_workshop_lesson_6_entwine.ipynb\t\t\t  junk.source\r\n",
      "a.geojson\t\t\t\t\t\t  __pycache__\r\n",
      "bb.json\r\n"
     ]
    }
   ],
   "source": [
    "!ls"
   ]
  },
  {
   "cell_type": "code",
   "execution_count": 4,
   "id": "f6b973e1",
   "metadata": {},
   "outputs": [
    {
     "name": "stdout",
     "output_type": "stream",
     "text": [
      "\u001b[1;39m{\r\n",
      "  \u001b[0m\u001b[34;1m\"maxx\"\u001b[0m\u001b[1;39m: \u001b[0m\u001b[0;39m-694128.96\u001b[0m\u001b[1;39m,\r\n",
      "  \u001b[0m\u001b[34;1m\"maxy\"\u001b[0m\u001b[1;39m: \u001b[0m\u001b[0;39m7049938.84\u001b[0m\u001b[1;39m,\r\n",
      "  \u001b[0m\u001b[34;1m\"maxz\"\u001b[0m\u001b[1;39m: \u001b[0m\u001b[0;39m385.37\u001b[0m\u001b[1;39m,\r\n",
      "  \u001b[0m\u001b[34;1m\"minx\"\u001b[0m\u001b[1;39m: \u001b[0m\u001b[0;39m-699477.88\u001b[0m\u001b[1;39m,\r\n",
      "  \u001b[0m\u001b[34;1m\"miny\"\u001b[0m\u001b[1;39m: \u001b[0m\u001b[0;39m7044490.98\u001b[0m\u001b[1;39m,\r\n",
      "  \u001b[0m\u001b[34;1m\"minz\"\u001b[0m\u001b[1;39m: \u001b[0m\u001b[0;39m-144.24\u001b[0m\u001b[1;39m\r\n",
      "\u001b[1;39m}\u001b[0m\r\n"
     ]
    }
   ],
   "source": [
    "! pdal info dublin.laz | jq .stats.bbox.native.bbox"
   ]
  },
  {
   "cell_type": "code",
   "execution_count": null,
   "id": "45eb8761",
   "metadata": {},
   "outputs": [],
   "source": []
  }
 ],
 "metadata": {
  "kernelspec": {
   "display_name": "Python 3 (ipykernel)",
   "language": "python",
   "name": "python3"
  },
  "language_info": {
   "codemirror_mode": {
    "name": "ipython",
    "version": 3
   },
   "file_extension": ".py",
   "mimetype": "text/x-python",
   "name": "python",
   "nbconvert_exporter": "python",
   "pygments_lexer": "ipython3",
   "version": "3.10.4"
  }
 },
 "nbformat": 4,
 "nbformat_minor": 5
}
