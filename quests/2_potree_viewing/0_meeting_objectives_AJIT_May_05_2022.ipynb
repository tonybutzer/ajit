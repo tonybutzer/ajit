{
 "cells": [
  {
   "cell_type": "markdown",
   "id": "baf85fa4",
   "metadata": {},
   "source": [
    "# Lidar Concepts in the Cloud 5-6-2022\n",
    "\n",
    "- infrastructure\n",
    "    - demo start of a $60 computer with tto small of disk\n",
    "    - also DevOps likes to turn these off and rebuild them often\n",
    "    - eccoe_adimin box $16 - non-console way to look at machines\n",
    "    - start butzer-dev machine\n",
    "    - for extra credit start ajits machines - to be used later today perhaps\n",
    "    \n",
    "---\n",
    "\n",
    "- demos of potree\n",
    "    - display three states and focus on iowa\n",
    "    - tryto find ames - cement suitcases and Veenkner Golf Course\n",
    "- display North Central Iowa - search for Ames Again\n",
    "- review detaile pipeline for elevation models and gdal writers - readers and writers\n",
    "\n",
    "---\n",
    "\n",
    "- flat/missing building - filtering by class \n",
    "\n",
    "---\n",
    "\n",
    "- simple ames cement suicase cut \n",
    "    - using geojson\n",
    "    - more on map projections\n",
    "    - simple pipeline\n",
    "    - easily find cement suitcases\n",
    "    \n",
    "---\n",
    "\n",
    "# Ajit's computer and actions\n",
    "-maybe create a pdal conda env and test it with last week's quest notebooks\n",
    "- \n",
    "\n",
    "---\n",
    "\n",
    "# potree docker container\n",
    "- future study/prerequisites --> JavaScript - JavaScript\n",
    "\n",
    "- complex viewing using a web server - a potree url\n",
    "- potree - entwine trees - reference htmls - \n",
    "\n",
    "```\n",
    "(pdal_jupyter) ec2-user@ip-10-12-70-144$ pwd\n",
    "/home/ec2-user/opt/ajit/quests/2_potree_docker/0_potree_docker\n",
    "```\n",
    "\n",
    "---\n",
    "\n",
    "## Current Method\n",
    "1. use potree.io for the viewer\n",
    "2. convert Laz files via connor manning docker image\n",
    "3. serve up the entwine/po-Tree with a simple web server - also a connor manning canned docker image/container\n",
    "    - run on port 8080 and use an ssh tunnel for the IP plumbing\n",
    "\n",
    "   \n",
    "### Not sure if I will have enuf time on this project this summer to fix the potree complexities"
   ]
  },
  {
   "cell_type": "code",
   "execution_count": null,
   "id": "a908d1da",
   "metadata": {},
   "outputs": [],
   "source": []
  }
 ],
 "metadata": {
  "kernelspec": {
   "display_name": "Python 3 (ipykernel)",
   "language": "python",
   "name": "python3"
  },
  "language_info": {
   "codemirror_mode": {
    "name": "ipython",
    "version": 3
   },
   "file_extension": ".py",
   "mimetype": "text/x-python",
   "name": "python",
   "nbconvert_exporter": "python",
   "pygments_lexer": "ipython3",
   "version": "3.10.4"
  }
 },
 "nbformat": 4,
 "nbformat_minor": 5
}
