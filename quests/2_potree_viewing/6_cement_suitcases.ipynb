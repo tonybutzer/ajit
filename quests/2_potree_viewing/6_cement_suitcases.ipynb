{
 "cells": [
  {
   "cell_type": "code",
   "execution_count": 2,
   "id": "7a0102d6",
   "metadata": {},
   "outputs": [],
   "source": [
    "!cp simplify.txt cement_pipeline_pdal.json"
   ]
  },
  {
   "cell_type": "code",
   "execution_count": 5,
   "id": "37ae1fd7",
   "metadata": {},
   "outputs": [
    {
     "name": "stdout",
     "output_type": "stream",
     "text": [
      "    \"horizontal\": \"3857\",\r\n"
     ]
    }
   ],
   "source": [
    "! aws s3 cp s3://usgs-lidar-public/IA_NorthCentral_2_2020/ept.json - | grep horizontal"
   ]
  },
  {
   "cell_type": "markdown",
   "id": "0ee98f69",
   "metadata": {},
   "source": [
    "https://epsg.io/3857"
   ]
  },
  {
   "cell_type": "code",
   "execution_count": 7,
   "id": "6ba30ee0",
   "metadata": {},
   "outputs": [
    {
     "name": "stdout",
     "output_type": "stream",
     "text": [
      "--2022-05-05 01:29:56--  https://raw.githubusercontent.com/tonybutzer/composite/41771c607f8f073b042b399080cd0f0bcc94a46a/00-notebooks/05-04-2021-FIRE/fakelib/fm_map.py\n",
      "Resolving raw.githubusercontent.com (raw.githubusercontent.com)... 185.199.109.133, 185.199.111.133, 185.199.108.133, ...\n",
      "Connecting to raw.githubusercontent.com (raw.githubusercontent.com)|185.199.109.133|:443... connected.\n",
      "HTTP request sent, awaiting response... 200 OK\n",
      "Length: 2637 (2.6K) [text/plain]\n",
      "Saving to: ‘fm_map.py’\n",
      "\n",
      "100%[======================================>] 2,637       --.-K/s   in 0s      \n",
      "\n",
      "2022-05-05 01:29:57 (36.6 MB/s) - ‘fm_map.py’ saved [2637/2637]\n",
      "\n"
     ]
    }
   ],
   "source": [
    "! wget https://raw.githubusercontent.com/tonybutzer/composite/41771c607f8f073b042b399080cd0f0bcc94a46a/00-notebooks/05-04-2021-FIRE/fakelib/fm_map.py"
   ]
  },
  {
   "cell_type": "code",
   "execution_count": 8,
   "id": "65a94ffd",
   "metadata": {},
   "outputs": [],
   "source": [
    "from fm_map import Fmap"
   ]
  },
  {
   "cell_type": "code",
   "execution_count": 10,
   "id": "490be97d",
   "metadata": {},
   "outputs": [
    {
     "name": "stdout",
     "output_type": "stream",
     "text": [
      "cement.geojson\r\n"
     ]
    }
   ],
   "source": [
    "! ls *.geojson"
   ]
  },
  {
   "cell_type": "code",
   "execution_count": 11,
   "id": "69e920d0",
   "metadata": {},
   "outputs": [
    {
     "name": "stdout",
     "output_type": "stream",
     "text": [
      "creating Fmap class\n"
     ]
    }
   ],
   "source": [
    "m = Fmap('blue')"
   ]
  },
  {
   "cell_type": "code",
   "execution_count": 12,
   "id": "9905b04c",
   "metadata": {},
   "outputs": [
    {
     "data": {
      "text/html": [
       "<div style=\"width:100%;\"><div style=\"position:relative;width:100%;height:0;padding-bottom:60%;\"><span style=\"color:#565656\">Make this Notebook Trusted to load map: File -> Trust Notebook</span><iframe srcdoc=\"&lt;!DOCTYPE html&gt;\n",
       "&lt;head&gt;    \n",
       "    &lt;meta http-equiv=&quot;content-type&quot; content=&quot;text/html; charset=UTF-8&quot; /&gt;\n",
       "    \n",
       "        &lt;script&gt;\n",
       "            L_NO_TOUCH = false;\n",
       "            L_DISABLE_3D = false;\n",
       "        &lt;/script&gt;\n",
       "    \n",
       "    &lt;style&gt;html, body {width: 100%;height: 100%;margin: 0;padding: 0;}&lt;/style&gt;\n",
       "    &lt;style&gt;#map {position:absolute;top:0;bottom:0;right:0;left:0;}&lt;/style&gt;\n",
       "    &lt;script src=&quot;https://cdn.jsdelivr.net/npm/leaflet@1.6.0/dist/leaflet.js&quot;&gt;&lt;/script&gt;\n",
       "    &lt;script src=&quot;https://code.jquery.com/jquery-1.12.4.min.js&quot;&gt;&lt;/script&gt;\n",
       "    &lt;script src=&quot;https://maxcdn.bootstrapcdn.com/bootstrap/3.2.0/js/bootstrap.min.js&quot;&gt;&lt;/script&gt;\n",
       "    &lt;script src=&quot;https://cdnjs.cloudflare.com/ajax/libs/Leaflet.awesome-markers/2.0.2/leaflet.awesome-markers.js&quot;&gt;&lt;/script&gt;\n",
       "    &lt;link rel=&quot;stylesheet&quot; href=&quot;https://cdn.jsdelivr.net/npm/leaflet@1.6.0/dist/leaflet.css&quot;/&gt;\n",
       "    &lt;link rel=&quot;stylesheet&quot; href=&quot;https://maxcdn.bootstrapcdn.com/bootstrap/3.2.0/css/bootstrap.min.css&quot;/&gt;\n",
       "    &lt;link rel=&quot;stylesheet&quot; href=&quot;https://maxcdn.bootstrapcdn.com/bootstrap/3.2.0/css/bootstrap-theme.min.css&quot;/&gt;\n",
       "    &lt;link rel=&quot;stylesheet&quot; href=&quot;https://maxcdn.bootstrapcdn.com/font-awesome/4.6.3/css/font-awesome.min.css&quot;/&gt;\n",
       "    &lt;link rel=&quot;stylesheet&quot; href=&quot;https://cdnjs.cloudflare.com/ajax/libs/Leaflet.awesome-markers/2.0.2/leaflet.awesome-markers.css&quot;/&gt;\n",
       "    &lt;link rel=&quot;stylesheet&quot; href=&quot;https://cdn.jsdelivr.net/gh/python-visualization/folium/folium/templates/leaflet.awesome.rotate.min.css&quot;/&gt;\n",
       "    \n",
       "            &lt;meta name=&quot;viewport&quot; content=&quot;width=device-width,\n",
       "                initial-scale=1.0, maximum-scale=1.0, user-scalable=no&quot; /&gt;\n",
       "            &lt;style&gt;\n",
       "                #map_c3f5ec200242454a18f707ef1c741be2 {\n",
       "                    position: relative;\n",
       "                    width: 100.0%;\n",
       "                    height: 100.0%;\n",
       "                    left: 0.0%;\n",
       "                    top: 0.0%;\n",
       "                }\n",
       "            &lt;/style&gt;\n",
       "        \n",
       "&lt;/head&gt;\n",
       "&lt;body&gt;    \n",
       "    \n",
       "            &lt;div class=&quot;folium-map&quot; id=&quot;map_c3f5ec200242454a18f707ef1c741be2&quot; &gt;&lt;/div&gt;\n",
       "        \n",
       "&lt;/body&gt;\n",
       "&lt;script&gt;    \n",
       "    \n",
       "            var map_c3f5ec200242454a18f707ef1c741be2 = L.map(\n",
       "                &quot;map_c3f5ec200242454a18f707ef1c741be2&quot;,\n",
       "                {\n",
       "                    center: [42.00880789553535, -93.6558723449707],\n",
       "                    crs: L.CRS.EPSG3857,\n",
       "                    zoom: 12,\n",
       "                    zoomControl: true,\n",
       "                    preferCanvas: false,\n",
       "                    center: [42.00880789553535, -93.6558723449707],\n",
       "                }\n",
       "            );\n",
       "\n",
       "            \n",
       "\n",
       "        \n",
       "    \n",
       "            var tile_layer_6846e7dddec673da2cbbbfde27807ff5 = L.tileLayer(\n",
       "                &quot; http://mt1.google.com/vt/lyrs=y\\u0026z={z}\\u0026x={x}\\u0026y={y}&quot;,\n",
       "                {&quot;attribution&quot;: &quot;Google&quot;, &quot;detectRetina&quot;: false, &quot;maxNativeZoom&quot;: 18, &quot;maxZoom&quot;: 18, &quot;minZoom&quot;: 0, &quot;noWrap&quot;: false, &quot;opacity&quot;: 1, &quot;subdomains&quot;: &quot;abc&quot;, &quot;tms&quot;: false}\n",
       "            ).addTo(map_c3f5ec200242454a18f707ef1c741be2);\n",
       "        \n",
       "    \n",
       "            map_c3f5ec200242454a18f707ef1c741be2.fitBounds(\n",
       "                [[42.00880789553535, -93.6558723449707], [42.02602503159178, -93.63106727600098]],\n",
       "                {}\n",
       "            );\n",
       "        \n",
       "    \n",
       "        function geo_json_89460473839b713eeb2ddb1bf1b7ce58_styler(feature) {\n",
       "            switch(feature.id) {\n",
       "                default:\n",
       "                    return {&quot;color&quot;: &quot;blue&quot;};\n",
       "            }\n",
       "        }\n",
       "\n",
       "        function geo_json_89460473839b713eeb2ddb1bf1b7ce58_onEachFeature(feature, layer) {\n",
       "            layer.on({\n",
       "            });\n",
       "        };\n",
       "        var geo_json_89460473839b713eeb2ddb1bf1b7ce58 = L.geoJson(null, {\n",
       "                onEachFeature: geo_json_89460473839b713eeb2ddb1bf1b7ce58_onEachFeature,\n",
       "            \n",
       "                style: geo_json_89460473839b713eeb2ddb1bf1b7ce58_styler,\n",
       "        });\n",
       "\n",
       "        function geo_json_89460473839b713eeb2ddb1bf1b7ce58_add (data) {\n",
       "            geo_json_89460473839b713eeb2ddb1bf1b7ce58\n",
       "                .addData(data)\n",
       "                .addTo(map_c3f5ec200242454a18f707ef1c741be2);\n",
       "        }\n",
       "            geo_json_89460473839b713eeb2ddb1bf1b7ce58_add({&quot;features&quot;: [{&quot;geometry&quot;: {&quot;coordinates&quot;: [[[-93.6558723449707, 42.00880789553535], [-93.63106727600098, 42.00880789553535], [-93.63106727600098, 42.02602503159178], [-93.6558723449707, 42.02602503159178], [-93.6558723449707, 42.00880789553535]]], &quot;type&quot;: &quot;Polygon&quot;}, &quot;id&quot;: &quot;0&quot;, &quot;properties&quot;: {}, &quot;type&quot;: &quot;Feature&quot;}], &quot;type&quot;: &quot;FeatureCollection&quot;});\n",
       "\n",
       "        \n",
       "    \n",
       "                var lat_lng_popup_88afaaacd483072d940342a15d638fc0 = L.popup();\n",
       "                function latLngPop(e) {\n",
       "                    lat_lng_popup_88afaaacd483072d940342a15d638fc0\n",
       "                        .setLatLng(e.latlng)\n",
       "                        .setContent(&quot;Latitude: &quot; + e.latlng.lat.toFixed(4) +\n",
       "                                    &quot;&lt;br&gt;Longitude: &quot; + e.latlng.lng.toFixed(4))\n",
       "                        .openOn(map_c3f5ec200242454a18f707ef1c741be2);\n",
       "                    }\n",
       "                map_c3f5ec200242454a18f707ef1c741be2.on(&#x27;click&#x27;, latLngPop);\n",
       "            \n",
       "&lt;/script&gt;\" style=\"position:absolute;width:100%;height:100%;left:0;top:0;border:none !important;\" allowfullscreen webkitallowfullscreen mozallowfullscreen></iframe></div></div>"
      ],
      "text/plain": [
       "<folium.folium.Map at 0x7f3dff57bf40>"
      ]
     },
     "execution_count": 12,
     "metadata": {},
     "output_type": "execute_result"
    }
   ],
   "source": [
    "m.sat_geojson('cement.geojson')"
   ]
  },
  {
   "cell_type": "code",
   "execution_count": 13,
   "id": "3fff78c5",
   "metadata": {},
   "outputs": [],
   "source": [
    "import geopandas as gpd\n",
    "\n",
    "df = gpd.read_file('cement.geojson')"
   ]
  },
  {
   "cell_type": "code",
   "execution_count": 14,
   "id": "3fb3d109",
   "metadata": {},
   "outputs": [
    {
     "data": {
      "text/html": [
       "<div>\n",
       "<style scoped>\n",
       "    .dataframe tbody tr th:only-of-type {\n",
       "        vertical-align: middle;\n",
       "    }\n",
       "\n",
       "    .dataframe tbody tr th {\n",
       "        vertical-align: top;\n",
       "    }\n",
       "\n",
       "    .dataframe thead th {\n",
       "        text-align: right;\n",
       "    }\n",
       "</style>\n",
       "<table border=\"1\" class=\"dataframe\">\n",
       "  <thead>\n",
       "    <tr style=\"text-align: right;\">\n",
       "      <th></th>\n",
       "      <th>geometry</th>\n",
       "    </tr>\n",
       "  </thead>\n",
       "  <tbody>\n",
       "    <tr>\n",
       "      <th>0</th>\n",
       "      <td>POLYGON ((-93.65587 42.00881, -93.63107 42.008...</td>\n",
       "    </tr>\n",
       "  </tbody>\n",
       "</table>\n",
       "</div>"
      ],
      "text/plain": [
       "                                            geometry\n",
       "0  POLYGON ((-93.65587 42.00881, -93.63107 42.008..."
      ]
     },
     "execution_count": 14,
     "metadata": {},
     "output_type": "execute_result"
    }
   ],
   "source": [
    "df"
   ]
  },
  {
   "cell_type": "code",
   "execution_count": 15,
   "id": "49109ebd",
   "metadata": {},
   "outputs": [],
   "source": [
    "dfn = df.to_crs(crs='EPSG:3857')"
   ]
  },
  {
   "cell_type": "code",
   "execution_count": 16,
   "id": "169e833c",
   "metadata": {},
   "outputs": [
    {
     "data": {
      "text/html": [
       "<div>\n",
       "<style scoped>\n",
       "    .dataframe tbody tr th:only-of-type {\n",
       "        vertical-align: middle;\n",
       "    }\n",
       "\n",
       "    .dataframe tbody tr th {\n",
       "        vertical-align: top;\n",
       "    }\n",
       "\n",
       "    .dataframe thead th {\n",
       "        text-align: right;\n",
       "    }\n",
       "</style>\n",
       "<table border=\"1\" class=\"dataframe\">\n",
       "  <thead>\n",
       "    <tr style=\"text-align: right;\">\n",
       "      <th></th>\n",
       "      <th>geometry</th>\n",
       "    </tr>\n",
       "  </thead>\n",
       "  <tbody>\n",
       "    <tr>\n",
       "      <th>0</th>\n",
       "      <td>POLYGON ((-10425724.019 5162298.915, -10422962...</td>\n",
       "    </tr>\n",
       "  </tbody>\n",
       "</table>\n",
       "</div>"
      ],
      "text/plain": [
       "                                            geometry\n",
       "0  POLYGON ((-10425724.019 5162298.915, -10422962..."
      ]
     },
     "execution_count": 16,
     "metadata": {},
     "output_type": "execute_result"
    }
   ],
   "source": [
    "dfn"
   ]
  },
  {
   "cell_type": "code",
   "execution_count": 17,
   "id": "dd34f0f5",
   "metadata": {},
   "outputs": [
    {
     "data": {
      "text/html": [
       "<div>\n",
       "<style scoped>\n",
       "    .dataframe tbody tr th:only-of-type {\n",
       "        vertical-align: middle;\n",
       "    }\n",
       "\n",
       "    .dataframe tbody tr th {\n",
       "        vertical-align: top;\n",
       "    }\n",
       "\n",
       "    .dataframe thead th {\n",
       "        text-align: right;\n",
       "    }\n",
       "</style>\n",
       "<table border=\"1\" class=\"dataframe\">\n",
       "  <thead>\n",
       "    <tr style=\"text-align: right;\">\n",
       "      <th></th>\n",
       "      <th>geometry</th>\n",
       "    </tr>\n",
       "  </thead>\n",
       "  <tbody>\n",
       "    <tr>\n",
       "      <th>0</th>\n",
       "      <td>POLYGON ((-93.65587 42.00881, -93.63107 42.008...</td>\n",
       "    </tr>\n",
       "  </tbody>\n",
       "</table>\n",
       "</div>"
      ],
      "text/plain": [
       "                                            geometry\n",
       "0  POLYGON ((-93.65587 42.00881, -93.63107 42.008..."
      ]
     },
     "execution_count": 17,
     "metadata": {},
     "output_type": "execute_result"
    }
   ],
   "source": [
    "df"
   ]
  },
  {
   "cell_type": "code",
   "execution_count": 47,
   "id": "6a294a9b",
   "metadata": {},
   "outputs": [
    {
     "data": {
      "text/plain": [
       "(-10425724.019241972,\n",
       " 5162298.915410344,\n",
       " -10422962.731595168,\n",
       " 5164878.665114964)"
      ]
     },
     "execution_count": 47,
     "metadata": {},
     "output_type": "execute_result"
    }
   ],
   "source": [
    "dfn.iloc[0].geometry.boundary.bounds"
   ]
  },
  {
   "cell_type": "code",
   "execution_count": 46,
   "id": "6026156c",
   "metadata": {},
   "outputs": [
    {
     "data": {
      "text/plain": [
       "['__and__',\n",
       " '__array_interface__',\n",
       " '__bool__',\n",
       " '__class__',\n",
       " '__del__',\n",
       " '__delattr__',\n",
       " '__dict__',\n",
       " '__dir__',\n",
       " '__doc__',\n",
       " '__eq__',\n",
       " '__format__',\n",
       " '__ge__',\n",
       " '__geo_interface__',\n",
       " '__geom__',\n",
       " '__getattribute__',\n",
       " '__gt__',\n",
       " '__hash__',\n",
       " '__init__',\n",
       " '__init_subclass__',\n",
       " '__le__',\n",
       " '__lt__',\n",
       " '__module__',\n",
       " '__ne__',\n",
       " '__new__',\n",
       " '__nonzero__',\n",
       " '__or__',\n",
       " '__p__',\n",
       " '__reduce__',\n",
       " '__reduce_ex__',\n",
       " '__repr__',\n",
       " '__setattr__',\n",
       " '__setstate__',\n",
       " '__sizeof__',\n",
       " '__str__',\n",
       " '__sub__',\n",
       " '__subclasshook__',\n",
       " '__weakref__',\n",
       " '__xor__',\n",
       " '_array_interface',\n",
       " '_array_interface_base',\n",
       " '_crs',\n",
       " '_ctypes',\n",
       " '_ctypes_data',\n",
       " '_empty',\n",
       " '_geom',\n",
       " '_get_coords',\n",
       " '_is_empty',\n",
       " '_lgeos',\n",
       " '_ndim',\n",
       " '_other_owned',\n",
       " '_repr_svg_',\n",
       " '_set_coords',\n",
       " '_set_geom',\n",
       " 'almost_equals',\n",
       " 'area',\n",
       " 'array_interface',\n",
       " 'array_interface_base',\n",
       " 'boundary',\n",
       " 'bounds',\n",
       " 'buffer',\n",
       " 'centroid',\n",
       " 'contains',\n",
       " 'convex_hull',\n",
       " 'coords',\n",
       " 'covered_by',\n",
       " 'covers',\n",
       " 'crosses',\n",
       " 'ctypes',\n",
       " 'difference',\n",
       " 'disjoint',\n",
       " 'distance',\n",
       " 'empty',\n",
       " 'envelope',\n",
       " 'equals',\n",
       " 'equals_exact',\n",
       " 'geom_type',\n",
       " 'geometryType',\n",
       " 'has_z',\n",
       " 'hausdorff_distance',\n",
       " 'impl',\n",
       " 'interpolate',\n",
       " 'intersection',\n",
       " 'intersects',\n",
       " 'is_closed',\n",
       " 'is_empty',\n",
       " 'is_ring',\n",
       " 'is_simple',\n",
       " 'is_valid',\n",
       " 'length',\n",
       " 'minimum_clearance',\n",
       " 'minimum_rotated_rectangle',\n",
       " 'normalize',\n",
       " 'overlaps',\n",
       " 'parallel_offset',\n",
       " 'project',\n",
       " 'relate',\n",
       " 'relate_pattern',\n",
       " 'representative_point',\n",
       " 'simplify',\n",
       " 'svg',\n",
       " 'symmetric_difference',\n",
       " 'touches',\n",
       " 'type',\n",
       " 'union',\n",
       " 'within',\n",
       " 'wkb',\n",
       " 'wkb_hex',\n",
       " 'wkt',\n",
       " 'xy']"
      ]
     },
     "execution_count": 46,
     "metadata": {},
     "output_type": "execute_result"
    }
   ],
   "source": [
    "dir (dfn.iloc[0].geometry.boundary)"
   ]
  },
  {
   "cell_type": "markdown",
   "id": "4bf09411",
   "metadata": {},
   "source": [
    "# now edit cement_pdal.json with bounds\n",
    "vi "
   ]
  },
  {
   "cell_type": "code",
   "execution_count": 50,
   "id": "8fb10cd4",
   "metadata": {},
   "outputs": [
    {
     "name": "stdout",
     "output_type": "stream",
     "text": [
      "(PDAL Debug) Debugging...\n",
      "(pdal pipeline readers.ept Debug) Query bounds: ([-10425724.01924197, -10422962.73159517], [5162298.915, 5164878.665], [-1.797693134862316e+308, 1.797693134862316e+308])\n",
      "Threads: 15\n",
      "(pdal pipeline Debug) Executing pipeline in stream mode.\n",
      "(pdal pipeline writers.las Debug) Wrote 12661669 points to the LAS file\n"
     ]
    }
   ],
   "source": [
    "! pdal pipeline cement_pipeline_pdal.json --debug"
   ]
  },
  {
   "cell_type": "code",
   "execution_count": 51,
   "id": "e30135a5",
   "metadata": {},
   "outputs": [
    {
     "name": "stdout",
     "output_type": "stream",
     "text": [
      "cement.laz\r\n"
     ]
    }
   ],
   "source": [
    "!ls cement.laz"
   ]
  },
  {
   "cell_type": "code",
   "execution_count": 52,
   "id": "cf73af25",
   "metadata": {},
   "outputs": [],
   "source": [
    "! mv cement.laz  ~/ia"
   ]
  },
  {
   "cell_type": "code",
   "execution_count": 53,
   "id": "86cbb880",
   "metadata": {},
   "outputs": [
    {
     "name": "stdout",
     "output_type": "stream",
     "text": [
      "1/1: /entwine/cement.laz\n",
      "Dimensions: [\n",
      "        X:int32, Y:int32, Z:int32, Intensity:uint16, ReturnNumber:uint8,\n",
      "        NumberOfReturns:uint8, ScanDirectionFlag:uint8, EdgeOfFlightLine:uint8,\n",
      "        Classification:uint8, ScanAngleRank:float32, UserData:uint8,\n",
      "        PointSourceId:uint16, GpsTime:float64, Red:uint16, Green:uint16, Blue:uint16\n",
      "]\n",
      "Points: 12,661,669\n",
      "Bounds: [(445689, 4650946, 231), (447758, 4652874, 431)]\n",
      "Scale: 0.01\n",
      "SRS: EPSG:26915\n",
      "\n",
      "Adding 0 - /entwine/cement.laz\n",
      "Joining\n",
      "00:10 - 41% - 5,136,384 - 1,849 (1,849) M/h - 0W - 0R - 123A\n",
      "00:20 - 79% - 10,039,296 - 1,807 (1,765) M/h - 0W - 0R - 242A\n",
      "00:30 - 100% - 12,661,669 - 1,519 (944) M/h - 107W - 0R - 194A\n",
      "\tDone 0\n",
      "Saving\n",
      "00:40 - 100% - 12,661,669 - 1,139 (0) M/h - 187W - 0R - 0A\n",
      "Wrote 12,661,669 points.\n"
     ]
    }
   ],
   "source": [
    "! docker run -it -v /home/ec2-user/ia:/entwine connormanning/entwine build -i /entwine/cement.laz -o /entwine/CEMENT"
   ]
  },
  {
   "cell_type": "markdown",
   "id": "224a2ee2",
   "metadata": {},
   "source": [
    "- https://potree.entwine.io/data/custom.html?r=http://localhost:8080/CEMENT/ept.json"
   ]
  },
  {
   "cell_type": "code",
   "execution_count": null,
   "id": "f7b81738",
   "metadata": {},
   "outputs": [],
   "source": []
  }
 ],
 "metadata": {
  "kernelspec": {
   "display_name": "Python 3 (ipykernel)",
   "language": "python",
   "name": "python3"
  },
  "language_info": {
   "codemirror_mode": {
    "name": "ipython",
    "version": 3
   },
   "file_extension": ".py",
   "mimetype": "text/x-python",
   "name": "python",
   "nbconvert_exporter": "python",
   "pygments_lexer": "ipython3",
   "version": "3.10.4"
  }
 },
 "nbformat": 4,
 "nbformat_minor": 5
}
