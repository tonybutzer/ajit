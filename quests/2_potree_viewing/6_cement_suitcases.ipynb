{
 "cells": [
  {
   "cell_type": "code",
   "execution_count": 1,
   "id": "7a0102d6",
   "metadata": {},
   "outputs": [],
   "source": [
    "#!cp simplify.txt cement_pipeline_pdal.json"
   ]
  },
  {
   "cell_type": "code",
   "execution_count": 1,
   "id": "e55dc324",
   "metadata": {},
   "outputs": [
    {
     "name": "stdout",
     "output_type": "stream",
     "text": [
      "{\r\n",
      "    \"pipeline\": [\r\n",
      "        {\r\n",
      "\"bounds\": \"([-10425724.019241972, -10422962.731595168], [5162298.915, 5164878.665])\",\r\n",
      "\"filename\": \"https://s3-us-west-2.amazonaws.com/usgs-lidar-public/IA_NorthCentral_2_2020/ept.json\",\r\n",
      "\"type\": \"readers.ept\",\r\n",
      "\"tag\": \"readdata\"\r\n",
      "        },\r\n",
      "        {\r\n",
      "            \"out_srs\": \"EPSG:26915\",\r\n",
      "            \"tag\": \"reprojectUTM\",\r\n",
      "            \"type\": \"filters.reprojection\"\r\n",
      "        },\r\n",
      "        {\r\n",
      "            \"filename\": \"cement.laz\",\r\n",
      "            \"inputs\": [ \"reprojectUTM\" ],\r\n",
      "            \"tag\": \"writerslas\",\r\n",
      "            \"type\": \"writers.las\"\r\n",
      "        }\r\n",
      "    ]\r\n",
      "}\r\n"
     ]
    }
   ],
   "source": [
    "! cat cement_pipeline_pdal.json"
   ]
  },
  {
   "cell_type": "code",
   "execution_count": 2,
   "id": "37ae1fd7",
   "metadata": {},
   "outputs": [],
   "source": [
    "#! aws s3 cp s3://usgs-lidar-public/IA_NorthCentral_2_2020/ept.json - | grep horizontal"
   ]
  },
  {
   "cell_type": "markdown",
   "id": "0ee98f69",
   "metadata": {},
   "source": [
    "https://epsg.io/3857"
   ]
  },
  {
   "cell_type": "code",
   "execution_count": 3,
   "id": "6ba30ee0",
   "metadata": {},
   "outputs": [],
   "source": [
    "#! wget https://raw.githubusercontent.com/tonybutzer/composite/41771c607f8f073b042b399080cd0f0bcc94a46a/00-notebooks/05-04-2021-FIRE/fakelib/fm_map.py"
   ]
  },
  {
   "cell_type": "code",
   "execution_count": 2,
   "id": "65a94ffd",
   "metadata": {},
   "outputs": [],
   "source": [
    "from fm_map import Fmap"
   ]
  },
  {
   "cell_type": "code",
   "execution_count": 3,
   "id": "490be97d",
   "metadata": {},
   "outputs": [
    {
     "name": "stdout",
     "output_type": "stream",
     "text": [
      "cement.geojson\r\n"
     ]
    }
   ],
   "source": [
    "! ls *.geojson"
   ]
  },
  {
   "cell_type": "code",
   "execution_count": 4,
   "id": "69e920d0",
   "metadata": {},
   "outputs": [
    {
     "name": "stdout",
     "output_type": "stream",
     "text": [
      "creating Fmap class\n"
     ]
    }
   ],
   "source": [
    "m = Fmap('blue')"
   ]
  },
  {
   "cell_type": "code",
   "execution_count": 5,
   "id": "9905b04c",
   "metadata": {},
   "outputs": [
    {
     "data": {
      "text/html": [
       "<div style=\"width:100%;\"><div style=\"position:relative;width:100%;height:0;padding-bottom:60%;\"><span style=\"color:#565656\">Make this Notebook Trusted to load map: File -> Trust Notebook</span><iframe srcdoc=\"&lt;!DOCTYPE html&gt;\n",
       "&lt;head&gt;    \n",
       "    &lt;meta http-equiv=&quot;content-type&quot; content=&quot;text/html; charset=UTF-8&quot; /&gt;\n",
       "    \n",
       "        &lt;script&gt;\n",
       "            L_NO_TOUCH = false;\n",
       "            L_DISABLE_3D = false;\n",
       "        &lt;/script&gt;\n",
       "    \n",
       "    &lt;style&gt;html, body {width: 100%;height: 100%;margin: 0;padding: 0;}&lt;/style&gt;\n",
       "    &lt;style&gt;#map {position:absolute;top:0;bottom:0;right:0;left:0;}&lt;/style&gt;\n",
       "    &lt;script src=&quot;https://cdn.jsdelivr.net/npm/leaflet@1.6.0/dist/leaflet.js&quot;&gt;&lt;/script&gt;\n",
       "    &lt;script src=&quot;https://code.jquery.com/jquery-1.12.4.min.js&quot;&gt;&lt;/script&gt;\n",
       "    &lt;script src=&quot;https://maxcdn.bootstrapcdn.com/bootstrap/3.2.0/js/bootstrap.min.js&quot;&gt;&lt;/script&gt;\n",
       "    &lt;script src=&quot;https://cdnjs.cloudflare.com/ajax/libs/Leaflet.awesome-markers/2.0.2/leaflet.awesome-markers.js&quot;&gt;&lt;/script&gt;\n",
       "    &lt;link rel=&quot;stylesheet&quot; href=&quot;https://cdn.jsdelivr.net/npm/leaflet@1.6.0/dist/leaflet.css&quot;/&gt;\n",
       "    &lt;link rel=&quot;stylesheet&quot; href=&quot;https://maxcdn.bootstrapcdn.com/bootstrap/3.2.0/css/bootstrap.min.css&quot;/&gt;\n",
       "    &lt;link rel=&quot;stylesheet&quot; href=&quot;https://maxcdn.bootstrapcdn.com/bootstrap/3.2.0/css/bootstrap-theme.min.css&quot;/&gt;\n",
       "    &lt;link rel=&quot;stylesheet&quot; href=&quot;https://maxcdn.bootstrapcdn.com/font-awesome/4.6.3/css/font-awesome.min.css&quot;/&gt;\n",
       "    &lt;link rel=&quot;stylesheet&quot; href=&quot;https://cdnjs.cloudflare.com/ajax/libs/Leaflet.awesome-markers/2.0.2/leaflet.awesome-markers.css&quot;/&gt;\n",
       "    &lt;link rel=&quot;stylesheet&quot; href=&quot;https://cdn.jsdelivr.net/gh/python-visualization/folium/folium/templates/leaflet.awesome.rotate.min.css&quot;/&gt;\n",
       "    \n",
       "            &lt;meta name=&quot;viewport&quot; content=&quot;width=device-width,\n",
       "                initial-scale=1.0, maximum-scale=1.0, user-scalable=no&quot; /&gt;\n",
       "            &lt;style&gt;\n",
       "                #map_ef6cb029e6e4edd22961a35ea9674ed2 {\n",
       "                    position: relative;\n",
       "                    width: 100.0%;\n",
       "                    height: 100.0%;\n",
       "                    left: 0.0%;\n",
       "                    top: 0.0%;\n",
       "                }\n",
       "            &lt;/style&gt;\n",
       "        \n",
       "&lt;/head&gt;\n",
       "&lt;body&gt;    \n",
       "    \n",
       "            &lt;div class=&quot;folium-map&quot; id=&quot;map_ef6cb029e6e4edd22961a35ea9674ed2&quot; &gt;&lt;/div&gt;\n",
       "        \n",
       "&lt;/body&gt;\n",
       "&lt;script&gt;    \n",
       "    \n",
       "            var map_ef6cb029e6e4edd22961a35ea9674ed2 = L.map(\n",
       "                &quot;map_ef6cb029e6e4edd22961a35ea9674ed2&quot;,\n",
       "                {\n",
       "                    center: [42.00880789553535, -93.6558723449707],\n",
       "                    crs: L.CRS.EPSG3857,\n",
       "                    zoom: 12,\n",
       "                    zoomControl: true,\n",
       "                    preferCanvas: false,\n",
       "                    center: [42.00880789553535, -93.6558723449707],\n",
       "                }\n",
       "            );\n",
       "\n",
       "            \n",
       "\n",
       "        \n",
       "    \n",
       "            var tile_layer_7c7a71fe754ecabdbf055d0774129bb3 = L.tileLayer(\n",
       "                &quot; http://mt1.google.com/vt/lyrs=y\\u0026z={z}\\u0026x={x}\\u0026y={y}&quot;,\n",
       "                {&quot;attribution&quot;: &quot;Google&quot;, &quot;detectRetina&quot;: false, &quot;maxNativeZoom&quot;: 18, &quot;maxZoom&quot;: 18, &quot;minZoom&quot;: 0, &quot;noWrap&quot;: false, &quot;opacity&quot;: 1, &quot;subdomains&quot;: &quot;abc&quot;, &quot;tms&quot;: false}\n",
       "            ).addTo(map_ef6cb029e6e4edd22961a35ea9674ed2);\n",
       "        \n",
       "    \n",
       "            map_ef6cb029e6e4edd22961a35ea9674ed2.fitBounds(\n",
       "                [[42.00880789553535, -93.6558723449707], [42.02602503159178, -93.63106727600098]],\n",
       "                {}\n",
       "            );\n",
       "        \n",
       "    \n",
       "        function geo_json_2f09c24c756ba789b4a7a6da928a00b1_styler(feature) {\n",
       "            switch(feature.id) {\n",
       "                default:\n",
       "                    return {&quot;color&quot;: &quot;blue&quot;};\n",
       "            }\n",
       "        }\n",
       "\n",
       "        function geo_json_2f09c24c756ba789b4a7a6da928a00b1_onEachFeature(feature, layer) {\n",
       "            layer.on({\n",
       "            });\n",
       "        };\n",
       "        var geo_json_2f09c24c756ba789b4a7a6da928a00b1 = L.geoJson(null, {\n",
       "                onEachFeature: geo_json_2f09c24c756ba789b4a7a6da928a00b1_onEachFeature,\n",
       "            \n",
       "                style: geo_json_2f09c24c756ba789b4a7a6da928a00b1_styler,\n",
       "        });\n",
       "\n",
       "        function geo_json_2f09c24c756ba789b4a7a6da928a00b1_add (data) {\n",
       "            geo_json_2f09c24c756ba789b4a7a6da928a00b1\n",
       "                .addData(data)\n",
       "                .addTo(map_ef6cb029e6e4edd22961a35ea9674ed2);\n",
       "        }\n",
       "            geo_json_2f09c24c756ba789b4a7a6da928a00b1_add({&quot;features&quot;: [{&quot;geometry&quot;: {&quot;coordinates&quot;: [[[-93.6558723449707, 42.00880789553535], [-93.63106727600098, 42.00880789553535], [-93.63106727600098, 42.02602503159178], [-93.6558723449707, 42.02602503159178], [-93.6558723449707, 42.00880789553535]]], &quot;type&quot;: &quot;Polygon&quot;}, &quot;id&quot;: &quot;0&quot;, &quot;properties&quot;: {}, &quot;type&quot;: &quot;Feature&quot;}], &quot;type&quot;: &quot;FeatureCollection&quot;});\n",
       "\n",
       "        \n",
       "    \n",
       "                var lat_lng_popup_f60d4e78f8c8d2f2d520ec847b284736 = L.popup();\n",
       "                function latLngPop(e) {\n",
       "                    lat_lng_popup_f60d4e78f8c8d2f2d520ec847b284736\n",
       "                        .setLatLng(e.latlng)\n",
       "                        .setContent(&quot;Latitude: &quot; + e.latlng.lat.toFixed(4) +\n",
       "                                    &quot;&lt;br&gt;Longitude: &quot; + e.latlng.lng.toFixed(4))\n",
       "                        .openOn(map_ef6cb029e6e4edd22961a35ea9674ed2);\n",
       "                    }\n",
       "                map_ef6cb029e6e4edd22961a35ea9674ed2.on(&#x27;click&#x27;, latLngPop);\n",
       "            \n",
       "&lt;/script&gt;\" style=\"position:absolute;width:100%;height:100%;left:0;top:0;border:none !important;\" allowfullscreen webkitallowfullscreen mozallowfullscreen></iframe></div></div>"
      ],
      "text/plain": [
       "<folium.folium.Map at 0x7f33255cda80>"
      ]
     },
     "execution_count": 5,
     "metadata": {},
     "output_type": "execute_result"
    }
   ],
   "source": [
    "m.sat_geojson('cement.geojson')"
   ]
  },
  {
   "cell_type": "code",
   "execution_count": 6,
   "id": "3fff78c5",
   "metadata": {},
   "outputs": [],
   "source": [
    "import geopandas as gpd\n",
    "\n",
    "df = gpd.read_file('cement.geojson')"
   ]
  },
  {
   "cell_type": "code",
   "execution_count": 7,
   "id": "3fb3d109",
   "metadata": {},
   "outputs": [
    {
     "data": {
      "text/html": [
       "<div>\n",
       "<style scoped>\n",
       "    .dataframe tbody tr th:only-of-type {\n",
       "        vertical-align: middle;\n",
       "    }\n",
       "\n",
       "    .dataframe tbody tr th {\n",
       "        vertical-align: top;\n",
       "    }\n",
       "\n",
       "    .dataframe thead th {\n",
       "        text-align: right;\n",
       "    }\n",
       "</style>\n",
       "<table border=\"1\" class=\"dataframe\">\n",
       "  <thead>\n",
       "    <tr style=\"text-align: right;\">\n",
       "      <th></th>\n",
       "      <th>geometry</th>\n",
       "    </tr>\n",
       "  </thead>\n",
       "  <tbody>\n",
       "    <tr>\n",
       "      <th>0</th>\n",
       "      <td>POLYGON ((-93.65587 42.00881, -93.63107 42.008...</td>\n",
       "    </tr>\n",
       "  </tbody>\n",
       "</table>\n",
       "</div>"
      ],
      "text/plain": [
       "                                            geometry\n",
       "0  POLYGON ((-93.65587 42.00881, -93.63107 42.008..."
      ]
     },
     "execution_count": 7,
     "metadata": {},
     "output_type": "execute_result"
    }
   ],
   "source": [
    "df"
   ]
  },
  {
   "cell_type": "code",
   "execution_count": 8,
   "id": "49109ebd",
   "metadata": {},
   "outputs": [],
   "source": [
    "dfn = df.to_crs(crs='EPSG:3857')"
   ]
  },
  {
   "cell_type": "code",
   "execution_count": 9,
   "id": "169e833c",
   "metadata": {},
   "outputs": [
    {
     "data": {
      "text/html": [
       "<div>\n",
       "<style scoped>\n",
       "    .dataframe tbody tr th:only-of-type {\n",
       "        vertical-align: middle;\n",
       "    }\n",
       "\n",
       "    .dataframe tbody tr th {\n",
       "        vertical-align: top;\n",
       "    }\n",
       "\n",
       "    .dataframe thead th {\n",
       "        text-align: right;\n",
       "    }\n",
       "</style>\n",
       "<table border=\"1\" class=\"dataframe\">\n",
       "  <thead>\n",
       "    <tr style=\"text-align: right;\">\n",
       "      <th></th>\n",
       "      <th>geometry</th>\n",
       "    </tr>\n",
       "  </thead>\n",
       "  <tbody>\n",
       "    <tr>\n",
       "      <th>0</th>\n",
       "      <td>POLYGON ((-10425724.019 5162298.915, -10422962...</td>\n",
       "    </tr>\n",
       "  </tbody>\n",
       "</table>\n",
       "</div>"
      ],
      "text/plain": [
       "                                            geometry\n",
       "0  POLYGON ((-10425724.019 5162298.915, -10422962..."
      ]
     },
     "execution_count": 9,
     "metadata": {},
     "output_type": "execute_result"
    }
   ],
   "source": [
    "dfn"
   ]
  },
  {
   "cell_type": "code",
   "execution_count": 10,
   "id": "dd34f0f5",
   "metadata": {},
   "outputs": [
    {
     "data": {
      "text/html": [
       "<div>\n",
       "<style scoped>\n",
       "    .dataframe tbody tr th:only-of-type {\n",
       "        vertical-align: middle;\n",
       "    }\n",
       "\n",
       "    .dataframe tbody tr th {\n",
       "        vertical-align: top;\n",
       "    }\n",
       "\n",
       "    .dataframe thead th {\n",
       "        text-align: right;\n",
       "    }\n",
       "</style>\n",
       "<table border=\"1\" class=\"dataframe\">\n",
       "  <thead>\n",
       "    <tr style=\"text-align: right;\">\n",
       "      <th></th>\n",
       "      <th>geometry</th>\n",
       "    </tr>\n",
       "  </thead>\n",
       "  <tbody>\n",
       "    <tr>\n",
       "      <th>0</th>\n",
       "      <td>POLYGON ((-93.65587 42.00881, -93.63107 42.008...</td>\n",
       "    </tr>\n",
       "  </tbody>\n",
       "</table>\n",
       "</div>"
      ],
      "text/plain": [
       "                                            geometry\n",
       "0  POLYGON ((-93.65587 42.00881, -93.63107 42.008..."
      ]
     },
     "execution_count": 10,
     "metadata": {},
     "output_type": "execute_result"
    }
   ],
   "source": [
    "df"
   ]
  },
  {
   "cell_type": "code",
   "execution_count": 11,
   "id": "6a294a9b",
   "metadata": {},
   "outputs": [
    {
     "data": {
      "text/plain": [
       "(-10425724.019241972,\n",
       " 5162298.915410344,\n",
       " -10422962.731595168,\n",
       " 5164878.665114964)"
      ]
     },
     "execution_count": 11,
     "metadata": {},
     "output_type": "execute_result"
    }
   ],
   "source": [
    "dfn.iloc[0].geometry.boundary.bounds"
   ]
  },
  {
   "cell_type": "code",
   "execution_count": 12,
   "id": "6026156c",
   "metadata": {},
   "outputs": [
    {
     "data": {
      "text/plain": [
       "['__and__',\n",
       " '__array_interface__',\n",
       " '__bool__',\n",
       " '__class__',\n",
       " '__del__',\n",
       " '__delattr__',\n",
       " '__dict__',\n",
       " '__dir__',\n",
       " '__doc__',\n",
       " '__eq__',\n",
       " '__format__',\n",
       " '__ge__',\n",
       " '__geo_interface__',\n",
       " '__geom__',\n",
       " '__getattribute__',\n",
       " '__gt__',\n",
       " '__hash__',\n",
       " '__init__',\n",
       " '__init_subclass__',\n",
       " '__le__',\n",
       " '__lt__',\n",
       " '__module__',\n",
       " '__ne__',\n",
       " '__new__',\n",
       " '__nonzero__',\n",
       " '__or__',\n",
       " '__p__',\n",
       " '__reduce__',\n",
       " '__reduce_ex__',\n",
       " '__repr__',\n",
       " '__setattr__',\n",
       " '__setstate__',\n",
       " '__sizeof__',\n",
       " '__str__',\n",
       " '__sub__',\n",
       " '__subclasshook__',\n",
       " '__weakref__',\n",
       " '__xor__',\n",
       " '_array_interface',\n",
       " '_array_interface_base',\n",
       " '_crs',\n",
       " '_ctypes',\n",
       " '_ctypes_data',\n",
       " '_empty',\n",
       " '_geom',\n",
       " '_get_coords',\n",
       " '_is_empty',\n",
       " '_lgeos',\n",
       " '_ndim',\n",
       " '_other_owned',\n",
       " '_repr_svg_',\n",
       " '_set_coords',\n",
       " '_set_geom',\n",
       " 'almost_equals',\n",
       " 'area',\n",
       " 'array_interface',\n",
       " 'array_interface_base',\n",
       " 'boundary',\n",
       " 'bounds',\n",
       " 'buffer',\n",
       " 'centroid',\n",
       " 'contains',\n",
       " 'convex_hull',\n",
       " 'coords',\n",
       " 'covered_by',\n",
       " 'covers',\n",
       " 'crosses',\n",
       " 'ctypes',\n",
       " 'difference',\n",
       " 'disjoint',\n",
       " 'distance',\n",
       " 'empty',\n",
       " 'envelope',\n",
       " 'equals',\n",
       " 'equals_exact',\n",
       " 'geom_type',\n",
       " 'geometryType',\n",
       " 'has_z',\n",
       " 'hausdorff_distance',\n",
       " 'impl',\n",
       " 'interpolate',\n",
       " 'intersection',\n",
       " 'intersects',\n",
       " 'is_closed',\n",
       " 'is_empty',\n",
       " 'is_ring',\n",
       " 'is_simple',\n",
       " 'is_valid',\n",
       " 'length',\n",
       " 'minimum_clearance',\n",
       " 'minimum_rotated_rectangle',\n",
       " 'normalize',\n",
       " 'overlaps',\n",
       " 'parallel_offset',\n",
       " 'project',\n",
       " 'relate',\n",
       " 'relate_pattern',\n",
       " 'representative_point',\n",
       " 'simplify',\n",
       " 'svg',\n",
       " 'symmetric_difference',\n",
       " 'touches',\n",
       " 'type',\n",
       " 'union',\n",
       " 'within',\n",
       " 'wkb',\n",
       " 'wkb_hex',\n",
       " 'wkt',\n",
       " 'xy']"
      ]
     },
     "execution_count": 12,
     "metadata": {},
     "output_type": "execute_result"
    }
   ],
   "source": [
    "dir (dfn.iloc[0].geometry.boundary)"
   ]
  },
  {
   "cell_type": "markdown",
   "id": "4bf09411",
   "metadata": {},
   "source": [
    "# now edit cement_pdal.json with bounds\n",
    "vi "
   ]
  },
  {
   "cell_type": "code",
   "execution_count": 13,
   "id": "8fb10cd4",
   "metadata": {},
   "outputs": [
    {
     "name": "stdout",
     "output_type": "stream",
     "text": [
      "(PDAL Debug) Debugging...\n",
      "(pdal pipeline readers.ept Debug) Query bounds: ([-10425724.01924197, -10422962.73159517], [5162298.915, 5164878.665], [-1.797693134862316e+308, 1.797693134862316e+308])\n",
      "Threads: 15\n",
      "(pdal pipeline Debug) Executing pipeline in stream mode.\n",
      "(pdal pipeline writers.las Debug) Wrote 12661669 points to the LAS file\n"
     ]
    }
   ],
   "source": [
    "! pdal pipeline cement_pipeline_pdal.json --debug"
   ]
  },
  {
   "cell_type": "code",
   "execution_count": 14,
   "id": "e30135a5",
   "metadata": {},
   "outputs": [
    {
     "name": "stdout",
     "output_type": "stream",
     "text": [
      "-rw-rw-r-- 1 ec2-user ec2-user 59M May 13 19:39 cement.laz\r\n"
     ]
    }
   ],
   "source": [
    "!ls -lh cement.laz"
   ]
  },
  {
   "cell_type": "code",
   "execution_count": 15,
   "id": "cf73af25",
   "metadata": {},
   "outputs": [],
   "source": [
    "! mv cement.laz  ~/ia"
   ]
  },
  {
   "cell_type": "code",
   "execution_count": 16,
   "id": "86cbb880",
   "metadata": {},
   "outputs": [
    {
     "name": "stdout",
     "output_type": "stream",
     "text": [
      "Awakening existing build.\n",
      "Loading cement.json from /entwine/CEMENT/ept-sources/\n",
      "Dimensions: [\n",
      "        X:int32, Y:int32, Z:int32, Intensity:uint16, ReturnNumber:uint8,\n",
      "        NumberOfReturns:uint8, ScanDirectionFlag:uint8, EdgeOfFlightLine:uint8,\n",
      "        Classification:uint8, ScanAngleRank:float32, UserData:uint8,\n",
      "        PointSourceId:uint16, GpsTime:float64, Red:uint16, Green:uint16, Blue:uint16\n",
      "]\n",
      "Points: 12,661,669\n",
      "Bounds: [(445689, 4650946, 231), (447758, 4652874, 431)]\n",
      "Scale: 0.01\n",
      "SRS: EPSG:26915\n",
      "\n",
      "Joining\n",
      "Saving\n",
      "Wrote 0 points.\n"
     ]
    }
   ],
   "source": [
    "! docker run -it -v /home/ec2-user/ia:/entwine connormanning/entwine build -i /entwine/cement.laz -o /entwine/CEMENT"
   ]
  },
  {
   "cell_type": "code",
   "execution_count": null,
   "id": "fd0d95f5",
   "metadata": {},
   "outputs": [
    {
     "name": "stdout",
     "output_type": "stream",
     "text": [
      "\u001b[33mStarting up http-server, serving \u001b[39m\u001b[36m/var/www\u001b[39m\u001b[33m\n",
      "Available on:\u001b[39m\n",
      "  http://127.0.0.1:\u001b[32m8080\u001b[39m\n",
      "  http://172.17.0.2:\u001b[32m8080\u001b[39m\n",
      "Hit CTRL-C to stop the server\n",
      "[Fri May 13 2022 19:43:18 GMT+0000 (Coordinated Universal Time)] \"\u001b[36mGET\u001b[39m \u001b[36m/CEMENT/ept.json\u001b[39m\" \"Mozilla/5.0 (Windows NT 10.0; Win64; x64; rv:100.0) Gecko/20100101 Firefox/100.0\"\n",
      "[Fri May 13 2022 19:43:19 GMT+0000 (Coordinated Universal Time)] \"\u001b[36mGET\u001b[39m \u001b[36m/CEMENT/ept-hierarchy/0-0-0-0.json\u001b[39m\" \"Mozilla/5.0 (Windows NT 10.0; Win64; x64; rv:100.0) Gecko/20100101 Firefox/100.0\"\n",
      "[Fri May 13 2022 19:43:19 GMT+0000 (Coordinated Universal Time)] \"\u001b[36mGET\u001b[39m \u001b[36m/CEMENT/ept-data/0-0-0-0.laz\u001b[39m\" \"Mozilla/5.0 (Windows NT 10.0; Win64; x64; rv:100.0) Gecko/20100101 Firefox/100.0\"\n",
      "[Fri May 13 2022 19:43:25 GMT+0000 (Coordinated Universal Time)] \"\u001b[36mGET\u001b[39m \u001b[36m/CEMENT/ept-data/1-1-0-0.laz\u001b[39m\" \"Mozilla/5.0 (Windows NT 10.0; Win64; x64; rv:100.0) Gecko/20100101 Firefox/100.0\"\n",
      "[Fri May 13 2022 19:43:25 GMT+0000 (Coordinated Universal Time)] \"\u001b[36mGET\u001b[39m \u001b[36m/CEMENT/ept-data/1-0-0-0.laz\u001b[39m\" \"Mozilla/5.0 (Windows NT 10.0; Win64; x64; rv:100.0) Gecko/20100101 Firefox/100.0\"\n",
      "[Fri May 13 2022 19:43:25 GMT+0000 (Coordinated Universal Time)] \"\u001b[36mGET\u001b[39m \u001b[36m/CEMENT/ept-data/1-1-1-0.laz\u001b[39m\" \"Mozilla/5.0 (Windows NT 10.0; Win64; x64; rv:100.0) Gecko/20100101 Firefox/100.0\"\n",
      "[Fri May 13 2022 19:43:25 GMT+0000 (Coordinated Universal Time)] \"\u001b[36mGET\u001b[39m \u001b[36m/CEMENT/ept-data/1-0-1-0.laz\u001b[39m\" \"Mozilla/5.0 (Windows NT 10.0; Win64; x64; rv:100.0) Gecko/20100101 Firefox/100.0\"\n",
      "[Fri May 13 2022 19:43:29 GMT+0000 (Coordinated Universal Time)] \"\u001b[36mGET\u001b[39m \u001b[36m/CEMENT/ept-data/2-3-0-1.laz\u001b[39m\" \"Mozilla/5.0 (Windows NT 10.0; Win64; x64; rv:100.0) Gecko/20100101 Firefox/100.0\"\n",
      "[Fri May 13 2022 19:43:29 GMT+0000 (Coordinated Universal Time)] \"\u001b[36mGET\u001b[39m \u001b[36m/CEMENT/ept-data/2-3-1-1.laz\u001b[39m\" \"Mozilla/5.0 (Windows NT 10.0; Win64; x64; rv:100.0) Gecko/20100101 Firefox/100.0\"\n",
      "[Fri May 13 2022 19:43:30 GMT+0000 (Coordinated Universal Time)] \"\u001b[36mGET\u001b[39m \u001b[36m/CEMENT/ept-data/2-2-0-1.laz\u001b[39m\" \"Mozilla/5.0 (Windows NT 10.0; Win64; x64; rv:100.0) Gecko/20100101 Firefox/100.0\"\n",
      "[Fri May 13 2022 19:43:30 GMT+0000 (Coordinated Universal Time)] \"\u001b[36mGET\u001b[39m \u001b[36m/CEMENT/ept-data/2-3-2-1.laz\u001b[39m\" \"Mozilla/5.0 (Windows NT 10.0; Win64; x64; rv:100.0) Gecko/20100101 Firefox/100.0\"\n",
      "[Fri May 13 2022 19:43:31 GMT+0000 (Coordinated Universal Time)] \"\u001b[36mGET\u001b[39m \u001b[36m/CEMENT/ept-data/2-2-1-1.laz\u001b[39m\" \"Mozilla/5.0 (Windows NT 10.0; Win64; x64; rv:100.0) Gecko/20100101 Firefox/100.0\"\n",
      "[Fri May 13 2022 19:43:31 GMT+0000 (Coordinated Universal Time)] \"\u001b[36mGET\u001b[39m \u001b[36m/CEMENT/ept-data/2-1-0-1.laz\u001b[39m\" \"Mozilla/5.0 (Windows NT 10.0; Win64; x64; rv:100.0) Gecko/20100101 Firefox/100.0\"\n",
      "[Fri May 13 2022 19:43:31 GMT+0000 (Coordinated Universal Time)] \"\u001b[36mGET\u001b[39m \u001b[36m/CEMENT/ept-data/2-2-2-1.laz\u001b[39m\" \"Mozilla/5.0 (Windows NT 10.0; Win64; x64; rv:100.0) Gecko/20100101 Firefox/100.0\"\n",
      "[Fri May 13 2022 19:43:31 GMT+0000 (Coordinated Universal Time)] \"\u001b[36mGET\u001b[39m \u001b[36m/CEMENT/ept-data/2-1-1-1.laz\u001b[39m\" \"Mozilla/5.0 (Windows NT 10.0; Win64; x64; rv:100.0) Gecko/20100101 Firefox/100.0\"\n",
      "[Fri May 13 2022 19:43:31 GMT+0000 (Coordinated Universal Time)] \"\u001b[36mGET\u001b[39m \u001b[36m/CEMENT/ept-data/2-3-3-1.laz\u001b[39m\" \"Mozilla/5.0 (Windows NT 10.0; Win64; x64; rv:100.0) Gecko/20100101 Firefox/100.0\"\n",
      "[Fri May 13 2022 19:43:31 GMT+0000 (Coordinated Universal Time)] \"\u001b[36mGET\u001b[39m \u001b[36m/CEMENT/ept-data/2-3-0-1.laz\u001b[39m\" \"Mozilla/5.0 (Windows NT 10.0; Win64; x64; rv:100.0) Gecko/20100101 Firefox/100.0\"\n",
      "[Fri May 13 2022 19:43:32 GMT+0000 (Coordinated Universal Time)] \"\u001b[36mGET\u001b[39m \u001b[36m/CEMENT/ept-data/2-0-0-1.laz\u001b[39m\" \"Mozilla/5.0 (Windows NT 10.0; Win64; x64; rv:100.0) Gecko/20100101 Firefox/100.0\"\n",
      "[Fri May 13 2022 19:43:32 GMT+0000 (Coordinated Universal Time)] \"\u001b[36mGET\u001b[39m \u001b[36m/CEMENT/ept-data/2-1-2-1.laz\u001b[39m\" \"Mozilla/5.0 (Windows NT 10.0; Win64; x64; rv:100.0) Gecko/20100101 Firefox/100.0\"\n",
      "[Fri May 13 2022 19:43:32 GMT+0000 (Coordinated Universal Time)] \"\u001b[36mGET\u001b[39m \u001b[36m/CEMENT/ept-data/2-2-3-1.laz\u001b[39m\" \"Mozilla/5.0 (Windows NT 10.0; Win64; x64; rv:100.0) Gecko/20100101 Firefox/100.0\"\n",
      "[Fri May 13 2022 19:43:32 GMT+0000 (Coordinated Universal Time)] \"\u001b[36mGET\u001b[39m \u001b[36m/CEMENT/ept-data/2-0-1-1.laz\u001b[39m\" \"Mozilla/5.0 (Windows NT 10.0; Win64; x64; rv:100.0) Gecko/20100101 Firefox/100.0\"\n",
      "[Fri May 13 2022 19:43:32 GMT+0000 (Coordinated Universal Time)] \"\u001b[36mGET\u001b[39m \u001b[36m/CEMENT/ept-data/2-1-3-1.laz\u001b[39m\" \"Mozilla/5.0 (Windows NT 10.0; Win64; x64; rv:100.0) Gecko/20100101 Firefox/100.0\"\n",
      "[Fri May 13 2022 19:43:32 GMT+0000 (Coordinated Universal Time)] \"\u001b[36mGET\u001b[39m \u001b[36m/CEMENT/ept-data/2-0-2-1.laz\u001b[39m\" \"Mozilla/5.0 (Windows NT 10.0; Win64; x64; rv:100.0) Gecko/20100101 Firefox/100.0\"\n",
      "[Fri May 13 2022 19:43:33 GMT+0000 (Coordinated Universal Time)] \"\u001b[36mGET\u001b[39m \u001b[36m/CEMENT/ept-data/2-0-3-1.laz\u001b[39m\" \"Mozilla/5.0 (Windows NT 10.0; Win64; x64; rv:100.0) Gecko/20100101 Firefox/100.0\"\n",
      "[Fri May 13 2022 19:43:33 GMT+0000 (Coordinated Universal Time)] \"\u001b[36mGET\u001b[39m \u001b[36m/CEMENT/ept-data/3-7-0-3.laz\u001b[39m\" \"Mozilla/5.0 (Windows NT 10.0; Win64; x64; rv:100.0) Gecko/20100101 Firefox/100.0\"\n",
      "[Fri May 13 2022 19:43:33 GMT+0000 (Coordinated Universal Time)] \"\u001b[36mGET\u001b[39m \u001b[36m/CEMENT/ept-data/3-7-1-3.laz\u001b[39m\" \"Mozilla/5.0 (Windows NT 10.0; Win64; x64; rv:100.0) Gecko/20100101 Firefox/100.0\"\n",
      "[Fri May 13 2022 19:43:33 GMT+0000 (Coordinated Universal Time)] \"\u001b[36mGET\u001b[39m \u001b[36m/CEMENT/ept-data/3-6-0-3.laz\u001b[39m\" \"Mozilla/5.0 (Windows NT 10.0; Win64; x64; rv:100.0) Gecko/20100101 Firefox/100.0\"\n",
      "[Fri May 13 2022 19:43:33 GMT+0000 (Coordinated Universal Time)] \"\u001b[36mGET\u001b[39m \u001b[36m/CEMENT/ept-data/3-6-1-3.laz\u001b[39m\" \"Mozilla/5.0 (Windows NT 10.0; Win64; x64; rv:100.0) Gecko/20100101 Firefox/100.0\"\n",
      "[Fri May 13 2022 19:43:34 GMT+0000 (Coordinated Universal Time)] \"\u001b[36mGET\u001b[39m \u001b[36m/CEMENT/ept-data/3-7-2-3.laz\u001b[39m\" \"Mozilla/5.0 (Windows NT 10.0; Win64; x64; rv:100.0) Gecko/20100101 Firefox/100.0\"\n",
      "[Fri May 13 2022 19:43:34 GMT+0000 (Coordinated Universal Time)] \"\u001b[36mGET\u001b[39m \u001b[36m/CEMENT/ept-data/3-5-0-3.laz\u001b[39m\" \"Mozilla/5.0 (Windows NT 10.0; Win64; x64; rv:100.0) Gecko/20100101 Firefox/100.0\"\n",
      "[Fri May 13 2022 19:43:34 GMT+0000 (Coordinated Universal Time)] \"\u001b[36mGET\u001b[39m \u001b[36m/CEMENT/ept-data/3-6-2-3.laz\u001b[39m\" \"Mozilla/5.0 (Windows NT 10.0; Win64; x64; rv:100.0) Gecko/20100101 Firefox/100.0\"\n",
      "[Fri May 13 2022 19:43:34 GMT+0000 (Coordinated Universal Time)] \"\u001b[36mGET\u001b[39m \u001b[36m/CEMENT/ept-data/3-5-1-3.laz\u001b[39m\" \"Mozilla/5.0 (Windows NT 10.0; Win64; x64; rv:100.0) Gecko/20100101 Firefox/100.0\"\n",
      "[Fri May 13 2022 19:43:34 GMT+0000 (Coordinated Universal Time)] \"\u001b[36mGET\u001b[39m \u001b[36m/CEMENT/ept-data/3-7-3-3.laz\u001b[39m\" \"Mozilla/5.0 (Windows NT 10.0; Win64; x64; rv:100.0) Gecko/20100101 Firefox/100.0\"\n",
      "[Fri May 13 2022 19:43:34 GMT+0000 (Coordinated Universal Time)] \"\u001b[36mGET\u001b[39m \u001b[36m/CEMENT/ept-data/3-4-0-3.laz\u001b[39m\" \"Mozilla/5.0 (Windows NT 10.0; Win64; x64; rv:100.0) Gecko/20100101 Firefox/100.0\"\n",
      "[Fri May 13 2022 19:43:34 GMT+0000 (Coordinated Universal Time)] \"\u001b[36mGET\u001b[39m \u001b[36m/CEMENT/ept-data/2-3-1-1.laz\u001b[39m\" \"Mozilla/5.0 (Windows NT 10.0; Win64; x64; rv:100.0) Gecko/20100101 Firefox/100.0\"\n",
      "[Fri May 13 2022 19:43:34 GMT+0000 (Coordinated Universal Time)] \"\u001b[36mGET\u001b[39m \u001b[36m/CEMENT/ept-data/2-2-0-1.laz\u001b[39m\" \"Mozilla/5.0 (Windows NT 10.0; Win64; x64; rv:100.0) Gecko/20100101 Firefox/100.0\"\n",
      "[Fri May 13 2022 19:43:35 GMT+0000 (Coordinated Universal Time)] \"\u001b[36mGET\u001b[39m \u001b[36m/CEMENT/ept-data/3-5-2-3.laz\u001b[39m\" \"Mozilla/5.0 (Windows NT 10.0; Win64; x64; rv:100.0) Gecko/20100101 Firefox/100.0\"\n",
      "[Fri May 13 2022 19:43:35 GMT+0000 (Coordinated Universal Time)] \"\u001b[36mGET\u001b[39m \u001b[36m/CEMENT/ept-data/3-6-3-3.laz\u001b[39m\" \"Mozilla/5.0 (Windows NT 10.0; Win64; x64; rv:100.0) Gecko/20100101 Firefox/100.0\"\n",
      "[Fri May 13 2022 19:43:35 GMT+0000 (Coordinated Universal Time)] \"\u001b[36mGET\u001b[39m \u001b[36m/CEMENT/ept-data/3-4-1-3.laz\u001b[39m\" \"Mozilla/5.0 (Windows NT 10.0; Win64; x64; rv:100.0) Gecko/20100101 Firefox/100.0\"\n",
      "[Fri May 13 2022 19:43:35 GMT+0000 (Coordinated Universal Time)] \"\u001b[36mGET\u001b[39m \u001b[36m/CEMENT/ept-data/3-7-4-3.laz\u001b[39m\" \"Mozilla/5.0 (Windows NT 10.0; Win64; x64; rv:100.0) Gecko/20100101 Firefox/100.0\"\n"
     ]
    },
    {
     "name": "stdout",
     "output_type": "stream",
     "text": [
      "[Fri May 13 2022 19:43:35 GMT+0000 (Coordinated Universal Time)] \"\u001b[36mGET\u001b[39m \u001b[36m/CEMENT/ept-data/3-3-0-3.laz\u001b[39m\" \"Mozilla/5.0 (Windows NT 10.0; Win64; x64; rv:100.0) Gecko/20100101 Firefox/100.0\"\n",
      "[Fri May 13 2022 19:43:36 GMT+0000 (Coordinated Universal Time)] \"\u001b[36mGET\u001b[39m \u001b[36m/CEMENT/ept-data/3-5-3-3.laz\u001b[39m\" \"Mozilla/5.0 (Windows NT 10.0; Win64; x64; rv:100.0) Gecko/20100101 Firefox/100.0\"\n",
      "[Fri May 13 2022 19:43:36 GMT+0000 (Coordinated Universal Time)] \"\u001b[36mGET\u001b[39m \u001b[36m/CEMENT/ept-data/3-4-2-3.laz\u001b[39m\" \"Mozilla/5.0 (Windows NT 10.0; Win64; x64; rv:100.0) Gecko/20100101 Firefox/100.0\"\n",
      "[Fri May 13 2022 19:43:36 GMT+0000 (Coordinated Universal Time)] \"\u001b[36mGET\u001b[39m \u001b[36m/CEMENT/ept-data/3-3-1-3.laz\u001b[39m\" \"Mozilla/5.0 (Windows NT 10.0; Win64; x64; rv:100.0) Gecko/20100101 Firefox/100.0\"\n",
      "[Fri May 13 2022 19:43:36 GMT+0000 (Coordinated Universal Time)] \"\u001b[36mGET\u001b[39m \u001b[36m/CEMENT/ept-data/3-6-4-3.laz\u001b[39m\" \"Mozilla/5.0 (Windows NT 10.0; Win64; x64; rv:100.0) Gecko/20100101 Firefox/100.0\"\n",
      "[Fri May 13 2022 19:43:36 GMT+0000 (Coordinated Universal Time)] \"\u001b[36mGET\u001b[39m \u001b[36m/CEMENT/ept-data/3-4-3-3.laz\u001b[39m\" \"Mozilla/5.0 (Windows NT 10.0; Win64; x64; rv:100.0) Gecko/20100101 Firefox/100.0\"\n",
      "[Fri May 13 2022 19:43:36 GMT+0000 (Coordinated Universal Time)] \"\u001b[36mGET\u001b[39m \u001b[36m/CEMENT/ept-data/3-7-5-3.laz\u001b[39m\" \"Mozilla/5.0 (Windows NT 10.0; Win64; x64; rv:100.0) Gecko/20100101 Firefox/100.0\"\n",
      "[Fri May 13 2022 19:43:37 GMT+0000 (Coordinated Universal Time)] \"\u001b[36mGET\u001b[39m \u001b[36m/CEMENT/ept-data/3-2-0-3.laz\u001b[39m\" \"Mozilla/5.0 (Windows NT 10.0; Win64; x64; rv:100.0) Gecko/20100101 Firefox/100.0\"\n",
      "[Fri May 13 2022 19:43:37 GMT+0000 (Coordinated Universal Time)] \"\u001b[36mGET\u001b[39m \u001b[36m/CEMENT/ept-data/3-5-4-3.laz\u001b[39m\" \"Mozilla/5.0 (Windows NT 10.0; Win64; x64; rv:100.0) Gecko/20100101 Firefox/100.0\"\n",
      "[Fri May 13 2022 19:43:37 GMT+0000 (Coordinated Universal Time)] \"\u001b[36mGET\u001b[39m \u001b[36m/CEMENT/ept-data/3-3-2-3.laz\u001b[39m\" \"Mozilla/5.0 (Windows NT 10.0; Win64; x64; rv:100.0) Gecko/20100101 Firefox/100.0\"\n",
      "[Fri May 13 2022 19:43:37 GMT+0000 (Coordinated Universal Time)] \"\u001b[36mGET\u001b[39m \u001b[36m/CEMENT/ept-data/3-6-5-3.laz\u001b[39m\" \"Mozilla/5.0 (Windows NT 10.0; Win64; x64; rv:100.0) Gecko/20100101 Firefox/100.0\"\n",
      "[Fri May 13 2022 19:43:37 GMT+0000 (Coordinated Universal Time)] \"\u001b[36mGET\u001b[39m \u001b[36m/CEMENT/ept-data/3-2-1-3.laz\u001b[39m\" \"Mozilla/5.0 (Windows NT 10.0; Win64; x64; rv:100.0) Gecko/20100101 Firefox/100.0\"\n",
      "[Fri May 13 2022 19:43:37 GMT+0000 (Coordinated Universal Time)] \"\u001b[36mGET\u001b[39m \u001b[36m/CEMENT/ept-data/3-4-4-3.laz\u001b[39m\" \"Mozilla/5.0 (Windows NT 10.0; Win64; x64; rv:100.0) Gecko/20100101 Firefox/100.0\"\n",
      "[Fri May 13 2022 19:43:37 GMT+0000 (Coordinated Universal Time)] \"\u001b[36mGET\u001b[39m \u001b[36m/CEMENT/ept-data/3-3-3-3.laz\u001b[39m\" \"Mozilla/5.0 (Windows NT 10.0; Win64; x64; rv:100.0) Gecko/20100101 Firefox/100.0\"\n",
      "[Fri May 13 2022 19:43:37 GMT+0000 (Coordinated Universal Time)] \"\u001b[36mGET\u001b[39m \u001b[36m/CEMENT/ept-data/3-7-6-3.laz\u001b[39m\" \"Mozilla/5.0 (Windows NT 10.0; Win64; x64; rv:100.0) Gecko/20100101 Firefox/100.0\"\n",
      "[Fri May 13 2022 19:43:38 GMT+0000 (Coordinated Universal Time)] \"\u001b[36mGET\u001b[39m \u001b[36m/CEMENT/ept-data/3-1-0-3.laz\u001b[39m\" \"Mozilla/5.0 (Windows NT 10.0; Win64; x64; rv:100.0) Gecko/20100101 Firefox/100.0\"\n",
      "[Fri May 13 2022 19:43:38 GMT+0000 (Coordinated Universal Time)] \"\u001b[36mGET\u001b[39m \u001b[36m/CEMENT/ept-data/3-5-5-3.laz\u001b[39m\" \"Mozilla/5.0 (Windows NT 10.0; Win64; x64; rv:100.0) Gecko/20100101 Firefox/100.0\"\n",
      "[Fri May 13 2022 19:43:38 GMT+0000 (Coordinated Universal Time)] \"\u001b[36mGET\u001b[39m \u001b[36m/CEMENT/ept-data/3-2-2-3.laz\u001b[39m\" \"Mozilla/5.0 (Windows NT 10.0; Win64; x64; rv:100.0) Gecko/20100101 Firefox/100.0\"\n",
      "[Fri May 13 2022 19:43:38 GMT+0000 (Coordinated Universal Time)] \"\u001b[36mGET\u001b[39m \u001b[36m/CEMENT/ept-data/3-6-6-3.laz\u001b[39m\" \"Mozilla/5.0 (Windows NT 10.0; Win64; x64; rv:100.0) Gecko/20100101 Firefox/100.0\"\n",
      "[Fri May 13 2022 19:43:38 GMT+0000 (Coordinated Universal Time)] \"\u001b[36mGET\u001b[39m \u001b[36m/CEMENT/ept-data/3-1-1-3.laz\u001b[39m\" \"Mozilla/5.0 (Windows NT 10.0; Win64; x64; rv:100.0) Gecko/20100101 Firefox/100.0\"\n",
      "[Fri May 13 2022 19:43:39 GMT+0000 (Coordinated Universal Time)] \"\u001b[36mGET\u001b[39m \u001b[36m/CEMENT/ept-data/3-3-4-3.laz\u001b[39m\" \"Mozilla/5.0 (Windows NT 10.0; Win64; x64; rv:100.0) Gecko/20100101 Firefox/100.0\"\n",
      "[Fri May 13 2022 19:43:39 GMT+0000 (Coordinated Universal Time)] \"\u001b[36mGET\u001b[39m \u001b[36m/CEMENT/ept-data/3-4-5-3.laz\u001b[39m\" \"Mozilla/5.0 (Windows NT 10.0; Win64; x64; rv:100.0) Gecko/20100101 Firefox/100.0\"\n",
      "[Fri May 13 2022 19:43:39 GMT+0000 (Coordinated Universal Time)] \"\u001b[36mGET\u001b[39m \u001b[36m/CEMENT/ept-data/3-2-3-3.laz\u001b[39m\" \"Mozilla/5.0 (Windows NT 10.0; Win64; x64; rv:100.0) Gecko/20100101 Firefox/100.0\"\n",
      "[Fri May 13 2022 19:43:39 GMT+0000 (Coordinated Universal Time)] \"\u001b[36mGET\u001b[39m \u001b[36m/CEMENT/ept-data/3-5-6-3.laz\u001b[39m\" \"Mozilla/5.0 (Windows NT 10.0; Win64; x64; rv:100.0) Gecko/20100101 Firefox/100.0\"\n",
      "[Fri May 13 2022 19:43:39 GMT+0000 (Coordinated Universal Time)] \"\u001b[36mGET\u001b[39m \u001b[36m/CEMENT/ept-data/3-7-7-3.laz\u001b[39m\" \"Mozilla/5.0 (Windows NT 10.0; Win64; x64; rv:100.0) Gecko/20100101 Firefox/100.0\"\n",
      "[Fri May 13 2022 19:43:39 GMT+0000 (Coordinated Universal Time)] \"\u001b[36mGET\u001b[39m \u001b[36m/CEMENT/ept-data/3-1-2-3.laz\u001b[39m\" \"Mozilla/5.0 (Windows NT 10.0; Win64; x64; rv:100.0) Gecko/20100101 Firefox/100.0\"\n",
      "[Fri May 13 2022 19:43:39 GMT+0000 (Coordinated Universal Time)] \"\u001b[36mGET\u001b[39m \u001b[36m/CEMENT/ept-data/3-0-0-3.laz\u001b[39m\" \"Mozilla/5.0 (Windows NT 10.0; Win64; x64; rv:100.0) Gecko/20100101 Firefox/100.0\"\n",
      "[Fri May 13 2022 19:43:40 GMT+0000 (Coordinated Universal Time)] \"\u001b[36mGET\u001b[39m \u001b[36m/CEMENT/ept-data/3-3-5-3.laz\u001b[39m\" \"Mozilla/5.0 (Windows NT 10.0; Win64; x64; rv:100.0) Gecko/20100101 Firefox/100.0\"\n",
      "[Fri May 13 2022 19:43:40 GMT+0000 (Coordinated Universal Time)] \"\u001b[36mGET\u001b[39m \u001b[36m/CEMENT/ept-data/3-2-4-3.laz\u001b[39m\" \"Mozilla/5.0 (Windows NT 10.0; Win64; x64; rv:100.0) Gecko/20100101 Firefox/100.0\"\n",
      "[Fri May 13 2022 19:43:40 GMT+0000 (Coordinated Universal Time)] \"\u001b[36mGET\u001b[39m \u001b[36m/CEMENT/ept-data/3-6-7-3.laz\u001b[39m\" \"Mozilla/5.0 (Windows NT 10.0; Win64; x64; rv:100.0) Gecko/20100101 Firefox/100.0\"\n",
      "[Fri May 13 2022 19:43:40 GMT+0000 (Coordinated Universal Time)] \"\u001b[36mGET\u001b[39m \u001b[36m/CEMENT/ept-data/3-0-1-3.laz\u001b[39m\" \"Mozilla/5.0 (Windows NT 10.0; Win64; x64; rv:100.0) Gecko/20100101 Firefox/100.0\"\n",
      "[Fri May 13 2022 19:43:41 GMT+0000 (Coordinated Universal Time)] \"\u001b[36mGET\u001b[39m \u001b[36m/CEMENT/ept-data/3-4-6-3.laz\u001b[39m\" \"Mozilla/5.0 (Windows NT 10.0; Win64; x64; rv:100.0) Gecko/20100101 Firefox/100.0\"\n",
      "[Fri May 13 2022 19:43:41 GMT+0000 (Coordinated Universal Time)] \"\u001b[36mGET\u001b[39m \u001b[36m/CEMENT/ept-data/3-1-3-3.laz\u001b[39m\" \"Mozilla/5.0 (Windows NT 10.0; Win64; x64; rv:100.0) Gecko/20100101 Firefox/100.0\"\n",
      "[Fri May 13 2022 19:43:41 GMT+0000 (Coordinated Universal Time)] \"\u001b[36mGET\u001b[39m \u001b[36m/CEMENT/ept-data/3-5-7-3.laz\u001b[39m\" \"Mozilla/5.0 (Windows NT 10.0; Win64; x64; rv:100.0) Gecko/20100101 Firefox/100.0\"\n",
      "[Fri May 13 2022 19:43:41 GMT+0000 (Coordinated Universal Time)] \"\u001b[36mGET\u001b[39m \u001b[36m/CEMENT/ept-data/3-0-2-3.laz\u001b[39m\" \"Mozilla/5.0 (Windows NT 10.0; Win64; x64; rv:100.0) Gecko/20100101 Firefox/100.0\"\n",
      "[Fri May 13 2022 19:43:41 GMT+0000 (Coordinated Universal Time)] \"\u001b[36mGET\u001b[39m \u001b[36m/CEMENT/ept-data/3-2-5-3.laz\u001b[39m\" \"Mozilla/5.0 (Windows NT 10.0; Win64; x64; rv:100.0) Gecko/20100101 Firefox/100.0\"\n",
      "[Fri May 13 2022 19:43:42 GMT+0000 (Coordinated Universal Time)] \"\u001b[36mGET\u001b[39m \u001b[36m/CEMENT/ept-data/3-3-6-3.laz\u001b[39m\" \"Mozilla/5.0 (Windows NT 10.0; Win64; x64; rv:100.0) Gecko/20100101 Firefox/100.0\"\n",
      "[Fri May 13 2022 19:43:42 GMT+0000 (Coordinated Universal Time)] \"\u001b[36mGET\u001b[39m \u001b[36m/CEMENT/ept-data/3-1-4-3.laz\u001b[39m\" \"Mozilla/5.0 (Windows NT 10.0; Win64; x64; rv:100.0) Gecko/20100101 Firefox/100.0\"\n",
      "[Fri May 13 2022 19:43:42 GMT+0000 (Coordinated Universal Time)] \"\u001b[36mGET\u001b[39m \u001b[36m/CEMENT/ept-data/3-4-7-3.laz\u001b[39m\" \"Mozilla/5.0 (Windows NT 10.0; Win64; x64; rv:100.0) Gecko/20100101 Firefox/100.0\"\n",
      "[Fri May 13 2022 19:43:42 GMT+0000 (Coordinated Universal Time)] \"\u001b[36mGET\u001b[39m \u001b[36m/CEMENT/ept-data/3-0-3-3.laz\u001b[39m\" \"Mozilla/5.0 (Windows NT 10.0; Win64; x64; rv:100.0) Gecko/20100101 Firefox/100.0\"\n",
      "[Fri May 13 2022 19:43:43 GMT+0000 (Coordinated Universal Time)] \"\u001b[36mGET\u001b[39m \u001b[36m/CEMENT/ept-data/3-1-5-3.laz\u001b[39m\" \"Mozilla/5.0 (Windows NT 10.0; Win64; x64; rv:100.0) Gecko/20100101 Firefox/100.0\"\n",
      "[Fri May 13 2022 19:43:43 GMT+0000 (Coordinated Universal Time)] \"\u001b[36mGET\u001b[39m \u001b[36m/CEMENT/ept-data/3-2-6-3.laz\u001b[39m\" \"Mozilla/5.0 (Windows NT 10.0; Win64; x64; rv:100.0) Gecko/20100101 Firefox/100.0\"\n"
     ]
    },
    {
     "name": "stdout",
     "output_type": "stream",
     "text": [
      "[Fri May 13 2022 19:43:43 GMT+0000 (Coordinated Universal Time)] \"\u001b[36mGET\u001b[39m \u001b[36m/CEMENT/ept-data/3-0-4-3.laz\u001b[39m\" \"Mozilla/5.0 (Windows NT 10.0; Win64; x64; rv:100.0) Gecko/20100101 Firefox/100.0\"\n",
      "[Fri May 13 2022 19:43:43 GMT+0000 (Coordinated Universal Time)] \"\u001b[36mGET\u001b[39m \u001b[36m/CEMENT/ept-data/3-3-7-3.laz\u001b[39m\" \"Mozilla/5.0 (Windows NT 10.0; Win64; x64; rv:100.0) Gecko/20100101 Firefox/100.0\"\n",
      "[Fri May 13 2022 19:43:43 GMT+0000 (Coordinated Universal Time)] \"\u001b[36mGET\u001b[39m \u001b[36m/CEMENT/ept-data/3-1-6-3.laz\u001b[39m\" \"Mozilla/5.0 (Windows NT 10.0; Win64; x64; rv:100.0) Gecko/20100101 Firefox/100.0\"\n",
      "[Fri May 13 2022 19:43:43 GMT+0000 (Coordinated Universal Time)] \"\u001b[36mGET\u001b[39m \u001b[36m/CEMENT/ept-data/3-2-7-3.laz\u001b[39m\" \"Mozilla/5.0 (Windows NT 10.0; Win64; x64; rv:100.0) Gecko/20100101 Firefox/100.0\"\n",
      "[Fri May 13 2022 19:43:44 GMT+0000 (Coordinated Universal Time)] \"\u001b[36mGET\u001b[39m \u001b[36m/CEMENT/ept-data/3-0-5-3.laz\u001b[39m\" \"Mozilla/5.0 (Windows NT 10.0; Win64; x64; rv:100.0) Gecko/20100101 Firefox/100.0\"\n",
      "[Fri May 13 2022 19:43:44 GMT+0000 (Coordinated Universal Time)] \"\u001b[36mGET\u001b[39m \u001b[36m/CEMENT/ept-data/3-1-7-3.laz\u001b[39m\" \"Mozilla/5.0 (Windows NT 10.0; Win64; x64; rv:100.0) Gecko/20100101 Firefox/100.0\"\n",
      "[Fri May 13 2022 19:43:44 GMT+0000 (Coordinated Universal Time)] \"\u001b[36mGET\u001b[39m \u001b[36m/CEMENT/ept-data/3-0-6-3.laz\u001b[39m\" \"Mozilla/5.0 (Windows NT 10.0; Win64; x64; rv:100.0) Gecko/20100101 Firefox/100.0\"\n",
      "[Fri May 13 2022 19:43:59 GMT+0000 (Coordinated Universal Time)] \"\u001b[36mGET\u001b[39m \u001b[36m/CEMENT/ept-data/3-0-7-3.laz\u001b[39m\" \"Mozilla/5.0 (Windows NT 10.0; Win64; x64; rv:100.0) Gecko/20100101 Firefox/100.0\"\n",
      "[Fri May 13 2022 19:44:12 GMT+0000 (Coordinated Universal Time)] \"\u001b[36mGET\u001b[39m \u001b[36m/CEMENT/ept-data/4-5-1-7.laz\u001b[39m\" \"Mozilla/5.0 (Windows NT 10.0; Win64; x64; rv:100.0) Gecko/20100101 Firefox/100.0\"\n",
      "[Fri May 13 2022 19:44:12 GMT+0000 (Coordinated Universal Time)] \"\u001b[36mGET\u001b[39m \u001b[36m/CEMENT/ept-data/4-3-1-7.laz\u001b[39m\" \"Mozilla/5.0 (Windows NT 10.0; Win64; x64; rv:100.0) Gecko/20100101 Firefox/100.0\"\n",
      "[Fri May 13 2022 19:44:12 GMT+0000 (Coordinated Universal Time)] \"\u001b[36mGET\u001b[39m \u001b[36m/CEMENT/ept-data/4-4-1-7.laz\u001b[39m\" \"Mozilla/5.0 (Windows NT 10.0; Win64; x64; rv:100.0) Gecko/20100101 Firefox/100.0\"\n",
      "[Fri May 13 2022 19:44:12 GMT+0000 (Coordinated Universal Time)] \"\u001b[36mGET\u001b[39m \u001b[36m/CEMENT/ept-data/4-6-1-7.laz\u001b[39m\" \"Mozilla/5.0 (Windows NT 10.0; Win64; x64; rv:100.0) Gecko/20100101 Firefox/100.0\"\n",
      "[Fri May 13 2022 19:44:13 GMT+0000 (Coordinated Universal Time)] \"\u001b[36mGET\u001b[39m \u001b[36m/CEMENT/ept-data/4-4-2-7.laz\u001b[39m\" \"Mozilla/5.0 (Windows NT 10.0; Win64; x64; rv:100.0) Gecko/20100101 Firefox/100.0\"\n",
      "[Fri May 13 2022 19:44:13 GMT+0000 (Coordinated Universal Time)] \"\u001b[36mGET\u001b[39m \u001b[36m/CEMENT/ept-data/4-4-3-7.laz\u001b[39m\" \"Mozilla/5.0 (Windows NT 10.0; Win64; x64; rv:100.0) Gecko/20100101 Firefox/100.0\"\n",
      "[Fri May 13 2022 19:44:13 GMT+0000 (Coordinated Universal Time)] \"\u001b[36mGET\u001b[39m \u001b[36m/CEMENT/ept-data/4-5-3-7.laz\u001b[39m\" \"Mozilla/5.0 (Windows NT 10.0; Win64; x64; rv:100.0) Gecko/20100101 Firefox/100.0\"\n",
      "[Fri May 13 2022 19:44:13 GMT+0000 (Coordinated Universal Time)] \"\u001b[36mGET\u001b[39m \u001b[36m/CEMENT/ept-data/4-3-2-7.laz\u001b[39m\" \"Mozilla/5.0 (Windows NT 10.0; Win64; x64; rv:100.0) Gecko/20100101 Firefox/100.0\"\n",
      "[Fri May 13 2022 19:44:13 GMT+0000 (Coordinated Universal Time)] \"\u001b[36mGET\u001b[39m \u001b[36m/CEMENT/ept-data/4-3-3-7.laz\u001b[39m\" \"Mozilla/5.0 (Windows NT 10.0; Win64; x64; rv:100.0) Gecko/20100101 Firefox/100.0\"\n",
      "[Fri May 13 2022 19:44:14 GMT+0000 (Coordinated Universal Time)] \"\u001b[36mGET\u001b[39m \u001b[36m/CEMENT/ept-data/4-4-4-7.laz\u001b[39m\" \"Mozilla/5.0 (Windows NT 10.0; Win64; x64; rv:100.0) Gecko/20100101 Firefox/100.0\"\n",
      "[Fri May 13 2022 19:44:14 GMT+0000 (Coordinated Universal Time)] \"\u001b[36mGET\u001b[39m \u001b[36m/CEMENT/ept-data/4-6-3-7.laz\u001b[39m\" \"Mozilla/5.0 (Windows NT 10.0; Win64; x64; rv:100.0) Gecko/20100101 Firefox/100.0\"\n",
      "[Fri May 13 2022 19:44:14 GMT+0000 (Coordinated Universal Time)] \"\u001b[36mGET\u001b[39m \u001b[36m/CEMENT/ept-data/4-5-4-7.laz\u001b[39m\" \"Mozilla/5.0 (Windows NT 10.0; Win64; x64; rv:100.0) Gecko/20100101 Firefox/100.0\"\n",
      "[Fri May 13 2022 19:44:14 GMT+0000 (Coordinated Universal Time)] \"\u001b[36mGET\u001b[39m \u001b[36m/CEMENT/ept-data/4-3-4-7.laz\u001b[39m\" \"Mozilla/5.0 (Windows NT 10.0; Win64; x64; rv:100.0) Gecko/20100101 Firefox/100.0\"\n",
      "[Fri May 13 2022 19:44:14 GMT+0000 (Coordinated Universal Time)] \"\u001b[36mGET\u001b[39m \u001b[36m/CEMENT/ept-data/4-2-3-7.laz\u001b[39m\" \"Mozilla/5.0 (Windows NT 10.0; Win64; x64; rv:100.0) Gecko/20100101 Firefox/100.0\"\n",
      "[Fri May 13 2022 19:44:14 GMT+0000 (Coordinated Universal Time)] \"\u001b[36mGET\u001b[39m \u001b[36m/CEMENT/ept-data/4-6-4-7.laz\u001b[39m\" \"Mozilla/5.0 (Windows NT 10.0; Win64; x64; rv:100.0) Gecko/20100101 Firefox/100.0\"\n",
      "[Fri May 13 2022 19:44:15 GMT+0000 (Coordinated Universal Time)] \"\u001b[36mGET\u001b[39m \u001b[36m/CEMENT/ept-data/4-4-5-7.laz\u001b[39m\" \"Mozilla/5.0 (Windows NT 10.0; Win64; x64; rv:100.0) Gecko/20100101 Firefox/100.0\"\n",
      "[Fri May 13 2022 19:44:15 GMT+0000 (Coordinated Universal Time)] \"\u001b[36mGET\u001b[39m \u001b[36m/CEMENT/ept-data/4-2-4-7.laz\u001b[39m\" \"Mozilla/5.0 (Windows NT 10.0; Win64; x64; rv:100.0) Gecko/20100101 Firefox/100.0\"\n",
      "[Fri May 13 2022 19:44:15 GMT+0000 (Coordinated Universal Time)] \"\u001b[36mGET\u001b[39m \u001b[36m/CEMENT/ept-data/4-7-4-7.laz\u001b[39m\" \"Mozilla/5.0 (Windows NT 10.0; Win64; x64; rv:100.0) Gecko/20100101 Firefox/100.0\"\n",
      "[Fri May 13 2022 19:44:15 GMT+0000 (Coordinated Universal Time)] \"\u001b[36mGET\u001b[39m \u001b[36m/CEMENT/ept-data/4-6-5-7.laz\u001b[39m\" \"Mozilla/5.0 (Windows NT 10.0; Win64; x64; rv:100.0) Gecko/20100101 Firefox/100.0\"\n",
      "[Fri May 13 2022 19:44:15 GMT+0000 (Coordinated Universal Time)] \"\u001b[36mGET\u001b[39m \u001b[36m/CEMENT/ept-data/4-2-5-7.laz\u001b[39m\" \"Mozilla/5.0 (Windows NT 10.0; Win64; x64; rv:100.0) Gecko/20100101 Firefox/100.0\"\n",
      "[Fri May 13 2022 19:44:15 GMT+0000 (Coordinated Universal Time)] \"\u001b[36mGET\u001b[39m \u001b[36m/CEMENT/ept-data/4-1-4-7.laz\u001b[39m\" \"Mozilla/5.0 (Windows NT 10.0; Win64; x64; rv:100.0) Gecko/20100101 Firefox/100.0\"\n",
      "[Fri May 13 2022 19:44:16 GMT+0000 (Coordinated Universal Time)] \"\u001b[36mGET\u001b[39m \u001b[36m/CEMENT/ept-data/4-4-6-7.laz\u001b[39m\" \"Mozilla/5.0 (Windows NT 10.0; Win64; x64; rv:100.0) Gecko/20100101 Firefox/100.0\"\n",
      "[Fri May 13 2022 19:44:16 GMT+0000 (Coordinated Universal Time)] \"\u001b[36mGET\u001b[39m \u001b[36m/CEMENT/ept-data/4-5-6-7.laz\u001b[39m\" \"Mozilla/5.0 (Windows NT 10.0; Win64; x64; rv:100.0) Gecko/20100101 Firefox/100.0\"\n",
      "[Fri May 13 2022 19:44:16 GMT+0000 (Coordinated Universal Time)] \"\u001b[36mGET\u001b[39m \u001b[36m/CEMENT/ept-data/4-7-5-7.laz\u001b[39m\" \"Mozilla/5.0 (Windows NT 10.0; Win64; x64; rv:100.0) Gecko/20100101 Firefox/100.0\"\n",
      "[Fri May 13 2022 19:44:16 GMT+0000 (Coordinated Universal Time)] \"\u001b[36mGET\u001b[39m \u001b[36m/CEMENT/ept-data/4-3-6-7.laz\u001b[39m\" \"Mozilla/5.0 (Windows NT 10.0; Win64; x64; rv:100.0) Gecko/20100101 Firefox/100.0\"\n",
      "[Fri May 13 2022 19:44:16 GMT+0000 (Coordinated Universal Time)] \"\u001b[36mGET\u001b[39m \u001b[36m/CEMENT/ept-data/4-6-6-7.laz\u001b[39m\" \"Mozilla/5.0 (Windows NT 10.0; Win64; x64; rv:100.0) Gecko/20100101 Firefox/100.0\"\n",
      "[Fri May 13 2022 19:44:17 GMT+0000 (Coordinated Universal Time)] \"\u001b[36mGET\u001b[39m \u001b[36m/CEMENT/ept-data/4-1-5-7.laz\u001b[39m\" \"Mozilla/5.0 (Windows NT 10.0; Win64; x64; rv:100.0) Gecko/20100101 Firefox/100.0\"\n",
      "[Fri May 13 2022 19:44:17 GMT+0000 (Coordinated Universal Time)] \"\u001b[36mGET\u001b[39m \u001b[36m/CEMENT/ept-data/4-2-6-7.laz\u001b[39m\" \"Mozilla/5.0 (Windows NT 10.0; Win64; x64; rv:100.0) Gecko/20100101 Firefox/100.0\"\n",
      "[Fri May 13 2022 19:44:17 GMT+0000 (Coordinated Universal Time)] \"\u001b[36mGET\u001b[39m \u001b[36m/CEMENT/ept-data/4-8-5-7.laz\u001b[39m\" \"Mozilla/5.0 (Windows NT 10.0; Win64; x64; rv:100.0) Gecko/20100101 Firefox/100.0\"\n",
      "[Fri May 13 2022 19:44:17 GMT+0000 (Coordinated Universal Time)] \"\u001b[36mGET\u001b[39m \u001b[36m/CEMENT/ept-data/4-7-6-7.laz\u001b[39m\" \"Mozilla/5.0 (Windows NT 10.0; Win64; x64; rv:100.0) Gecko/20100101 Firefox/100.0\"\n",
      "[Fri May 13 2022 19:44:17 GMT+0000 (Coordinated Universal Time)] \"\u001b[36mGET\u001b[39m \u001b[36m/CEMENT/ept-data/4-4-7-7.laz\u001b[39m\" \"Mozilla/5.0 (Windows NT 10.0; Win64; x64; rv:100.0) Gecko/20100101 Firefox/100.0\"\n",
      "[Fri May 13 2022 19:44:17 GMT+0000 (Coordinated Universal Time)] \"\u001b[36mGET\u001b[39m \u001b[36m/CEMENT/ept-data/4-5-7-7.laz\u001b[39m\" \"Mozilla/5.0 (Windows NT 10.0; Win64; x64; rv:100.0) Gecko/20100101 Firefox/100.0\"\n",
      "[Fri May 13 2022 19:44:18 GMT+0000 (Coordinated Universal Time)] \"\u001b[36mGET\u001b[39m \u001b[36m/CEMENT/ept-data/4-3-7-7.laz\u001b[39m\" \"Mozilla/5.0 (Windows NT 10.0; Win64; x64; rv:100.0) Gecko/20100101 Firefox/100.0\"\n"
     ]
    },
    {
     "name": "stdout",
     "output_type": "stream",
     "text": [
      "[Fri May 13 2022 19:44:18 GMT+0000 (Coordinated Universal Time)] \"\u001b[36mGET\u001b[39m \u001b[36m/CEMENT/ept-data/4-1-6-7.laz\u001b[39m\" \"Mozilla/5.0 (Windows NT 10.0; Win64; x64; rv:100.0) Gecko/20100101 Firefox/100.0\"\n",
      "[Fri May 13 2022 19:44:18 GMT+0000 (Coordinated Universal Time)] \"\u001b[36mGET\u001b[39m \u001b[36m/CEMENT/ept-data/4-6-7-7.laz\u001b[39m\" \"Mozilla/5.0 (Windows NT 10.0; Win64; x64; rv:100.0) Gecko/20100101 Firefox/100.0\"\n",
      "[Fri May 13 2022 19:44:18 GMT+0000 (Coordinated Universal Time)] \"\u001b[36mGET\u001b[39m \u001b[36m/CEMENT/ept-data/4-0-5-7.laz\u001b[39m\" \"Mozilla/5.0 (Windows NT 10.0; Win64; x64; rv:100.0) Gecko/20100101 Firefox/100.0\"\n",
      "[Fri May 13 2022 19:44:19 GMT+0000 (Coordinated Universal Time)] \"\u001b[36mGET\u001b[39m \u001b[36m/CEMENT/ept-data/4-2-7-7.laz\u001b[39m\" \"Mozilla/5.0 (Windows NT 10.0; Win64; x64; rv:100.0) Gecko/20100101 Firefox/100.0\"\n",
      "[Fri May 13 2022 19:44:32 GMT+0000 (Coordinated Universal Time)] \"\u001b[36mGET\u001b[39m \u001b[36m/CEMENT/ept-data/4-6-2-7.laz\u001b[39m\" \"Mozilla/5.0 (Windows NT 10.0; Win64; x64; rv:100.0) Gecko/20100101 Firefox/100.0\"\n",
      "[Fri May 13 2022 19:44:33 GMT+0000 (Coordinated Universal Time)] \"\u001b[36mGET\u001b[39m \u001b[36m/CEMENT/ept-data/4-8-6-7.laz\u001b[39m\" \"Mozilla/5.0 (Windows NT 10.0; Win64; x64; rv:100.0) Gecko/20100101 Firefox/100.0\"\n",
      "[Fri May 13 2022 19:44:37 GMT+0000 (Coordinated Universal Time)] \"\u001b[36mGET\u001b[39m \u001b[36m/CEMENT/ept-data/4-7-3-7.laz\u001b[39m\" \"Mozilla/5.0 (Windows NT 10.0; Win64; x64; rv:100.0) Gecko/20100101 Firefox/100.0\"\n",
      "[Fri May 13 2022 19:44:37 GMT+0000 (Coordinated Universal Time)] \"\u001b[36mGET\u001b[39m \u001b[36m/CEMENT/ept-data/4-8-4-7.laz\u001b[39m\" \"Mozilla/5.0 (Windows NT 10.0; Win64; x64; rv:100.0) Gecko/20100101 Firefox/100.0\"\n",
      "[Fri May 13 2022 19:44:39 GMT+0000 (Coordinated Universal Time)] \"\u001b[36mGET\u001b[39m \u001b[36m/CEMENT/ept-data/4-7-2-7.laz\u001b[39m\" \"Mozilla/5.0 (Windows NT 10.0; Win64; x64; rv:100.0) Gecko/20100101 Firefox/100.0\"\n",
      "[Fri May 13 2022 19:44:39 GMT+0000 (Coordinated Universal Time)] \"\u001b[36mGET\u001b[39m \u001b[36m/CEMENT/ept-data/4-2-1-7.laz\u001b[39m\" \"Mozilla/5.0 (Windows NT 10.0; Win64; x64; rv:100.0) Gecko/20100101 Firefox/100.0\"\n",
      "[Fri May 13 2022 19:44:39 GMT+0000 (Coordinated Universal Time)] \"\u001b[36mGET\u001b[39m \u001b[36m/CEMENT/ept-data/4-1-2-7.laz\u001b[39m\" \"Mozilla/5.0 (Windows NT 10.0; Win64; x64; rv:100.0) Gecko/20100101 Firefox/100.0\"\n",
      "[Fri May 13 2022 19:44:40 GMT+0000 (Coordinated Universal Time)] \"\u001b[36mGET\u001b[39m \u001b[36m/CEMENT/ept-data/4-0-3-7.laz\u001b[39m\" \"Mozilla/5.0 (Windows NT 10.0; Win64; x64; rv:100.0) Gecko/20100101 Firefox/100.0\"\n",
      "[Fri May 13 2022 19:44:40 GMT+0000 (Coordinated Universal Time)] \"\u001b[36mGET\u001b[39m \u001b[36m/CEMENT/ept-data/4-8-3-7.laz\u001b[39m\" \"Mozilla/5.0 (Windows NT 10.0; Win64; x64; rv:100.0) Gecko/20100101 Firefox/100.0\"\n",
      "[Fri May 13 2022 19:44:41 GMT+0000 (Coordinated Universal Time)] \"\u001b[36mGET\u001b[39m \u001b[36m/CEMENT/ept-data/4-7-1-7.laz\u001b[39m\" \"Mozilla/5.0 (Windows NT 10.0; Win64; x64; rv:100.0) Gecko/20100101 Firefox/100.0\"\n",
      "[Fri May 13 2022 19:44:44 GMT+0000 (Coordinated Universal Time)] \"\u001b[36mGET\u001b[39m \u001b[36m/CEMENT/ept-data/4-8-2-7.laz\u001b[39m\" \"Mozilla/5.0 (Windows NT 10.0; Win64; x64; rv:100.0) Gecko/20100101 Firefox/100.0\"\n",
      "[Fri May 13 2022 19:44:49 GMT+0000 (Coordinated Universal Time)] \"\u001b[36mGET\u001b[39m \u001b[36m/CEMENT/ept-data/4-0-6-7.laz\u001b[39m\" \"Mozilla/5.0 (Windows NT 10.0; Win64; x64; rv:100.0) Gecko/20100101 Firefox/100.0\"\n",
      "[Fri May 13 2022 19:44:49 GMT+0000 (Coordinated Universal Time)] \"\u001b[36mGET\u001b[39m \u001b[36m/CEMENT/ept-data/4-3-8-7.laz\u001b[39m\" \"Mozilla/5.0 (Windows NT 10.0; Win64; x64; rv:100.0) Gecko/20100101 Firefox/100.0\"\n",
      "[Fri May 13 2022 19:44:49 GMT+0000 (Coordinated Universal Time)] \"\u001b[36mGET\u001b[39m \u001b[36m/CEMENT/ept-data/4-0-7-7.laz\u001b[39m\" \"Mozilla/5.0 (Windows NT 10.0; Win64; x64; rv:100.0) Gecko/20100101 Firefox/100.0\"\n",
      "[Fri May 13 2022 19:44:49 GMT+0000 (Coordinated Universal Time)] \"\u001b[36mGET\u001b[39m \u001b[36m/CEMENT/ept-data/4-2-8-7.laz\u001b[39m\" \"Mozilla/5.0 (Windows NT 10.0; Win64; x64; rv:100.0) Gecko/20100101 Firefox/100.0\"\n",
      "[Fri May 13 2022 19:44:49 GMT+0000 (Coordinated Universal Time)] \"\u001b[36mGET\u001b[39m \u001b[36m/CEMENT/ept-data/4-4-8-7.laz\u001b[39m\" \"Mozilla/5.0 (Windows NT 10.0; Win64; x64; rv:100.0) Gecko/20100101 Firefox/100.0\"\n",
      "[Fri May 13 2022 19:44:50 GMT+0000 (Coordinated Universal Time)] \"\u001b[36mGET\u001b[39m \u001b[36m/CEMENT/ept-data/4-1-8-7.laz\u001b[39m\" \"Mozilla/5.0 (Windows NT 10.0; Win64; x64; rv:100.0) Gecko/20100101 Firefox/100.0\"\n",
      "[Fri May 13 2022 19:44:50 GMT+0000 (Coordinated Universal Time)] \"\u001b[36mGET\u001b[39m \u001b[36m/CEMENT/ept-data/4-5-8-7.laz\u001b[39m\" \"Mozilla/5.0 (Windows NT 10.0; Win64; x64; rv:100.0) Gecko/20100101 Firefox/100.0\"\n",
      "[Fri May 13 2022 19:44:50 GMT+0000 (Coordinated Universal Time)] \"\u001b[36mGET\u001b[39m \u001b[36m/CEMENT/ept-data/4-0-8-7.laz\u001b[39m\" \"Mozilla/5.0 (Windows NT 10.0; Win64; x64; rv:100.0) Gecko/20100101 Firefox/100.0\"\n",
      "[Fri May 13 2022 19:45:39 GMT+0000 (Coordinated Universal Time)] \"\u001b[36mGET\u001b[39m \u001b[36m/CEMENT/ept-data/2-2-3-1.laz\u001b[39m\" \"Mozilla/5.0 (Windows NT 10.0; Win64; x64; rv:100.0) Gecko/20100101 Firefox/100.0\"\n",
      "[Fri May 13 2022 19:52:03 GMT+0000 (Coordinated Universal Time)] \"\u001b[36mGET\u001b[39m \u001b[36m/CEMENT/ept-data/2-0-3-1.laz\u001b[39m\" \"Mozilla/5.0 (Windows NT 10.0; Win64; x64; rv:100.0) Gecko/20100101 Firefox/100.0\"\n",
      "[Fri May 13 2022 19:52:03 GMT+0000 (Coordinated Universal Time)] \"\u001b[36mGET\u001b[39m \u001b[36m/CEMENT/ept-data/3-7-0-3.laz\u001b[39m\" \"Mozilla/5.0 (Windows NT 10.0; Win64; x64; rv:100.0) Gecko/20100101 Firefox/100.0\"\n",
      "[Fri May 13 2022 20:00:35 GMT+0000 (Coordinated Universal Time)] \"\u001b[36mGET\u001b[39m \u001b[36m/CEMENT/ept-data/3-7-1-3.laz\u001b[39m\" \"Mozilla/5.0 (Windows NT 10.0; Win64; x64; rv:100.0) Gecko/20100101 Firefox/100.0\"\n"
     ]
    }
   ],
   "source": [
    "# use connor manning http server on port 80\n",
    "\n",
    "! docker run -it -v ~/ia:/var/www -p 8080:8080 connormanning/http-server"
   ]
  },
  {
   "cell_type": "markdown",
   "id": "224a2ee2",
   "metadata": {},
   "source": [
    "- https://potree.entwine.io/data/custom.html?r=http://localhost:8080/CEMENT/ept.json"
   ]
  },
  {
   "cell_type": "code",
   "execution_count": null,
   "id": "f7b81738",
   "metadata": {},
   "outputs": [],
   "source": []
  }
 ],
 "metadata": {
  "kernelspec": {
   "display_name": "Python 3 (ipykernel)",
   "language": "python",
   "name": "python3"
  },
  "language_info": {
   "codemirror_mode": {
    "name": "ipython",
    "version": 3
   },
   "file_extension": ".py",
   "mimetype": "text/x-python",
   "name": "python",
   "nbconvert_exporter": "python",
   "pygments_lexer": "ipython3",
   "version": "3.10.4"
  }
 },
 "nbformat": 4,
 "nbformat_minor": 5
}
