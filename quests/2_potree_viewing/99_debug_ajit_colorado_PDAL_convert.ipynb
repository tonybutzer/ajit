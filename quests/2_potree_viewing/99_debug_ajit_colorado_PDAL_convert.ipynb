{
 "cells": [
  {
   "cell_type": "code",
   "execution_count": 1,
   "id": "5f85b7c9",
   "metadata": {},
   "outputs": [
    {
     "name": "stdout",
     "output_type": "stream",
     "text": [
      "cement_pipeline_pdal.json  nzoom_iowa_pdal_pipeline.json\r\n",
      "colorado_pdal.json\t   simplify_iowa_pdal_pipeline.json\r\n",
      "ia_northcentral.json\t   zoom_iowa_pdal_pipeline.json\r\n",
      "iowa_pdal_pipeline.json\r\n"
     ]
    }
   ],
   "source": [
    "! ls *.json"
   ]
  },
  {
   "cell_type": "code",
   "execution_count": 2,
   "id": "bd906cf8",
   "metadata": {},
   "outputs": [
    {
     "name": "stdout",
     "output_type": "stream",
     "text": [
      "(PDAL Debug) Debugging...\n",
      "(pdal pipeline readers.ept Debug) Root resolution: 1612.06\n",
      "Query resolution:  55\n",
      "Actual resolution: 50.377\n",
      "Depth end: 6\n",
      "Query bounds: ()\n",
      "Threads: 15\n",
      "(pdal pipeline Debug) Executing pipeline in stream mode.\n",
      "(pdal pipeline writers.las Debug) Wrote 14070309 points to the LAS file\n"
     ]
    }
   ],
   "source": [
    "!pdal pipeline --debug colorado_pdal.json"
   ]
  },
  {
   "cell_type": "code",
   "execution_count": 3,
   "id": "995568da",
   "metadata": {},
   "outputs": [
    {
     "name": "stdout",
     "output_type": "stream",
     "text": [
      "co_west.laz\r\n"
     ]
    }
   ],
   "source": [
    "! ls *.laz"
   ]
  },
  {
   "cell_type": "code",
   "execution_count": 4,
   "id": "5922d1c9",
   "metadata": {},
   "outputs": [
    {
     "name": "stdout",
     "output_type": "stream",
     "text": [
      "2021-11-30 14:07:29 cf-templates-18ywnd3njgg9g-us-east-1\r\n",
      "2021-06-23 14:55:12 cf-templates-18ywnd3njgg9g-us-west-2\r\n",
      "2022-05-06 14:10:53 csr-adminbucket-865412431365\r\n",
      "2021-08-12 13:58:45 dev-eccoe-terraform-state\r\n",
      "2021-08-24 22:04:05 dev-usgs-eccoe-terraform-state\r\n",
      "2022-02-18 19:11:42 eccoe-lidar\r\n",
      "2022-02-03 15:01:48 eccoe-scratch\r\n"
     ]
    }
   ],
   "source": [
    "! aws s3 ls"
   ]
  },
  {
   "cell_type": "code",
   "execution_count": 5,
   "id": "81ce40ed",
   "metadata": {},
   "outputs": [
    {
     "name": "stdout",
     "output_type": "stream",
     "text": [
      "move: ./co_west.laz to s3://eccoe-lidar/ajit/co_west.laz           \n"
     ]
    }
   ],
   "source": [
    "! aws s3 mv co_west.laz s3://eccoe-lidar/ajit/"
   ]
  },
  {
   "cell_type": "code",
   "execution_count": null,
   "id": "60bee610",
   "metadata": {},
   "outputs": [],
   "source": []
  }
 ],
 "metadata": {
  "kernelspec": {
   "display_name": "Python 3 (ipykernel)",
   "language": "python",
   "name": "python3"
  },
  "language_info": {
   "codemirror_mode": {
    "name": "ipython",
    "version": 3
   },
   "file_extension": ".py",
   "mimetype": "text/x-python",
   "name": "python",
   "nbconvert_exporter": "python",
   "pygments_lexer": "ipython3",
   "version": "3.10.4"
  }
 },
 "nbformat": 4,
 "nbformat_minor": 5
}
